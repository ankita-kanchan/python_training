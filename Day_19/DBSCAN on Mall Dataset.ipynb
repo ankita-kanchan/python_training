{
 "cells": [
  {
   "cell_type": "code",
   "execution_count": 1,
   "metadata": {},
   "outputs": [],
   "source": [
    "import pandas as pd\n",
    "import numpy as np\n",
    "import matplotlib.pyplot as plt\n",
    "import seaborn as sns"
   ]
  },
  {
   "cell_type": "code",
   "execution_count": 2,
   "metadata": {},
   "outputs": [
    {
     "data": {
      "text/html": [
       "<div>\n",
       "<style scoped>\n",
       "    .dataframe tbody tr th:only-of-type {\n",
       "        vertical-align: middle;\n",
       "    }\n",
       "\n",
       "    .dataframe tbody tr th {\n",
       "        vertical-align: top;\n",
       "    }\n",
       "\n",
       "    .dataframe thead th {\n",
       "        text-align: right;\n",
       "    }\n",
       "</style>\n",
       "<table border=\"1\" class=\"dataframe\">\n",
       "  <thead>\n",
       "    <tr style=\"text-align: right;\">\n",
       "      <th></th>\n",
       "      <th>Genre</th>\n",
       "      <th>Age</th>\n",
       "      <th>Annual_Income_(k$)</th>\n",
       "      <th>Spending_Score</th>\n",
       "    </tr>\n",
       "    <tr>\n",
       "      <th>CustomerID</th>\n",
       "      <th></th>\n",
       "      <th></th>\n",
       "      <th></th>\n",
       "      <th></th>\n",
       "    </tr>\n",
       "  </thead>\n",
       "  <tbody>\n",
       "    <tr>\n",
       "      <th>1</th>\n",
       "      <td>Male</td>\n",
       "      <td>19</td>\n",
       "      <td>15</td>\n",
       "      <td>39</td>\n",
       "    </tr>\n",
       "    <tr>\n",
       "      <th>2</th>\n",
       "      <td>Male</td>\n",
       "      <td>21</td>\n",
       "      <td>15</td>\n",
       "      <td>81</td>\n",
       "    </tr>\n",
       "    <tr>\n",
       "      <th>3</th>\n",
       "      <td>Female</td>\n",
       "      <td>20</td>\n",
       "      <td>16</td>\n",
       "      <td>6</td>\n",
       "    </tr>\n",
       "    <tr>\n",
       "      <th>4</th>\n",
       "      <td>Female</td>\n",
       "      <td>23</td>\n",
       "      <td>16</td>\n",
       "      <td>77</td>\n",
       "    </tr>\n",
       "    <tr>\n",
       "      <th>5</th>\n",
       "      <td>Female</td>\n",
       "      <td>31</td>\n",
       "      <td>17</td>\n",
       "      <td>40</td>\n",
       "    </tr>\n",
       "  </tbody>\n",
       "</table>\n",
       "</div>"
      ],
      "text/plain": [
       "             Genre  Age  Annual_Income_(k$)  Spending_Score\n",
       "CustomerID                                                 \n",
       "1             Male   19                  15              39\n",
       "2             Male   21                  15              81\n",
       "3           Female   20                  16               6\n",
       "4           Female   23                  16              77\n",
       "5           Female   31                  17              40"
      ]
     },
     "execution_count": 2,
     "metadata": {},
     "output_type": "execute_result"
    }
   ],
   "source": [
    "df=pd.read_csv(\"../Data/Mall_Customers.csv\",index_col=\"CustomerID\")\n",
    "df.head()"
   ]
  },
  {
   "cell_type": "code",
   "execution_count": 3,
   "metadata": {},
   "outputs": [
    {
     "data": {
      "text/html": [
       "<div>\n",
       "<style scoped>\n",
       "    .dataframe tbody tr th:only-of-type {\n",
       "        vertical-align: middle;\n",
       "    }\n",
       "\n",
       "    .dataframe tbody tr th {\n",
       "        vertical-align: top;\n",
       "    }\n",
       "\n",
       "    .dataframe thead th {\n",
       "        text-align: right;\n",
       "    }\n",
       "</style>\n",
       "<table border=\"1\" class=\"dataframe\">\n",
       "  <thead>\n",
       "    <tr style=\"text-align: right;\">\n",
       "      <th></th>\n",
       "      <th>Genre</th>\n",
       "      <th>Age</th>\n",
       "      <th>Annual_Income_(k$)</th>\n",
       "      <th>Spending_Score</th>\n",
       "    </tr>\n",
       "    <tr>\n",
       "      <th>CustomerID</th>\n",
       "      <th></th>\n",
       "      <th></th>\n",
       "      <th></th>\n",
       "      <th></th>\n",
       "    </tr>\n",
       "  </thead>\n",
       "  <tbody>\n",
       "    <tr>\n",
       "      <th>1</th>\n",
       "      <td>1</td>\n",
       "      <td>19</td>\n",
       "      <td>15</td>\n",
       "      <td>39</td>\n",
       "    </tr>\n",
       "    <tr>\n",
       "      <th>2</th>\n",
       "      <td>1</td>\n",
       "      <td>21</td>\n",
       "      <td>15</td>\n",
       "      <td>81</td>\n",
       "    </tr>\n",
       "    <tr>\n",
       "      <th>3</th>\n",
       "      <td>0</td>\n",
       "      <td>20</td>\n",
       "      <td>16</td>\n",
       "      <td>6</td>\n",
       "    </tr>\n",
       "    <tr>\n",
       "      <th>4</th>\n",
       "      <td>0</td>\n",
       "      <td>23</td>\n",
       "      <td>16</td>\n",
       "      <td>77</td>\n",
       "    </tr>\n",
       "    <tr>\n",
       "      <th>5</th>\n",
       "      <td>0</td>\n",
       "      <td>31</td>\n",
       "      <td>17</td>\n",
       "      <td>40</td>\n",
       "    </tr>\n",
       "  </tbody>\n",
       "</table>\n",
       "</div>"
      ],
      "text/plain": [
       "            Genre  Age  Annual_Income_(k$)  Spending_Score\n",
       "CustomerID                                                \n",
       "1               1   19                  15              39\n",
       "2               1   21                  15              81\n",
       "3               0   20                  16               6\n",
       "4               0   23                  16              77\n",
       "5               0   31                  17              40"
      ]
     },
     "execution_count": 3,
     "metadata": {},
     "output_type": "execute_result"
    }
   ],
   "source": [
    "df['Genre']=df['Genre'].map({\"Male\":1,'Female':0})\n",
    "df.head()"
   ]
  },
  {
   "cell_type": "code",
   "execution_count": null,
   "metadata": {},
   "outputs": [],
   "source": [
    "#min points = 5"
   ]
  },
  {
   "cell_type": "markdown",
   "metadata": {},
   "source": [
    "### Kdistance plot for Epsilon"
   ]
  },
  {
   "cell_type": "code",
   "execution_count": 8,
   "metadata": {},
   "outputs": [],
   "source": [
    "from sklearn.neighbors import NearestNeighbors\n",
    "n=NearestNeighbors(n_neighbors=2)\n",
    "n_fit=n.fit(df)\n",
    "distance,index=n_fit.kneighbors(df)"
   ]
  },
  {
   "cell_type": "code",
   "execution_count": 11,
   "metadata": {},
   "outputs": [],
   "source": [
    "distance=np.sort(distance,axis=0)\n",
    "distance=distance[:,1]"
   ]
  },
  {
   "cell_type": "code",
   "execution_count": 12,
   "metadata": {},
   "outputs": [
    {
     "data": {
      "text/plain": [
       "array([ 1.        ,  1.        ,  1.        ,  1.        ,  1.73205081,\n",
       "        1.73205081,  2.        ,  2.        ,  2.23606798,  2.23606798,\n",
       "        2.23606798,  2.23606798,  2.23606798,  2.23606798,  2.44948974,\n",
       "        2.44948974,  2.44948974,  2.44948974,  2.44948974,  2.64575131,\n",
       "        2.64575131,  2.64575131,  2.64575131,  3.        ,  3.        ,\n",
       "        3.        ,  3.        ,  3.        ,  3.        ,  3.        ,\n",
       "        3.        ,  3.16227766,  3.16227766,  3.16227766,  3.16227766,\n",
       "        3.31662479,  3.31662479,  3.46410162,  3.46410162,  3.46410162,\n",
       "        3.60555128,  3.60555128,  3.60555128,  3.74165739,  3.74165739,\n",
       "        3.74165739,  3.74165739,  3.74165739,  3.74165739,  3.74165739,\n",
       "        3.74165739,  3.74165739,  3.74165739,  3.87298335,  3.87298335,\n",
       "        4.12310563,  4.12310563,  4.12310563,  4.24264069,  4.24264069,\n",
       "        4.24264069,  4.24264069,  4.24264069,  4.24264069,  4.24264069,\n",
       "        4.24264069,  4.24264069,  4.35889894,  4.35889894,  4.35889894,\n",
       "        4.47213595,  4.47213595,  4.47213595,  4.47213595,  4.47213595,\n",
       "        4.47213595,  4.47213595,  4.47213595,  4.47213595,  4.58257569,\n",
       "        4.58257569,  4.58257569,  4.69041576,  4.69041576,  4.69041576,\n",
       "        4.69041576,  4.69041576,  4.89897949,  5.        ,  5.        ,\n",
       "        5.09901951,  5.19615242,  5.19615242,  5.19615242,  5.19615242,\n",
       "        5.19615242,  5.19615242,  5.19615242,  5.19615242,  5.19615242,\n",
       "        5.19615242,  5.19615242,  5.29150262,  5.29150262,  5.38516481,\n",
       "        5.38516481,  5.38516481,  5.38516481,  5.47722558,  5.47722558,\n",
       "        5.56776436,  5.74456265,  5.74456265,  5.83095189,  5.83095189,\n",
       "        5.83095189,  5.91607978,  6.        ,  6.08276253,  6.164414  ,\n",
       "        6.164414  ,  6.244998  ,  6.244998  ,  6.40312424,  6.40312424,\n",
       "        6.40312424,  6.4807407 ,  6.55743852,  6.55743852,  6.70820393,\n",
       "        7.        ,  7.        ,  7.        ,  7.07106781,  7.07106781,\n",
       "        7.07106781,  7.21110255,  7.28010989,  7.28010989,  7.28010989,\n",
       "        7.28010989,  7.28010989,  7.34846923,  7.34846923,  7.41619849,\n",
       "        7.41619849,  7.48331477,  7.54983444,  7.54983444,  7.54983444,\n",
       "        7.61577311,  7.61577311,  7.61577311,  7.61577311,  7.61577311,\n",
       "        7.68114575,  7.81024968,  7.81024968,  7.81024968,  7.87400787,\n",
       "        7.87400787,  7.87400787,  7.93725393,  7.93725393,  8.06225775,\n",
       "        8.06225775,  8.1240384 ,  8.18535277,  8.30662386,  8.30662386,\n",
       "        8.36660027,  8.42614977,  8.42614977,  9.        ,  9.11043358,\n",
       "        9.11043358,  9.16515139,  9.16515139,  9.16515139,  9.21954446,\n",
       "        9.2736185 ,  9.32737905,  9.89949494, 10.04987562, 10.19803903,\n",
       "       10.24695077, 10.72380529, 11.40175425, 11.74734012, 11.83215957,\n",
       "       12.24744871, 12.4498996 , 13.03840481, 13.19090596, 13.56465997,\n",
       "       13.56465997, 14.35270009, 15.13274595, 15.68438714, 19.77371993])"
      ]
     },
     "execution_count": 12,
     "metadata": {},
     "output_type": "execute_result"
    }
   ],
   "source": [
    "distance"
   ]
  },
  {
   "cell_type": "code",
   "execution_count": 14,
   "metadata": {},
   "outputs": [
    {
     "data": {
      "text/plain": [
       "Text(0.5, 0, 'Distance')"
      ]
     },
     "execution_count": 14,
     "metadata": {},
     "output_type": "execute_result"
    },
    {
     "data": {
      "image/png": "[encoded data removed]",
      "text/plain": [
       "<Figure size 432x288 with 1 Axes>"
      ]
     },
     "metadata": {
      "needs_background": "light"
     },
     "output_type": "display_data"
    }
   ],
   "source": [
    "plt.plot(distance)\n",
    "plt.ylabel(\"Epsilon\")\n",
    "plt.xlabel(\"Distance\")"
   ]
  },
  {
   "cell_type": "code",
   "execution_count": null,
   "metadata": {},
   "outputs": [],
   "source": [
    "#epsilon=9"
   ]
  },
  {
   "cell_type": "code",
   "execution_count": 15,
   "metadata": {},
   "outputs": [
    {
     "data": {
      "text/plain": [
       "DBSCAN(eps=9)"
      ]
     },
     "execution_count": 15,
     "metadata": {},
     "output_type": "execute_result"
    }
   ],
   "source": [
    "from sklearn.cluster import DBSCAN\n",
    "model=DBSCAN(eps=9,min_samples=5)\n",
    "model.fit(df)"
   ]
  },
  {
   "cell_type": "code",
   "execution_count": 16,
   "metadata": {},
   "outputs": [
    {
     "data": {
      "text/plain": [
       "array([-1,  0, -1,  0, -1,  0, -1, -1, -1,  0, -1, -1, -1,  0, -1,  0, -1,\n",
       "       -1, -1, -1, -1,  0, -1,  0, -1, -1, -1, -1, -1, -1, -1,  0, -1, -1,\n",
       "       -1, -1, -1, -1, -1, -1, -1, -1,  2,  1, -1, -1,  2,  1,  1,  1,  2,\n",
       "        1,  1,  2,  2,  2,  2,  2,  1,  2,  2,  1,  2,  2,  2,  1,  2,  2,\n",
       "        1,  1,  2,  2,  2,  2,  2,  1,  2,  2,  1,  2,  2,  2, -1,  2,  1,\n",
       "        2,  2,  1, -1,  2,  3,  1,  2,  2,  2,  1,  2,  1,  2,  1,  1,  2,\n",
       "        3,  1,  2,  1,  3,  2,  3,  3,  3,  1,  2,  1,  1,  1,  3,  2,  2,\n",
       "        2,  1,  2, -1, -1, -1,  4, -1, -1, -1,  4, -1,  4, -1,  4, -1,  4,\n",
       "       -1,  4, -1,  4, -1,  4, -1,  4, -1,  4, -1,  4, -1,  4, -1,  4, -1,\n",
       "        4, -1,  4, -1,  4, -1,  4, -1,  4, -1,  4, -1,  4, -1,  4, -1, -1,\n",
       "       -1, -1, -1,  4, -1,  4, -1, -1, -1,  4, -1,  4, -1,  4, -1, -1, -1,\n",
       "       -1, -1, -1, -1, -1, -1, -1, -1, -1, -1, -1, -1, -1], dtype=int64)"
      ]
     },
     "execution_count": 16,
     "metadata": {},
     "output_type": "execute_result"
    }
   ],
   "source": [
    "model.labels_"
   ]
  },
  {
   "cell_type": "code",
   "execution_count": 18,
   "metadata": {},
   "outputs": [],
   "source": [
    "from sklearn.decomposition import PCA\n",
    "pca=PCA(n_components=2)\n",
    "pca.fit(df)\n",
    "pca_data=pca.transform(df)"
   ]
  },
  {
   "cell_type": "code",
   "execution_count": 19,
   "metadata": {},
   "outputs": [
    {
     "data": {
      "text/plain": [
       "<matplotlib.collections.PathCollection at 0x1c07894fbe0>"
      ]
     },
     "execution_count": 19,
     "metadata": {},
     "output_type": "execute_result"
    },
    {
     "data": {
      "image/png": "[encoded data removed]",
      "text/plain": [
       "<Figure size 432x288 with 1 Axes>"
      ]
     },
     "metadata": {
      "needs_background": "light"
     },
     "output_type": "display_data"
    }
   ],
   "source": [
    "plt.scatter(pca_data[:,0],pca_data[:,1],c=model.labels_)"
   ]
  }
 ],
 "metadata": {
  "kernelspec": {
   "display_name": "Python 3",
   "language": "python",
   "name": "python3"
  },
  "language_info": {
   "codemirror_mode": {
    "name": "ipython",
    "version": 3
   },
   "file_extension": ".py",
   "mimetype": "text/x-python",
   "name": "python",
   "nbconvert_exporter": "python",
   "pygments_lexer": "ipython3",
   "version": "3.8.5"
  }
 },
 "nbformat": 4,
 "nbformat_minor": 4
}
