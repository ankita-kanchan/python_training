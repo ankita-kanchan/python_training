{
  "nbformat": 4,
  "nbformat_minor": 0,
  "metadata": {
    "colab": {
      "name": "Neural Network for classification ",
      "provenance": []
    },
    "kernelspec": {
      "name": "python3",
      "display_name": "Python 3"
    },
    "language_info": {
      "name": "python"
    }
  },
  "cells": [
    {
      "cell_type": "code",
      "execution_count": null,
      "metadata": {
        "id": "IJ_n8GtvFQqH"
      },
      "outputs": [],
      "source": [
        "import pandas as pd\n",
        "import numpy as np\n",
        "import matplotlib.pyplot as plt\n",
        "import seaborn as sns"
      ]
    },
    {
      "cell_type": "code",
      "source": [
        "df=pd.read_csv(\"/content/diabetes.csv\")\n",
        "df.head()"
      ],
      "metadata": {
        "colab": {
          "base_uri": "https://localhost:8080/",
          "height": 206
        },
        "id": "42D_NlgUFxfp",
        "outputId": "9cadcf5c-9206-4df4-f5bd-dc33f5366d42"
      },
      "execution_count": null,
      "outputs": [
        {
          "output_type": "execute_result",
          "data": {
            "text/plain": [
              "   Pregnancies  Glucose  BloodPressure  SkinThickness  Insulin   BMI  \\\n",
              "0            6      148             72             35        0  33.6   \n",
              "1            1       85             66             29        0  26.6   \n",
              "2            8      183             64              0        0  23.3   \n",
              "3            1       89             66             23       94  28.1   \n",
              "4            0      137             40             35      168  43.1   \n",
              "\n",
              "   DiabetesPedigreeFunction  Age  Outcome  \n",
              "0                     0.627   50        1  \n",
              "1                     0.351   31        0  \n",
              "2                     0.672   32        1  \n",
              "3                     0.167   21        0  \n",
              "4                     2.288   33        1  "
            ],
            "text/html": [
              "\n",
              "  <div id=\"df-ffdddf45-dfa1-416a-a116-74f3d825a0d6\">\n",
              "    <div class=\"colab-df-container\">\n",
              "      <div>\n",
              "<style scoped>\n",
              "    .dataframe tbody tr th:only-of-type {\n",
              "        vertical-align: middle;\n",
              "    }\n",
              "\n",
              "    .dataframe tbody tr th {\n",
              "        vertical-align: top;\n",
              "    }\n",
              "\n",
              "    .dataframe thead th {\n",
              "        text-align: right;\n",
              "    }\n",
              "</style>\n",
              "<table border=\"1\" class=\"dataframe\">\n",
              "  <thead>\n",
              "    <tr style=\"text-align: right;\">\n",
              "      <th></th>\n",
              "      <th>Pregnancies</th>\n",
              "      <th>Glucose</th>\n",
              "      <th>BloodPressure</th>\n",
              "      <th>SkinThickness</th>\n",
              "      <th>Insulin</th>\n",
              "      <th>BMI</th>\n",
              "      <th>DiabetesPedigreeFunction</th>\n",
              "      <th>Age</th>\n",
              "      <th>Outcome</th>\n",
              "    </tr>\n",
              "  </thead>\n",
              "  <tbody>\n",
              "    <tr>\n",
              "      <th>0</th>\n",
              "      <td>6</td>\n",
              "      <td>148</td>\n",
              "      <td>72</td>\n",
              "      <td>35</td>\n",
              "      <td>0</td>\n",
              "      <td>33.6</td>\n",
              "      <td>0.627</td>\n",
              "      <td>50</td>\n",
              "      <td>1</td>\n",
              "    </tr>\n",
              "    <tr>\n",
              "      <th>1</th>\n",
              "      <td>1</td>\n",
              "      <td>85</td>\n",
              "      <td>66</td>\n",
              "      <td>29</td>\n",
              "      <td>0</td>\n",
              "      <td>26.6</td>\n",
              "      <td>0.351</td>\n",
              "      <td>31</td>\n",
              "      <td>0</td>\n",
              "    </tr>\n",
              "    <tr>\n",
              "      <th>2</th>\n",
              "      <td>8</td>\n",
              "      <td>183</td>\n",
              "      <td>64</td>\n",
              "      <td>0</td>\n",
              "      <td>0</td>\n",
              "      <td>23.3</td>\n",
              "      <td>0.672</td>\n",
              "      <td>32</td>\n",
              "      <td>1</td>\n",
              "    </tr>\n",
              "    <tr>\n",
              "      <th>3</th>\n",
              "      <td>1</td>\n",
              "      <td>89</td>\n",
              "      <td>66</td>\n",
              "      <td>23</td>\n",
              "      <td>94</td>\n",
              "      <td>28.1</td>\n",
              "      <td>0.167</td>\n",
              "      <td>21</td>\n",
              "      <td>0</td>\n",
              "    </tr>\n",
              "    <tr>\n",
              "      <th>4</th>\n",
              "      <td>0</td>\n",
              "      <td>137</td>\n",
              "      <td>40</td>\n",
              "      <td>35</td>\n",
              "      <td>168</td>\n",
              "      <td>43.1</td>\n",
              "      <td>2.288</td>\n",
              "      <td>33</td>\n",
              "      <td>1</td>\n",
              "    </tr>\n",
              "  </tbody>\n",
              "</table>\n",
              "</div>\n",
              "      <button class=\"colab-df-convert\" onclick=\"convertToInteractive('df-ffdddf45-dfa1-416a-a116-74f3d825a0d6')\"\n",
              "              title=\"Convert this dataframe to an interactive table.\"\n",
              "              style=\"display:none;\">\n",
              "        \n",
              "  <svg xmlns=\"http://www.w3.org/2000/svg\" height=\"24px\"viewBox=\"0 0 24 24\"\n",
              "       width=\"24px\">\n",
              "    <path d=\"M0 0h24v24H0V0z\" fill=\"none\"/>\n",
              "    <path d=\"M18.56 5.44l.94 2.06.94-2.06 2.06-.94-2.06-.94-.94-2.06-.94 2.06-2.06.94zm-11 1L8.5 8.5l.94-2.06 2.06-.94-2.06-.94L8.5 2.5l-.94 2.06-2.06.94zm10 10l.94 2.06.94-2.06 2.06-.94-2.06-.94-.94-2.06-.94 2.06-2.06.94z\"/><path d=\"M17.41 7.96l-1.37-1.37c-.4-.4-.92-.59-1.43-.59-.52 0-1.04.2-1.43.59L10.3 9.45l-7.72 7.72c-.78.78-.78 2.05 0 2.83L4 21.41c.39.39.9.59 1.41.59.51 0 1.02-.2 1.41-.59l7.78-7.78 2.81-2.81c.8-.78.8-2.07 0-2.86zM5.41 20L4 18.59l7.72-7.72 1.47 1.35L5.41 20z\"/>\n",
              "  </svg>\n",
              "      </button>\n",
              "      \n",
              "  <style>\n",
              "    .colab-df-container {\n",
              "      display:flex;\n",
              "      flex-wrap:wrap;\n",
              "      gap: 12px;\n",
              "    }\n",
              "\n",
              "    .colab-df-convert {\n",
              "      background-color: #E8F0FE;\n",
              "      border: none;\n",
              "      border-radius: 50%;\n",
              "      cursor: pointer;\n",
              "      display: none;\n",
              "      fill: #1967D2;\n",
              "      height: 32px;\n",
              "      padding: 0 0 0 0;\n",
              "      width: 32px;\n",
              "    }\n",
              "\n",
              "    .colab-df-convert:hover {\n",
              "      background-color: #E2EBFA;\n",
              "      box-shadow: 0px 1px 2px rgba(60, 64, 67, 0.3), 0px 1px 3px 1px rgba(60, 64, 67, 0.15);\n",
              "      fill: #174EA6;\n",
              "    }\n",
              "\n",
              "    [theme=dark] .colab-df-convert {\n",
              "      background-color: #3B4455;\n",
              "      fill: #D2E3FC;\n",
              "    }\n",
              "\n",
              "    [theme=dark] .colab-df-convert:hover {\n",
              "      background-color: #434B5C;\n",
              "      box-shadow: 0px 1px 3px 1px rgba(0, 0, 0, 0.15);\n",
              "      filter: drop-shadow(0px 1px 2px rgba(0, 0, 0, 0.3));\n",
              "      fill: #FFFFFF;\n",
              "    }\n",
              "  </style>\n",
              "\n",
              "      <script>\n",
              "        const buttonEl =\n",
              "          document.querySelector('#df-ffdddf45-dfa1-416a-a116-74f3d825a0d6 button.colab-df-convert');\n",
              "        buttonEl.style.display =\n",
              "          google.colab.kernel.accessAllowed ? 'block' : 'none';\n",
              "\n",
              "        async function convertToInteractive(key) {\n",
              "          const element = document.querySelector('#df-ffdddf45-dfa1-416a-a116-74f3d825a0d6');\n",
              "          const dataTable =\n",
              "            await google.colab.kernel.invokeFunction('convertToInteractive',\n",
              "                                                     [key], {});\n",
              "          if (!dataTable) return;\n",
              "\n",
              "          const docLinkHtml = 'Like what you see? Visit the ' +\n",
              "            '<a target=\"_blank\" href=https://colab.research.google.com/notebooks/data_table.ipynb>data table notebook</a>'\n",
              "            + ' to learn more about interactive tables.';\n",
              "          element.innerHTML = '';\n",
              "          dataTable['output_type'] = 'display_data';\n",
              "          await google.colab.output.renderOutput(dataTable, element);\n",
              "          const docLink = document.createElement('div');\n",
              "          docLink.innerHTML = docLinkHtml;\n",
              "          element.appendChild(docLink);\n",
              "        }\n",
              "      </script>\n",
              "    </div>\n",
              "  </div>\n",
              "  "
            ]
          },
          "metadata": {},
          "execution_count": 3
        }
      ]
    },
    {
      "cell_type": "code",
      "source": [
        "x=df.drop(columns=[\"Outcome\"])\n",
        "y=df[\"Outcome\"]"
      ],
      "metadata": {
        "id": "vEKl9j8VF3Zu"
      },
      "execution_count": null,
      "outputs": []
    },
    {
      "cell_type": "code",
      "source": [
        "from sklearn.model_selection import train_test_split\n",
        "xtrain,xtest,ytrain,ytest=train_test_split(x,y,test_size=0.2,random_state=0)"
      ],
      "metadata": {
        "id": "n-K6XWYnF9bo"
      },
      "execution_count": null,
      "outputs": []
    },
    {
      "cell_type": "code",
      "source": [
        "from keras.models import Sequential\n",
        "from keras.layers import Dense"
      ],
      "metadata": {
        "id": "zdw9PKJeGBGp"
      },
      "execution_count": null,
      "outputs": []
    },
    {
      "cell_type": "code",
      "source": [
        "model=Sequential()\n",
        "model.add(Dense(20,activation='relu',input_dim=8)) #input layer\n",
        "#rectified linear unit \n",
        "model.add(Dense(15,activation='relu'))\n",
        "model.add(Dense(1,activation=\"sigmoid\"))\n",
        "model.summary()"
      ],
      "metadata": {
        "colab": {
          "base_uri": "https://localhost:8080/"
        },
        "id": "lIecUWSiGGFy",
        "outputId": "b6568cfb-c1f6-4542-a4c4-55709b96fdc9"
      },
      "execution_count": null,
      "outputs": [
        {
          "output_type": "stream",
          "name": "stdout",
          "text": [
            "Model: \"sequential_4\"\n",
            "_________________________________________________________________\n",
            " Layer (type)                Output Shape              Param #   \n",
            "=================================================================\n",
            " dense_9 (Dense)             (None, 20)                180       \n",
            "                                                                 \n",
            " dense_10 (Dense)            (None, 15)                315       \n",
            "                                                                 \n",
            " dense_11 (Dense)            (None, 1)                 16        \n",
            "                                                                 \n",
            "=================================================================\n",
            "Total params: 511\n",
            "Trainable params: 511\n",
            "Non-trainable params: 0\n",
            "_________________________________________________________________\n"
          ]
        }
      ]
    },
    {
      "cell_type": "code",
      "source": [
        "model.compile(loss=\"binary_crossentropy\",optimizer='adam',metrics=['accuracy'])"
      ],
      "metadata": {
        "id": "EI5dQObEK2ZA"
      },
      "execution_count": null,
      "outputs": []
    },
    {
      "cell_type": "markdown",
      "source": [
        "\n",
        "    Regression Loss Functions\n",
        "        Mean Squared Error Loss\n",
        "        Mean Squared Logarithmic Error Loss\n",
        "        Mean Absolute Error Loss\n",
        "    Binary Classification Loss Functions\n",
        "        Binary Cross-Entropy\n",
        "        Hinge Loss\n",
        "        Squared Hinge Loss\n",
        "    Multi-Class Classification Loss Functions\n",
        "        Multi-Class Cross-Entropy Loss\n",
        "        Sparse Multiclass Cross-Entropy Loss\n",
        "        Kullback Leibler Divergence Loss\n"
      ],
      "metadata": {
        "id": "MJmPZNmOMwqo"
      }
    },
    {
      "cell_type": "code",
      "source": [
        "history=model.fit(xtrain,ytrain,epochs=50,batch_size=5)"
      ],
      "metadata": {
        "colab": {
          "base_uri": "https://localhost:8080/"
        },
        "id": "AjRcZG-jLjm1",
        "outputId": "02fbb8e7-445c-404f-ee95-d24ba92d12ba"
      },
      "execution_count": null,
      "outputs": [
        {
          "output_type": "stream",
          "name": "stdout",
          "text": [
            "Epoch 1/50\n",
            "123/123 [==============================] - 1s 1ms/step - loss: 4.8367 - accuracy: 0.6254\n",
            "Epoch 2/50\n",
            "123/123 [==============================] - 0s 1ms/step - loss: 1.1753 - accuracy: 0.5798\n",
            "Epoch 3/50\n",
            "123/123 [==============================] - 0s 1ms/step - loss: 0.9007 - accuracy: 0.5961\n",
            "Epoch 4/50\n",
            "123/123 [==============================] - 0s 1ms/step - loss: 0.8063 - accuracy: 0.6173\n",
            "Epoch 5/50\n",
            "123/123 [==============================] - 0s 1ms/step - loss: 0.7856 - accuracy: 0.6450\n",
            "Epoch 6/50\n",
            "123/123 [==============================] - 0s 1ms/step - loss: 0.7615 - accuracy: 0.6450\n",
            "Epoch 7/50\n",
            "123/123 [==============================] - 0s 1ms/step - loss: 0.7502 - accuracy: 0.6661\n",
            "Epoch 8/50\n",
            "123/123 [==============================] - 0s 1ms/step - loss: 0.6591 - accuracy: 0.6857\n",
            "Epoch 9/50\n",
            "123/123 [==============================] - 0s 1ms/step - loss: 0.6764 - accuracy: 0.6694\n",
            "Epoch 10/50\n",
            "123/123 [==============================] - 0s 1ms/step - loss: 0.6659 - accuracy: 0.6612\n",
            "Epoch 11/50\n",
            "123/123 [==============================] - 0s 1ms/step - loss: 0.6247 - accuracy: 0.6922\n",
            "Epoch 12/50\n",
            "123/123 [==============================] - 0s 1ms/step - loss: 0.6307 - accuracy: 0.7020\n",
            "Epoch 13/50\n",
            "123/123 [==============================] - 0s 1ms/step - loss: 0.6410 - accuracy: 0.7068\n",
            "Epoch 14/50\n",
            "123/123 [==============================] - 0s 1ms/step - loss: 0.6248 - accuracy: 0.6873\n",
            "Epoch 15/50\n",
            "123/123 [==============================] - 0s 1ms/step - loss: 0.5995 - accuracy: 0.6954\n",
            "Epoch 16/50\n",
            "123/123 [==============================] - 0s 1ms/step - loss: 0.6119 - accuracy: 0.6971\n",
            "Epoch 17/50\n",
            "123/123 [==============================] - 0s 1ms/step - loss: 0.6159 - accuracy: 0.7182\n",
            "Epoch 18/50\n",
            "123/123 [==============================] - 0s 2ms/step - loss: 0.5793 - accuracy: 0.6889\n",
            "Epoch 19/50\n",
            "123/123 [==============================] - 0s 1ms/step - loss: 0.5809 - accuracy: 0.6938\n",
            "Epoch 20/50\n",
            "123/123 [==============================] - 0s 1ms/step - loss: 0.5795 - accuracy: 0.6954\n",
            "Epoch 21/50\n",
            "123/123 [==============================] - 0s 1ms/step - loss: 0.6149 - accuracy: 0.7020\n",
            "Epoch 22/50\n",
            "123/123 [==============================] - 0s 1ms/step - loss: 0.5742 - accuracy: 0.7003\n",
            "Epoch 23/50\n",
            "123/123 [==============================] - 0s 1ms/step - loss: 0.6108 - accuracy: 0.6954\n",
            "Epoch 24/50\n",
            "123/123 [==============================] - 0s 1ms/step - loss: 0.6119 - accuracy: 0.7085\n",
            "Epoch 25/50\n",
            "123/123 [==============================] - 0s 1ms/step - loss: 0.6011 - accuracy: 0.7003\n",
            "Epoch 26/50\n",
            "123/123 [==============================] - 0s 1ms/step - loss: 0.5891 - accuracy: 0.7020\n",
            "Epoch 27/50\n",
            "123/123 [==============================] - 0s 1ms/step - loss: 0.5764 - accuracy: 0.7134\n",
            "Epoch 28/50\n",
            "123/123 [==============================] - 0s 1ms/step - loss: 0.5797 - accuracy: 0.7068\n",
            "Epoch 29/50\n",
            "123/123 [==============================] - 0s 1ms/step - loss: 0.5674 - accuracy: 0.7280\n",
            "Epoch 30/50\n",
            "123/123 [==============================] - 0s 1ms/step - loss: 0.5555 - accuracy: 0.7117\n",
            "Epoch 31/50\n",
            "123/123 [==============================] - 0s 1ms/step - loss: 0.5534 - accuracy: 0.7264\n",
            "Epoch 32/50\n",
            "123/123 [==============================] - 0s 1ms/step - loss: 0.5494 - accuracy: 0.7296\n",
            "Epoch 33/50\n",
            "123/123 [==============================] - 0s 1ms/step - loss: 0.5336 - accuracy: 0.7345\n",
            "Epoch 34/50\n",
            "123/123 [==============================] - 0s 1ms/step - loss: 0.5387 - accuracy: 0.7166\n",
            "Epoch 35/50\n",
            "123/123 [==============================] - 0s 1ms/step - loss: 0.5563 - accuracy: 0.7036\n",
            "Epoch 36/50\n",
            "123/123 [==============================] - 0s 1ms/step - loss: 0.5443 - accuracy: 0.7166\n",
            "Epoch 37/50\n",
            "123/123 [==============================] - 0s 1ms/step - loss: 0.5660 - accuracy: 0.7134\n",
            "Epoch 38/50\n",
            "123/123 [==============================] - 0s 1ms/step - loss: 0.5417 - accuracy: 0.7394\n",
            "Epoch 39/50\n",
            "123/123 [==============================] - 0s 1ms/step - loss: 0.5296 - accuracy: 0.7329\n",
            "Epoch 40/50\n",
            "123/123 [==============================] - 0s 1ms/step - loss: 0.5402 - accuracy: 0.7329\n",
            "Epoch 41/50\n",
            "123/123 [==============================] - 0s 1ms/step - loss: 0.5202 - accuracy: 0.7459\n",
            "Epoch 42/50\n",
            "123/123 [==============================] - 0s 1ms/step - loss: 0.5228 - accuracy: 0.7410\n",
            "Epoch 43/50\n",
            "123/123 [==============================] - 0s 1ms/step - loss: 0.5271 - accuracy: 0.7459\n",
            "Epoch 44/50\n",
            "123/123 [==============================] - 0s 1ms/step - loss: 0.5582 - accuracy: 0.7378\n",
            "Epoch 45/50\n",
            "123/123 [==============================] - 0s 1ms/step - loss: 0.5265 - accuracy: 0.7313\n",
            "Epoch 46/50\n",
            "123/123 [==============================] - 0s 1ms/step - loss: 0.5356 - accuracy: 0.7150\n",
            "Epoch 47/50\n",
            "123/123 [==============================] - 0s 1ms/step - loss: 0.5290 - accuracy: 0.7313\n",
            "Epoch 48/50\n",
            "123/123 [==============================] - 0s 2ms/step - loss: 0.5159 - accuracy: 0.7410\n",
            "Epoch 49/50\n",
            "123/123 [==============================] - 0s 1ms/step - loss: 0.5202 - accuracy: 0.7410\n",
            "Epoch 50/50\n",
            "123/123 [==============================] - 0s 1ms/step - loss: 0.5137 - accuracy: 0.7606\n"
          ]
        }
      ]
    },
    {
      "cell_type": "code",
      "source": [
        "history"
      ],
      "metadata": {
        "colab": {
          "base_uri": "https://localhost:8080/"
        },
        "id": "XTJ7JmsWOlgL",
        "outputId": "f91bc305-9f85-4b29-8a79-5ca43d0633e6"
      },
      "execution_count": null,
      "outputs": [
        {
          "output_type": "execute_result",
          "data": {
            "text/plain": [
              "<keras.callbacks.History at 0x7f7668e81710>"
            ]
          },
          "metadata": {},
          "execution_count": 13
        }
      ]
    },
    {
      "cell_type": "code",
      "source": [
        "plt.plot(range(1,51),history.history['accuracy'])"
      ],
      "metadata": {
        "colab": {
          "base_uri": "https://localhost:8080/",
          "height": 283
        },
        "id": "sUaDEmZvO7M-",
        "outputId": "94c05837-4feb-4d4f-f62f-ae9131a28172"
      },
      "execution_count": null,
      "outputs": [
        {
          "output_type": "execute_result",
          "data": {
            "text/plain": [
              "[<matplotlib.lines.Line2D at 0x7f7667137e50>]"
            ]
          },
          "metadata": {},
          "execution_count": 40
        },
        {
          "output_type": "display_data",
          "data": {
            "text/plain": [
              "<Figure size 432x288 with 1 Axes>"
            ],
            "image/png": "[encoded data removed]"
          },
          "metadata": {
            "needs_background": "light"
          }
        }
      ]
    },
    {
      "cell_type": "code",
      "source": [
        "plt.plot(range(1,51),history.history['loss'])"
      ],
      "metadata": {
        "colab": {
          "base_uri": "https://localhost:8080/",
          "height": 285
        },
        "id": "QyZY9LyjPJUO",
        "outputId": "c6dbba71-9939-4126-c2f9-aa8cb8cb8c27"
      },
      "execution_count": null,
      "outputs": [
        {
          "output_type": "execute_result",
          "data": {
            "text/plain": [
              "[<matplotlib.lines.Line2D at 0x7f76670ac890>]"
            ]
          },
          "metadata": {},
          "execution_count": 41
        },
        {
          "output_type": "display_data",
          "data": {
            "text/plain": [
              "<Figure size 432x288 with 1 Axes>"
            ],
            "image/png": "[encoded data removed]"
          },
          "metadata": {
            "needs_background": "light"
          }
        }
      ]
    },
    {
      "cell_type": "code",
      "source": [
        "_,acc=model.evaluate(xtrain,ytrain)\n",
        "acc"
      ],
      "metadata": {
        "colab": {
          "base_uri": "https://localhost:8080/"
        },
        "id": "WB8pSnphUB_x",
        "outputId": "a55b5fa4-5e90-4511-af94-41a3450177a2"
      },
      "execution_count": null,
      "outputs": [
        {
          "output_type": "stream",
          "name": "stdout",
          "text": [
            "20/20 [==============================] - 0s 2ms/step - loss: 0.4849 - accuracy: 0.7687\n"
          ]
        },
        {
          "output_type": "execute_result",
          "data": {
            "text/plain": [
              "0.7687296271324158"
            ]
          },
          "metadata": {},
          "execution_count": 44
        }
      ]
    },
    {
      "cell_type": "code",
      "source": [
        "_,acc=model.evaluate(xtest,ytest)\n",
        "acc"
      ],
      "metadata": {
        "colab": {
          "base_uri": "https://localhost:8080/"
        },
        "id": "mEoK82mVUMfc",
        "outputId": "b9d10b56-99cc-4ab2-cdb0-bbae59e89a58"
      },
      "execution_count": null,
      "outputs": [
        {
          "output_type": "stream",
          "name": "stdout",
          "text": [
            "5/5 [==============================] - 0s 3ms/step - loss: 0.5463 - accuracy: 0.7597\n"
          ]
        },
        {
          "output_type": "execute_result",
          "data": {
            "text/plain": [
              "0.7597402334213257"
            ]
          },
          "metadata": {},
          "execution_count": 45
        }
      ]
    },
    {
      "cell_type": "code",
      "source": [
        "ypred=model.predict(xtest)\n",
        "ypred=np.round(ypred).astype('int')\n"
      ],
      "metadata": {
        "id": "hOEdCaUHPapX"
      },
      "execution_count": null,
      "outputs": []
    },
    {
      "cell_type": "code",
      "source": [
        "from sklearn.metrics import confusion_matrix,accuracy_score,classification_report\n",
        "cm=confusion_matrix(ytest,ypred)\n",
        "sns.heatmap(cm,annot=True)\n",
        "print(\"Accuracy is :\",accuracy_score(ytest,ypred))\n",
        "print(classification_report(ytest,ypred))"
      ],
      "metadata": {
        "colab": {
          "base_uri": "https://localhost:8080/",
          "height": 442
        },
        "id": "h8biUq2BQpvq",
        "outputId": "e9b6cd69-ee22-4b27-e706-f5aae300767c"
      },
      "execution_count": null,
      "outputs": [
        {
          "output_type": "stream",
          "name": "stdout",
          "text": [
            "Accuracy is : 0.7597402597402597\n",
            "              precision    recall  f1-score   support\n",
            "\n",
            "           0       0.82      0.83      0.83       107\n",
            "           1       0.61      0.60      0.60        47\n",
            "\n",
            "    accuracy                           0.76       154\n",
            "   macro avg       0.72      0.71      0.72       154\n",
            "weighted avg       0.76      0.76      0.76       154\n",
            "\n"
          ]
        },
        {
          "output_type": "display_data",
          "data": {
            "text/plain": [
              "<Figure size 432x288 with 2 Axes>"
            ],
            "image/png": "[encoded data removed]"
          },
          "metadata": {
            "needs_background": "light"
          }
        }
      ]
    }
  ]
}