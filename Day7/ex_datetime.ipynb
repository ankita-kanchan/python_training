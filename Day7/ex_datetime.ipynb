{
 "cells": [
  {
   "cell_type": "code",
   "execution_count": 1,
   "metadata": {},
   "outputs": [],
   "source": [
    "from datetime import datetime"
   ]
  },
  {
   "cell_type": "code",
   "execution_count": 2,
   "metadata": {},
   "outputs": [],
   "source": [
    "a = datetime.now()"
   ]
  },
  {
   "cell_type": "code",
   "execution_count": 5,
   "metadata": {},
   "outputs": [
    {
     "name": "stdout",
     "output_type": "stream",
     "text": [
      "2021-03-22 11:43:25.827303\n"
     ]
    },
    {
     "data": {
      "text/plain": [
       "str"
      ]
     },
     "execution_count": 5,
     "metadata": {},
     "output_type": "execute_result"
    }
   ],
   "source": [
    "print(a)\n",
    "x=\"2020-12-15\"\n",
    "type(x)"
   ]
  },
  {
   "cell_type": "code",
   "execution_count": 7,
   "metadata": {},
   "outputs": [],
   "source": [
    "login_time = datetime(2020,12,25,10,15,20,12345)"
   ]
  },
  {
   "cell_type": "code",
   "execution_count": 8,
   "metadata": {},
   "outputs": [
    {
     "name": "stdout",
     "output_type": "stream",
     "text": [
      "2020-12-25 10:15:20.012345\n"
     ]
    },
    {
     "data": {
      "text/plain": [
       "datetime.datetime"
      ]
     },
     "execution_count": 8,
     "metadata": {},
     "output_type": "execute_result"
    }
   ],
   "source": [
    "print(login_time)\n",
    "type(login_time)"
   ]
  },
  {
   "cell_type": "code",
   "execution_count": 10,
   "metadata": {},
   "outputs": [
    {
     "name": "stdout",
     "output_type": "stream",
     "text": [
      "20,Dec,12,December 25 Fri Friday  10 :: 15 :: 20  10 AM\n"
     ]
    },
    {
     "data": {
      "text/plain": [
       "str"
      ]
     },
     "execution_count": 10,
     "metadata": {},
     "output_type": "execute_result"
    }
   ],
   "source": [
    "string_time = login_time.strftime(\"%y,%b,%m,%B %d %a %A  %H :: %M :: %S  %I %p\")\n",
    "print(string_time)\n",
    "type(string_time)"
   ]
  },
  {
   "cell_type": "code",
   "execution_count": 27,
   "metadata": {},
   "outputs": [
    {
     "data": {
      "text/plain": [
       "'Saturday 14 :: 53 :: 33 02 PM'"
      ]
     },
     "execution_count": 27,
     "metadata": {},
     "output_type": "execute_result"
    }
   ],
   "source": [
    "a.strftime(\"%A %H :: %M :: %S %I %p\")"
   ]
  },
  {
   "cell_type": "code",
   "execution_count": 18,
   "metadata": {},
   "outputs": [
    {
     "data": {
      "text/plain": [
       "'25-12-20'"
      ]
     },
     "execution_count": 18,
     "metadata": {},
     "output_type": "execute_result"
    }
   ],
   "source": [
    "login_time.strftime(\"%d-%m-%y\")"
   ]
  },
  {
   "cell_type": "code",
   "execution_count": 17,
   "metadata": {},
   "outputs": [
    {
     "data": {
      "text/plain": [
       "'Friday'"
      ]
     },
     "execution_count": 17,
     "metadata": {},
     "output_type": "execute_result"
    }
   ],
   "source": [
    "login_time.strftime(\"%A\")"
   ]
  },
  {
   "cell_type": "code",
   "execution_count": 23,
   "metadata": {},
   "outputs": [
    {
     "data": {
      "text/plain": [
       "'December-25  2020'"
      ]
     },
     "execution_count": 23,
     "metadata": {},
     "output_type": "execute_result"
    }
   ],
   "source": [
    "login_time.strftime(\"%B-%d  %Y \")"
   ]
  },
  {
   "cell_type": "code",
   "execution_count": 30,
   "metadata": {},
   "outputs": [
    {
     "name": "stdout",
     "output_type": "stream",
     "text": [
      "Date of Birth is December-25\n"
     ]
    }
   ],
   "source": [
    "print(\"Date of Birth is\",login_time.strftime(\"%B-%d\") )"
   ]
  },
  {
   "cell_type": "code",
   "execution_count": 35,
   "metadata": {},
   "outputs": [
    {
     "name": "stdout",
     "output_type": "stream",
     "text": [
      "Date : 25-Dec-2020  Login time:  10 15\n"
     ]
    }
   ],
   "source": [
    "print(\"Date :\",login_time.strftime(\"%d-%b-%Y\"), \" Login time: \",login_time.strftime(\"%H %M\") )"
   ]
  },
  {
   "cell_type": "code",
   "execution_count": 15,
   "metadata": {},
   "outputs": [
    {
     "name": "stdout",
     "output_type": "stream",
     "text": [
      "Enter the Date of Birth12-12-2020\n"
     ]
    }
   ],
   "source": [
    "DOB = input(\"Enter the Date of Birth\")"
   ]
  },
  {
   "cell_type": "code",
   "execution_count": 16,
   "metadata": {},
   "outputs": [
    {
     "data": {
      "text/plain": [
       "str"
      ]
     },
     "execution_count": 16,
     "metadata": {},
     "output_type": "execute_result"
    }
   ],
   "source": [
    "type(DOB)"
   ]
  },
  {
   "cell_type": "code",
   "execution_count": 18,
   "metadata": {},
   "outputs": [
    {
     "name": "stdout",
     "output_type": "stream",
     "text": [
      "<class 'datetime.datetime'>\n",
      "2020-12-12 00:00:00\n"
     ]
    }
   ],
   "source": [
    "DOB_D= datetime.strptime(DOB, \"%d-%m-%Y\")\n",
    "print(type(DOB_D))\n",
    "print(DOB_D)"
   ]
  },
  {
   "cell_type": "code",
   "execution_count": 21,
   "metadata": {},
   "outputs": [],
   "source": [
    "login = \"See you at 11:30 AM\""
   ]
  },
  {
   "cell_type": "code",
   "execution_count": 65,
   "metadata": {},
   "outputs": [
    {
     "name": "stdout",
     "output_type": "stream",
     "text": [
      "1900-01-01 11:30:00\n"
     ]
    }
   ],
   "source": [
    "print(datetime.strptime(login,(\"See you at %H:%M %p\")))"
   ]
  },
  {
   "cell_type": "code",
   "execution_count": 19,
   "metadata": {},
   "outputs": [],
   "source": [
    "da1 = datetime.now()"
   ]
  },
  {
   "cell_type": "code",
   "execution_count": 30,
   "metadata": {},
   "outputs": [
    {
     "data": {
      "text/plain": [
       "2021"
      ]
     },
     "execution_count": 30,
     "metadata": {},
     "output_type": "execute_result"
    }
   ],
   "source": [
    "da1.year"
   ]
  },
  {
   "cell_type": "code",
   "execution_count": 27,
   "metadata": {},
   "outputs": [
    {
     "data": {
      "text/plain": [
       "3"
      ]
     },
     "execution_count": 27,
     "metadata": {},
     "output_type": "execute_result"
    }
   ],
   "source": [
    "da1.month"
   ]
  },
  {
   "cell_type": "code",
   "execution_count": 22,
   "metadata": {},
   "outputs": [],
   "source": [
    "from datetime import date"
   ]
  },
  {
   "cell_type": "code",
   "execution_count": 34,
   "metadata": {},
   "outputs": [],
   "source": [
    "sec_per_hr=3600"
   ]
  },
  {
   "cell_type": "code",
   "execution_count": 26,
   "metadata": {},
   "outputs": [
    {
     "data": {
      "text/plain": [
       "432000"
      ]
     },
     "execution_count": 26,
     "metadata": {},
     "output_type": "execute_result"
    }
   ],
   "source": [
    "sec_yrs=3600*24*5\n",
    "sec_yrs"
   ]
  },
  {
   "cell_type": "code",
   "execution_count": 27,
   "metadata": {},
   "outputs": [
    {
     "data": {
      "text/plain": [
       "datetime.date(1970, 1, 6)"
      ]
     },
     "execution_count": 27,
     "metadata": {},
     "output_type": "execute_result"
    }
   ],
   "source": [
    "a = date.fromtimestamp(432000)\n",
    "a"
   ]
  },
  {
   "cell_type": "code",
   "execution_count": 28,
   "metadata": {},
   "outputs": [
    {
     "name": "stdout",
     "output_type": "stream",
     "text": [
      "2020-12-12\n"
     ]
    },
    {
     "data": {
      "text/plain": [
       "datetime.date(2021, 4, 12)"
      ]
     },
     "execution_count": 28,
     "metadata": {},
     "output_type": "execute_result"
    }
   ],
   "source": [
    "d1=date(year=2020, month=12, day=12)\n",
    "print(d1)\n",
    "d2=date(year=2021, month =4, day=12)\n",
    "d2"
   ]
  },
  {
   "cell_type": "code",
   "execution_count": 30,
   "metadata": {},
   "outputs": [
    {
     "data": {
      "text/plain": [
       "datetime.timedelta(days=121)"
      ]
     },
     "execution_count": 30,
     "metadata": {},
     "output_type": "execute_result"
    }
   ],
   "source": [
    "d2-d1"
   ]
  },
  {
   "cell_type": "code",
   "execution_count": 31,
   "metadata": {},
   "outputs": [
    {
     "name": "stdout",
     "output_type": "stream",
     "text": [
      "2020-12-12 10:23:00\n"
     ]
    },
    {
     "data": {
      "text/plain": [
       "datetime.datetime(2021, 4, 12, 16, 30)"
      ]
     },
     "execution_count": 31,
     "metadata": {},
     "output_type": "execute_result"
    }
   ],
   "source": [
    "d1=datetime(year=2020, month=12, day=12, hour= 10, minute=23)\n",
    "print(d1)\n",
    "d2=datetime(year=2021, month =4, day=12, hour = 16, minute = 30)\n",
    "d2"
   ]
  },
  {
   "cell_type": "code",
   "execution_count": 94,
   "metadata": {},
   "outputs": [
    {
     "data": {
      "text/plain": [
       "datetime.timedelta(days=121, seconds=22020)"
      ]
     },
     "execution_count": 94,
     "metadata": {},
     "output_type": "execute_result"
    }
   ],
   "source": [
    "d2-d1"
   ]
  },
  {
   "cell_type": "code",
   "execution_count": 32,
   "metadata": {},
   "outputs": [
    {
     "name": "stdout",
     "output_type": "stream",
     "text": [
      "before sleep 2021-03-22 12:12:39.456003\n",
      "after sleep 2021-03-22 12:12:54.459471\n"
     ]
    }
   ],
   "source": [
    "\n",
    "import time\n",
    "print(\"before sleep\",datetime.now())\n",
    "time.sleep(15)\n",
    "print(\"after sleep\",datetime.now())"
   ]
  },
  {
   "cell_type": "code",
   "execution_count": 34,
   "metadata": {},
   "outputs": [
    {
     "data": {
      "text/plain": [
       "DatetimeIndex(['2020-03-17', '2020-03-18', '2020-03-19', '2020-03-20',\n",
       "               '2020-03-21', '2020-03-22', '2020-03-23'],\n",
       "              dtype='datetime64[ns]', freq='D')"
      ]
     },
     "execution_count": 34,
     "metadata": {},
     "output_type": "execute_result"
    }
   ],
   "source": [
    "import pandas as pd\n",
    "pd.date_range(start=\"2020-03-17\", periods=7)"
   ]
  },
  {
   "cell_type": "code",
   "execution_count": 48,
   "metadata": {},
   "outputs": [],
   "source": [
    "var_list= [datetime(2020,1,1), datetime(2020,8,1)]"
   ]
  },
  {
   "cell_type": "code",
   "execution_count": 51,
   "metadata": {},
   "outputs": [
    {
     "data": {
      "text/plain": [
       "[datetime.datetime(2020, 1, 1, 0, 0), datetime.datetime(2020, 8, 1, 0, 0)]"
      ]
     },
     "execution_count": 51,
     "metadata": {},
     "output_type": "execute_result"
    }
   ],
   "source": [
    "var_list"
   ]
  },
  {
   "cell_type": "code",
   "execution_count": 53,
   "metadata": {},
   "outputs": [
    {
     "name": "stdout",
     "output_type": "stream",
     "text": [
      "DatetimeIndex(['2020-01-01', '2020-08-01'], dtype='datetime64[ns]', freq=None)\n"
     ]
    }
   ],
   "source": [
    "print(pd.DatetimeIndex(var_list))"
   ]
  },
  {
   "cell_type": "code",
   "execution_count": null,
   "metadata": {},
   "outputs": [],
   "source": []
  },
  {
   "cell_type": "code",
   "execution_count": null,
   "metadata": {},
   "outputs": [],
   "source": []
  },
  {
   "cell_type": "code",
   "execution_count": 2,
   "metadata": {},
   "outputs": [],
   "source": [
    "my_list = [datetime(2020,4,3), datetime(2020,4,5)]"
   ]
  },
  {
   "cell_type": "code",
   "execution_count": 3,
   "metadata": {},
   "outputs": [
    {
     "data": {
      "text/plain": [
       "[datetime.datetime(2020, 4, 3, 0, 0), datetime.datetime(2020, 4, 5, 0, 0)]"
      ]
     },
     "execution_count": 3,
     "metadata": {},
     "output_type": "execute_result"
    }
   ],
   "source": [
    "my_list"
   ]
  },
  {
   "cell_type": "code",
   "execution_count": 6,
   "metadata": {},
   "outputs": [],
   "source": [
    "index_dt= pd.DatetimeIndex(my_list)"
   ]
  },
  {
   "cell_type": "code",
   "execution_count": 7,
   "metadata": {},
   "outputs": [
    {
     "data": {
      "text/plain": [
       "DatetimeIndex(['2020-04-03', '2020-04-05'], dtype='datetime64[ns]', freq=None)"
      ]
     },
     "execution_count": 7,
     "metadata": {},
     "output_type": "execute_result"
    }
   ],
   "source": [
    "index_dt"
   ]
  },
  {
   "cell_type": "code",
   "execution_count": 35,
   "metadata": {},
   "outputs": [],
   "source": [
    "tata= pd.read_csv(r\"C:\\Users\\Amrita\\Downloads\\TATAMOTORS.NS.csv\")"
   ]
  },
  {
   "cell_type": "code",
   "execution_count": 36,
   "metadata": {},
   "outputs": [
    {
     "data": {
      "text/html": [
       "<div>\n",
       "<style scoped>\n",
       "    .dataframe tbody tr th:only-of-type {\n",
       "        vertical-align: middle;\n",
       "    }\n",
       "\n",
       "    .dataframe tbody tr th {\n",
       "        vertical-align: top;\n",
       "    }\n",
       "\n",
       "    .dataframe thead th {\n",
       "        text-align: right;\n",
       "    }\n",
       "</style>\n",
       "<table border=\"1\" class=\"dataframe\">\n",
       "  <thead>\n",
       "    <tr style=\"text-align: right;\">\n",
       "      <th></th>\n",
       "      <th>Date</th>\n",
       "      <th>Open</th>\n",
       "      <th>High</th>\n",
       "      <th>Low</th>\n",
       "      <th>Close</th>\n",
       "      <th>Adj Close</th>\n",
       "      <th>Volume</th>\n",
       "    </tr>\n",
       "  </thead>\n",
       "  <tbody>\n",
       "    <tr>\n",
       "      <th>0</th>\n",
       "      <td>2020-03-20</td>\n",
       "      <td>74.000000</td>\n",
       "      <td>79.599998</td>\n",
       "      <td>72.650002</td>\n",
       "      <td>77.300003</td>\n",
       "      <td>77.300003</td>\n",
       "      <td>86043342.0</td>\n",
       "    </tr>\n",
       "    <tr>\n",
       "      <th>1</th>\n",
       "      <td>2020-03-23</td>\n",
       "      <td>70.000000</td>\n",
       "      <td>72.000000</td>\n",
       "      <td>66.000000</td>\n",
       "      <td>66.199997</td>\n",
       "      <td>66.199997</td>\n",
       "      <td>34184325.0</td>\n",
       "    </tr>\n",
       "    <tr>\n",
       "      <th>2</th>\n",
       "      <td>2020-03-24</td>\n",
       "      <td>69.900002</td>\n",
       "      <td>71.500000</td>\n",
       "      <td>63.500000</td>\n",
       "      <td>68.550003</td>\n",
       "      <td>68.550003</td>\n",
       "      <td>49551990.0</td>\n",
       "    </tr>\n",
       "    <tr>\n",
       "      <th>3</th>\n",
       "      <td>2020-03-25</td>\n",
       "      <td>67.750000</td>\n",
       "      <td>71.699997</td>\n",
       "      <td>67.250000</td>\n",
       "      <td>70.250000</td>\n",
       "      <td>70.250000</td>\n",
       "      <td>57713806.0</td>\n",
       "    </tr>\n",
       "    <tr>\n",
       "      <th>4</th>\n",
       "      <td>2020-03-26</td>\n",
       "      <td>71.449997</td>\n",
       "      <td>73.500000</td>\n",
       "      <td>68.300003</td>\n",
       "      <td>70.800003</td>\n",
       "      <td>70.800003</td>\n",
       "      <td>63821068.0</td>\n",
       "    </tr>\n",
       "  </tbody>\n",
       "</table>\n",
       "</div>"
      ],
      "text/plain": [
       "         Date       Open       High        Low      Close  Adj Close  \\\n",
       "0  2020-03-20  74.000000  79.599998  72.650002  77.300003  77.300003   \n",
       "1  2020-03-23  70.000000  72.000000  66.000000  66.199997  66.199997   \n",
       "2  2020-03-24  69.900002  71.500000  63.500000  68.550003  68.550003   \n",
       "3  2020-03-25  67.750000  71.699997  67.250000  70.250000  70.250000   \n",
       "4  2020-03-26  71.449997  73.500000  68.300003  70.800003  70.800003   \n",
       "\n",
       "       Volume  \n",
       "0  86043342.0  \n",
       "1  34184325.0  \n",
       "2  49551990.0  \n",
       "3  57713806.0  \n",
       "4  63821068.0  "
      ]
     },
     "execution_count": 36,
     "metadata": {},
     "output_type": "execute_result"
    }
   ],
   "source": [
    "tata.head()"
   ]
  },
  {
   "cell_type": "code",
   "execution_count": 40,
   "metadata": {},
   "outputs": [
    {
     "data": {
      "text/plain": [
       "Date         datetime64[ns]\n",
       "Open                float64\n",
       "High                float64\n",
       "Low                 float64\n",
       "Close               float64\n",
       "Adj Close           float64\n",
       "Volume              float64\n",
       "dtype: object"
      ]
     },
     "execution_count": 40,
     "metadata": {},
     "output_type": "execute_result"
    }
   ],
   "source": [
    "tata.dtypes"
   ]
  },
  {
   "cell_type": "code",
   "execution_count": 39,
   "metadata": {},
   "outputs": [],
   "source": [
    "tata[\"Date\"]=pd.to_datetime(tata[\"Date\"])"
   ]
  },
  {
   "cell_type": "code",
   "execution_count": 14,
   "metadata": {},
   "outputs": [
    {
     "data": {
      "text/plain": [
       "pandas.core.series.Series"
      ]
     },
     "execution_count": 14,
     "metadata": {},
     "output_type": "execute_result"
    }
   ],
   "source": [
    "type(pd.to_datetime(tata[\"Date\"]))"
   ]
  },
  {
   "cell_type": "code",
   "execution_count": 16,
   "metadata": {},
   "outputs": [],
   "source": [
    "tata[\"Date\"]=pd.to_datetime(tata[\"Date\"])"
   ]
  },
  {
   "cell_type": "code",
   "execution_count": 41,
   "metadata": {},
   "outputs": [],
   "source": [
    "tata.set_index(\"Date\", inplace = True)"
   ]
  },
  {
   "cell_type": "code",
   "execution_count": 20,
   "metadata": {},
   "outputs": [],
   "source": [
    "tata.set_index(\"Date\", inplace =True)"
   ]
  },
  {
   "cell_type": "code",
   "execution_count": 42,
   "metadata": {},
   "outputs": [
    {
     "data": {
      "text/html": [
       "<div>\n",
       "<style scoped>\n",
       "    .dataframe tbody tr th:only-of-type {\n",
       "        vertical-align: middle;\n",
       "    }\n",
       "\n",
       "    .dataframe tbody tr th {\n",
       "        vertical-align: top;\n",
       "    }\n",
       "\n",
       "    .dataframe thead th {\n",
       "        text-align: right;\n",
       "    }\n",
       "</style>\n",
       "<table border=\"1\" class=\"dataframe\">\n",
       "  <thead>\n",
       "    <tr style=\"text-align: right;\">\n",
       "      <th></th>\n",
       "      <th>Open</th>\n",
       "      <th>High</th>\n",
       "      <th>Low</th>\n",
       "      <th>Close</th>\n",
       "      <th>Adj Close</th>\n",
       "      <th>Volume</th>\n",
       "    </tr>\n",
       "    <tr>\n",
       "      <th>Date</th>\n",
       "      <th></th>\n",
       "      <th></th>\n",
       "      <th></th>\n",
       "      <th></th>\n",
       "      <th></th>\n",
       "      <th></th>\n",
       "    </tr>\n",
       "  </thead>\n",
       "  <tbody>\n",
       "    <tr>\n",
       "      <th>2020-03-20</th>\n",
       "      <td>74.000000</td>\n",
       "      <td>79.599998</td>\n",
       "      <td>72.650002</td>\n",
       "      <td>77.300003</td>\n",
       "      <td>77.300003</td>\n",
       "      <td>86043342.0</td>\n",
       "    </tr>\n",
       "    <tr>\n",
       "      <th>2020-03-23</th>\n",
       "      <td>70.000000</td>\n",
       "      <td>72.000000</td>\n",
       "      <td>66.000000</td>\n",
       "      <td>66.199997</td>\n",
       "      <td>66.199997</td>\n",
       "      <td>34184325.0</td>\n",
       "    </tr>\n",
       "    <tr>\n",
       "      <th>2020-03-24</th>\n",
       "      <td>69.900002</td>\n",
       "      <td>71.500000</td>\n",
       "      <td>63.500000</td>\n",
       "      <td>68.550003</td>\n",
       "      <td>68.550003</td>\n",
       "      <td>49551990.0</td>\n",
       "    </tr>\n",
       "    <tr>\n",
       "      <th>2020-03-25</th>\n",
       "      <td>67.750000</td>\n",
       "      <td>71.699997</td>\n",
       "      <td>67.250000</td>\n",
       "      <td>70.250000</td>\n",
       "      <td>70.250000</td>\n",
       "      <td>57713806.0</td>\n",
       "    </tr>\n",
       "    <tr>\n",
       "      <th>2020-03-26</th>\n",
       "      <td>71.449997</td>\n",
       "      <td>73.500000</td>\n",
       "      <td>68.300003</td>\n",
       "      <td>70.800003</td>\n",
       "      <td>70.800003</td>\n",
       "      <td>63821068.0</td>\n",
       "    </tr>\n",
       "    <tr>\n",
       "      <th>...</th>\n",
       "      <td>...</td>\n",
       "      <td>...</td>\n",
       "      <td>...</td>\n",
       "      <td>...</td>\n",
       "      <td>...</td>\n",
       "      <td>...</td>\n",
       "    </tr>\n",
       "    <tr>\n",
       "      <th>2021-03-15</th>\n",
       "      <td>320.000000</td>\n",
       "      <td>320.399994</td>\n",
       "      <td>310.049988</td>\n",
       "      <td>318.549988</td>\n",
       "      <td>318.549988</td>\n",
       "      <td>45081385.0</td>\n",
       "    </tr>\n",
       "    <tr>\n",
       "      <th>2021-03-16</th>\n",
       "      <td>321.000000</td>\n",
       "      <td>321.899994</td>\n",
       "      <td>315.100006</td>\n",
       "      <td>319.950012</td>\n",
       "      <td>319.950012</td>\n",
       "      <td>39267404.0</td>\n",
       "    </tr>\n",
       "    <tr>\n",
       "      <th>2021-03-17</th>\n",
       "      <td>318.600006</td>\n",
       "      <td>320.000000</td>\n",
       "      <td>304.000000</td>\n",
       "      <td>305.799988</td>\n",
       "      <td>305.799988</td>\n",
       "      <td>47262481.0</td>\n",
       "    </tr>\n",
       "    <tr>\n",
       "      <th>2021-03-18</th>\n",
       "      <td>311.000000</td>\n",
       "      <td>316.600006</td>\n",
       "      <td>299.750000</td>\n",
       "      <td>307.000000</td>\n",
       "      <td>307.000000</td>\n",
       "      <td>73731921.0</td>\n",
       "    </tr>\n",
       "    <tr>\n",
       "      <th>2021-03-19</th>\n",
       "      <td>303.500000</td>\n",
       "      <td>311.000000</td>\n",
       "      <td>290.200012</td>\n",
       "      <td>308.950012</td>\n",
       "      <td>308.950012</td>\n",
       "      <td>109932681.0</td>\n",
       "    </tr>\n",
       "  </tbody>\n",
       "</table>\n",
       "<p>250 rows × 6 columns</p>\n",
       "</div>"
      ],
      "text/plain": [
       "                  Open        High         Low       Close   Adj Close  \\\n",
       "Date                                                                     \n",
       "2020-03-20   74.000000   79.599998   72.650002   77.300003   77.300003   \n",
       "2020-03-23   70.000000   72.000000   66.000000   66.199997   66.199997   \n",
       "2020-03-24   69.900002   71.500000   63.500000   68.550003   68.550003   \n",
       "2020-03-25   67.750000   71.699997   67.250000   70.250000   70.250000   \n",
       "2020-03-26   71.449997   73.500000   68.300003   70.800003   70.800003   \n",
       "...                ...         ...         ...         ...         ...   \n",
       "2021-03-15  320.000000  320.399994  310.049988  318.549988  318.549988   \n",
       "2021-03-16  321.000000  321.899994  315.100006  319.950012  319.950012   \n",
       "2021-03-17  318.600006  320.000000  304.000000  305.799988  305.799988   \n",
       "2021-03-18  311.000000  316.600006  299.750000  307.000000  307.000000   \n",
       "2021-03-19  303.500000  311.000000  290.200012  308.950012  308.950012   \n",
       "\n",
       "                 Volume  \n",
       "Date                     \n",
       "2020-03-20   86043342.0  \n",
       "2020-03-23   34184325.0  \n",
       "2020-03-24   49551990.0  \n",
       "2020-03-25   57713806.0  \n",
       "2020-03-26   63821068.0  \n",
       "...                 ...  \n",
       "2021-03-15   45081385.0  \n",
       "2021-03-16   39267404.0  \n",
       "2021-03-17   47262481.0  \n",
       "2021-03-18   73731921.0  \n",
       "2021-03-19  109932681.0  \n",
       "\n",
       "[250 rows x 6 columns]"
      ]
     },
     "execution_count": 42,
     "metadata": {},
     "output_type": "execute_result"
    }
   ],
   "source": [
    "tata"
   ]
  },
  {
   "cell_type": "code",
   "execution_count": 73,
   "metadata": {},
   "outputs": [],
   "source": [
    "tata_m=pd.read_csv(r\"C:\\Users\\Amrita\\Downloads\\TATAMOTORS.NS.csv\", index_col=\"Date\", parse_dates=True)"
   ]
  },
  {
   "cell_type": "code",
   "execution_count": 76,
   "metadata": {},
   "outputs": [
    {
     "data": {
      "text/html": [
       "<div>\n",
       "<style scoped>\n",
       "    .dataframe tbody tr th:only-of-type {\n",
       "        vertical-align: middle;\n",
       "    }\n",
       "\n",
       "    .dataframe tbody tr th {\n",
       "        vertical-align: top;\n",
       "    }\n",
       "\n",
       "    .dataframe thead th {\n",
       "        text-align: right;\n",
       "    }\n",
       "</style>\n",
       "<table border=\"1\" class=\"dataframe\">\n",
       "  <thead>\n",
       "    <tr style=\"text-align: right;\">\n",
       "      <th></th>\n",
       "      <th>Open</th>\n",
       "      <th>High</th>\n",
       "      <th>Low</th>\n",
       "      <th>Close</th>\n",
       "      <th>Adj Close</th>\n",
       "      <th>Volume</th>\n",
       "    </tr>\n",
       "    <tr>\n",
       "      <th>Date</th>\n",
       "      <th></th>\n",
       "      <th></th>\n",
       "      <th></th>\n",
       "      <th></th>\n",
       "      <th></th>\n",
       "      <th></th>\n",
       "    </tr>\n",
       "  </thead>\n",
       "  <tbody>\n",
       "    <tr>\n",
       "      <th>2020-03-20</th>\n",
       "      <td>74.000000</td>\n",
       "      <td>79.599998</td>\n",
       "      <td>72.650002</td>\n",
       "      <td>77.300003</td>\n",
       "      <td>77.300003</td>\n",
       "      <td>86043342.0</td>\n",
       "    </tr>\n",
       "    <tr>\n",
       "      <th>2020-03-23</th>\n",
       "      <td>70.000000</td>\n",
       "      <td>72.000000</td>\n",
       "      <td>66.000000</td>\n",
       "      <td>66.199997</td>\n",
       "      <td>66.199997</td>\n",
       "      <td>34184325.0</td>\n",
       "    </tr>\n",
       "    <tr>\n",
       "      <th>2020-03-24</th>\n",
       "      <td>69.900002</td>\n",
       "      <td>71.500000</td>\n",
       "      <td>63.500000</td>\n",
       "      <td>68.550003</td>\n",
       "      <td>68.550003</td>\n",
       "      <td>49551990.0</td>\n",
       "    </tr>\n",
       "    <tr>\n",
       "      <th>2020-03-25</th>\n",
       "      <td>67.750000</td>\n",
       "      <td>71.699997</td>\n",
       "      <td>67.250000</td>\n",
       "      <td>70.250000</td>\n",
       "      <td>70.250000</td>\n",
       "      <td>57713806.0</td>\n",
       "    </tr>\n",
       "    <tr>\n",
       "      <th>2020-03-26</th>\n",
       "      <td>71.449997</td>\n",
       "      <td>73.500000</td>\n",
       "      <td>68.300003</td>\n",
       "      <td>70.800003</td>\n",
       "      <td>70.800003</td>\n",
       "      <td>63821068.0</td>\n",
       "    </tr>\n",
       "    <tr>\n",
       "      <th>...</th>\n",
       "      <td>...</td>\n",
       "      <td>...</td>\n",
       "      <td>...</td>\n",
       "      <td>...</td>\n",
       "      <td>...</td>\n",
       "      <td>...</td>\n",
       "    </tr>\n",
       "    <tr>\n",
       "      <th>2021-03-15</th>\n",
       "      <td>320.000000</td>\n",
       "      <td>320.399994</td>\n",
       "      <td>310.049988</td>\n",
       "      <td>318.549988</td>\n",
       "      <td>318.549988</td>\n",
       "      <td>45081385.0</td>\n",
       "    </tr>\n",
       "    <tr>\n",
       "      <th>2021-03-16</th>\n",
       "      <td>321.000000</td>\n",
       "      <td>321.899994</td>\n",
       "      <td>315.100006</td>\n",
       "      <td>319.950012</td>\n",
       "      <td>319.950012</td>\n",
       "      <td>39267404.0</td>\n",
       "    </tr>\n",
       "    <tr>\n",
       "      <th>2021-03-17</th>\n",
       "      <td>318.600006</td>\n",
       "      <td>320.000000</td>\n",
       "      <td>304.000000</td>\n",
       "      <td>305.799988</td>\n",
       "      <td>305.799988</td>\n",
       "      <td>47262481.0</td>\n",
       "    </tr>\n",
       "    <tr>\n",
       "      <th>2021-03-18</th>\n",
       "      <td>311.000000</td>\n",
       "      <td>316.600006</td>\n",
       "      <td>299.750000</td>\n",
       "      <td>307.000000</td>\n",
       "      <td>307.000000</td>\n",
       "      <td>73731921.0</td>\n",
       "    </tr>\n",
       "    <tr>\n",
       "      <th>2021-03-19</th>\n",
       "      <td>303.500000</td>\n",
       "      <td>311.000000</td>\n",
       "      <td>290.200012</td>\n",
       "      <td>308.950012</td>\n",
       "      <td>308.950012</td>\n",
       "      <td>109932681.0</td>\n",
       "    </tr>\n",
       "  </tbody>\n",
       "</table>\n",
       "<p>250 rows × 6 columns</p>\n",
       "</div>"
      ],
      "text/plain": [
       "                  Open        High         Low       Close   Adj Close  \\\n",
       "Date                                                                     \n",
       "2020-03-20   74.000000   79.599998   72.650002   77.300003   77.300003   \n",
       "2020-03-23   70.000000   72.000000   66.000000   66.199997   66.199997   \n",
       "2020-03-24   69.900002   71.500000   63.500000   68.550003   68.550003   \n",
       "2020-03-25   67.750000   71.699997   67.250000   70.250000   70.250000   \n",
       "2020-03-26   71.449997   73.500000   68.300003   70.800003   70.800003   \n",
       "...                ...         ...         ...         ...         ...   \n",
       "2021-03-15  320.000000  320.399994  310.049988  318.549988  318.549988   \n",
       "2021-03-16  321.000000  321.899994  315.100006  319.950012  319.950012   \n",
       "2021-03-17  318.600006  320.000000  304.000000  305.799988  305.799988   \n",
       "2021-03-18  311.000000  316.600006  299.750000  307.000000  307.000000   \n",
       "2021-03-19  303.500000  311.000000  290.200012  308.950012  308.950012   \n",
       "\n",
       "                 Volume  \n",
       "Date                     \n",
       "2020-03-20   86043342.0  \n",
       "2020-03-23   34184325.0  \n",
       "2020-03-24   49551990.0  \n",
       "2020-03-25   57713806.0  \n",
       "2020-03-26   63821068.0  \n",
       "...                 ...  \n",
       "2021-03-15   45081385.0  \n",
       "2021-03-16   39267404.0  \n",
       "2021-03-17   47262481.0  \n",
       "2021-03-18   73731921.0  \n",
       "2021-03-19  109932681.0  \n",
       "\n",
       "[250 rows x 6 columns]"
      ]
     },
     "execution_count": 76,
     "metadata": {},
     "output_type": "execute_result"
    }
   ],
   "source": [
    "tata_m"
   ]
  },
  {
   "cell_type": "code",
   "execution_count": 75,
   "metadata": {},
   "outputs": [
    {
     "data": {
      "text/plain": [
       "DatetimeIndex(['2020-03-20', '2020-03-23', '2020-03-24', '2020-03-25',\n",
       "               '2020-03-26', '2020-03-27', '2020-03-30', '2020-03-31',\n",
       "               '2020-04-01', '2020-04-03',\n",
       "               ...\n",
       "               '2021-03-05', '2021-03-08', '2021-03-09', '2021-03-10',\n",
       "               '2021-03-12', '2021-03-15', '2021-03-16', '2021-03-17',\n",
       "               '2021-03-18', '2021-03-19'],\n",
       "              dtype='datetime64[ns]', name='Date', length=250, freq=None)"
      ]
     },
     "execution_count": 75,
     "metadata": {},
     "output_type": "execute_result"
    }
   ],
   "source": [
    "tata_m.index"
   ]
  },
  {
   "cell_type": "code",
   "execution_count": 77,
   "metadata": {},
   "outputs": [
    {
     "data": {
      "text/html": [
       "<div>\n",
       "<style scoped>\n",
       "    .dataframe tbody tr th:only-of-type {\n",
       "        vertical-align: middle;\n",
       "    }\n",
       "\n",
       "    .dataframe tbody tr th {\n",
       "        vertical-align: top;\n",
       "    }\n",
       "\n",
       "    .dataframe thead th {\n",
       "        text-align: right;\n",
       "    }\n",
       "</style>\n",
       "<table border=\"1\" class=\"dataframe\">\n",
       "  <thead>\n",
       "    <tr style=\"text-align: right;\">\n",
       "      <th></th>\n",
       "      <th>Open</th>\n",
       "      <th>High</th>\n",
       "      <th>Low</th>\n",
       "      <th>Close</th>\n",
       "      <th>Adj Close</th>\n",
       "      <th>Volume</th>\n",
       "    </tr>\n",
       "    <tr>\n",
       "      <th>Date</th>\n",
       "      <th></th>\n",
       "      <th></th>\n",
       "      <th></th>\n",
       "      <th></th>\n",
       "      <th></th>\n",
       "      <th></th>\n",
       "    </tr>\n",
       "  </thead>\n",
       "  <tbody>\n",
       "    <tr>\n",
       "      <th>2020-03-20</th>\n",
       "      <td>74.000000</td>\n",
       "      <td>79.599998</td>\n",
       "      <td>72.650002</td>\n",
       "      <td>77.300003</td>\n",
       "      <td>77.300003</td>\n",
       "      <td>86043342.0</td>\n",
       "    </tr>\n",
       "    <tr>\n",
       "      <th>2020-03-23</th>\n",
       "      <td>70.000000</td>\n",
       "      <td>72.000000</td>\n",
       "      <td>66.000000</td>\n",
       "      <td>66.199997</td>\n",
       "      <td>66.199997</td>\n",
       "      <td>34184325.0</td>\n",
       "    </tr>\n",
       "    <tr>\n",
       "      <th>2020-03-24</th>\n",
       "      <td>69.900002</td>\n",
       "      <td>71.500000</td>\n",
       "      <td>63.500000</td>\n",
       "      <td>68.550003</td>\n",
       "      <td>68.550003</td>\n",
       "      <td>49551990.0</td>\n",
       "    </tr>\n",
       "    <tr>\n",
       "      <th>2020-03-25</th>\n",
       "      <td>67.750000</td>\n",
       "      <td>71.699997</td>\n",
       "      <td>67.250000</td>\n",
       "      <td>70.250000</td>\n",
       "      <td>70.250000</td>\n",
       "      <td>57713806.0</td>\n",
       "    </tr>\n",
       "    <tr>\n",
       "      <th>2020-03-26</th>\n",
       "      <td>71.449997</td>\n",
       "      <td>73.500000</td>\n",
       "      <td>68.300003</td>\n",
       "      <td>70.800003</td>\n",
       "      <td>70.800003</td>\n",
       "      <td>63821068.0</td>\n",
       "    </tr>\n",
       "    <tr>\n",
       "      <th>...</th>\n",
       "      <td>...</td>\n",
       "      <td>...</td>\n",
       "      <td>...</td>\n",
       "      <td>...</td>\n",
       "      <td>...</td>\n",
       "      <td>...</td>\n",
       "    </tr>\n",
       "    <tr>\n",
       "      <th>2021-03-15</th>\n",
       "      <td>320.000000</td>\n",
       "      <td>320.399994</td>\n",
       "      <td>310.049988</td>\n",
       "      <td>318.549988</td>\n",
       "      <td>318.549988</td>\n",
       "      <td>45081385.0</td>\n",
       "    </tr>\n",
       "    <tr>\n",
       "      <th>2021-03-16</th>\n",
       "      <td>321.000000</td>\n",
       "      <td>321.899994</td>\n",
       "      <td>315.100006</td>\n",
       "      <td>319.950012</td>\n",
       "      <td>319.950012</td>\n",
       "      <td>39267404.0</td>\n",
       "    </tr>\n",
       "    <tr>\n",
       "      <th>2021-03-17</th>\n",
       "      <td>318.600006</td>\n",
       "      <td>320.000000</td>\n",
       "      <td>304.000000</td>\n",
       "      <td>305.799988</td>\n",
       "      <td>305.799988</td>\n",
       "      <td>47262481.0</td>\n",
       "    </tr>\n",
       "    <tr>\n",
       "      <th>2021-03-18</th>\n",
       "      <td>311.000000</td>\n",
       "      <td>316.600006</td>\n",
       "      <td>299.750000</td>\n",
       "      <td>307.000000</td>\n",
       "      <td>307.000000</td>\n",
       "      <td>73731921.0</td>\n",
       "    </tr>\n",
       "    <tr>\n",
       "      <th>2021-03-19</th>\n",
       "      <td>303.500000</td>\n",
       "      <td>311.000000</td>\n",
       "      <td>290.200012</td>\n",
       "      <td>308.950012</td>\n",
       "      <td>308.950012</td>\n",
       "      <td>109932681.0</td>\n",
       "    </tr>\n",
       "  </tbody>\n",
       "</table>\n",
       "<p>250 rows × 6 columns</p>\n",
       "</div>"
      ],
      "text/plain": [
       "                  Open        High         Low       Close   Adj Close  \\\n",
       "Date                                                                     \n",
       "2020-03-20   74.000000   79.599998   72.650002   77.300003   77.300003   \n",
       "2020-03-23   70.000000   72.000000   66.000000   66.199997   66.199997   \n",
       "2020-03-24   69.900002   71.500000   63.500000   68.550003   68.550003   \n",
       "2020-03-25   67.750000   71.699997   67.250000   70.250000   70.250000   \n",
       "2020-03-26   71.449997   73.500000   68.300003   70.800003   70.800003   \n",
       "...                ...         ...         ...         ...         ...   \n",
       "2021-03-15  320.000000  320.399994  310.049988  318.549988  318.549988   \n",
       "2021-03-16  321.000000  321.899994  315.100006  319.950012  319.950012   \n",
       "2021-03-17  318.600006  320.000000  304.000000  305.799988  305.799988   \n",
       "2021-03-18  311.000000  316.600006  299.750000  307.000000  307.000000   \n",
       "2021-03-19  303.500000  311.000000  290.200012  308.950012  308.950012   \n",
       "\n",
       "                 Volume  \n",
       "Date                     \n",
       "2020-03-20   86043342.0  \n",
       "2020-03-23   34184325.0  \n",
       "2020-03-24   49551990.0  \n",
       "2020-03-25   57713806.0  \n",
       "2020-03-26   63821068.0  \n",
       "...                 ...  \n",
       "2021-03-15   45081385.0  \n",
       "2021-03-16   39267404.0  \n",
       "2021-03-17   47262481.0  \n",
       "2021-03-18   73731921.0  \n",
       "2021-03-19  109932681.0  \n",
       "\n",
       "[250 rows x 6 columns]"
      ]
     },
     "execution_count": 77,
     "metadata": {},
     "output_type": "execute_result"
    }
   ],
   "source": [
    "tata_m"
   ]
  },
  {
   "cell_type": "code",
   "execution_count": 43,
   "metadata": {},
   "outputs": [
    {
     "data": {
      "text/html": [
       "<div>\n",
       "<style scoped>\n",
       "    .dataframe tbody tr th:only-of-type {\n",
       "        vertical-align: middle;\n",
       "    }\n",
       "\n",
       "    .dataframe tbody tr th {\n",
       "        vertical-align: top;\n",
       "    }\n",
       "\n",
       "    .dataframe thead th {\n",
       "        text-align: right;\n",
       "    }\n",
       "</style>\n",
       "<table border=\"1\" class=\"dataframe\">\n",
       "  <thead>\n",
       "    <tr style=\"text-align: right;\">\n",
       "      <th></th>\n",
       "      <th>Open</th>\n",
       "      <th>High</th>\n",
       "      <th>Low</th>\n",
       "      <th>Close</th>\n",
       "      <th>Adj Close</th>\n",
       "      <th>Volume</th>\n",
       "    </tr>\n",
       "    <tr>\n",
       "      <th>Date</th>\n",
       "      <th></th>\n",
       "      <th></th>\n",
       "      <th></th>\n",
       "      <th></th>\n",
       "      <th></th>\n",
       "      <th></th>\n",
       "    </tr>\n",
       "  </thead>\n",
       "  <tbody>\n",
       "    <tr>\n",
       "      <th>2020-12-31</th>\n",
       "      <td>121.274871</td>\n",
       "      <td>123.959743</td>\n",
       "      <td>118.601795</td>\n",
       "      <td>121.188205</td>\n",
       "      <td>121.188205</td>\n",
       "      <td>6.790148e+07</td>\n",
       "    </tr>\n",
       "    <tr>\n",
       "      <th>2021-12-31</th>\n",
       "      <td>291.825001</td>\n",
       "      <td>299.268519</td>\n",
       "      <td>284.590743</td>\n",
       "      <td>292.139815</td>\n",
       "      <td>292.139815</td>\n",
       "      <td>1.135008e+08</td>\n",
       "    </tr>\n",
       "  </tbody>\n",
       "</table>\n",
       "</div>"
      ],
      "text/plain": [
       "                  Open        High         Low       Close   Adj Close  \\\n",
       "Date                                                                     \n",
       "2020-12-31  121.274871  123.959743  118.601795  121.188205  121.188205   \n",
       "2021-12-31  291.825001  299.268519  284.590743  292.139815  292.139815   \n",
       "\n",
       "                  Volume  \n",
       "Date                      \n",
       "2020-12-31  6.790148e+07  \n",
       "2021-12-31  1.135008e+08  "
      ]
     },
     "execution_count": 43,
     "metadata": {},
     "output_type": "execute_result"
    }
   ],
   "source": [
    "tata.resample(rule=\"A\").mean()"
   ]
  },
  {
   "cell_type": "code",
   "execution_count": 82,
   "metadata": {},
   "outputs": [
    {
     "data": {
      "text/html": [
       "<div>\n",
       "<style scoped>\n",
       "    .dataframe tbody tr th:only-of-type {\n",
       "        vertical-align: middle;\n",
       "    }\n",
       "\n",
       "    .dataframe tbody tr th {\n",
       "        vertical-align: top;\n",
       "    }\n",
       "\n",
       "    .dataframe thead th {\n",
       "        text-align: right;\n",
       "    }\n",
       "</style>\n",
       "<table border=\"1\" class=\"dataframe\">\n",
       "  <thead>\n",
       "    <tr style=\"text-align: right;\">\n",
       "      <th></th>\n",
       "      <th>Open</th>\n",
       "      <th>High</th>\n",
       "      <th>Low</th>\n",
       "      <th>Close</th>\n",
       "      <th>Adj Close</th>\n",
       "      <th>Volume</th>\n",
       "    </tr>\n",
       "    <tr>\n",
       "      <th>Date</th>\n",
       "      <th></th>\n",
       "      <th></th>\n",
       "      <th></th>\n",
       "      <th></th>\n",
       "      <th></th>\n",
       "      <th></th>\n",
       "    </tr>\n",
       "  </thead>\n",
       "  <tbody>\n",
       "    <tr>\n",
       "      <th>2020-03-31</th>\n",
       "      <td>70.568750</td>\n",
       "      <td>73.212500</td>\n",
       "      <td>67.812500</td>\n",
       "      <td>70.375001</td>\n",
       "      <td>70.375001</td>\n",
       "      <td>5.394557e+07</td>\n",
       "    </tr>\n",
       "    <tr>\n",
       "      <th>2020-06-30</th>\n",
       "      <td>87.917797</td>\n",
       "      <td>90.531356</td>\n",
       "      <td>85.696611</td>\n",
       "      <td>87.923729</td>\n",
       "      <td>87.923729</td>\n",
       "      <td>7.409485e+07</td>\n",
       "    </tr>\n",
       "    <tr>\n",
       "      <th>2020-09-30</th>\n",
       "      <td>123.695454</td>\n",
       "      <td>126.347727</td>\n",
       "      <td>121.021212</td>\n",
       "      <td>123.687879</td>\n",
       "      <td>123.687879</td>\n",
       "      <td>7.100281e+07</td>\n",
       "    </tr>\n",
       "    <tr>\n",
       "      <th>2020-12-31</th>\n",
       "      <td>156.983870</td>\n",
       "      <td>159.776613</td>\n",
       "      <td>153.892742</td>\n",
       "      <td>156.738709</td>\n",
       "      <td>156.738709</td>\n",
       "      <td>6.050715e+07</td>\n",
       "    </tr>\n",
       "    <tr>\n",
       "      <th>2021-03-31</th>\n",
       "      <td>291.825001</td>\n",
       "      <td>299.268519</td>\n",
       "      <td>284.590743</td>\n",
       "      <td>292.139815</td>\n",
       "      <td>292.139815</td>\n",
       "      <td>1.135008e+08</td>\n",
       "    </tr>\n",
       "  </tbody>\n",
       "</table>\n",
       "</div>"
      ],
      "text/plain": [
       "                  Open        High         Low       Close   Adj Close  \\\n",
       "Date                                                                     \n",
       "2020-03-31   70.568750   73.212500   67.812500   70.375001   70.375001   \n",
       "2020-06-30   87.917797   90.531356   85.696611   87.923729   87.923729   \n",
       "2020-09-30  123.695454  126.347727  121.021212  123.687879  123.687879   \n",
       "2020-12-31  156.983870  159.776613  153.892742  156.738709  156.738709   \n",
       "2021-03-31  291.825001  299.268519  284.590743  292.139815  292.139815   \n",
       "\n",
       "                  Volume  \n",
       "Date                      \n",
       "2020-03-31  5.394557e+07  \n",
       "2020-06-30  7.409485e+07  \n",
       "2020-09-30  7.100281e+07  \n",
       "2020-12-31  6.050715e+07  \n",
       "2021-03-31  1.135008e+08  "
      ]
     },
     "execution_count": 82,
     "metadata": {},
     "output_type": "execute_result"
    }
   ],
   "source": [
    "tata.resample(rule=\"Q\").mean()"
   ]
  },
  {
   "cell_type": "code",
   "execution_count": 44,
   "metadata": {},
   "outputs": [
    {
     "data": {
      "text/html": [
       "<div>\n",
       "<style scoped>\n",
       "    .dataframe tbody tr th:only-of-type {\n",
       "        vertical-align: middle;\n",
       "    }\n",
       "\n",
       "    .dataframe tbody tr th {\n",
       "        vertical-align: top;\n",
       "    }\n",
       "\n",
       "    .dataframe thead th {\n",
       "        text-align: right;\n",
       "    }\n",
       "</style>\n",
       "<table border=\"1\" class=\"dataframe\">\n",
       "  <thead>\n",
       "    <tr style=\"text-align: right;\">\n",
       "      <th></th>\n",
       "      <th>Open</th>\n",
       "      <th>High</th>\n",
       "      <th>Low</th>\n",
       "      <th>Close</th>\n",
       "      <th>Adj Close</th>\n",
       "      <th>Volume</th>\n",
       "    </tr>\n",
       "    <tr>\n",
       "      <th>Date</th>\n",
       "      <th></th>\n",
       "      <th></th>\n",
       "      <th></th>\n",
       "      <th></th>\n",
       "      <th></th>\n",
       "      <th></th>\n",
       "    </tr>\n",
       "  </thead>\n",
       "  <tbody>\n",
       "    <tr>\n",
       "      <th>2020-03-20</th>\n",
       "      <td>74.000000</td>\n",
       "      <td>79.599998</td>\n",
       "      <td>72.650002</td>\n",
       "      <td>77.300003</td>\n",
       "      <td>77.300003</td>\n",
       "      <td>86043342.0</td>\n",
       "    </tr>\n",
       "    <tr>\n",
       "      <th>2020-03-23</th>\n",
       "      <td>70.000000</td>\n",
       "      <td>72.000000</td>\n",
       "      <td>66.000000</td>\n",
       "      <td>66.199997</td>\n",
       "      <td>66.199997</td>\n",
       "      <td>34184325.0</td>\n",
       "    </tr>\n",
       "    <tr>\n",
       "      <th>2020-03-24</th>\n",
       "      <td>69.900002</td>\n",
       "      <td>71.500000</td>\n",
       "      <td>63.500000</td>\n",
       "      <td>68.550003</td>\n",
       "      <td>68.550003</td>\n",
       "      <td>49551990.0</td>\n",
       "    </tr>\n",
       "    <tr>\n",
       "      <th>2020-03-25</th>\n",
       "      <td>67.750000</td>\n",
       "      <td>71.699997</td>\n",
       "      <td>67.250000</td>\n",
       "      <td>70.250000</td>\n",
       "      <td>70.250000</td>\n",
       "      <td>57713806.0</td>\n",
       "    </tr>\n",
       "    <tr>\n",
       "      <th>2020-03-26</th>\n",
       "      <td>71.449997</td>\n",
       "      <td>73.500000</td>\n",
       "      <td>68.300003</td>\n",
       "      <td>70.800003</td>\n",
       "      <td>70.800003</td>\n",
       "      <td>63821068.0</td>\n",
       "    </tr>\n",
       "  </tbody>\n",
       "</table>\n",
       "</div>"
      ],
      "text/plain": [
       "                 Open       High        Low      Close  Adj Close      Volume\n",
       "Date                                                                         \n",
       "2020-03-20  74.000000  79.599998  72.650002  77.300003  77.300003  86043342.0\n",
       "2020-03-23  70.000000  72.000000  66.000000  66.199997  66.199997  34184325.0\n",
       "2020-03-24  69.900002  71.500000  63.500000  68.550003  68.550003  49551990.0\n",
       "2020-03-25  67.750000  71.699997  67.250000  70.250000  70.250000  57713806.0\n",
       "2020-03-26  71.449997  73.500000  68.300003  70.800003  70.800003  63821068.0"
      ]
     },
     "execution_count": 44,
     "metadata": {},
     "output_type": "execute_result"
    }
   ],
   "source": [
    "tata.head()"
   ]
  },
  {
   "cell_type": "code",
   "execution_count": 46,
   "metadata": {},
   "outputs": [
    {
     "data": {
      "text/plain": [
       "Date\n",
       "2020-03-20         NaN\n",
       "2020-03-23   -4.000000\n",
       "2020-03-24   -0.099998\n",
       "2020-03-25   -2.150002\n",
       "2020-03-26    3.699997\n",
       "                ...   \n",
       "2021-03-15   -5.049988\n",
       "2021-03-16    1.000000\n",
       "2021-03-17   -2.399994\n",
       "2021-03-18   -7.600006\n",
       "2021-03-19   -7.500000\n",
       "Name: Open, Length: 250, dtype: float64"
      ]
     },
     "execution_count": 46,
     "metadata": {},
     "output_type": "execute_result"
    }
   ],
   "source": [
    "tata[\"Open\"]- tata[\"Open\"].shift(1)"
   ]
  },
  {
   "cell_type": "code",
   "execution_count": 92,
   "metadata": {},
   "outputs": [],
   "source": [
    "tata[\"Change/day\"]=tata[\"Open\"]-tata[\"Open\"].shift(1)"
   ]
  },
  {
   "cell_type": "code",
   "execution_count": 96,
   "metadata": {},
   "outputs": [
    {
     "data": {
      "text/plain": [
       "<AxesSubplot:xlabel='Date'>"
      ]
     },
     "execution_count": 96,
     "metadata": {},
     "output_type": "execute_result"
    },
    {
     "data": {
      "image/png": "[encoded data removed]",
      "text/plain": [
       "<Figure size 432x288 with 1 Axes>"
      ]
     },
     "metadata": {
      "needs_background": "light"
     },
     "output_type": "display_data"
    }
   ],
   "source": [
    "tata[\"Change/day\"].plot()"
   ]
  },
  {
   "cell_type": "code",
   "execution_count": 40,
   "metadata": {},
   "outputs": [
    {
     "data": {
      "text/html": [
       "<div>\n",
       "<style scoped>\n",
       "    .dataframe tbody tr th:only-of-type {\n",
       "        vertical-align: middle;\n",
       "    }\n",
       "\n",
       "    .dataframe tbody tr th {\n",
       "        vertical-align: top;\n",
       "    }\n",
       "\n",
       "    .dataframe thead th {\n",
       "        text-align: right;\n",
       "    }\n",
       "</style>\n",
       "<table border=\"1\" class=\"dataframe\">\n",
       "  <thead>\n",
       "    <tr style=\"text-align: right;\">\n",
       "      <th></th>\n",
       "      <th>Open</th>\n",
       "      <th>High</th>\n",
       "      <th>Low</th>\n",
       "      <th>Close</th>\n",
       "      <th>Adj Close</th>\n",
       "      <th>Volume</th>\n",
       "      <th>open_next</th>\n",
       "      <th>open_diff</th>\n",
       "    </tr>\n",
       "    <tr>\n",
       "      <th>Date</th>\n",
       "      <th></th>\n",
       "      <th></th>\n",
       "      <th></th>\n",
       "      <th></th>\n",
       "      <th></th>\n",
       "      <th></th>\n",
       "      <th></th>\n",
       "      <th></th>\n",
       "    </tr>\n",
       "  </thead>\n",
       "  <tbody>\n",
       "    <tr>\n",
       "      <th>2020-03-20</th>\n",
       "      <td>74.000000</td>\n",
       "      <td>79.599998</td>\n",
       "      <td>72.650002</td>\n",
       "      <td>77.300003</td>\n",
       "      <td>77.300003</td>\n",
       "      <td>86043342.0</td>\n",
       "      <td>NaN</td>\n",
       "      <td>NaN</td>\n",
       "    </tr>\n",
       "    <tr>\n",
       "      <th>2020-03-23</th>\n",
       "      <td>70.000000</td>\n",
       "      <td>72.000000</td>\n",
       "      <td>66.000000</td>\n",
       "      <td>66.199997</td>\n",
       "      <td>66.199997</td>\n",
       "      <td>34184325.0</td>\n",
       "      <td>74.000000</td>\n",
       "      <td>-4.000000</td>\n",
       "    </tr>\n",
       "    <tr>\n",
       "      <th>2020-03-24</th>\n",
       "      <td>69.900002</td>\n",
       "      <td>71.500000</td>\n",
       "      <td>63.500000</td>\n",
       "      <td>68.550003</td>\n",
       "      <td>68.550003</td>\n",
       "      <td>49551990.0</td>\n",
       "      <td>70.000000</td>\n",
       "      <td>-0.099998</td>\n",
       "    </tr>\n",
       "    <tr>\n",
       "      <th>2020-03-25</th>\n",
       "      <td>67.750000</td>\n",
       "      <td>71.699997</td>\n",
       "      <td>67.250000</td>\n",
       "      <td>70.250000</td>\n",
       "      <td>70.250000</td>\n",
       "      <td>57713806.0</td>\n",
       "      <td>69.900002</td>\n",
       "      <td>-2.150002</td>\n",
       "    </tr>\n",
       "    <tr>\n",
       "      <th>2020-03-26</th>\n",
       "      <td>71.449997</td>\n",
       "      <td>73.500000</td>\n",
       "      <td>68.300003</td>\n",
       "      <td>70.800003</td>\n",
       "      <td>70.800003</td>\n",
       "      <td>63821068.0</td>\n",
       "      <td>67.750000</td>\n",
       "      <td>3.699997</td>\n",
       "    </tr>\n",
       "  </tbody>\n",
       "</table>\n",
       "</div>"
      ],
      "text/plain": [
       "                 Open       High        Low      Close  Adj Close      Volume  \\\n",
       "Date                                                                            \n",
       "2020-03-20  74.000000  79.599998  72.650002  77.300003  77.300003  86043342.0   \n",
       "2020-03-23  70.000000  72.000000  66.000000  66.199997  66.199997  34184325.0   \n",
       "2020-03-24  69.900002  71.500000  63.500000  68.550003  68.550003  49551990.0   \n",
       "2020-03-25  67.750000  71.699997  67.250000  70.250000  70.250000  57713806.0   \n",
       "2020-03-26  71.449997  73.500000  68.300003  70.800003  70.800003  63821068.0   \n",
       "\n",
       "            open_next  open_diff  \n",
       "Date                              \n",
       "2020-03-20        NaN        NaN  \n",
       "2020-03-23  74.000000  -4.000000  \n",
       "2020-03-24  70.000000  -0.099998  \n",
       "2020-03-25  69.900002  -2.150002  \n",
       "2020-03-26  67.750000   3.699997  "
      ]
     },
     "execution_count": 40,
     "metadata": {},
     "output_type": "execute_result"
    }
   ],
   "source": [
    "tata.head()"
   ]
  },
  {
   "cell_type": "code",
   "execution_count": 39,
   "metadata": {},
   "outputs": [],
   "source": [
    "tata[\"open_diff\"]=tata[\"Open\"] - tata[\"open_next\"]"
   ]
  },
  {
   "cell_type": "code",
   "execution_count": 107,
   "metadata": {},
   "outputs": [
    {
     "data": {
      "text/plain": [
       "<AxesSubplot:xlabel='Date'>"
      ]
     },
     "execution_count": 107,
     "metadata": {},
     "output_type": "execute_result"
    },
    {
     "data": {
      "image/png": "[encoded data removed]",
      "text/plain": [
       "<Figure size 432x288 with 1 Axes>"
      ]
     },
     "metadata": {
      "needs_background": "light"
     },
     "output_type": "display_data"
    }
   ],
   "source": [
    "tata[\"Open\"].rolling(3).mean().tail(15).plot()"
   ]
  },
  {
   "cell_type": "code",
   "execution_count": 44,
   "metadata": {},
   "outputs": [
    {
     "data": {
      "text/plain": [
       "Date\n",
       "2020-03-20           NaN\n",
       "2020-03-23           NaN\n",
       "2020-03-24           NaN\n",
       "2020-03-25           NaN\n",
       "2020-03-26     70.620000\n",
       "                 ...    \n",
       "2021-03-15    324.259998\n",
       "2021-03-16    322.109998\n",
       "2021-03-17    320.829999\n",
       "2021-03-18    319.129999\n",
       "2021-03-19    314.820001\n",
       "Name: Open, Length: 250, dtype: float64"
      ]
     },
     "execution_count": 44,
     "metadata": {},
     "output_type": "execute_result"
    }
   ],
   "source": [
    "tata[\"Open\"].rolling(5).mean()"
   ]
  },
  {
   "cell_type": "code",
   "execution_count": 46,
   "metadata": {},
   "outputs": [
    {
     "data": {
      "text/plain": [
       "<AxesSubplot:xlabel='Date'>"
      ]
     },
     "execution_count": 46,
     "metadata": {},
     "output_type": "execute_result"
    },
    {
     "data": {
      "image/png": "[encoded data removed]",
      "text/plain": [
       "<Figure size 432x288 with 1 Axes>"
      ]
     },
     "metadata": {
      "needs_background": "light"
     },
     "output_type": "display_data"
    }
   ],
   "source": [
    "tata[\"Open\"].expanding().mean().plot()"
   ]
  },
  {
   "cell_type": "code",
   "execution_count": 112,
   "metadata": {},
   "outputs": [],
   "source": [
    "tata[\"rolling20\"] = tata[\"Close\"].rolling(20).mean()"
   ]
  },
  {
   "cell_type": "code",
   "execution_count": 116,
   "metadata": {},
   "outputs": [],
   "source": [
    "tata[\"UBOUND\"]= tata[\"rolling20\"]+ 2 *(tata[\"Close\"].rolling(20).std()) "
   ]
  },
  {
   "cell_type": "code",
   "execution_count": 118,
   "metadata": {},
   "outputs": [],
   "source": [
    "tata[\"LBOUND\"]= tata[\"rolling20\"]- 2 *(tata[\"Close\"].rolling(20).std()) "
   ]
  },
  {
   "cell_type": "code",
   "execution_count": 119,
   "metadata": {},
   "outputs": [
    {
     "data": {
      "text/html": [
       "<div>\n",
       "<style scoped>\n",
       "    .dataframe tbody tr th:only-of-type {\n",
       "        vertical-align: middle;\n",
       "    }\n",
       "\n",
       "    .dataframe tbody tr th {\n",
       "        vertical-align: top;\n",
       "    }\n",
       "\n",
       "    .dataframe thead th {\n",
       "        text-align: right;\n",
       "    }\n",
       "</style>\n",
       "<table border=\"1\" class=\"dataframe\">\n",
       "  <thead>\n",
       "    <tr style=\"text-align: right;\">\n",
       "      <th></th>\n",
       "      <th>Open</th>\n",
       "      <th>High</th>\n",
       "      <th>Low</th>\n",
       "      <th>Close</th>\n",
       "      <th>Adj Close</th>\n",
       "      <th>Volume</th>\n",
       "      <th>Change/day</th>\n",
       "      <th>rolling20</th>\n",
       "      <th>UBOUND</th>\n",
       "      <th>LBOUND</th>\n",
       "    </tr>\n",
       "    <tr>\n",
       "      <th>Date</th>\n",
       "      <th></th>\n",
       "      <th></th>\n",
       "      <th></th>\n",
       "      <th></th>\n",
       "      <th></th>\n",
       "      <th></th>\n",
       "      <th></th>\n",
       "      <th></th>\n",
       "      <th></th>\n",
       "      <th></th>\n",
       "    </tr>\n",
       "  </thead>\n",
       "  <tbody>\n",
       "    <tr>\n",
       "      <th>2020-03-20</th>\n",
       "      <td>74.000000</td>\n",
       "      <td>79.599998</td>\n",
       "      <td>72.650002</td>\n",
       "      <td>77.300003</td>\n",
       "      <td>77.300003</td>\n",
       "      <td>86043342.0</td>\n",
       "      <td>NaN</td>\n",
       "      <td>NaN</td>\n",
       "      <td>NaN</td>\n",
       "      <td>NaN</td>\n",
       "    </tr>\n",
       "    <tr>\n",
       "      <th>2020-03-23</th>\n",
       "      <td>70.000000</td>\n",
       "      <td>72.000000</td>\n",
       "      <td>66.000000</td>\n",
       "      <td>66.199997</td>\n",
       "      <td>66.199997</td>\n",
       "      <td>34184325.0</td>\n",
       "      <td>-4.000000</td>\n",
       "      <td>NaN</td>\n",
       "      <td>NaN</td>\n",
       "      <td>NaN</td>\n",
       "    </tr>\n",
       "    <tr>\n",
       "      <th>2020-03-24</th>\n",
       "      <td>69.900002</td>\n",
       "      <td>71.500000</td>\n",
       "      <td>63.500000</td>\n",
       "      <td>68.550003</td>\n",
       "      <td>68.550003</td>\n",
       "      <td>49551990.0</td>\n",
       "      <td>-0.099998</td>\n",
       "      <td>NaN</td>\n",
       "      <td>NaN</td>\n",
       "      <td>NaN</td>\n",
       "    </tr>\n",
       "    <tr>\n",
       "      <th>2020-03-25</th>\n",
       "      <td>67.750000</td>\n",
       "      <td>71.699997</td>\n",
       "      <td>67.250000</td>\n",
       "      <td>70.250000</td>\n",
       "      <td>70.250000</td>\n",
       "      <td>57713806.0</td>\n",
       "      <td>-2.150002</td>\n",
       "      <td>NaN</td>\n",
       "      <td>NaN</td>\n",
       "      <td>NaN</td>\n",
       "    </tr>\n",
       "    <tr>\n",
       "      <th>2020-03-26</th>\n",
       "      <td>71.449997</td>\n",
       "      <td>73.500000</td>\n",
       "      <td>68.300003</td>\n",
       "      <td>70.800003</td>\n",
       "      <td>70.800003</td>\n",
       "      <td>63821068.0</td>\n",
       "      <td>3.699997</td>\n",
       "      <td>NaN</td>\n",
       "      <td>NaN</td>\n",
       "      <td>NaN</td>\n",
       "    </tr>\n",
       "    <tr>\n",
       "      <th>...</th>\n",
       "      <td>...</td>\n",
       "      <td>...</td>\n",
       "      <td>...</td>\n",
       "      <td>...</td>\n",
       "      <td>...</td>\n",
       "      <td>...</td>\n",
       "      <td>...</td>\n",
       "      <td>...</td>\n",
       "      <td>...</td>\n",
       "      <td>...</td>\n",
       "    </tr>\n",
       "    <tr>\n",
       "      <th>2021-03-15</th>\n",
       "      <td>320.000000</td>\n",
       "      <td>320.399994</td>\n",
       "      <td>310.049988</td>\n",
       "      <td>318.549988</td>\n",
       "      <td>318.549988</td>\n",
       "      <td>45081385.0</td>\n",
       "      <td>-5.049988</td>\n",
       "      <td>325.777501</td>\n",
       "      <td>347.270768</td>\n",
       "      <td>304.284234</td>\n",
       "    </tr>\n",
       "    <tr>\n",
       "      <th>2021-03-16</th>\n",
       "      <td>321.000000</td>\n",
       "      <td>321.899994</td>\n",
       "      <td>315.100006</td>\n",
       "      <td>319.950012</td>\n",
       "      <td>319.950012</td>\n",
       "      <td>39267404.0</td>\n",
       "      <td>1.000000</td>\n",
       "      <td>325.107501</td>\n",
       "      <td>346.441691</td>\n",
       "      <td>303.773312</td>\n",
       "    </tr>\n",
       "    <tr>\n",
       "      <th>2021-03-17</th>\n",
       "      <td>318.600006</td>\n",
       "      <td>320.000000</td>\n",
       "      <td>304.000000</td>\n",
       "      <td>305.799988</td>\n",
       "      <td>305.799988</td>\n",
       "      <td>47262481.0</td>\n",
       "      <td>-2.399994</td>\n",
       "      <td>323.937500</td>\n",
       "      <td>346.835924</td>\n",
       "      <td>301.039076</td>\n",
       "    </tr>\n",
       "    <tr>\n",
       "      <th>2021-03-18</th>\n",
       "      <td>311.000000</td>\n",
       "      <td>316.600006</td>\n",
       "      <td>299.750000</td>\n",
       "      <td>307.000000</td>\n",
       "      <td>307.000000</td>\n",
       "      <td>73731921.0</td>\n",
       "      <td>-7.600006</td>\n",
       "      <td>322.780000</td>\n",
       "      <td>346.674912</td>\n",
       "      <td>298.885088</td>\n",
       "    </tr>\n",
       "    <tr>\n",
       "      <th>2021-03-19</th>\n",
       "      <td>303.500000</td>\n",
       "      <td>311.000000</td>\n",
       "      <td>290.200012</td>\n",
       "      <td>308.950012</td>\n",
       "      <td>308.950012</td>\n",
       "      <td>109932681.0</td>\n",
       "      <td>-7.500000</td>\n",
       "      <td>322.035001</td>\n",
       "      <td>346.705953</td>\n",
       "      <td>297.364048</td>\n",
       "    </tr>\n",
       "  </tbody>\n",
       "</table>\n",
       "<p>250 rows × 10 columns</p>\n",
       "</div>"
      ],
      "text/plain": [
       "                  Open        High         Low       Close   Adj Close  \\\n",
       "Date                                                                     \n",
       "2020-03-20   74.000000   79.599998   72.650002   77.300003   77.300003   \n",
       "2020-03-23   70.000000   72.000000   66.000000   66.199997   66.199997   \n",
       "2020-03-24   69.900002   71.500000   63.500000   68.550003   68.550003   \n",
       "2020-03-25   67.750000   71.699997   67.250000   70.250000   70.250000   \n",
       "2020-03-26   71.449997   73.500000   68.300003   70.800003   70.800003   \n",
       "...                ...         ...         ...         ...         ...   \n",
       "2021-03-15  320.000000  320.399994  310.049988  318.549988  318.549988   \n",
       "2021-03-16  321.000000  321.899994  315.100006  319.950012  319.950012   \n",
       "2021-03-17  318.600006  320.000000  304.000000  305.799988  305.799988   \n",
       "2021-03-18  311.000000  316.600006  299.750000  307.000000  307.000000   \n",
       "2021-03-19  303.500000  311.000000  290.200012  308.950012  308.950012   \n",
       "\n",
       "                 Volume  Change/day   rolling20      UBOUND      LBOUND  \n",
       "Date                                                                     \n",
       "2020-03-20   86043342.0         NaN         NaN         NaN         NaN  \n",
       "2020-03-23   34184325.0   -4.000000         NaN         NaN         NaN  \n",
       "2020-03-24   49551990.0   -0.099998         NaN         NaN         NaN  \n",
       "2020-03-25   57713806.0   -2.150002         NaN         NaN         NaN  \n",
       "2020-03-26   63821068.0    3.699997         NaN         NaN         NaN  \n",
       "...                 ...         ...         ...         ...         ...  \n",
       "2021-03-15   45081385.0   -5.049988  325.777501  347.270768  304.284234  \n",
       "2021-03-16   39267404.0    1.000000  325.107501  346.441691  303.773312  \n",
       "2021-03-17   47262481.0   -2.399994  323.937500  346.835924  301.039076  \n",
       "2021-03-18   73731921.0   -7.600006  322.780000  346.674912  298.885088  \n",
       "2021-03-19  109932681.0   -7.500000  322.035001  346.705953  297.364048  \n",
       "\n",
       "[250 rows x 10 columns]"
      ]
     },
     "execution_count": 119,
     "metadata": {},
     "output_type": "execute_result"
    }
   ],
   "source": [
    "tata"
   ]
  },
  {
   "cell_type": "code",
   "execution_count": 122,
   "metadata": {},
   "outputs": [
    {
     "data": {
      "text/plain": [
       "<AxesSubplot:xlabel='Date'>"
      ]
     },
     "execution_count": 122,
     "metadata": {},
     "output_type": "execute_result"
    },
    {
     "data": {
      "image/png": "[encoded data removed]",
      "text/plain": [
       "<Figure size 432x288 with 1 Axes>"
      ]
     },
     "metadata": {
      "needs_background": "light"
     },
     "output_type": "display_data"
    }
   ],
   "source": [
    "tata[[\"Close\",\"rolling20\", \"UBOUND\", \"LBOUND\"]].plot()"
   ]
  },
  {
   "cell_type": "code",
   "execution_count": 123,
   "metadata": {},
   "outputs": [],
   "source": [
    "import statsmodels.api as sm"
   ]
  },
  {
   "cell_type": "code",
   "execution_count": 125,
   "metadata": {},
   "outputs": [],
   "source": [
    "df= sm.datasets.macrodata.load_pandas().data"
   ]
  },
  {
   "cell_type": "code",
   "execution_count": 132,
   "metadata": {},
   "outputs": [
    {
     "data": {
      "text/plain": [
       "(203, 14)"
      ]
     },
     "execution_count": 132,
     "metadata": {},
     "output_type": "execute_result"
    }
   ],
   "source": [
    "df.shape"
   ]
  },
  {
   "cell_type": "code",
   "execution_count": 128,
   "metadata": {},
   "outputs": [
    {
     "data": {
      "text/html": [
       "<div>\n",
       "<style scoped>\n",
       "    .dataframe tbody tr th:only-of-type {\n",
       "        vertical-align: middle;\n",
       "    }\n",
       "\n",
       "    .dataframe tbody tr th {\n",
       "        vertical-align: top;\n",
       "    }\n",
       "\n",
       "    .dataframe thead th {\n",
       "        text-align: right;\n",
       "    }\n",
       "</style>\n",
       "<table border=\"1\" class=\"dataframe\">\n",
       "  <thead>\n",
       "    <tr style=\"text-align: right;\">\n",
       "      <th></th>\n",
       "      <th>year</th>\n",
       "      <th>quarter</th>\n",
       "      <th>realgdp</th>\n",
       "      <th>realcons</th>\n",
       "      <th>realinv</th>\n",
       "      <th>realgovt</th>\n",
       "      <th>realdpi</th>\n",
       "      <th>cpi</th>\n",
       "      <th>m1</th>\n",
       "      <th>tbilrate</th>\n",
       "      <th>unemp</th>\n",
       "      <th>pop</th>\n",
       "      <th>infl</th>\n",
       "      <th>realint</th>\n",
       "    </tr>\n",
       "  </thead>\n",
       "  <tbody>\n",
       "    <tr>\n",
       "      <th>0</th>\n",
       "      <td>1959.0</td>\n",
       "      <td>1.0</td>\n",
       "      <td>2710.349</td>\n",
       "      <td>1707.4</td>\n",
       "      <td>286.898</td>\n",
       "      <td>470.045</td>\n",
       "      <td>1886.9</td>\n",
       "      <td>28.98</td>\n",
       "      <td>139.7</td>\n",
       "      <td>2.82</td>\n",
       "      <td>5.8</td>\n",
       "      <td>177.146</td>\n",
       "      <td>0.00</td>\n",
       "      <td>0.00</td>\n",
       "    </tr>\n",
       "    <tr>\n",
       "      <th>1</th>\n",
       "      <td>1959.0</td>\n",
       "      <td>2.0</td>\n",
       "      <td>2778.801</td>\n",
       "      <td>1733.7</td>\n",
       "      <td>310.859</td>\n",
       "      <td>481.301</td>\n",
       "      <td>1919.7</td>\n",
       "      <td>29.15</td>\n",
       "      <td>141.7</td>\n",
       "      <td>3.08</td>\n",
       "      <td>5.1</td>\n",
       "      <td>177.830</td>\n",
       "      <td>2.34</td>\n",
       "      <td>0.74</td>\n",
       "    </tr>\n",
       "    <tr>\n",
       "      <th>2</th>\n",
       "      <td>1959.0</td>\n",
       "      <td>3.0</td>\n",
       "      <td>2775.488</td>\n",
       "      <td>1751.8</td>\n",
       "      <td>289.226</td>\n",
       "      <td>491.260</td>\n",
       "      <td>1916.4</td>\n",
       "      <td>29.35</td>\n",
       "      <td>140.5</td>\n",
       "      <td>3.82</td>\n",
       "      <td>5.3</td>\n",
       "      <td>178.657</td>\n",
       "      <td>2.74</td>\n",
       "      <td>1.09</td>\n",
       "    </tr>\n",
       "    <tr>\n",
       "      <th>3</th>\n",
       "      <td>1959.0</td>\n",
       "      <td>4.0</td>\n",
       "      <td>2785.204</td>\n",
       "      <td>1753.7</td>\n",
       "      <td>299.356</td>\n",
       "      <td>484.052</td>\n",
       "      <td>1931.3</td>\n",
       "      <td>29.37</td>\n",
       "      <td>140.0</td>\n",
       "      <td>4.33</td>\n",
       "      <td>5.6</td>\n",
       "      <td>179.386</td>\n",
       "      <td>0.27</td>\n",
       "      <td>4.06</td>\n",
       "    </tr>\n",
       "    <tr>\n",
       "      <th>4</th>\n",
       "      <td>1960.0</td>\n",
       "      <td>1.0</td>\n",
       "      <td>2847.699</td>\n",
       "      <td>1770.5</td>\n",
       "      <td>331.722</td>\n",
       "      <td>462.199</td>\n",
       "      <td>1955.5</td>\n",
       "      <td>29.54</td>\n",
       "      <td>139.6</td>\n",
       "      <td>3.50</td>\n",
       "      <td>5.2</td>\n",
       "      <td>180.007</td>\n",
       "      <td>2.31</td>\n",
       "      <td>1.19</td>\n",
       "    </tr>\n",
       "  </tbody>\n",
       "</table>\n",
       "</div>"
      ],
      "text/plain": [
       "     year  quarter   realgdp  realcons  realinv  realgovt  realdpi    cpi  \\\n",
       "0  1959.0      1.0  2710.349    1707.4  286.898   470.045   1886.9  28.98   \n",
       "1  1959.0      2.0  2778.801    1733.7  310.859   481.301   1919.7  29.15   \n",
       "2  1959.0      3.0  2775.488    1751.8  289.226   491.260   1916.4  29.35   \n",
       "3  1959.0      4.0  2785.204    1753.7  299.356   484.052   1931.3  29.37   \n",
       "4  1960.0      1.0  2847.699    1770.5  331.722   462.199   1955.5  29.54   \n",
       "\n",
       "      m1  tbilrate  unemp      pop  infl  realint  \n",
       "0  139.7      2.82    5.8  177.146  0.00     0.00  \n",
       "1  141.7      3.08    5.1  177.830  2.34     0.74  \n",
       "2  140.5      3.82    5.3  178.657  2.74     1.09  \n",
       "3  140.0      4.33    5.6  179.386  0.27     4.06  \n",
       "4  139.6      3.50    5.2  180.007  2.31     1.19  "
      ]
     },
     "execution_count": 128,
     "metadata": {},
     "output_type": "execute_result"
    }
   ],
   "source": [
    "df.head()"
   ]
  },
  {
   "cell_type": "code",
   "execution_count": 135,
   "metadata": {},
   "outputs": [],
   "source": [
    "ind= pd.Index(sm.tsa.datetools.dates_from_range('1959Q1',\"2009Q3\"))"
   ]
  },
  {
   "cell_type": "code",
   "execution_count": 136,
   "metadata": {},
   "outputs": [],
   "source": [
    "df.index=ind"
   ]
  },
  {
   "cell_type": "code",
   "execution_count": 137,
   "metadata": {},
   "outputs": [
    {
     "data": {
      "text/html": [
       "<div>\n",
       "<style scoped>\n",
       "    .dataframe tbody tr th:only-of-type {\n",
       "        vertical-align: middle;\n",
       "    }\n",
       "\n",
       "    .dataframe tbody tr th {\n",
       "        vertical-align: top;\n",
       "    }\n",
       "\n",
       "    .dataframe thead th {\n",
       "        text-align: right;\n",
       "    }\n",
       "</style>\n",
       "<table border=\"1\" class=\"dataframe\">\n",
       "  <thead>\n",
       "    <tr style=\"text-align: right;\">\n",
       "      <th></th>\n",
       "      <th>year</th>\n",
       "      <th>quarter</th>\n",
       "      <th>realgdp</th>\n",
       "      <th>realcons</th>\n",
       "      <th>realinv</th>\n",
       "      <th>realgovt</th>\n",
       "      <th>realdpi</th>\n",
       "      <th>cpi</th>\n",
       "      <th>m1</th>\n",
       "      <th>tbilrate</th>\n",
       "      <th>unemp</th>\n",
       "      <th>pop</th>\n",
       "      <th>infl</th>\n",
       "      <th>realint</th>\n",
       "    </tr>\n",
       "  </thead>\n",
       "  <tbody>\n",
       "    <tr>\n",
       "      <th>1959-03-31</th>\n",
       "      <td>1959.0</td>\n",
       "      <td>1.0</td>\n",
       "      <td>2710.349</td>\n",
       "      <td>1707.4</td>\n",
       "      <td>286.898</td>\n",
       "      <td>470.045</td>\n",
       "      <td>1886.9</td>\n",
       "      <td>28.980</td>\n",
       "      <td>139.7</td>\n",
       "      <td>2.82</td>\n",
       "      <td>5.8</td>\n",
       "      <td>177.146</td>\n",
       "      <td>0.00</td>\n",
       "      <td>0.00</td>\n",
       "    </tr>\n",
       "    <tr>\n",
       "      <th>1959-06-30</th>\n",
       "      <td>1959.0</td>\n",
       "      <td>2.0</td>\n",
       "      <td>2778.801</td>\n",
       "      <td>1733.7</td>\n",
       "      <td>310.859</td>\n",
       "      <td>481.301</td>\n",
       "      <td>1919.7</td>\n",
       "      <td>29.150</td>\n",
       "      <td>141.7</td>\n",
       "      <td>3.08</td>\n",
       "      <td>5.1</td>\n",
       "      <td>177.830</td>\n",
       "      <td>2.34</td>\n",
       "      <td>0.74</td>\n",
       "    </tr>\n",
       "    <tr>\n",
       "      <th>1959-09-30</th>\n",
       "      <td>1959.0</td>\n",
       "      <td>3.0</td>\n",
       "      <td>2775.488</td>\n",
       "      <td>1751.8</td>\n",
       "      <td>289.226</td>\n",
       "      <td>491.260</td>\n",
       "      <td>1916.4</td>\n",
       "      <td>29.350</td>\n",
       "      <td>140.5</td>\n",
       "      <td>3.82</td>\n",
       "      <td>5.3</td>\n",
       "      <td>178.657</td>\n",
       "      <td>2.74</td>\n",
       "      <td>1.09</td>\n",
       "    </tr>\n",
       "    <tr>\n",
       "      <th>1959-12-31</th>\n",
       "      <td>1959.0</td>\n",
       "      <td>4.0</td>\n",
       "      <td>2785.204</td>\n",
       "      <td>1753.7</td>\n",
       "      <td>299.356</td>\n",
       "      <td>484.052</td>\n",
       "      <td>1931.3</td>\n",
       "      <td>29.370</td>\n",
       "      <td>140.0</td>\n",
       "      <td>4.33</td>\n",
       "      <td>5.6</td>\n",
       "      <td>179.386</td>\n",
       "      <td>0.27</td>\n",
       "      <td>4.06</td>\n",
       "    </tr>\n",
       "    <tr>\n",
       "      <th>1960-03-31</th>\n",
       "      <td>1960.0</td>\n",
       "      <td>1.0</td>\n",
       "      <td>2847.699</td>\n",
       "      <td>1770.5</td>\n",
       "      <td>331.722</td>\n",
       "      <td>462.199</td>\n",
       "      <td>1955.5</td>\n",
       "      <td>29.540</td>\n",
       "      <td>139.6</td>\n",
       "      <td>3.50</td>\n",
       "      <td>5.2</td>\n",
       "      <td>180.007</td>\n",
       "      <td>2.31</td>\n",
       "      <td>1.19</td>\n",
       "    </tr>\n",
       "    <tr>\n",
       "      <th>...</th>\n",
       "      <td>...</td>\n",
       "      <td>...</td>\n",
       "      <td>...</td>\n",
       "      <td>...</td>\n",
       "      <td>...</td>\n",
       "      <td>...</td>\n",
       "      <td>...</td>\n",
       "      <td>...</td>\n",
       "      <td>...</td>\n",
       "      <td>...</td>\n",
       "      <td>...</td>\n",
       "      <td>...</td>\n",
       "      <td>...</td>\n",
       "      <td>...</td>\n",
       "    </tr>\n",
       "    <tr>\n",
       "      <th>2008-09-30</th>\n",
       "      <td>2008.0</td>\n",
       "      <td>3.0</td>\n",
       "      <td>13324.600</td>\n",
       "      <td>9267.7</td>\n",
       "      <td>1990.693</td>\n",
       "      <td>991.551</td>\n",
       "      <td>9838.3</td>\n",
       "      <td>216.889</td>\n",
       "      <td>1474.7</td>\n",
       "      <td>1.17</td>\n",
       "      <td>6.0</td>\n",
       "      <td>305.270</td>\n",
       "      <td>-3.16</td>\n",
       "      <td>4.33</td>\n",
       "    </tr>\n",
       "    <tr>\n",
       "      <th>2008-12-31</th>\n",
       "      <td>2008.0</td>\n",
       "      <td>4.0</td>\n",
       "      <td>13141.920</td>\n",
       "      <td>9195.3</td>\n",
       "      <td>1857.661</td>\n",
       "      <td>1007.273</td>\n",
       "      <td>9920.4</td>\n",
       "      <td>212.174</td>\n",
       "      <td>1576.5</td>\n",
       "      <td>0.12</td>\n",
       "      <td>6.9</td>\n",
       "      <td>305.952</td>\n",
       "      <td>-8.79</td>\n",
       "      <td>8.91</td>\n",
       "    </tr>\n",
       "    <tr>\n",
       "      <th>2009-03-31</th>\n",
       "      <td>2009.0</td>\n",
       "      <td>1.0</td>\n",
       "      <td>12925.410</td>\n",
       "      <td>9209.2</td>\n",
       "      <td>1558.494</td>\n",
       "      <td>996.287</td>\n",
       "      <td>9926.4</td>\n",
       "      <td>212.671</td>\n",
       "      <td>1592.8</td>\n",
       "      <td>0.22</td>\n",
       "      <td>8.1</td>\n",
       "      <td>306.547</td>\n",
       "      <td>0.94</td>\n",
       "      <td>-0.71</td>\n",
       "    </tr>\n",
       "    <tr>\n",
       "      <th>2009-06-30</th>\n",
       "      <td>2009.0</td>\n",
       "      <td>2.0</td>\n",
       "      <td>12901.504</td>\n",
       "      <td>9189.0</td>\n",
       "      <td>1456.678</td>\n",
       "      <td>1023.528</td>\n",
       "      <td>10077.5</td>\n",
       "      <td>214.469</td>\n",
       "      <td>1653.6</td>\n",
       "      <td>0.18</td>\n",
       "      <td>9.2</td>\n",
       "      <td>307.226</td>\n",
       "      <td>3.37</td>\n",
       "      <td>-3.19</td>\n",
       "    </tr>\n",
       "    <tr>\n",
       "      <th>2009-09-30</th>\n",
       "      <td>2009.0</td>\n",
       "      <td>3.0</td>\n",
       "      <td>12990.341</td>\n",
       "      <td>9256.0</td>\n",
       "      <td>1486.398</td>\n",
       "      <td>1044.088</td>\n",
       "      <td>10040.6</td>\n",
       "      <td>216.385</td>\n",
       "      <td>1673.9</td>\n",
       "      <td>0.12</td>\n",
       "      <td>9.6</td>\n",
       "      <td>308.013</td>\n",
       "      <td>3.56</td>\n",
       "      <td>-3.44</td>\n",
       "    </tr>\n",
       "  </tbody>\n",
       "</table>\n",
       "<p>203 rows × 14 columns</p>\n",
       "</div>"
      ],
      "text/plain": [
       "              year  quarter    realgdp  realcons   realinv  realgovt  realdpi  \\\n",
       "1959-03-31  1959.0      1.0   2710.349    1707.4   286.898   470.045   1886.9   \n",
       "1959-06-30  1959.0      2.0   2778.801    1733.7   310.859   481.301   1919.7   \n",
       "1959-09-30  1959.0      3.0   2775.488    1751.8   289.226   491.260   1916.4   \n",
       "1959-12-31  1959.0      4.0   2785.204    1753.7   299.356   484.052   1931.3   \n",
       "1960-03-31  1960.0      1.0   2847.699    1770.5   331.722   462.199   1955.5   \n",
       "...            ...      ...        ...       ...       ...       ...      ...   \n",
       "2008-09-30  2008.0      3.0  13324.600    9267.7  1990.693   991.551   9838.3   \n",
       "2008-12-31  2008.0      4.0  13141.920    9195.3  1857.661  1007.273   9920.4   \n",
       "2009-03-31  2009.0      1.0  12925.410    9209.2  1558.494   996.287   9926.4   \n",
       "2009-06-30  2009.0      2.0  12901.504    9189.0  1456.678  1023.528  10077.5   \n",
       "2009-09-30  2009.0      3.0  12990.341    9256.0  1486.398  1044.088  10040.6   \n",
       "\n",
       "                cpi      m1  tbilrate  unemp      pop  infl  realint  \n",
       "1959-03-31   28.980   139.7      2.82    5.8  177.146  0.00     0.00  \n",
       "1959-06-30   29.150   141.7      3.08    5.1  177.830  2.34     0.74  \n",
       "1959-09-30   29.350   140.5      3.82    5.3  178.657  2.74     1.09  \n",
       "1959-12-31   29.370   140.0      4.33    5.6  179.386  0.27     4.06  \n",
       "1960-03-31   29.540   139.6      3.50    5.2  180.007  2.31     1.19  \n",
       "...             ...     ...       ...    ...      ...   ...      ...  \n",
       "2008-09-30  216.889  1474.7      1.17    6.0  305.270 -3.16     4.33  \n",
       "2008-12-31  212.174  1576.5      0.12    6.9  305.952 -8.79     8.91  \n",
       "2009-03-31  212.671  1592.8      0.22    8.1  306.547  0.94    -0.71  \n",
       "2009-06-30  214.469  1653.6      0.18    9.2  307.226  3.37    -3.19  \n",
       "2009-09-30  216.385  1673.9      0.12    9.6  308.013  3.56    -3.44  \n",
       "\n",
       "[203 rows x 14 columns]"
      ]
     },
     "execution_count": 137,
     "metadata": {},
     "output_type": "execute_result"
    }
   ],
   "source": [
    "df"
   ]
  },
  {
   "cell_type": "code",
   "execution_count": 138,
   "metadata": {},
   "outputs": [
    {
     "data": {
      "text/plain": [
       "<AxesSubplot:>"
      ]
     },
     "execution_count": 138,
     "metadata": {},
     "output_type": "execute_result"
    },
    {
     "data": {
      "image/png": "[encoded data removed]",
      "text/plain": [
       "<Figure size 432x288 with 1 Axes>"
      ]
     },
     "metadata": {
      "needs_background": "light"
     },
     "output_type": "display_data"
    }
   ],
   "source": [
    "df[\"realgdp\"].plot()"
   ]
  },
  {
   "cell_type": "code",
   "execution_count": 139,
   "metadata": {},
   "outputs": [
    {
     "name": "stdout",
     "output_type": "stream",
     "text": [
      "Collecting yahoo_fin\n",
      "  Downloading yahoo_fin-0.8.7-py3-none-any.whl (10 kB)\n",
      "Collecting feedparser\n",
      "  Downloading feedparser-6.0.2-py3-none-any.whl (80 kB)\n",
      "Collecting requests-html\n",
      "  Downloading requests_html-0.10.0-py3-none-any.whl (13 kB)\n",
      "Requirement already satisfied: requests in c:\\users\\amrita\\anaconda3\\lib\\site-packages (from yahoo_fin) (2.24.0)\n",
      "Requirement already satisfied: pandas in c:\\users\\amrita\\anaconda3\\lib\\site-packages (from yahoo_fin) (1.1.3)\n",
      "Collecting sgmllib3k\n",
      "  Downloading sgmllib3k-1.0.0.tar.gz (5.8 kB)\n",
      "Collecting bs4\n",
      "  Downloading bs4-0.0.1.tar.gz (1.1 kB)\n",
      "Collecting fake-useragent\n",
      "  Downloading fake-useragent-0.1.11.tar.gz (13 kB)\n",
      "Collecting parse\n",
      "  Downloading parse-1.19.0.tar.gz (30 kB)\n",
      "Collecting w3lib\n",
      "  Downloading w3lib-1.22.0-py2.py3-none-any.whl (20 kB)\n",
      "Collecting pyquery\n",
      "  Downloading pyquery-1.4.3-py3-none-any.whl (22 kB)\n",
      "Collecting pyppeteer>=0.0.14\n",
      "  Downloading pyppeteer-0.2.5-py3-none-any.whl (87 kB)\n",
      "Requirement already satisfied: urllib3!=1.25.0,!=1.25.1,<1.26,>=1.21.1 in c:\\users\\amrita\\anaconda3\\lib\\site-packages (from requests->yahoo_fin) (1.25.11)\n",
      "Requirement already satisfied: idna<3,>=2.5 in c:\\users\\amrita\\anaconda3\\lib\\site-packages (from requests->yahoo_fin) (2.10)\n",
      "Requirement already satisfied: chardet<4,>=3.0.2 in c:\\users\\amrita\\anaconda3\\lib\\site-packages (from requests->yahoo_fin) (3.0.4)\n",
      "Requirement already satisfied: certifi>=2017.4.17 in c:\\users\\amrita\\anaconda3\\lib\\site-packages (from requests->yahoo_fin) (2020.6.20)\n",
      "Requirement already satisfied: numpy>=1.15.4 in c:\\users\\amrita\\anaconda3\\lib\\site-packages (from pandas->yahoo_fin) (1.19.2)\n",
      "Requirement already satisfied: python-dateutil>=2.7.3 in c:\\users\\amrita\\anaconda3\\lib\\site-packages (from pandas->yahoo_fin) (2.8.1)\n",
      "Requirement already satisfied: pytz>=2017.2 in c:\\users\\amrita\\anaconda3\\lib\\site-packages (from pandas->yahoo_fin) (2020.1)\n",
      "Requirement already satisfied: beautifulsoup4 in c:\\users\\amrita\\anaconda3\\lib\\site-packages (from bs4->requests-html->yahoo_fin) (4.9.3)\n",
      "Requirement already satisfied: six>=1.4.1 in c:\\users\\amrita\\anaconda3\\lib\\site-packages (from w3lib->requests-html->yahoo_fin) (1.15.0)\n",
      "Requirement already satisfied: lxml>=2.1 in c:\\users\\amrita\\anaconda3\\lib\\site-packages (from pyquery->requests-html->yahoo_fin) (4.6.1)\n",
      "Collecting cssselect>0.7.9\n",
      "  Downloading cssselect-1.1.0-py2.py3-none-any.whl (16 kB)\n",
      "Collecting pyee<9.0.0,>=8.1.0\n",
      "  Downloading pyee-8.1.0-py2.py3-none-any.whl (12 kB)\n",
      "Requirement already satisfied: tqdm<5.0.0,>=4.42.1 in c:\\users\\amrita\\anaconda3\\lib\\site-packages (from pyppeteer>=0.0.14->requests-html->yahoo_fin) (4.50.2)\n",
      "Collecting appdirs<2.0.0,>=1.4.3\n",
      "  Downloading appdirs-1.4.4-py2.py3-none-any.whl (9.6 kB)\n",
      "Collecting websockets<9.0,>=8.1\n",
      "  Downloading websockets-8.1-cp38-cp38-win_amd64.whl (66 kB)\n",
      "Requirement already satisfied: soupsieve>1.2; python_version >= \"3.0\" in c:\\users\\amrita\\anaconda3\\lib\\site-packages (from beautifulsoup4->bs4->requests-html->yahoo_fin) (2.0.1)\n",
      "Building wheels for collected packages: sgmllib3k, bs4, fake-useragent, parse\n",
      "  Building wheel for sgmllib3k (setup.py): started\n",
      "  Building wheel for sgmllib3k (setup.py): finished with status 'done'\n",
      "  Created wheel for sgmllib3k: filename=sgmllib3k-1.0.0-py3-none-any.whl size=6070 sha256=3e3c014055066571a6e035db37329bc2bf9e897cdc723c7a69cd92927404d949\n",
      "  Stored in directory: c:\\users\\amrita\\appdata\\local\\pip\\cache\\wheels\\83\\63\\2f\\117884c3b19d46b64d3d61690333aa80c88dc14050e269c546\n",
      "  Building wheel for bs4 (setup.py): started\n",
      "  Building wheel for bs4 (setup.py): finished with status 'done'\n",
      "  Created wheel for bs4: filename=bs4-0.0.1-py3-none-any.whl size=1277 sha256=3b55fc1746f5b8a207d970f7feee4e4402cdd2a02fee7f12c2d0e70649069467\n",
      "  Stored in directory: c:\\users\\amrita\\appdata\\local\\pip\\cache\\wheels\\75\\78\\21\\68b124549c9bdc94f822c02fb9aa3578a669843f9767776bca\n",
      "  Building wheel for fake-useragent (setup.py): started\n",
      "  Building wheel for fake-useragent (setup.py): finished with status 'done'\n",
      "  Created wheel for fake-useragent: filename=fake_useragent-0.1.11-py3-none-any.whl size=13489 sha256=80e19004a5ad2f33d58a9033b496f6b5c9a0ad22d53d69aaad6726a4d4be3101\n",
      "  Stored in directory: c:\\users\\amrita\\appdata\\local\\pip\\cache\\wheels\\a0\\b8\\b7\\8c942b2c5be5158b874a88195116b05ad124bac795f6665e65\n",
      "  Building wheel for parse (setup.py): started\n",
      "  Building wheel for parse (setup.py): finished with status 'done'\n",
      "  Created wheel for parse: filename=parse-1.19.0-py3-none-any.whl size=24584 sha256=cb9546df2886a4c876a4abfcad3c17ab3f27ed5c720cf5fde4ffa53e491684ab\n",
      "  Stored in directory: c:\\users\\amrita\\appdata\\local\\pip\\cache\\wheels\\e5\\33\\1f\\68392720485b3ecf125a69e700baaab7624616deedea2fa6e2\n",
      "Successfully built sgmllib3k bs4 fake-useragent parse\n",
      "Installing collected packages: sgmllib3k, feedparser, bs4, fake-useragent, parse, w3lib, cssselect, pyquery, pyee, appdirs, websockets, pyppeteer, requests-html, yahoo-fin\n",
      "Successfully installed appdirs-1.4.4 bs4-0.0.1 cssselect-1.1.0 fake-useragent-0.1.11 feedparser-6.0.2 parse-1.19.0 pyee-8.1.0 pyppeteer-0.2.5 pyquery-1.4.3 requests-html-0.10.0 sgmllib3k-1.0.0 w3lib-1.22.0 websockets-8.1 yahoo-fin-0.8.7\n",
      "Note: you may need to restart the kernel to use updated packages.\n"
     ]
    }
   ],
   "source": [
    " pip install yahoo_fin"
   ]
  },
  {
   "cell_type": "code",
   "execution_count": null,
   "metadata": {},
   "outputs": [],
   "source": []
  }
 ],
 "metadata": {
  "kernelspec": {
   "display_name": "Python 3",
   "language": "python",
   "name": "python3"
  },
  "language_info": {
   "codemirror_mode": {
    "name": "ipython",
    "version": 3
   },
   "file_extension": ".py",
   "mimetype": "text/x-python",
   "name": "python",
   "nbconvert_exporter": "python",
   "pygments_lexer": "ipython3",
   "version": "3.8.5"
  }
 },
 "nbformat": 4,
 "nbformat_minor": 2
}
