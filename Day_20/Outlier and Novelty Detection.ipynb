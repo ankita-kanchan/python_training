{
 "cells": [
  {
   "cell_type": "markdown",
   "metadata": {},
   "source": [
    "### Elliptic Envelope Outlier Detection\n",
    "The intuition behind the Elliptic Envelope is very simple. We draw an ellipse around the data points based on some criteria and classify any data point inside the ellipse as an inlier (green ones) and any observation outside the ellipse as an outlier (red ones)."
   ]
  },
  {
   "cell_type": "code",
   "execution_count": 26,
   "metadata": {},
   "outputs": [],
   "source": [
    "import numpy as np\n",
    "import pandas as pd\n",
    "import seaborn as sns\n",
    "import matplotlib.pyplot as plt\n",
    "from sklearn.datasets import make_blobs\n",
    "from sklearn.covariance import EllipticEnvelope "
   ]
  },
  {
   "cell_type": "code",
   "execution_count": 8,
   "metadata": {},
   "outputs": [],
   "source": [
    "X,_=make_blobs(n_samples=300,n_features=2,centers=1,shuffle=True,random_state=1)"
   ]
  },
  {
   "cell_type": "code",
   "execution_count": 9,
   "metadata": {},
   "outputs": [
    {
     "data": {
      "text/plain": [
       "<matplotlib.collections.PathCollection at 0x22af8533ca0>"
      ]
     },
     "execution_count": 9,
     "metadata": {},
     "output_type": "execute_result"
    },
    {
     "data": {
      "image/png": "[encoded data removed]",
      "text/plain": [
       "<Figure size 432x288 with 1 Axes>"
      ]
     },
     "metadata": {
      "needs_background": "light"
     },
     "output_type": "display_data"
    }
   ],
   "source": [
    "plt.scatter(X[:,0],X[:,1])"
   ]
  },
  {
   "cell_type": "code",
   "execution_count": 11,
   "metadata": {},
   "outputs": [],
   "source": [
    "elp=EllipticEnvelope(contamination=0.025,random_state=1)"
   ]
  },
  {
   "cell_type": "code",
   "execution_count": 10,
   "metadata": {},
   "outputs": [
    {
     "name": "stdout",
     "output_type": "stream",
     "text": [
      "Help on class EllipticEnvelope in module sklearn.covariance._elliptic_envelope:\n",
      "\n",
      "class EllipticEnvelope(sklearn.base.OutlierMixin, sklearn.covariance._robust_covariance.MinCovDet)\n",
      " |  EllipticEnvelope(*, store_precision=True, assume_centered=False, support_fraction=None, contamination=0.1, random_state=None)\n",
      " |  \n",
      " |  An object for detecting outliers in a Gaussian distributed dataset.\n",
      " |  \n",
      " |  Read more in the :ref:`User Guide <outlier_detection>`.\n",
      " |  \n",
      " |  Parameters\n",
      " |  ----------\n",
      " |  store_precision : bool, default=True\n",
      " |      Specify if the estimated precision is stored.\n",
      " |  \n",
      " |  assume_centered : bool, default=False\n",
      " |      If True, the support of robust location and covariance estimates\n",
      " |      is computed, and a covariance estimate is recomputed from it,\n",
      " |      without centering the data.\n",
      " |      Useful to work with data whose mean is significantly equal to\n",
      " |      zero but is not exactly zero.\n",
      " |      If False, the robust location and covariance are directly computed\n",
      " |      with the FastMCD algorithm without additional treatment.\n",
      " |  \n",
      " |  support_fraction : float, default=None\n",
      " |      The proportion of points to be included in the support of the raw\n",
      " |      MCD estimate. If None, the minimum value of support_fraction will\n",
      " |      be used within the algorithm: `[n_sample + n_features + 1] / 2`.\n",
      " |      Range is (0, 1).\n",
      " |  \n",
      " |  contamination : float, default=0.1\n",
      " |      The amount of contamination of the data set, i.e. the proportion\n",
      " |      of outliers in the data set. Range is (0, 0.5).\n",
      " |  \n",
      " |  random_state : int or RandomState instance, default=None\n",
      " |      Determines the pseudo random number generator for shuffling\n",
      " |      the data. Pass an int for reproducible results across multiple function\n",
      " |      calls. See :term: `Glossary <random_state>`.\n",
      " |  \n",
      " |  Attributes\n",
      " |  ----------\n",
      " |  location_ : ndarray of shape (n_features,)\n",
      " |      Estimated robust location\n",
      " |  \n",
      " |  covariance_ : ndarray of shape (n_features, n_features)\n",
      " |      Estimated robust covariance matrix\n",
      " |  \n",
      " |  precision_ : ndarray of shape (n_features, n_features)\n",
      " |      Estimated pseudo inverse matrix.\n",
      " |      (stored only if store_precision is True)\n",
      " |  \n",
      " |  support_ : ndarray of shape (n_samples,)\n",
      " |      A mask of the observations that have been used to compute the\n",
      " |      robust estimates of location and shape.\n",
      " |  \n",
      " |  offset_ : float\n",
      " |      Offset used to define the decision function from the raw scores.\n",
      " |      We have the relation: ``decision_function = score_samples - offset_``.\n",
      " |      The offset depends on the contamination parameter and is defined in\n",
      " |      such a way we obtain the expected number of outliers (samples with\n",
      " |      decision function < 0) in training.\n",
      " |  \n",
      " |      .. versionadded:: 0.20\n",
      " |  \n",
      " |  raw_location_ : ndarray of shape (n_features,)\n",
      " |      The raw robust estimated location before correction and re-weighting.\n",
      " |  \n",
      " |  raw_covariance_ : ndarray of shape (n_features, n_features)\n",
      " |      The raw robust estimated covariance before correction and re-weighting.\n",
      " |  \n",
      " |  raw_support_ : ndarray of shape (n_samples,)\n",
      " |      A mask of the observations that have been used to compute\n",
      " |      the raw robust estimates of location and shape, before correction\n",
      " |      and re-weighting.\n",
      " |  \n",
      " |  dist_ : ndarray of shape (n_samples,)\n",
      " |      Mahalanobis distances of the training set (on which :meth:`fit` is\n",
      " |      called) observations.\n",
      " |  \n",
      " |  Examples\n",
      " |  --------\n",
      " |  >>> import numpy as np\n",
      " |  >>> from sklearn.covariance import EllipticEnvelope\n",
      " |  >>> true_cov = np.array([[.8, .3],\n",
      " |  ...                      [.3, .4]])\n",
      " |  >>> X = np.random.RandomState(0).multivariate_normal(mean=[0, 0],\n",
      " |  ...                                                  cov=true_cov,\n",
      " |  ...                                                  size=500)\n",
      " |  >>> cov = EllipticEnvelope(random_state=0).fit(X)\n",
      " |  >>> # predict returns 1 for an inlier and -1 for an outlier\n",
      " |  >>> cov.predict([[0, 0],\n",
      " |  ...              [3, 3]])\n",
      " |  array([ 1, -1])\n",
      " |  >>> cov.covariance_\n",
      " |  array([[0.7411..., 0.2535...],\n",
      " |         [0.2535..., 0.3053...]])\n",
      " |  >>> cov.location_\n",
      " |  array([0.0813... , 0.0427...])\n",
      " |  \n",
      " |  See Also\n",
      " |  --------\n",
      " |  EmpiricalCovariance, MinCovDet\n",
      " |  \n",
      " |  Notes\n",
      " |  -----\n",
      " |  Outlier detection from covariance estimation may break or not\n",
      " |  perform well in high-dimensional settings. In particular, one will\n",
      " |  always take care to work with ``n_samples > n_features ** 2``.\n",
      " |  \n",
      " |  References\n",
      " |  ----------\n",
      " |  .. [1] Rousseeuw, P.J., Van Driessen, K. \"A fast algorithm for the\n",
      " |     minimum covariance determinant estimator\" Technometrics 41(3), 212\n",
      " |     (1999)\n",
      " |  \n",
      " |  Method resolution order:\n",
      " |      EllipticEnvelope\n",
      " |      sklearn.base.OutlierMixin\n",
      " |      sklearn.covariance._robust_covariance.MinCovDet\n",
      " |      sklearn.covariance._empirical_covariance.EmpiricalCovariance\n",
      " |      sklearn.base.BaseEstimator\n",
      " |      builtins.object\n",
      " |  \n",
      " |  Methods defined here:\n",
      " |  \n",
      " |  __init__(self, *, store_precision=True, assume_centered=False, support_fraction=None, contamination=0.1, random_state=None)\n",
      " |      Initialize self.  See help(type(self)) for accurate signature.\n",
      " |  \n",
      " |  decision_function(self, X)\n",
      " |      Compute the decision function of the given observations.\n",
      " |      \n",
      " |      Parameters\n",
      " |      ----------\n",
      " |      X : array-like of shape (n_samples, n_features)\n",
      " |          The data matrix.\n",
      " |      \n",
      " |      Returns\n",
      " |      -------\n",
      " |      decision : ndarray of shape (n_samples, )\n",
      " |          Decision function of the samples.\n",
      " |          It is equal to the shifted Mahalanobis distances.\n",
      " |          The threshold for being an outlier is 0, which ensures a\n",
      " |          compatibility with other outlier detection algorithms.\n",
      " |  \n",
      " |  fit(self, X, y=None)\n",
      " |      Fit the EllipticEnvelope model.\n",
      " |      \n",
      " |      Parameters\n",
      " |      ----------\n",
      " |      X : {array-like, sparse matrix} of shape (n_samples, n_features)\n",
      " |          Training data.\n",
      " |      \n",
      " |      y : Ignored\n",
      " |          Not used, present for API consistency by convention.\n",
      " |  \n",
      " |  predict(self, X)\n",
      " |      Predict the labels (1 inlier, -1 outlier) of X according to the\n",
      " |      fitted model.\n",
      " |      \n",
      " |      Parameters\n",
      " |      ----------\n",
      " |      X : array-like of shape (n_samples, n_features)\n",
      " |          The data matrix.\n",
      " |      \n",
      " |      Returns\n",
      " |      -------\n",
      " |      is_inlier : ndarray of shape (n_samples,)\n",
      " |          Returns -1 for anomalies/outliers and +1 for inliers.\n",
      " |  \n",
      " |  score(self, X, y, sample_weight=None)\n",
      " |      Returns the mean accuracy on the given test data and labels.\n",
      " |      \n",
      " |      In multi-label classification, this is the subset accuracy\n",
      " |      which is a harsh metric since you require for each sample that\n",
      " |      each label set be correctly predicted.\n",
      " |      \n",
      " |      Parameters\n",
      " |      ----------\n",
      " |      X : array-like of shape (n_samples, n_features)\n",
      " |          Test samples.\n",
      " |      \n",
      " |      y : array-like of shape (n_samples,) or (n_samples, n_outputs)\n",
      " |          True labels for X.\n",
      " |      \n",
      " |      sample_weight : array-like of shape (n_samples,), default=None\n",
      " |          Sample weights.\n",
      " |      \n",
      " |      Returns\n",
      " |      -------\n",
      " |      score : float\n",
      " |          Mean accuracy of self.predict(X) w.r.t. y.\n",
      " |  \n",
      " |  score_samples(self, X)\n",
      " |      Compute the negative Mahalanobis distances.\n",
      " |      \n",
      " |      Parameters\n",
      " |      ----------\n",
      " |      X : array-like of shape (n_samples, n_features)\n",
      " |          The data matrix.\n",
      " |      \n",
      " |      Returns\n",
      " |      -------\n",
      " |      negative_mahal_distances : array-like of shape (n_samples,)\n",
      " |          Opposite of the Mahalanobis distances.\n",
      " |  \n",
      " |  ----------------------------------------------------------------------\n",
      " |  Methods inherited from sklearn.base.OutlierMixin:\n",
      " |  \n",
      " |  fit_predict(self, X, y=None)\n",
      " |      Perform fit on X and returns labels for X.\n",
      " |      \n",
      " |      Returns -1 for outliers and 1 for inliers.\n",
      " |      \n",
      " |      Parameters\n",
      " |      ----------\n",
      " |      X : {array-like, sparse matrix, dataframe} of shape             (n_samples, n_features)\n",
      " |      \n",
      " |      y : Ignored\n",
      " |          Not used, present for API consistency by convention.\n",
      " |      \n",
      " |      Returns\n",
      " |      -------\n",
      " |      y : ndarray of shape (n_samples,)\n",
      " |          1 for inliers, -1 for outliers.\n",
      " |  \n",
      " |  ----------------------------------------------------------------------\n",
      " |  Data descriptors inherited from sklearn.base.OutlierMixin:\n",
      " |  \n",
      " |  __dict__\n",
      " |      dictionary for instance variables (if defined)\n",
      " |  \n",
      " |  __weakref__\n",
      " |      list of weak references to the object (if defined)\n",
      " |  \n",
      " |  ----------------------------------------------------------------------\n",
      " |  Methods inherited from sklearn.covariance._robust_covariance.MinCovDet:\n",
      " |  \n",
      " |  correct_covariance(self, data)\n",
      " |      Apply a correction to raw Minimum Covariance Determinant estimates.\n",
      " |      \n",
      " |      Correction using the empirical correction factor suggested\n",
      " |      by Rousseeuw and Van Driessen in [RVD]_.\n",
      " |      \n",
      " |      Parameters\n",
      " |      ----------\n",
      " |      data : array-like of shape (n_samples, n_features)\n",
      " |          The data matrix, with p features and n samples.\n",
      " |          The data set must be the one which was used to compute\n",
      " |          the raw estimates.\n",
      " |      \n",
      " |      Returns\n",
      " |      -------\n",
      " |      covariance_corrected : ndarray of shape (n_features, n_features)\n",
      " |          Corrected robust covariance estimate.\n",
      " |      \n",
      " |      References\n",
      " |      ----------\n",
      " |      \n",
      " |      .. [RVD] A Fast Algorithm for the Minimum Covariance\n",
      " |          Determinant Estimator, 1999, American Statistical Association\n",
      " |          and the American Society for Quality, TECHNOMETRICS\n",
      " |  \n",
      " |  reweight_covariance(self, data)\n",
      " |      Re-weight raw Minimum Covariance Determinant estimates.\n",
      " |      \n",
      " |      Re-weight observations using Rousseeuw's method (equivalent to\n",
      " |      deleting outlying observations from the data set before\n",
      " |      computing location and covariance estimates) described\n",
      " |      in [RVDriessen]_.\n",
      " |      \n",
      " |      Parameters\n",
      " |      ----------\n",
      " |      data : array-like of shape (n_samples, n_features)\n",
      " |          The data matrix, with p features and n samples.\n",
      " |          The data set must be the one which was used to compute\n",
      " |          the raw estimates.\n",
      " |      \n",
      " |      Returns\n",
      " |      -------\n",
      " |      location_reweighted : ndarray of shape (n_features,)\n",
      " |          Re-weighted robust location estimate.\n",
      " |      \n",
      " |      covariance_reweighted : ndarray of shape (n_features, n_features)\n",
      " |          Re-weighted robust covariance estimate.\n",
      " |      \n",
      " |      support_reweighted : ndarray of shape (n_samples,), dtype=bool\n",
      " |          A mask of the observations that have been used to compute\n",
      " |          the re-weighted robust location and covariance estimates.\n",
      " |      \n",
      " |      References\n",
      " |      ----------\n",
      " |      \n",
      " |      .. [RVDriessen] A Fast Algorithm for the Minimum Covariance\n",
      " |          Determinant Estimator, 1999, American Statistical Association\n",
      " |          and the American Society for Quality, TECHNOMETRICS\n",
      " |  \n",
      " |  ----------------------------------------------------------------------\n",
      " |  Methods inherited from sklearn.covariance._empirical_covariance.EmpiricalCovariance:\n",
      " |  \n",
      " |  error_norm(self, comp_cov, norm='frobenius', scaling=True, squared=True)\n",
      " |      Computes the Mean Squared Error between two covariance estimators.\n",
      " |      (In the sense of the Frobenius norm).\n",
      " |      \n",
      " |      Parameters\n",
      " |      ----------\n",
      " |      comp_cov : array-like of shape (n_features, n_features)\n",
      " |          The covariance to compare with.\n",
      " |      \n",
      " |      norm : {\"frobenius\", \"spectral\"}, default=\"frobenius\"\n",
      " |          The type of norm used to compute the error. Available error types:\n",
      " |          - 'frobenius' (default): sqrt(tr(A^t.A))\n",
      " |          - 'spectral': sqrt(max(eigenvalues(A^t.A))\n",
      " |          where A is the error ``(comp_cov - self.covariance_)``.\n",
      " |      \n",
      " |      scaling : bool, default=True\n",
      " |          If True (default), the squared error norm is divided by n_features.\n",
      " |          If False, the squared error norm is not rescaled.\n",
      " |      \n",
      " |      squared : bool, default=True\n",
      " |          Whether to compute the squared error norm or the error norm.\n",
      " |          If True (default), the squared error norm is returned.\n",
      " |          If False, the error norm is returned.\n",
      " |      \n",
      " |      Returns\n",
      " |      -------\n",
      " |      result : float\n",
      " |          The Mean Squared Error (in the sense of the Frobenius norm) between\n",
      " |          `self` and `comp_cov` covariance estimators.\n",
      " |  \n",
      " |  get_precision(self)\n",
      " |      Getter for the precision matrix.\n",
      " |      \n",
      " |      Returns\n",
      " |      -------\n",
      " |      precision_ : array-like of shape (n_features, n_features)\n",
      " |          The precision matrix associated to the current covariance object.\n",
      " |  \n",
      " |  mahalanobis(self, X)\n",
      " |      Computes the squared Mahalanobis distances of given observations.\n",
      " |      \n",
      " |      Parameters\n",
      " |      ----------\n",
      " |      X : array-like of shape (n_samples, n_features)\n",
      " |          The observations, the Mahalanobis distances of the which we\n",
      " |          compute. Observations are assumed to be drawn from the same\n",
      " |          distribution than the data used in fit.\n",
      " |      \n",
      " |      Returns\n",
      " |      -------\n",
      " |      dist : ndarray of shape (n_samples,)\n",
      " |          Squared Mahalanobis distances of the observations.\n",
      " |  \n",
      " |  ----------------------------------------------------------------------\n",
      " |  Methods inherited from sklearn.base.BaseEstimator:\n",
      " |  \n",
      " |  __getstate__(self)\n",
      " |  \n",
      " |  __repr__(self, N_CHAR_MAX=700)\n",
      " |      Return repr(self).\n",
      " |  \n",
      " |  __setstate__(self, state)\n",
      " |  \n",
      " |  get_params(self, deep=True)\n",
      " |      Get parameters for this estimator.\n",
      " |      \n",
      " |      Parameters\n",
      " |      ----------\n",
      " |      deep : bool, default=True\n",
      " |          If True, will return the parameters for this estimator and\n",
      " |          contained subobjects that are estimators.\n",
      " |      \n",
      " |      Returns\n",
      " |      -------\n",
      " |      params : mapping of string to any\n",
      " |          Parameter names mapped to their values.\n",
      " |  \n",
      " |  set_params(self, **params)\n",
      " |      Set the parameters of this estimator.\n",
      " |      \n",
      " |      The method works on simple estimators as well as on nested objects\n",
      " |      (such as pipelines). The latter have parameters of the form\n",
      " |      ``<component>__<parameter>`` so that it's possible to update each\n",
      " |      component of a nested object.\n",
      " |      \n",
      " |      Parameters\n",
      " |      ----------\n",
      " |      **params : dict\n",
      " |          Estimator parameters.\n",
      " |      \n",
      " |      Returns\n",
      " |      -------\n",
      " |      self : object\n",
      " |          Estimator instance.\n",
      "\n"
     ]
    }
   ],
   "source": [
    "help(EllipticEnvelope)"
   ]
  },
  {
   "cell_type": "code",
   "execution_count": 12,
   "metadata": {},
   "outputs": [
    {
     "data": {
      "text/plain": [
       "array([ 1,  1,  1,  1,  1,  1,  1,  1,  1,  1,  1,  1,  1,  1,  1,  1,  1,\n",
       "       -1,  1,  1,  1,  1,  1,  1,  1,  1,  1,  1,  1,  1,  1,  1,  1,  1,\n",
       "        1,  1,  1,  1,  1,  1,  1,  1,  1,  1,  1,  1,  1,  1,  1,  1,  1,\n",
       "        1,  1,  1,  1,  1,  1,  1,  1,  1,  1,  1,  1,  1,  1,  1,  1,  1,\n",
       "        1,  1,  1,  1,  1,  1,  1,  1,  1,  1,  1,  1,  1,  1,  1,  1,  1,\n",
       "        1,  1, -1,  1,  1,  1,  1,  1,  1,  1,  1,  1, -1,  1,  1,  1,  1,\n",
       "        1,  1,  1,  1,  1,  1,  1,  1,  1,  1,  1,  1,  1,  1,  1,  1,  1,\n",
       "        1,  1,  1,  1,  1,  1,  1,  1,  1, -1,  1,  1,  1,  1,  1,  1,  1,\n",
       "        1,  1,  1,  1,  1,  1,  1,  1,  1,  1,  1,  1,  1,  1,  1,  1,  1,\n",
       "        1,  1,  1,  1,  1,  1,  1,  1,  1,  1,  1,  1,  1,  1,  1,  1,  1,\n",
       "        1,  1,  1,  1,  1,  1,  1,  1,  1, -1,  1,  1,  1,  1,  1,  1,  1,\n",
       "        1,  1,  1,  1,  1,  1,  1,  1,  1,  1,  1,  1,  1,  1,  1,  1,  1,\n",
       "        1,  1,  1, -1,  1,  1,  1,  1,  1,  1, -1,  1,  1,  1,  1,  1,  1,\n",
       "        1,  1,  1,  1,  1,  1,  1,  1,  1,  1,  1,  1,  1,  1,  1,  1,  1,\n",
       "        1,  1,  1,  1,  1,  1,  1,  1,  1,  1,  1,  1,  1,  1,  1,  1,  1,\n",
       "        1,  1,  1,  1,  1,  1,  1,  1, -1,  1,  1,  1,  1,  1,  1,  1,  1,\n",
       "        1,  1,  1,  1,  1,  1,  1,  1,  1,  1,  1,  1,  1,  1,  1,  1,  1,\n",
       "        1,  1,  1,  1,  1,  1,  1,  1,  1,  1,  1])"
      ]
     },
     "execution_count": 12,
     "metadata": {},
     "output_type": "execute_result"
    }
   ],
   "source": [
    "pred=elp.fit_predict(X)\n",
    "pred"
   ]
  },
  {
   "cell_type": "code",
   "execution_count": 13,
   "metadata": {},
   "outputs": [],
   "source": [
    "outlier_index=np.where(pred==-1)\n",
    "outlier_values=X[outlier_index]"
   ]
  },
  {
   "cell_type": "code",
   "execution_count": 15,
   "metadata": {},
   "outputs": [
    {
     "data": {
      "text/plain": [
       "Text(0.5, 1.0, 'Elliptic Evelope Outlier Detection')"
      ]
     },
     "execution_count": 15,
     "metadata": {},
     "output_type": "execute_result"
    },
    {
     "data": {
      "image/png": "[encoded data removed]",
      "text/plain": [
       "<Figure size 432x288 with 1 Axes>"
      ]
     },
     "metadata": {
      "needs_background": "light"
     },
     "output_type": "display_data"
    }
   ],
   "source": [
    "sns.scatterplot(x=X[:,0],y=X[:,1])\n",
    "sns.scatterplot(x=outlier_values[:,0],y=outlier_values[:,1],color='r')\n",
    "plt.title(\"Elliptic Evelope Outlier Detection\")"
   ]
  },
  {
   "cell_type": "markdown",
   "metadata": {},
   "source": [
    "When we want to detect outliers of X (training dataset) using the Scikit-learn EllipticEnvelope() function, we can call either the fit_predict(X) method once or fit(X) and predict(X) methods separately. Both ways give the same results."
   ]
  },
  {
   "cell_type": "markdown",
   "metadata": {},
   "source": [
    "### Elliptic Evelope Novelty Detection"
   ]
  },
  {
   "cell_type": "code",
   "execution_count": 16,
   "metadata": {},
   "outputs": [],
   "source": [
    "new_obs=np.array([[-3,9.6]])"
   ]
  },
  {
   "cell_type": "code",
   "execution_count": 17,
   "metadata": {},
   "outputs": [
    {
     "data": {
      "text/plain": [
       "EllipticEnvelope(contamination=0.025, random_state=1)"
      ]
     },
     "execution_count": 17,
     "metadata": {},
     "output_type": "execute_result"
    }
   ],
   "source": [
    "elp=EllipticEnvelope(contamination=0.025,random_state=1)\n",
    "elp.fit(X)"
   ]
  },
  {
   "cell_type": "code",
   "execution_count": 18,
   "metadata": {},
   "outputs": [],
   "source": [
    "pred=elp.predict(new_obs)"
   ]
  },
  {
   "cell_type": "code",
   "execution_count": 19,
   "metadata": {},
   "outputs": [
    {
     "data": {
      "text/plain": [
       "array([-1])"
      ]
     },
     "execution_count": 19,
     "metadata": {},
     "output_type": "execute_result"
    }
   ],
   "source": [
    "pred"
   ]
  },
  {
   "cell_type": "code",
   "execution_count": 23,
   "metadata": {},
   "outputs": [
    {
     "data": {
      "text/plain": [
       "array([[-3. ,  9.6]])"
      ]
     },
     "execution_count": 23,
     "metadata": {},
     "output_type": "execute_result"
    }
   ],
   "source": [
    "outlier_index=np.where(pred==-1)\n",
    "outlier_values=new_obs[outlier_index]\n",
    "outlier_values"
   ]
  },
  {
   "cell_type": "code",
   "execution_count": 25,
   "metadata": {},
   "outputs": [
    {
     "data": {
      "text/plain": [
       "Text(0.5, 1.0, 'Elliptic Evelope Novelty Detection')"
      ]
     },
     "execution_count": 25,
     "metadata": {},
     "output_type": "execute_result"
    },
    {
     "data": {
      "image/png": "[encoded data removed]",
      "text/plain": [
       "<Figure size 432x288 with 1 Axes>"
      ]
     },
     "metadata": {
      "needs_background": "light"
     },
     "output_type": "display_data"
    }
   ],
   "source": [
    "sns.scatterplot(x=X[:,0],y=X[:,1])\n",
    "sns.scatterplot(x=outlier_values[:,0],y=outlier_values[:,1],color='r')\n",
    "plt.title(\"Elliptic Evelope Novelty Detection\")"
   ]
  },
  {
   "cell_type": "markdown",
   "metadata": {},
   "source": [
    "### Elliptic Envelope on housing data"
   ]
  },
  {
   "cell_type": "code",
   "execution_count": 27,
   "metadata": {},
   "outputs": [],
   "source": [
    "df=pd.read_csv(\"../Data/housing.csv\")"
   ]
  },
  {
   "cell_type": "code",
   "execution_count": 28,
   "metadata": {},
   "outputs": [
    {
     "data": {
      "text/html": [
       "<div>\n",
       "<style scoped>\n",
       "    .dataframe tbody tr th:only-of-type {\n",
       "        vertical-align: middle;\n",
       "    }\n",
       "\n",
       "    .dataframe tbody tr th {\n",
       "        vertical-align: top;\n",
       "    }\n",
       "\n",
       "    .dataframe thead th {\n",
       "        text-align: right;\n",
       "    }\n",
       "</style>\n",
       "<table border=\"1\" class=\"dataframe\">\n",
       "  <thead>\n",
       "    <tr style=\"text-align: right;\">\n",
       "      <th></th>\n",
       "      <th>RM</th>\n",
       "      <th>LSTAT</th>\n",
       "      <th>PTRATIO</th>\n",
       "      <th>MEDV</th>\n",
       "    </tr>\n",
       "  </thead>\n",
       "  <tbody>\n",
       "    <tr>\n",
       "      <th>0</th>\n",
       "      <td>6.575</td>\n",
       "      <td>4.98</td>\n",
       "      <td>15.3</td>\n",
       "      <td>504000.0</td>\n",
       "    </tr>\n",
       "    <tr>\n",
       "      <th>1</th>\n",
       "      <td>6.421</td>\n",
       "      <td>9.14</td>\n",
       "      <td>17.8</td>\n",
       "      <td>453600.0</td>\n",
       "    </tr>\n",
       "    <tr>\n",
       "      <th>2</th>\n",
       "      <td>7.185</td>\n",
       "      <td>4.03</td>\n",
       "      <td>17.8</td>\n",
       "      <td>728700.0</td>\n",
       "    </tr>\n",
       "    <tr>\n",
       "      <th>3</th>\n",
       "      <td>6.998</td>\n",
       "      <td>2.94</td>\n",
       "      <td>18.7</td>\n",
       "      <td>701400.0</td>\n",
       "    </tr>\n",
       "    <tr>\n",
       "      <th>4</th>\n",
       "      <td>7.147</td>\n",
       "      <td>5.33</td>\n",
       "      <td>18.7</td>\n",
       "      <td>760200.0</td>\n",
       "    </tr>\n",
       "  </tbody>\n",
       "</table>\n",
       "</div>"
      ],
      "text/plain": [
       "      RM  LSTAT  PTRATIO      MEDV\n",
       "0  6.575   4.98     15.3  504000.0\n",
       "1  6.421   9.14     17.8  453600.0\n",
       "2  7.185   4.03     17.8  728700.0\n",
       "3  6.998   2.94     18.7  701400.0\n",
       "4  7.147   5.33     18.7  760200.0"
      ]
     },
     "execution_count": 28,
     "metadata": {},
     "output_type": "execute_result"
    }
   ],
   "source": [
    "df.head()"
   ]
  },
  {
   "cell_type": "code",
   "execution_count": 29,
   "metadata": {},
   "outputs": [
    {
     "name": "stdout",
     "output_type": "stream",
     "text": [
      "<class 'pandas.core.frame.DataFrame'>\n",
      "RangeIndex: 489 entries, 0 to 488\n",
      "Data columns (total 4 columns):\n",
      " #   Column   Non-Null Count  Dtype  \n",
      "---  ------   --------------  -----  \n",
      " 0   RM       489 non-null    float64\n",
      " 1   LSTAT    489 non-null    float64\n",
      " 2   PTRATIO  489 non-null    float64\n",
      " 3   MEDV     489 non-null    float64\n",
      "dtypes: float64(4)\n",
      "memory usage: 15.4 KB\n"
     ]
    }
   ],
   "source": [
    "df.info()"
   ]
  },
  {
   "cell_type": "code",
   "execution_count": 30,
   "metadata": {},
   "outputs": [],
   "source": [
    "x=df.drop(columns=[\"MEDV\"])\n",
    "y=df[\"MEDV\"]"
   ]
  },
  {
   "cell_type": "code",
   "execution_count": 40,
   "metadata": {},
   "outputs": [],
   "source": [
    "from sklearn.model_selection import train_test_split\n",
    "xtrain,xtest,ytrain,ytest=train_test_split(x,y,test_size=0.25,random_state=0)"
   ]
  },
  {
   "cell_type": "code",
   "execution_count": 41,
   "metadata": {},
   "outputs": [],
   "source": [
    "elpenv=EllipticEnvelope(contamination=0.025,random_state=1)"
   ]
  },
  {
   "cell_type": "code",
   "execution_count": 42,
   "metadata": {},
   "outputs": [],
   "source": [
    "yhat=elpenv.fit_predict(xtrain)"
   ]
  },
  {
   "cell_type": "code",
   "execution_count": 43,
   "metadata": {},
   "outputs": [],
   "source": [
    "mask=yhat!=-1"
   ]
  },
  {
   "cell_type": "code",
   "execution_count": 44,
   "metadata": {},
   "outputs": [],
   "source": [
    "xtrain=xtrain[mask]"
   ]
  },
  {
   "cell_type": "code",
   "execution_count": 45,
   "metadata": {},
   "outputs": [
    {
     "data": {
      "text/html": [
       "<div>\n",
       "<style scoped>\n",
       "    .dataframe tbody tr th:only-of-type {\n",
       "        vertical-align: middle;\n",
       "    }\n",
       "\n",
       "    .dataframe tbody tr th {\n",
       "        vertical-align: top;\n",
       "    }\n",
       "\n",
       "    .dataframe thead th {\n",
       "        text-align: right;\n",
       "    }\n",
       "</style>\n",
       "<table border=\"1\" class=\"dataframe\">\n",
       "  <thead>\n",
       "    <tr style=\"text-align: right;\">\n",
       "      <th></th>\n",
       "      <th>RM</th>\n",
       "      <th>LSTAT</th>\n",
       "      <th>PTRATIO</th>\n",
       "    </tr>\n",
       "  </thead>\n",
       "  <tbody>\n",
       "    <tr>\n",
       "      <th>403</th>\n",
       "      <td>6.411</td>\n",
       "      <td>15.02</td>\n",
       "      <td>20.2</td>\n",
       "    </tr>\n",
       "    <tr>\n",
       "      <th>160</th>\n",
       "      <td>6.250</td>\n",
       "      <td>5.50</td>\n",
       "      <td>14.7</td>\n",
       "    </tr>\n",
       "    <tr>\n",
       "      <th>453</th>\n",
       "      <td>6.167</td>\n",
       "      <td>16.29</td>\n",
       "      <td>20.2</td>\n",
       "    </tr>\n",
       "    <tr>\n",
       "      <th>49</th>\n",
       "      <td>5.602</td>\n",
       "      <td>16.20</td>\n",
       "      <td>17.9</td>\n",
       "    </tr>\n",
       "    <tr>\n",
       "      <th>306</th>\n",
       "      <td>5.782</td>\n",
       "      <td>15.94</td>\n",
       "      <td>18.4</td>\n",
       "    </tr>\n",
       "    <tr>\n",
       "      <th>...</th>\n",
       "      <td>...</td>\n",
       "      <td>...</td>\n",
       "      <td>...</td>\n",
       "    </tr>\n",
       "    <tr>\n",
       "      <th>323</th>\n",
       "      <td>6.310</td>\n",
       "      <td>6.75</td>\n",
       "      <td>20.2</td>\n",
       "    </tr>\n",
       "    <tr>\n",
       "      <th>192</th>\n",
       "      <td>7.274</td>\n",
       "      <td>6.62</td>\n",
       "      <td>12.6</td>\n",
       "    </tr>\n",
       "    <tr>\n",
       "      <th>117</th>\n",
       "      <td>6.021</td>\n",
       "      <td>10.30</td>\n",
       "      <td>17.8</td>\n",
       "    </tr>\n",
       "    <tr>\n",
       "      <th>47</th>\n",
       "      <td>6.030</td>\n",
       "      <td>18.80</td>\n",
       "      <td>17.9</td>\n",
       "    </tr>\n",
       "    <tr>\n",
       "      <th>172</th>\n",
       "      <td>6.020</td>\n",
       "      <td>10.11</td>\n",
       "      <td>16.6</td>\n",
       "    </tr>\n",
       "  </tbody>\n",
       "</table>\n",
       "<p>356 rows × 3 columns</p>\n",
       "</div>"
      ],
      "text/plain": [
       "        RM  LSTAT  PTRATIO\n",
       "403  6.411  15.02     20.2\n",
       "160  6.250   5.50     14.7\n",
       "453  6.167  16.29     20.2\n",
       "49   5.602  16.20     17.9\n",
       "306  5.782  15.94     18.4\n",
       "..     ...    ...      ...\n",
       "323  6.310   6.75     20.2\n",
       "192  7.274   6.62     12.6\n",
       "117  6.021  10.30     17.8\n",
       "47   6.030  18.80     17.9\n",
       "172  6.020  10.11     16.6\n",
       "\n",
       "[356 rows x 3 columns]"
      ]
     },
     "execution_count": 45,
     "metadata": {},
     "output_type": "execute_result"
    }
   ],
   "source": [
    "xtrain"
   ]
  },
  {
   "cell_type": "code",
   "execution_count": 46,
   "metadata": {},
   "outputs": [],
   "source": [
    "ytrain=ytrain[mask]"
   ]
  },
  {
   "cell_type": "code",
   "execution_count": 47,
   "metadata": {},
   "outputs": [
    {
     "data": {
      "text/plain": [
       "LinearRegression()"
      ]
     },
     "execution_count": 47,
     "metadata": {},
     "output_type": "execute_result"
    }
   ],
   "source": [
    "from sklearn.linear_model import LinearRegression\n",
    "model=LinearRegression()\n",
    "model.fit(xtrain,ytrain)"
   ]
  },
  {
   "cell_type": "code",
   "execution_count": 48,
   "metadata": {},
   "outputs": [],
   "source": [
    "ypred=model.predict(xtest)"
   ]
  },
  {
   "cell_type": "code",
   "execution_count": 50,
   "metadata": {},
   "outputs": [
    {
     "data": {
      "text/plain": [
       "0.6919747732735451"
      ]
     },
     "execution_count": 50,
     "metadata": {},
     "output_type": "execute_result"
    }
   ],
   "source": [
    "model.score(xtest,ytest)"
   ]
  },
  {
   "cell_type": "markdown",
   "metadata": {},
   "source": [
    "### Isolation Forest Algorithm\n",
    "Isolation forest is a tree-based algorithm that is very effective for both outlier and novelty detection in high-dimensional data.\n",
    "\n",
    "The IsolationForest ‘isolates’ observations by randomly selecting a feature and then randomly selecting a split value between the maximum and minimum values of the selected feature."
   ]
  },
  {
   "cell_type": "code",
   "execution_count": 51,
   "metadata": {},
   "outputs": [],
   "source": [
    "from sklearn.datasets import load_iris\n",
    "from sklearn.ensemble import IsolationForest\n",
    "from sklearn.decomposition import PCA\n",
    "from sklearn.preprocessing import StandardScaler"
   ]
  },
  {
   "cell_type": "code",
   "execution_count": 52,
   "metadata": {},
   "outputs": [],
   "source": [
    "data=load_iris()\n",
    "X=data.data"
   ]
  },
  {
   "cell_type": "code",
   "execution_count": 67,
   "metadata": {},
   "outputs": [],
   "source": [
    "isoforest=IsolationForest(n_estimators=100,max_samples='auto',contamination=0.05,max_features=1,random_state=1,bootstrap=False,n_jobs=-1)"
   ]
  },
  {
   "cell_type": "code",
   "execution_count": 75,
   "metadata": {},
   "outputs": [],
   "source": [
    "pred=isoforest.fit_predict(X)"
   ]
  },
  {
   "cell_type": "code",
   "execution_count": 76,
   "metadata": {},
   "outputs": [],
   "source": [
    "outlier_index=np.where(pred==-1)\n",
    "outlier_values=X[outlier_index]"
   ]
  },
  {
   "cell_type": "code",
   "execution_count": 77,
   "metadata": {},
   "outputs": [],
   "source": [
    "sc=StandardScaler()\n",
    "x_scaled=sc.fit_transform(X)\n",
    "outlier_values_scaled=sc.transform(outlier_values)"
   ]
  },
  {
   "cell_type": "code",
   "execution_count": 78,
   "metadata": {},
   "outputs": [],
   "source": [
    "pca=PCA(n_components=2)\n",
    "x_pca=pca.fit_transform(x_scaled)\n",
    "outlier_values_pca=pca.transform(outlier_values_scaled)"
   ]
  },
  {
   "cell_type": "code",
   "execution_count": 79,
   "metadata": {},
   "outputs": [
    {
     "data": {
      "text/plain": [
       "(array([ 13,  22,  41,  60, 109, 117, 118, 131], dtype=int64),)"
      ]
     },
     "execution_count": 79,
     "metadata": {},
     "output_type": "execute_result"
    }
   ],
   "source": [
    "outlier_index"
   ]
  },
  {
   "cell_type": "code",
   "execution_count": 81,
   "metadata": {},
   "outputs": [
    {
     "data": {
      "text/plain": [
       "Text(0.5, 1.0, 'Isolation Forest Outlier Detection')"
      ]
     },
     "execution_count": 81,
     "metadata": {},
     "output_type": "execute_result"
    },
    {
     "data": {
      "image/png": "[encoded data removed]",
      "text/plain": [
       "<Figure size 432x288 with 1 Axes>"
      ]
     },
     "metadata": {
      "needs_background": "light"
     },
     "output_type": "display_data"
    }
   ],
   "source": [
    "sns.scatterplot(x=x_pca[:,0],y=x_pca[:,1])\n",
    "sns.scatterplot(x=outlier_values_pca[:,0],y=outlier_values_pca[:,1],color='r')\n",
    "plt.title(\"Isolation Forest Outlier Detection\")"
   ]
  },
  {
   "cell_type": "markdown",
   "metadata": {},
   "source": [
    "### One-Class SVM algorithm \n",
    "One-class SVM (One-class Support Vector Machines) is an unsupervised machine learning algorithm that can be used for novelty detection. It is very sensitive to outliers. Therefore, it is not very good for outlier detection, but the best option for novelty detection when the training data is not much polluted with outliers. This algorithm can be applied to high-dimensional data sets and there is no underlying assumption in the distribution of the data.\n",
    "\n",
    "One-class SVM is based on SVM. An SVM uses a hyperplane to separate two classes while a One-class SVM uses a hypersphere to encompass all of the observations."
   ]
  },
  {
   "cell_type": "code",
   "execution_count": 82,
   "metadata": {},
   "outputs": [],
   "source": [
    "from sklearn.svm import OneClassSVM"
   ]
  },
  {
   "cell_type": "code",
   "execution_count": 83,
   "metadata": {},
   "outputs": [],
   "source": [
    "X,_=make_blobs(n_samples=300,n_features=2,centers=1,shuffle=True,random_state=1)"
   ]
  },
  {
   "cell_type": "code",
   "execution_count": 85,
   "metadata": {},
   "outputs": [],
   "source": [
    "one_class_svm=OneClassSVM(kernel='rbf',degree=3,gamma='scale')"
   ]
  },
  {
   "cell_type": "code",
   "execution_count": 84,
   "metadata": {},
   "outputs": [
    {
     "name": "stdout",
     "output_type": "stream",
     "text": [
      "Help on class OneClassSVM in module sklearn.svm._classes:\n",
      "\n",
      "class OneClassSVM(sklearn.base.OutlierMixin, sklearn.svm._base.BaseLibSVM)\n",
      " |  OneClassSVM(*, kernel='rbf', degree=3, gamma='scale', coef0=0.0, tol=0.001, nu=0.5, shrinking=True, cache_size=200, verbose=False, max_iter=-1)\n",
      " |  \n",
      " |  Unsupervised Outlier Detection.\n",
      " |  \n",
      " |  Estimate the support of a high-dimensional distribution.\n",
      " |  \n",
      " |  The implementation is based on libsvm.\n",
      " |  \n",
      " |  Read more in the :ref:`User Guide <outlier_detection>`.\n",
      " |  \n",
      " |  Parameters\n",
      " |  ----------\n",
      " |  kernel : {'linear', 'poly', 'rbf', 'sigmoid', 'precomputed'}, default='rbf'\n",
      " |       Specifies the kernel type to be used in the algorithm.\n",
      " |       It must be one of 'linear', 'poly', 'rbf', 'sigmoid', 'precomputed' or\n",
      " |       a callable.\n",
      " |       If none is given, 'rbf' will be used. If a callable is given it is\n",
      " |       used to precompute the kernel matrix.\n",
      " |  \n",
      " |  degree : int, default=3\n",
      " |      Degree of the polynomial kernel function ('poly').\n",
      " |      Ignored by all other kernels.\n",
      " |  \n",
      " |  gamma : {'scale', 'auto'} or float, default='scale'\n",
      " |      Kernel coefficient for 'rbf', 'poly' and 'sigmoid'.\n",
      " |  \n",
      " |      - if ``gamma='scale'`` (default) is passed then it uses\n",
      " |        1 / (n_features * X.var()) as value of gamma,\n",
      " |      - if 'auto', uses 1 / n_features.\n",
      " |  \n",
      " |      .. versionchanged:: 0.22\n",
      " |         The default value of ``gamma`` changed from 'auto' to 'scale'.\n",
      " |  \n",
      " |  coef0 : float, default=0.0\n",
      " |      Independent term in kernel function.\n",
      " |      It is only significant in 'poly' and 'sigmoid'.\n",
      " |  \n",
      " |  tol : float, default=1e-3\n",
      " |      Tolerance for stopping criterion.\n",
      " |  \n",
      " |  nu : float, default=0.5\n",
      " |      An upper bound on the fraction of training\n",
      " |      errors and a lower bound of the fraction of support\n",
      " |      vectors. Should be in the interval (0, 1]. By default 0.5\n",
      " |      will be taken.\n",
      " |  \n",
      " |  shrinking : bool, default=True\n",
      " |      Whether to use the shrinking heuristic.\n",
      " |      See the :ref:`User Guide <shrinking_svm>`.\n",
      " |  \n",
      " |  cache_size : float, default=200\n",
      " |      Specify the size of the kernel cache (in MB).\n",
      " |  \n",
      " |  verbose : bool, default=False\n",
      " |      Enable verbose output. Note that this setting takes advantage of a\n",
      " |      per-process runtime setting in libsvm that, if enabled, may not work\n",
      " |      properly in a multithreaded context.\n",
      " |  \n",
      " |  max_iter : int, default=-1\n",
      " |      Hard limit on iterations within solver, or -1 for no limit.\n",
      " |  \n",
      " |  Attributes\n",
      " |  ----------\n",
      " |  support_ : ndarray of shape (n_SV,)\n",
      " |      Indices of support vectors.\n",
      " |  \n",
      " |  support_vectors_ : ndarray of shape (n_SV, n_features)\n",
      " |      Support vectors.\n",
      " |  \n",
      " |  dual_coef_ : ndarray of shape (1, n_SV)\n",
      " |      Coefficients of the support vectors in the decision function.\n",
      " |  \n",
      " |  coef_ : ndarray of shape (1, n_features)\n",
      " |      Weights assigned to the features (coefficients in the primal\n",
      " |      problem). This is only available in the case of a linear kernel.\n",
      " |  \n",
      " |      `coef_` is readonly property derived from `dual_coef_` and\n",
      " |      `support_vectors_`\n",
      " |  \n",
      " |  intercept_ : ndarray of shape (1,)\n",
      " |      Constant in the decision function.\n",
      " |  \n",
      " |  offset_ : float\n",
      " |      Offset used to define the decision function from the raw scores.\n",
      " |      We have the relation: decision_function = score_samples - `offset_`.\n",
      " |      The offset is the opposite of `intercept_` and is provided for\n",
      " |      consistency with other outlier detection algorithms.\n",
      " |  \n",
      " |      .. versionadded:: 0.20\n",
      " |  \n",
      " |  fit_status_ : int\n",
      " |      0 if correctly fitted, 1 otherwise (will raise warning)\n",
      " |  \n",
      " |  Examples\n",
      " |  --------\n",
      " |  >>> from sklearn.svm import OneClassSVM\n",
      " |  >>> X = [[0], [0.44], [0.45], [0.46], [1]]\n",
      " |  >>> clf = OneClassSVM(gamma='auto').fit(X)\n",
      " |  >>> clf.predict(X)\n",
      " |  array([-1,  1,  1,  1, -1])\n",
      " |  >>> clf.score_samples(X)\n",
      " |  array([1.7798..., 2.0547..., 2.0556..., 2.0561..., 1.7332...])\n",
      " |  \n",
      " |  Method resolution order:\n",
      " |      OneClassSVM\n",
      " |      sklearn.base.OutlierMixin\n",
      " |      sklearn.svm._base.BaseLibSVM\n",
      " |      sklearn.base.BaseEstimator\n",
      " |      builtins.object\n",
      " |  \n",
      " |  Methods defined here:\n",
      " |  \n",
      " |  __init__(self, *, kernel='rbf', degree=3, gamma='scale', coef0=0.0, tol=0.001, nu=0.5, shrinking=True, cache_size=200, verbose=False, max_iter=-1)\n",
      " |      Initialize self.  See help(type(self)) for accurate signature.\n",
      " |  \n",
      " |  decision_function(self, X)\n",
      " |      Signed distance to the separating hyperplane.\n",
      " |      \n",
      " |      Signed distance is positive for an inlier and negative for an outlier.\n",
      " |      \n",
      " |      Parameters\n",
      " |      ----------\n",
      " |      X : array-like of shape (n_samples, n_features)\n",
      " |          The data matrix.\n",
      " |      \n",
      " |      Returns\n",
      " |      -------\n",
      " |      dec : ndarray of shape (n_samples,)\n",
      " |          Returns the decision function of the samples.\n",
      " |  \n",
      " |  fit(self, X, y=None, sample_weight=None, **params)\n",
      " |      Detects the soft boundary of the set of samples X.\n",
      " |      \n",
      " |      Parameters\n",
      " |      ----------\n",
      " |      X : {array-like, sparse matrix} of shape (n_samples, n_features)\n",
      " |          Set of samples, where n_samples is the number of samples and\n",
      " |          n_features is the number of features.\n",
      " |      \n",
      " |      sample_weight : array-like of shape (n_samples,), default=None\n",
      " |          Per-sample weights. Rescale C per sample. Higher weights\n",
      " |          force the classifier to put more emphasis on these points.\n",
      " |      \n",
      " |      y : Ignored\n",
      " |          not used, present for API consistency by convention.\n",
      " |      \n",
      " |      Returns\n",
      " |      -------\n",
      " |      self : object\n",
      " |      \n",
      " |      Notes\n",
      " |      -----\n",
      " |      If X is not a C-ordered contiguous array it is copied.\n",
      " |  \n",
      " |  predict(self, X)\n",
      " |      Perform classification on samples in X.\n",
      " |      \n",
      " |      For a one-class model, +1 or -1 is returned.\n",
      " |      \n",
      " |      Parameters\n",
      " |      ----------\n",
      " |      X : {array-like, sparse matrix} of shape (n_samples, n_features) or                 (n_samples_test, n_samples_train)\n",
      " |          For kernel=\"precomputed\", the expected shape of X is\n",
      " |          (n_samples_test, n_samples_train).\n",
      " |      \n",
      " |      Returns\n",
      " |      -------\n",
      " |      y_pred : ndarray of shape (n_samples,)\n",
      " |          Class labels for samples in X.\n",
      " |  \n",
      " |  score_samples(self, X)\n",
      " |      Raw scoring function of the samples.\n",
      " |      \n",
      " |      Parameters\n",
      " |      ----------\n",
      " |      X : array-like of shape (n_samples, n_features)\n",
      " |          The data matrix.\n",
      " |      \n",
      " |      Returns\n",
      " |      -------\n",
      " |      score_samples : ndarray of shape (n_samples,)\n",
      " |          Returns the (unshifted) scoring function of the samples.\n",
      " |  \n",
      " |  ----------------------------------------------------------------------\n",
      " |  Readonly properties defined here:\n",
      " |  \n",
      " |  probA_\n",
      " |  \n",
      " |  probB_\n",
      " |  \n",
      " |  ----------------------------------------------------------------------\n",
      " |  Data and other attributes defined here:\n",
      " |  \n",
      " |  __abstractmethods__ = frozenset()\n",
      " |  \n",
      " |  ----------------------------------------------------------------------\n",
      " |  Methods inherited from sklearn.base.OutlierMixin:\n",
      " |  \n",
      " |  fit_predict(self, X, y=None)\n",
      " |      Perform fit on X and returns labels for X.\n",
      " |      \n",
      " |      Returns -1 for outliers and 1 for inliers.\n",
      " |      \n",
      " |      Parameters\n",
      " |      ----------\n",
      " |      X : {array-like, sparse matrix, dataframe} of shape             (n_samples, n_features)\n",
      " |      \n",
      " |      y : Ignored\n",
      " |          Not used, present for API consistency by convention.\n",
      " |      \n",
      " |      Returns\n",
      " |      -------\n",
      " |      y : ndarray of shape (n_samples,)\n",
      " |          1 for inliers, -1 for outliers.\n",
      " |  \n",
      " |  ----------------------------------------------------------------------\n",
      " |  Data descriptors inherited from sklearn.base.OutlierMixin:\n",
      " |  \n",
      " |  __dict__\n",
      " |      dictionary for instance variables (if defined)\n",
      " |  \n",
      " |  __weakref__\n",
      " |      list of weak references to the object (if defined)\n",
      " |  \n",
      " |  ----------------------------------------------------------------------\n",
      " |  Readonly properties inherited from sklearn.svm._base.BaseLibSVM:\n",
      " |  \n",
      " |  coef_\n",
      " |  \n",
      " |  n_support_\n",
      " |  \n",
      " |  ----------------------------------------------------------------------\n",
      " |  Methods inherited from sklearn.base.BaseEstimator:\n",
      " |  \n",
      " |  __getstate__(self)\n",
      " |  \n",
      " |  __repr__(self, N_CHAR_MAX=700)\n",
      " |      Return repr(self).\n",
      " |  \n",
      " |  __setstate__(self, state)\n",
      " |  \n",
      " |  get_params(self, deep=True)\n",
      " |      Get parameters for this estimator.\n",
      " |      \n",
      " |      Parameters\n",
      " |      ----------\n",
      " |      deep : bool, default=True\n",
      " |          If True, will return the parameters for this estimator and\n",
      " |          contained subobjects that are estimators.\n",
      " |      \n",
      " |      Returns\n",
      " |      -------\n",
      " |      params : mapping of string to any\n",
      " |          Parameter names mapped to their values.\n",
      " |  \n",
      " |  set_params(self, **params)\n",
      " |      Set the parameters of this estimator.\n",
      " |      \n",
      " |      The method works on simple estimators as well as on nested objects\n",
      " |      (such as pipelines). The latter have parameters of the form\n",
      " |      ``<component>__<parameter>`` so that it's possible to update each\n",
      " |      component of a nested object.\n",
      " |      \n",
      " |      Parameters\n",
      " |      ----------\n",
      " |      **params : dict\n",
      " |          Estimator parameters.\n",
      " |      \n",
      " |      Returns\n",
      " |      -------\n",
      " |      self : object\n",
      " |          Estimator instance.\n",
      "\n"
     ]
    }
   ],
   "source": [
    "help(OneClassSVM)"
   ]
  },
  {
   "cell_type": "code",
   "execution_count": 86,
   "metadata": {},
   "outputs": [],
   "source": [
    "new_data=np.array([[-3,9.6]])"
   ]
  },
  {
   "cell_type": "code",
   "execution_count": 87,
   "metadata": {},
   "outputs": [
    {
     "data": {
      "text/plain": [
       "OneClassSVM()"
      ]
     },
     "execution_count": 87,
     "metadata": {},
     "output_type": "execute_result"
    }
   ],
   "source": [
    "one_class_svm.fit(X)"
   ]
  },
  {
   "cell_type": "code",
   "execution_count": 88,
   "metadata": {},
   "outputs": [],
   "source": [
    "pred=one_class_svm.predict(new_data)"
   ]
  },
  {
   "cell_type": "code",
   "execution_count": 89,
   "metadata": {},
   "outputs": [],
   "source": [
    "outlier_index=np.where(pred==-1)\n",
    "outlier_values=new_data[outlier_index]"
   ]
  },
  {
   "cell_type": "code",
   "execution_count": 90,
   "metadata": {},
   "outputs": [
    {
     "data": {
      "text/plain": [
       "Text(0.5, 1.0, 'One class SVM Novelty Detection')"
      ]
     },
     "execution_count": 90,
     "metadata": {},
     "output_type": "execute_result"
    },
    {
     "data": {
      "image/png": "[encoded data removed]",
      "text/plain": [
       "<Figure size 432x288 with 1 Axes>"
      ]
     },
     "metadata": {
      "needs_background": "light"
     },
     "output_type": "display_data"
    }
   ],
   "source": [
    "sns.scatterplot(x=X[:,0],y=X[:,1])\n",
    "sns.scatterplot(x=outlier_values[:,0],y=outlier_values[:,1],color='r')\n",
    "plt.title(\"One class SVM Novelty Detection\")"
   ]
  },
  {
   "cell_type": "markdown",
   "metadata": {},
   "source": [
    "### Local Outlier Factor \n",
    "Local Outlier Factor (LOF) is an unsupervised machine learning algorithm that was originally created for outlier detection, but now it can also be used for novelty detection. It works well on high-dimensional datasets.\n",
    "\n",
    "The Local Outlier Factor (LOF) algorithm is an unsupervised outlier detection method which computes the local density deviation of a given data point with respect to its neighbours. It considers as outliers the samples that have a substantially lower density than their neighbours."
   ]
  },
  {
   "cell_type": "code",
   "execution_count": 91,
   "metadata": {},
   "outputs": [],
   "source": [
    "from sklearn.neighbors import LocalOutlierFactor"
   ]
  },
  {
   "cell_type": "code",
   "execution_count": 93,
   "metadata": {},
   "outputs": [],
   "source": [
    "lof=LocalOutlierFactor(n_neighbors=20,algorithm='auto',metric='minkowski',contamination=0.05,novelty=False,n_jobs=-1)"
   ]
  },
  {
   "cell_type": "code",
   "execution_count": 92,
   "metadata": {},
   "outputs": [
    {
     "name": "stdout",
     "output_type": "stream",
     "text": [
      "Help on class LocalOutlierFactor in module sklearn.neighbors._lof:\n",
      "\n",
      "class LocalOutlierFactor(sklearn.neighbors._base.KNeighborsMixin, sklearn.neighbors._base.UnsupervisedMixin, sklearn.base.OutlierMixin, sklearn.neighbors._base.NeighborsBase)\n",
      " |  LocalOutlierFactor(n_neighbors=20, *, algorithm='auto', leaf_size=30, metric='minkowski', p=2, metric_params=None, contamination='auto', novelty=False, n_jobs=None)\n",
      " |  \n",
      " |  Unsupervised Outlier Detection using Local Outlier Factor (LOF)\n",
      " |  \n",
      " |  The anomaly score of each sample is called Local Outlier Factor.\n",
      " |  It measures the local deviation of density of a given sample with\n",
      " |  respect to its neighbors.\n",
      " |  It is local in that the anomaly score depends on how isolated the object\n",
      " |  is with respect to the surrounding neighborhood.\n",
      " |  More precisely, locality is given by k-nearest neighbors, whose distance\n",
      " |  is used to estimate the local density.\n",
      " |  By comparing the local density of a sample to the local densities of\n",
      " |  its neighbors, one can identify samples that have a substantially lower\n",
      " |  density than their neighbors. These are considered outliers.\n",
      " |  \n",
      " |  .. versionadded:: 0.19\n",
      " |  \n",
      " |  Parameters\n",
      " |  ----------\n",
      " |  n_neighbors : int, default=20\n",
      " |      Number of neighbors to use by default for :meth:`kneighbors` queries.\n",
      " |      If n_neighbors is larger than the number of samples provided,\n",
      " |      all samples will be used.\n",
      " |  \n",
      " |  algorithm : {'auto', 'ball_tree', 'kd_tree', 'brute'}, default='auto'\n",
      " |      Algorithm used to compute the nearest neighbors:\n",
      " |  \n",
      " |      - 'ball_tree' will use :class:`BallTree`\n",
      " |      - 'kd_tree' will use :class:`KDTree`\n",
      " |      - 'brute' will use a brute-force search.\n",
      " |      - 'auto' will attempt to decide the most appropriate algorithm\n",
      " |        based on the values passed to :meth:`fit` method.\n",
      " |  \n",
      " |      Note: fitting on sparse input will override the setting of\n",
      " |      this parameter, using brute force.\n",
      " |  \n",
      " |  leaf_size : int, default=30\n",
      " |      Leaf size passed to :class:`BallTree` or :class:`KDTree`. This can\n",
      " |      affect the speed of the construction and query, as well as the memory\n",
      " |      required to store the tree. The optimal value depends on the\n",
      " |      nature of the problem.\n",
      " |  \n",
      " |  metric : str or callable, default='minkowski'\n",
      " |      metric used for the distance computation. Any metric from scikit-learn\n",
      " |      or scipy.spatial.distance can be used.\n",
      " |  \n",
      " |      If metric is \"precomputed\", X is assumed to be a distance matrix and\n",
      " |      must be square. X may be a sparse matrix, in which case only \"nonzero\"\n",
      " |      elements may be considered neighbors.\n",
      " |  \n",
      " |      If metric is a callable function, it is called on each\n",
      " |      pair of instances (rows) and the resulting value recorded. The callable\n",
      " |      should take two arrays as input and return one value indicating the\n",
      " |      distance between them. This works for Scipy's metrics, but is less\n",
      " |      efficient than passing the metric name as a string.\n",
      " |  \n",
      " |      Valid values for metric are:\n",
      " |  \n",
      " |      - from scikit-learn: ['cityblock', 'cosine', 'euclidean', 'l1', 'l2',\n",
      " |        'manhattan']\n",
      " |  \n",
      " |      - from scipy.spatial.distance: ['braycurtis', 'canberra', 'chebyshev',\n",
      " |        'correlation', 'dice', 'hamming', 'jaccard', 'kulsinski',\n",
      " |        'mahalanobis', 'minkowski', 'rogerstanimoto', 'russellrao',\n",
      " |        'seuclidean', 'sokalmichener', 'sokalsneath', 'sqeuclidean',\n",
      " |        'yule']\n",
      " |  \n",
      " |      See the documentation for scipy.spatial.distance for details on these\n",
      " |      metrics:\n",
      " |      https://docs.scipy.org/doc/scipy/reference/spatial.distance.html\n",
      " |  \n",
      " |  p : int, default=2\n",
      " |      Parameter for the Minkowski metric from\n",
      " |      :func:`sklearn.metrics.pairwise.pairwise_distances`. When p = 1, this\n",
      " |      is equivalent to using manhattan_distance (l1), and euclidean_distance\n",
      " |      (l2) for p = 2. For arbitrary p, minkowski_distance (l_p) is used.\n",
      " |  \n",
      " |  metric_params : dict, default=None\n",
      " |      Additional keyword arguments for the metric function.\n",
      " |  \n",
      " |  contamination : 'auto' or float, default='auto'\n",
      " |      The amount of contamination of the data set, i.e. the proportion\n",
      " |      of outliers in the data set. When fitting this is used to define the\n",
      " |      threshold on the scores of the samples.\n",
      " |  \n",
      " |      - if 'auto', the threshold is determined as in the\n",
      " |        original paper,\n",
      " |      - if a float, the contamination should be in the range [0, 0.5].\n",
      " |  \n",
      " |      .. versionchanged:: 0.22\n",
      " |         The default value of ``contamination`` changed from 0.1\n",
      " |         to ``'auto'``.\n",
      " |  \n",
      " |  novelty : bool, default=False\n",
      " |      By default, LocalOutlierFactor is only meant to be used for outlier\n",
      " |      detection (novelty=False). Set novelty to True if you want to use\n",
      " |      LocalOutlierFactor for novelty detection. In this case be aware that\n",
      " |      that you should only use predict, decision_function and score_samples\n",
      " |      on new unseen data and not on the training set.\n",
      " |  \n",
      " |      .. versionadded:: 0.20\n",
      " |  \n",
      " |  n_jobs : int, default=None\n",
      " |      The number of parallel jobs to run for neighbors search.\n",
      " |      ``None`` means 1 unless in a :obj:`joblib.parallel_backend` context.\n",
      " |      ``-1`` means using all processors. See :term:`Glossary <n_jobs>`\n",
      " |      for more details.\n",
      " |  \n",
      " |  Attributes\n",
      " |  ----------\n",
      " |  negative_outlier_factor_ : ndarray of shape (n_samples,)\n",
      " |      The opposite LOF of the training samples. The higher, the more normal.\n",
      " |      Inliers tend to have a LOF score close to 1\n",
      " |      (``negative_outlier_factor_`` close to -1), while outliers tend to have\n",
      " |      a larger LOF score.\n",
      " |  \n",
      " |      The local outlier factor (LOF) of a sample captures its\n",
      " |      supposed 'degree of abnormality'.\n",
      " |      It is the average of the ratio of the local reachability density of\n",
      " |      a sample and those of its k-nearest neighbors.\n",
      " |  \n",
      " |  n_neighbors_ : int\n",
      " |      The actual number of neighbors used for :meth:`kneighbors` queries.\n",
      " |  \n",
      " |  offset_ : float\n",
      " |      Offset used to obtain binary labels from the raw scores.\n",
      " |      Observations having a negative_outlier_factor smaller than `offset_`\n",
      " |      are detected as abnormal.\n",
      " |      The offset is set to -1.5 (inliers score around -1), except when a\n",
      " |      contamination parameter different than \"auto\" is provided. In that\n",
      " |      case, the offset is defined in such a way we obtain the expected\n",
      " |      number of outliers in training.\n",
      " |  \n",
      " |      .. versionadded:: 0.20\n",
      " |  \n",
      " |  Examples\n",
      " |  --------\n",
      " |  >>> import numpy as np\n",
      " |  >>> from sklearn.neighbors import LocalOutlierFactor\n",
      " |  >>> X = [[-1.1], [0.2], [101.1], [0.3]]\n",
      " |  >>> clf = LocalOutlierFactor(n_neighbors=2)\n",
      " |  >>> clf.fit_predict(X)\n",
      " |  array([ 1,  1, -1,  1])\n",
      " |  >>> clf.negative_outlier_factor_\n",
      " |  array([ -0.9821...,  -1.0370..., -73.3697...,  -0.9821...])\n",
      " |  \n",
      " |  References\n",
      " |  ----------\n",
      " |  .. [1] Breunig, M. M., Kriegel, H. P., Ng, R. T., & Sander, J. (2000, May).\n",
      " |         LOF: identifying density-based local outliers. In ACM sigmod record.\n",
      " |  \n",
      " |  Method resolution order:\n",
      " |      LocalOutlierFactor\n",
      " |      sklearn.neighbors._base.KNeighborsMixin\n",
      " |      sklearn.neighbors._base.UnsupervisedMixin\n",
      " |      sklearn.base.OutlierMixin\n",
      " |      sklearn.neighbors._base.NeighborsBase\n",
      " |      sklearn.base.MultiOutputMixin\n",
      " |      sklearn.base.BaseEstimator\n",
      " |      builtins.object\n",
      " |  \n",
      " |  Methods defined here:\n",
      " |  \n",
      " |  __init__(self, n_neighbors=20, *, algorithm='auto', leaf_size=30, metric='minkowski', p=2, metric_params=None, contamination='auto', novelty=False, n_jobs=None)\n",
      " |      Initialize self.  See help(type(self)) for accurate signature.\n",
      " |  \n",
      " |  fit(self, X, y=None)\n",
      " |      Fit the model using X as training data.\n",
      " |      \n",
      " |      Parameters\n",
      " |      ----------\n",
      " |      X : BallTree, KDTree or {array-like, sparse matrix} of shape                 (n_samples, n_features) or (n_samples, n_samples)\n",
      " |          Training data. If array or matrix, the shape is (n_samples,\n",
      " |          n_features), or (n_samples, n_samples) if metric='precomputed'.\n",
      " |      \n",
      " |      y : Ignored\n",
      " |          Not used, present for API consistency by convention.\n",
      " |      \n",
      " |      Returns\n",
      " |      -------\n",
      " |      self : object\n",
      " |  \n",
      " |  ----------------------------------------------------------------------\n",
      " |  Readonly properties defined here:\n",
      " |  \n",
      " |  decision_function\n",
      " |      Shifted opposite of the Local Outlier Factor of X.\n",
      " |      \n",
      " |      Bigger is better, i.e. large values correspond to inliers.\n",
      " |      \n",
      " |      **Only available for novelty detection (when novelty is set to True).**\n",
      " |      The shift offset allows a zero threshold for being an outlier.\n",
      " |      The argument X is supposed to contain *new data*: if X contains a\n",
      " |      point from training, it considers the later in its own neighborhood.\n",
      " |      Also, the samples in X are not considered in the neighborhood of any\n",
      " |      point.\n",
      " |      \n",
      " |      Parameters\n",
      " |      ----------\n",
      " |      X : array-like of shape (n_samples, n_features)\n",
      " |          The query sample or samples to compute the Local Outlier Factor\n",
      " |          w.r.t. the training samples.\n",
      " |      \n",
      " |      Returns\n",
      " |      -------\n",
      " |      shifted_opposite_lof_scores : ndarray of shape (n_samples,)\n",
      " |          The shifted opposite of the Local Outlier Factor of each input\n",
      " |          samples. The lower, the more abnormal. Negative scores represent\n",
      " |          outliers, positive scores represent inliers.\n",
      " |  \n",
      " |  fit_predict\n",
      " |      Fits the model to the training set X and returns the labels.\n",
      " |      \n",
      " |      **Only available for novelty detection (when novelty is set to True).**\n",
      " |      Label is 1 for an inlier and -1 for an outlier according to the LOF\n",
      " |      score and the contamination parameter.\n",
      " |      \n",
      " |      Parameters\n",
      " |      ----------\n",
      " |      X : array-like of shape (n_samples, n_features), default=None\n",
      " |          The query sample or samples to compute the Local Outlier Factor\n",
      " |          w.r.t. to the training samples.\n",
      " |      \n",
      " |      y : Ignored\n",
      " |          Not used, present for API consistency by convention.\n",
      " |      \n",
      " |      Returns\n",
      " |      -------\n",
      " |      is_inlier : ndarray of shape (n_samples,)\n",
      " |          Returns -1 for anomalies/outliers and 1 for inliers.\n",
      " |  \n",
      " |  predict\n",
      " |      Predict the labels (1 inlier, -1 outlier) of X according to LOF.\n",
      " |      \n",
      " |      **Only available for novelty detection (when novelty is set to True).**\n",
      " |      This method allows to generalize prediction to *new observations* (not\n",
      " |      in the training set).\n",
      " |      \n",
      " |      Parameters\n",
      " |      ----------\n",
      " |      X : array-like of shape (n_samples, n_features)\n",
      " |          The query sample or samples to compute the Local Outlier Factor\n",
      " |          w.r.t. to the training samples.\n",
      " |      \n",
      " |      Returns\n",
      " |      -------\n",
      " |      is_inlier : ndarray of shape (n_samples,)\n",
      " |          Returns -1 for anomalies/outliers and +1 for inliers.\n",
      " |  \n",
      " |  score_samples\n",
      " |      Opposite of the Local Outlier Factor of X.\n",
      " |      \n",
      " |      It is the opposite as bigger is better, i.e. large values correspond\n",
      " |      to inliers.\n",
      " |      \n",
      " |      **Only available for novelty detection (when novelty is set to True).**\n",
      " |      The argument X is supposed to contain *new data*: if X contains a\n",
      " |      point from training, it considers the later in its own neighborhood.\n",
      " |      Also, the samples in X are not considered in the neighborhood of any\n",
      " |      point.\n",
      " |      The score_samples on training data is available by considering the\n",
      " |      the ``negative_outlier_factor_`` attribute.\n",
      " |      \n",
      " |      Parameters\n",
      " |      ----------\n",
      " |      X : array-like of shape (n_samples, n_features)\n",
      " |          The query sample or samples to compute the Local Outlier Factor\n",
      " |          w.r.t. the training samples.\n",
      " |      \n",
      " |      Returns\n",
      " |      -------\n",
      " |      opposite_lof_scores : ndarray of shape (n_samples,)\n",
      " |          The opposite of the Local Outlier Factor of each input samples.\n",
      " |          The lower, the more abnormal.\n",
      " |  \n",
      " |  ----------------------------------------------------------------------\n",
      " |  Data and other attributes defined here:\n",
      " |  \n",
      " |  __abstractmethods__ = frozenset()\n",
      " |  \n",
      " |  ----------------------------------------------------------------------\n",
      " |  Methods inherited from sklearn.neighbors._base.KNeighborsMixin:\n",
      " |  \n",
      " |  kneighbors(self, X=None, n_neighbors=None, return_distance=True)\n",
      " |      Finds the K-neighbors of a point.\n",
      " |      Returns indices of and distances to the neighbors of each point.\n",
      " |      \n",
      " |      Parameters\n",
      " |      ----------\n",
      " |      X : array-like, shape (n_queries, n_features),                 or (n_queries, n_indexed) if metric == 'precomputed'\n",
      " |          The query point or points.\n",
      " |          If not provided, neighbors of each indexed point are returned.\n",
      " |          In this case, the query point is not considered its own neighbor.\n",
      " |      \n",
      " |      n_neighbors : int\n",
      " |          Number of neighbors to get (default is the value\n",
      " |          passed to the constructor).\n",
      " |      \n",
      " |      return_distance : boolean, optional. Defaults to True.\n",
      " |          If False, distances will not be returned\n",
      " |      \n",
      " |      Returns\n",
      " |      -------\n",
      " |      neigh_dist : array, shape (n_queries, n_neighbors)\n",
      " |          Array representing the lengths to points, only present if\n",
      " |          return_distance=True\n",
      " |      \n",
      " |      neigh_ind : array, shape (n_queries, n_neighbors)\n",
      " |          Indices of the nearest points in the population matrix.\n",
      " |      \n",
      " |      Examples\n",
      " |      --------\n",
      " |      In the following example, we construct a NearestNeighbors\n",
      " |      class from an array representing our data set and ask who's\n",
      " |      the closest point to [1,1,1]\n",
      " |      \n",
      " |      >>> samples = [[0., 0., 0.], [0., .5, 0.], [1., 1., .5]]\n",
      " |      >>> from sklearn.neighbors import NearestNeighbors\n",
      " |      >>> neigh = NearestNeighbors(n_neighbors=1)\n",
      " |      >>> neigh.fit(samples)\n",
      " |      NearestNeighbors(n_neighbors=1)\n",
      " |      >>> print(neigh.kneighbors([[1., 1., 1.]]))\n",
      " |      (array([[0.5]]), array([[2]]))\n",
      " |      \n",
      " |      As you can see, it returns [[0.5]], and [[2]], which means that the\n",
      " |      element is at distance 0.5 and is the third element of samples\n",
      " |      (indexes start at 0). You can also query for multiple points:\n",
      " |      \n",
      " |      >>> X = [[0., 1., 0.], [1., 0., 1.]]\n",
      " |      >>> neigh.kneighbors(X, return_distance=False)\n",
      " |      array([[1],\n",
      " |             [2]]...)\n",
      " |  \n",
      " |  kneighbors_graph(self, X=None, n_neighbors=None, mode='connectivity')\n",
      " |      Computes the (weighted) graph of k-Neighbors for points in X\n",
      " |      \n",
      " |      Parameters\n",
      " |      ----------\n",
      " |      X : array-like, shape (n_queries, n_features),                 or (n_queries, n_indexed) if metric == 'precomputed'\n",
      " |          The query point or points.\n",
      " |          If not provided, neighbors of each indexed point are returned.\n",
      " |          In this case, the query point is not considered its own neighbor.\n",
      " |      \n",
      " |      n_neighbors : int\n",
      " |          Number of neighbors for each sample.\n",
      " |          (default is value passed to the constructor).\n",
      " |      \n",
      " |      mode : {'connectivity', 'distance'}, optional\n",
      " |          Type of returned matrix: 'connectivity' will return the\n",
      " |          connectivity matrix with ones and zeros, in 'distance' the\n",
      " |          edges are Euclidean distance between points.\n",
      " |      \n",
      " |      Returns\n",
      " |      -------\n",
      " |      A : sparse graph in CSR format, shape = [n_queries, n_samples_fit]\n",
      " |          n_samples_fit is the number of samples in the fitted data\n",
      " |          A[i, j] is assigned the weight of edge that connects i to j.\n",
      " |      \n",
      " |      Examples\n",
      " |      --------\n",
      " |      >>> X = [[0], [3], [1]]\n",
      " |      >>> from sklearn.neighbors import NearestNeighbors\n",
      " |      >>> neigh = NearestNeighbors(n_neighbors=2)\n",
      " |      >>> neigh.fit(X)\n",
      " |      NearestNeighbors(n_neighbors=2)\n",
      " |      >>> A = neigh.kneighbors_graph(X)\n",
      " |      >>> A.toarray()\n",
      " |      array([[1., 0., 1.],\n",
      " |             [0., 1., 1.],\n",
      " |             [1., 0., 1.]])\n",
      " |      \n",
      " |      See also\n",
      " |      --------\n",
      " |      NearestNeighbors.radius_neighbors_graph\n",
      " |  \n",
      " |  ----------------------------------------------------------------------\n",
      " |  Data descriptors inherited from sklearn.neighbors._base.KNeighborsMixin:\n",
      " |  \n",
      " |  __dict__\n",
      " |      dictionary for instance variables (if defined)\n",
      " |  \n",
      " |  __weakref__\n",
      " |      list of weak references to the object (if defined)\n",
      " |  \n",
      " |  ----------------------------------------------------------------------\n",
      " |  Methods inherited from sklearn.base.BaseEstimator:\n",
      " |  \n",
      " |  __getstate__(self)\n",
      " |  \n",
      " |  __repr__(self, N_CHAR_MAX=700)\n",
      " |      Return repr(self).\n",
      " |  \n",
      " |  __setstate__(self, state)\n",
      " |  \n",
      " |  get_params(self, deep=True)\n",
      " |      Get parameters for this estimator.\n",
      " |      \n",
      " |      Parameters\n",
      " |      ----------\n",
      " |      deep : bool, default=True\n",
      " |          If True, will return the parameters for this estimator and\n",
      " |          contained subobjects that are estimators.\n",
      " |      \n",
      " |      Returns\n",
      " |      -------\n",
      " |      params : mapping of string to any\n",
      " |          Parameter names mapped to their values.\n",
      " |  \n",
      " |  set_params(self, **params)\n",
      " |      Set the parameters of this estimator.\n",
      " |      \n",
      " |      The method works on simple estimators as well as on nested objects\n",
      " |      (such as pipelines). The latter have parameters of the form\n",
      " |      ``<component>__<parameter>`` so that it's possible to update each\n",
      " |      component of a nested object.\n",
      " |      \n",
      " |      Parameters\n",
      " |      ----------\n",
      " |      **params : dict\n",
      " |          Estimator parameters.\n",
      " |      \n",
      " |      Returns\n",
      " |      -------\n",
      " |      self : object\n",
      " |          Estimator instance.\n",
      "\n"
     ]
    }
   ],
   "source": [
    "help(LocalOutlierFactor)"
   ]
  },
  {
   "cell_type": "code",
   "execution_count": 94,
   "metadata": {},
   "outputs": [],
   "source": [
    "pred=lof.fit_predict(X)"
   ]
  },
  {
   "cell_type": "code",
   "execution_count": 95,
   "metadata": {},
   "outputs": [],
   "source": [
    "#extract outliers\n",
    "outlier_index=np.where(pred==-1)\n",
    "outlier_values=X[outlier_index]"
   ]
  },
  {
   "cell_type": "code",
   "execution_count": 97,
   "metadata": {},
   "outputs": [
    {
     "data": {
      "text/plain": [
       "Text(0.5, 1.0, 'Local Outlier Factor- Outlier Detection')"
      ]
     },
     "execution_count": 97,
     "metadata": {},
     "output_type": "execute_result"
    },
    {
     "data": {
      "image/png": "[encoded data removed]",
      "text/plain": [
       "<Figure size 432x288 with 1 Axes>"
      ]
     },
     "metadata": {
      "needs_background": "light"
     },
     "output_type": "display_data"
    }
   ],
   "source": [
    "sns.scatterplot(x=X[:,0],y=X[:,1])\n",
    "sns.scatterplot(x=outlier_values[:,0],y=outlier_values[:,1],color='r')\n",
    "plt.title(\"Local Outlier Factor- Outlier Detection\")"
   ]
  },
  {
   "cell_type": "markdown",
   "metadata": {},
   "source": [
    "### Local Outlier Factor - Novelty Detection\n",
    "\n",
    "In novelty detection\n",
    "\n",
    "If you want to use the Local Outlier Factor for novelty detection (i.e. finding whether a new unseen observation is an outlier or not), you should set the novelty hyperparameter to True (the default is False). When applying this technique for novelty detection, the fit() and predict() methods are available. The fit() method should be used with the training data (X) and the predict() method should be used on new unseen data, not on the training data (X)."
   ]
  },
  {
   "cell_type": "code",
   "execution_count": 98,
   "metadata": {},
   "outputs": [],
   "source": [
    "lof=LocalOutlierFactor(n_neighbors=20,algorithm='auto',metric='minkowski',contamination=0.05,novelty=True,n_jobs=-1)"
   ]
  },
  {
   "cell_type": "code",
   "execution_count": 99,
   "metadata": {},
   "outputs": [],
   "source": [
    "new_data=np.array([[-3,8.6]])"
   ]
  },
  {
   "cell_type": "code",
   "execution_count": 100,
   "metadata": {},
   "outputs": [
    {
     "data": {
      "text/plain": [
       "LocalOutlierFactor(contamination=0.05, n_jobs=-1, novelty=True)"
      ]
     },
     "execution_count": 100,
     "metadata": {},
     "output_type": "execute_result"
    }
   ],
   "source": [
    "lof.fit(X)"
   ]
  },
  {
   "cell_type": "code",
   "execution_count": 101,
   "metadata": {},
   "outputs": [],
   "source": [
    "pred=lof.predict(new_data)"
   ]
  },
  {
   "cell_type": "code",
   "execution_count": 102,
   "metadata": {},
   "outputs": [],
   "source": [
    "outlier_index=np.where(pred==-1)\n",
    "outlier_values=new_data[outlier_index]"
   ]
  },
  {
   "cell_type": "code",
   "execution_count": 103,
   "metadata": {},
   "outputs": [
    {
     "data": {
      "text/plain": [
       "Text(0.5, 1.0, 'Local Outlier Factor- Novelty Detection')"
      ]
     },
     "execution_count": 103,
     "metadata": {},
     "output_type": "execute_result"
    },
    {
     "data": {
      "image/png": "[encoded data removed]",
      "text/plain": [
       "<Figure size 432x288 with 1 Axes>"
      ]
     },
     "metadata": {
      "needs_background": "light"
     },
     "output_type": "display_data"
    }
   ],
   "source": [
    "sns.scatterplot(x=X[:,0],y=X[:,1])\n",
    "sns.scatterplot(x=outlier_values[:,0],y=outlier_values[:,1],color='r')\n",
    "plt.title(\"Local Outlier Factor- Novelty Detection\")"
   ]
  },
  {
   "cell_type": "markdown",
   "metadata": {},
   "source": [
    "The Isolation Forest and LOF work well on high-dimensional data. For the purpose of visualization, we can apply the Principal Component Analysis to reduce the dimensionality of high-dimensional data.\n",
    "\n",
    "The Elliptic Envelope should only be used with data that satisfy the assumption of normality.\n",
    "\n",
    "The One-class SVM is not very good for outlier detection, but the best option for novelty detection when the training data is not much polluted with outliers.\n",
    "\n",
    "The most important hyperparameter in the Elliptic Envelope, Isolation Forest and LOF is the contamination hyperparameter. It represents the proportion of outliers in the dataset. In most cases, we do not know the exact value for the contamination hyperparameter. "
   ]
  }
 ],
 "metadata": {
  "kernelspec": {
   "display_name": "Python 3",
   "language": "python",
   "name": "python3"
  },
  "language_info": {
   "codemirror_mode": {
    "name": "ipython",
    "version": 3
   },
   "file_extension": ".py",
   "mimetype": "text/x-python",
   "name": "python",
   "nbconvert_exporter": "python",
   "pygments_lexer": "ipython3",
   "version": "3.8.5"
  }
 },
 "nbformat": 4,
 "nbformat_minor": 4
}
