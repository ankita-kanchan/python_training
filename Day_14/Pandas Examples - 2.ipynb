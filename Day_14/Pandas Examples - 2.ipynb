{
 "cells": [
  {
   "cell_type": "code",
   "execution_count": 103,
   "metadata": {},
   "outputs": [],
   "source": [
    "import pandas as pd\n",
    "import numpy as np"
   ]
  },
  {
   "cell_type": "code",
   "execution_count": 3,
   "metadata": {},
   "outputs": [
    {
     "data": {
      "text/html": [
       "<div>\n",
       "<style scoped>\n",
       "    .dataframe tbody tr th:only-of-type {\n",
       "        vertical-align: middle;\n",
       "    }\n",
       "\n",
       "    .dataframe tbody tr th {\n",
       "        vertical-align: top;\n",
       "    }\n",
       "\n",
       "    .dataframe thead th {\n",
       "        text-align: right;\n",
       "    }\n",
       "</style>\n",
       "<table border=\"1\" class=\"dataframe\">\n",
       "  <thead>\n",
       "    <tr style=\"text-align: right;\">\n",
       "      <th></th>\n",
       "      <th>ID</th>\n",
       "      <th>Name</th>\n",
       "    </tr>\n",
       "  </thead>\n",
       "  <tbody>\n",
       "    <tr>\n",
       "      <th>0</th>\n",
       "      <td>1</td>\n",
       "      <td>a</td>\n",
       "    </tr>\n",
       "    <tr>\n",
       "      <th>1</th>\n",
       "      <td>2</td>\n",
       "      <td>b</td>\n",
       "    </tr>\n",
       "    <tr>\n",
       "      <th>2</th>\n",
       "      <td>3</td>\n",
       "      <td>c</td>\n",
       "    </tr>\n",
       "    <tr>\n",
       "      <th>3</th>\n",
       "      <td>4</td>\n",
       "      <td>d</td>\n",
       "    </tr>\n",
       "    <tr>\n",
       "      <th>4</th>\n",
       "      <td>5</td>\n",
       "      <td>e</td>\n",
       "    </tr>\n",
       "  </tbody>\n",
       "</table>\n",
       "</div>"
      ],
      "text/plain": [
       "   ID Name\n",
       "0   1    a\n",
       "1   2    b\n",
       "2   3    c\n",
       "3   4    d\n",
       "4   5    e"
      ]
     },
     "execution_count": 3,
     "metadata": {},
     "output_type": "execute_result"
    }
   ],
   "source": [
    "d={\"ID\":[1,2,3,4,5],\"Name\":[\"a\",\"b\",\"c\",\"d\",\"e\"]}\n",
    "df=pd.DataFrame(d)\n",
    "df"
   ]
  },
  {
   "cell_type": "markdown",
   "metadata": {},
   "source": [
    "### Dataframe Iteration"
   ]
  },
  {
   "cell_type": "markdown",
   "metadata": {},
   "source": [
    "iteritems()\n",
    "\n",
    "iterrows()\n",
    "\n",
    "itertuples()"
   ]
  },
  {
   "cell_type": "code",
   "execution_count": 5,
   "metadata": {},
   "outputs": [
    {
     "name": "stdout",
     "output_type": "stream",
     "text": [
      "ID\n",
      "0    1\n",
      "1    2\n",
      "2    3\n",
      "3    4\n",
      "4    5\n",
      "Name: ID, dtype: int64\n",
      "Name\n",
      "0    a\n",
      "1    b\n",
      "2    c\n",
      "3    d\n",
      "4    e\n",
      "Name: Name, dtype: object\n"
     ]
    }
   ],
   "source": [
    "for key,value in df.iteritems():\n",
    "    print(key)\n",
    "    print(value)"
   ]
  },
  {
   "cell_type": "code",
   "execution_count": 7,
   "metadata": {},
   "outputs": [
    {
     "name": "stdout",
     "output_type": "stream",
     "text": [
      "index: 0\n",
      "ID      1\n",
      "Name    a\n",
      "Name: 0, dtype: object\n",
      "index: 1\n",
      "ID      2\n",
      "Name    b\n",
      "Name: 1, dtype: object\n",
      "index: 2\n",
      "ID      3\n",
      "Name    c\n",
      "Name: 2, dtype: object\n",
      "index: 3\n",
      "ID      4\n",
      "Name    d\n",
      "Name: 3, dtype: object\n",
      "index: 4\n",
      "ID      5\n",
      "Name    e\n",
      "Name: 4, dtype: object\n"
     ]
    }
   ],
   "source": [
    "for row_index,row_data in df.iterrows():\n",
    "    print(\"index:\",row_index)\n",
    "    print(row_data)"
   ]
  },
  {
   "cell_type": "code",
   "execution_count": 8,
   "metadata": {},
   "outputs": [
    {
     "name": "stdout",
     "output_type": "stream",
     "text": [
      "Pandas(Index=0, ID=1, Name='a')\n",
      "Pandas(Index=1, ID=2, Name='b')\n",
      "Pandas(Index=2, ID=3, Name='c')\n",
      "Pandas(Index=3, ID=4, Name='d')\n",
      "Pandas(Index=4, ID=5, Name='e')\n"
     ]
    }
   ],
   "source": [
    "for row in df.itertuples():\n",
    "    print(row)"
   ]
  },
  {
   "cell_type": "markdown",
   "metadata": {},
   "source": [
    "### Pandas Group by"
   ]
  },
  {
   "cell_type": "code",
   "execution_count": 9,
   "metadata": {},
   "outputs": [
    {
     "data": {
      "text/html": [
       "<div>\n",
       "<style scoped>\n",
       "    .dataframe tbody tr th:only-of-type {\n",
       "        vertical-align: middle;\n",
       "    }\n",
       "\n",
       "    .dataframe tbody tr th {\n",
       "        vertical-align: top;\n",
       "    }\n",
       "\n",
       "    .dataframe thead th {\n",
       "        text-align: right;\n",
       "    }\n",
       "</style>\n",
       "<table border=\"1\" class=\"dataframe\">\n",
       "  <thead>\n",
       "    <tr style=\"text-align: right;\">\n",
       "      <th></th>\n",
       "      <th>Points</th>\n",
       "      <th>Rank</th>\n",
       "      <th>Team</th>\n",
       "      <th>Year</th>\n",
       "    </tr>\n",
       "  </thead>\n",
       "  <tbody>\n",
       "    <tr>\n",
       "      <th>0</th>\n",
       "      <td>876</td>\n",
       "      <td>1</td>\n",
       "      <td>Riders</td>\n",
       "      <td>2014</td>\n",
       "    </tr>\n",
       "    <tr>\n",
       "      <th>1</th>\n",
       "      <td>789</td>\n",
       "      <td>2</td>\n",
       "      <td>Riders</td>\n",
       "      <td>2015</td>\n",
       "    </tr>\n",
       "    <tr>\n",
       "      <th>2</th>\n",
       "      <td>863</td>\n",
       "      <td>2</td>\n",
       "      <td>Devils</td>\n",
       "      <td>2014</td>\n",
       "    </tr>\n",
       "    <tr>\n",
       "      <th>3</th>\n",
       "      <td>673</td>\n",
       "      <td>3</td>\n",
       "      <td>Devils</td>\n",
       "      <td>2015</td>\n",
       "    </tr>\n",
       "    <tr>\n",
       "      <th>4</th>\n",
       "      <td>741</td>\n",
       "      <td>3</td>\n",
       "      <td>Kings</td>\n",
       "      <td>2014</td>\n",
       "    </tr>\n",
       "    <tr>\n",
       "      <th>5</th>\n",
       "      <td>812</td>\n",
       "      <td>4</td>\n",
       "      <td>Kings</td>\n",
       "      <td>2015</td>\n",
       "    </tr>\n",
       "    <tr>\n",
       "      <th>6</th>\n",
       "      <td>756</td>\n",
       "      <td>1</td>\n",
       "      <td>Kings</td>\n",
       "      <td>2016</td>\n",
       "    </tr>\n",
       "    <tr>\n",
       "      <th>7</th>\n",
       "      <td>788</td>\n",
       "      <td>1</td>\n",
       "      <td>Kings</td>\n",
       "      <td>2017</td>\n",
       "    </tr>\n",
       "    <tr>\n",
       "      <th>8</th>\n",
       "      <td>694</td>\n",
       "      <td>2</td>\n",
       "      <td>Riders</td>\n",
       "      <td>2016</td>\n",
       "    </tr>\n",
       "    <tr>\n",
       "      <th>9</th>\n",
       "      <td>701</td>\n",
       "      <td>4</td>\n",
       "      <td>Royals</td>\n",
       "      <td>2014</td>\n",
       "    </tr>\n",
       "    <tr>\n",
       "      <th>10</th>\n",
       "      <td>804</td>\n",
       "      <td>1</td>\n",
       "      <td>Royals</td>\n",
       "      <td>2015</td>\n",
       "    </tr>\n",
       "    <tr>\n",
       "      <th>11</th>\n",
       "      <td>690</td>\n",
       "      <td>2</td>\n",
       "      <td>Riders</td>\n",
       "      <td>2017</td>\n",
       "    </tr>\n",
       "  </tbody>\n",
       "</table>\n",
       "</div>"
      ],
      "text/plain": [
       "    Points  Rank    Team  Year\n",
       "0      876     1  Riders  2014\n",
       "1      789     2  Riders  2015\n",
       "2      863     2  Devils  2014\n",
       "3      673     3  Devils  2015\n",
       "4      741     3   Kings  2014\n",
       "5      812     4   Kings  2015\n",
       "6      756     1   Kings  2016\n",
       "7      788     1   Kings  2017\n",
       "8      694     2  Riders  2016\n",
       "9      701     4  Royals  2014\n",
       "10     804     1  Royals  2015\n",
       "11     690     2  Riders  2017"
      ]
     },
     "execution_count": 9,
     "metadata": {},
     "output_type": "execute_result"
    }
   ],
   "source": [
    "df=pd.read_csv(\"../Data/Teams.csv\")\n",
    "df"
   ]
  },
  {
   "cell_type": "code",
   "execution_count": 10,
   "metadata": {},
   "outputs": [
    {
     "data": {
      "text/plain": [
       "<pandas.core.groupby.generic.DataFrameGroupBy object at 0x0000022296D5EC10>"
      ]
     },
     "execution_count": 10,
     "metadata": {},
     "output_type": "execute_result"
    }
   ],
   "source": [
    "# Grouping data using team \n",
    "team=df.groupby(\"Team\")\n",
    "team"
   ]
  },
  {
   "cell_type": "code",
   "execution_count": 11,
   "metadata": {},
   "outputs": [
    {
     "data": {
      "text/plain": [
       "{'Devils': [2, 3], 'Kings': [4, 5, 6, 7], 'Riders': [0, 1, 8, 11], 'Royals': [9, 10]}"
      ]
     },
     "execution_count": 11,
     "metadata": {},
     "output_type": "execute_result"
    }
   ],
   "source": [
    "team.groups # Group_name: list of row index of items inside that group"
   ]
  },
  {
   "cell_type": "code",
   "execution_count": 12,
   "metadata": {},
   "outputs": [
    {
     "data": {
      "text/html": [
       "<div>\n",
       "<style scoped>\n",
       "    .dataframe tbody tr th:only-of-type {\n",
       "        vertical-align: middle;\n",
       "    }\n",
       "\n",
       "    .dataframe tbody tr th {\n",
       "        vertical-align: top;\n",
       "    }\n",
       "\n",
       "    .dataframe thead th {\n",
       "        text-align: right;\n",
       "    }\n",
       "</style>\n",
       "<table border=\"1\" class=\"dataframe\">\n",
       "  <thead>\n",
       "    <tr style=\"text-align: right;\">\n",
       "      <th></th>\n",
       "      <th>Points</th>\n",
       "      <th>Rank</th>\n",
       "      <th>Team</th>\n",
       "      <th>Year</th>\n",
       "    </tr>\n",
       "  </thead>\n",
       "  <tbody>\n",
       "    <tr>\n",
       "      <th>2</th>\n",
       "      <td>863</td>\n",
       "      <td>2</td>\n",
       "      <td>Devils</td>\n",
       "      <td>2014</td>\n",
       "    </tr>\n",
       "    <tr>\n",
       "      <th>3</th>\n",
       "      <td>673</td>\n",
       "      <td>3</td>\n",
       "      <td>Devils</td>\n",
       "      <td>2015</td>\n",
       "    </tr>\n",
       "  </tbody>\n",
       "</table>\n",
       "</div>"
      ],
      "text/plain": [
       "   Points  Rank    Team  Year\n",
       "2     863     2  Devils  2014\n",
       "3     673     3  Devils  2015"
      ]
     },
     "execution_count": 12,
     "metadata": {},
     "output_type": "execute_result"
    }
   ],
   "source": [
    "#getting devils data\n",
    "devils=team.get_group(\"Devils\")\n",
    "devils"
   ]
  },
  {
   "cell_type": "code",
   "execution_count": 13,
   "metadata": {},
   "outputs": [
    {
     "data": {
      "text/plain": [
       "Team\n",
       "Devils    768.00\n",
       "Kings     774.25\n",
       "Riders    762.25\n",
       "Royals    752.50\n",
       "Name: Points, dtype: float64"
      ]
     },
     "execution_count": 13,
     "metadata": {},
     "output_type": "execute_result"
    }
   ],
   "source": [
    "team[\"Points\"].mean() #Average points of all the teams"
   ]
  },
  {
   "cell_type": "code",
   "execution_count": 17,
   "metadata": {},
   "outputs": [
    {
     "data": {
      "text/plain": [
       "Team\n",
       "Devils    863\n",
       "Kings     812\n",
       "Riders    876\n",
       "Royals    804\n",
       "Name: Points, dtype: int64"
      ]
     },
     "execution_count": 17,
     "metadata": {},
     "output_type": "execute_result"
    }
   ],
   "source": [
    "team[\"Points\"].max() #Max points of all the teams"
   ]
  },
  {
   "cell_type": "code",
   "execution_count": 18,
   "metadata": {},
   "outputs": [
    {
     "data": {
      "text/html": [
       "<div>\n",
       "<style scoped>\n",
       "    .dataframe tbody tr th:only-of-type {\n",
       "        vertical-align: middle;\n",
       "    }\n",
       "\n",
       "    .dataframe tbody tr th {\n",
       "        vertical-align: top;\n",
       "    }\n",
       "\n",
       "    .dataframe thead th {\n",
       "        text-align: right;\n",
       "    }\n",
       "</style>\n",
       "<table border=\"1\" class=\"dataframe\">\n",
       "  <thead>\n",
       "    <tr style=\"text-align: right;\">\n",
       "      <th></th>\n",
       "      <th>Points</th>\n",
       "      <th>Rank</th>\n",
       "      <th>Year</th>\n",
       "    </tr>\n",
       "    <tr>\n",
       "      <th>Team</th>\n",
       "      <th></th>\n",
       "      <th></th>\n",
       "      <th></th>\n",
       "    </tr>\n",
       "  </thead>\n",
       "  <tbody>\n",
       "    <tr>\n",
       "      <th>Devils</th>\n",
       "      <td>2</td>\n",
       "      <td>2</td>\n",
       "      <td>2</td>\n",
       "    </tr>\n",
       "    <tr>\n",
       "      <th>Kings</th>\n",
       "      <td>4</td>\n",
       "      <td>4</td>\n",
       "      <td>4</td>\n",
       "    </tr>\n",
       "    <tr>\n",
       "      <th>Riders</th>\n",
       "      <td>4</td>\n",
       "      <td>4</td>\n",
       "      <td>4</td>\n",
       "    </tr>\n",
       "    <tr>\n",
       "      <th>Royals</th>\n",
       "      <td>2</td>\n",
       "      <td>2</td>\n",
       "      <td>2</td>\n",
       "    </tr>\n",
       "  </tbody>\n",
       "</table>\n",
       "</div>"
      ],
      "text/plain": [
       "        Points  Rank  Year\n",
       "Team                      \n",
       "Devils       2     2     2\n",
       "Kings        4     4     4\n",
       "Riders       4     4     4\n",
       "Royals       2     2     2"
      ]
     },
     "execution_count": 18,
     "metadata": {},
     "output_type": "execute_result"
    }
   ],
   "source": [
    "team.count() #count"
   ]
  },
  {
   "cell_type": "code",
   "execution_count": 21,
   "metadata": {},
   "outputs": [
    {
     "data": {
      "text/html": [
       "<div>\n",
       "<style scoped>\n",
       "    .dataframe tbody tr th:only-of-type {\n",
       "        vertical-align: middle;\n",
       "    }\n",
       "\n",
       "    .dataframe tbody tr th {\n",
       "        vertical-align: top;\n",
       "    }\n",
       "\n",
       "    .dataframe thead tr th {\n",
       "        text-align: left;\n",
       "    }\n",
       "\n",
       "    .dataframe thead tr:last-of-type th {\n",
       "        text-align: right;\n",
       "    }\n",
       "</style>\n",
       "<table border=\"1\" class=\"dataframe\">\n",
       "  <thead>\n",
       "    <tr>\n",
       "      <th></th>\n",
       "      <th colspan=\"8\" halign=\"left\">Points</th>\n",
       "      <th colspan=\"5\" halign=\"left\">Rank</th>\n",
       "      <th colspan=\"8\" halign=\"left\">Year</th>\n",
       "    </tr>\n",
       "    <tr>\n",
       "      <th></th>\n",
       "      <th>count</th>\n",
       "      <th>mean</th>\n",
       "      <th>std</th>\n",
       "      <th>min</th>\n",
       "      <th>25%</th>\n",
       "      <th>50%</th>\n",
       "      <th>75%</th>\n",
       "      <th>max</th>\n",
       "      <th>count</th>\n",
       "      <th>mean</th>\n",
       "      <th>...</th>\n",
       "      <th>75%</th>\n",
       "      <th>max</th>\n",
       "      <th>count</th>\n",
       "      <th>mean</th>\n",
       "      <th>std</th>\n",
       "      <th>min</th>\n",
       "      <th>25%</th>\n",
       "      <th>50%</th>\n",
       "      <th>75%</th>\n",
       "      <th>max</th>\n",
       "    </tr>\n",
       "    <tr>\n",
       "      <th>Team</th>\n",
       "      <th></th>\n",
       "      <th></th>\n",
       "      <th></th>\n",
       "      <th></th>\n",
       "      <th></th>\n",
       "      <th></th>\n",
       "      <th></th>\n",
       "      <th></th>\n",
       "      <th></th>\n",
       "      <th></th>\n",
       "      <th></th>\n",
       "      <th></th>\n",
       "      <th></th>\n",
       "      <th></th>\n",
       "      <th></th>\n",
       "      <th></th>\n",
       "      <th></th>\n",
       "      <th></th>\n",
       "      <th></th>\n",
       "      <th></th>\n",
       "      <th></th>\n",
       "    </tr>\n",
       "  </thead>\n",
       "  <tbody>\n",
       "    <tr>\n",
       "      <th>Devils</th>\n",
       "      <td>2.0</td>\n",
       "      <td>768.00</td>\n",
       "      <td>134.350288</td>\n",
       "      <td>673.0</td>\n",
       "      <td>720.50</td>\n",
       "      <td>768.0</td>\n",
       "      <td>815.50</td>\n",
       "      <td>863.0</td>\n",
       "      <td>2.0</td>\n",
       "      <td>2.50</td>\n",
       "      <td>...</td>\n",
       "      <td>2.75</td>\n",
       "      <td>3.0</td>\n",
       "      <td>2.0</td>\n",
       "      <td>2014.5</td>\n",
       "      <td>0.707107</td>\n",
       "      <td>2014.0</td>\n",
       "      <td>2014.25</td>\n",
       "      <td>2014.5</td>\n",
       "      <td>2014.75</td>\n",
       "      <td>2015.0</td>\n",
       "    </tr>\n",
       "    <tr>\n",
       "      <th>Kings</th>\n",
       "      <td>4.0</td>\n",
       "      <td>774.25</td>\n",
       "      <td>31.899582</td>\n",
       "      <td>741.0</td>\n",
       "      <td>752.25</td>\n",
       "      <td>772.0</td>\n",
       "      <td>794.00</td>\n",
       "      <td>812.0</td>\n",
       "      <td>4.0</td>\n",
       "      <td>2.25</td>\n",
       "      <td>...</td>\n",
       "      <td>3.25</td>\n",
       "      <td>4.0</td>\n",
       "      <td>4.0</td>\n",
       "      <td>2015.5</td>\n",
       "      <td>1.290994</td>\n",
       "      <td>2014.0</td>\n",
       "      <td>2014.75</td>\n",
       "      <td>2015.5</td>\n",
       "      <td>2016.25</td>\n",
       "      <td>2017.0</td>\n",
       "    </tr>\n",
       "    <tr>\n",
       "      <th>Riders</th>\n",
       "      <td>4.0</td>\n",
       "      <td>762.25</td>\n",
       "      <td>88.567771</td>\n",
       "      <td>690.0</td>\n",
       "      <td>693.00</td>\n",
       "      <td>741.5</td>\n",
       "      <td>810.75</td>\n",
       "      <td>876.0</td>\n",
       "      <td>4.0</td>\n",
       "      <td>1.75</td>\n",
       "      <td>...</td>\n",
       "      <td>2.00</td>\n",
       "      <td>2.0</td>\n",
       "      <td>4.0</td>\n",
       "      <td>2015.5</td>\n",
       "      <td>1.290994</td>\n",
       "      <td>2014.0</td>\n",
       "      <td>2014.75</td>\n",
       "      <td>2015.5</td>\n",
       "      <td>2016.25</td>\n",
       "      <td>2017.0</td>\n",
       "    </tr>\n",
       "    <tr>\n",
       "      <th>Royals</th>\n",
       "      <td>2.0</td>\n",
       "      <td>752.50</td>\n",
       "      <td>72.831998</td>\n",
       "      <td>701.0</td>\n",
       "      <td>726.75</td>\n",
       "      <td>752.5</td>\n",
       "      <td>778.25</td>\n",
       "      <td>804.0</td>\n",
       "      <td>2.0</td>\n",
       "      <td>2.50</td>\n",
       "      <td>...</td>\n",
       "      <td>3.25</td>\n",
       "      <td>4.0</td>\n",
       "      <td>2.0</td>\n",
       "      <td>2014.5</td>\n",
       "      <td>0.707107</td>\n",
       "      <td>2014.0</td>\n",
       "      <td>2014.25</td>\n",
       "      <td>2014.5</td>\n",
       "      <td>2014.75</td>\n",
       "      <td>2015.0</td>\n",
       "    </tr>\n",
       "  </tbody>\n",
       "</table>\n",
       "<p>4 rows × 24 columns</p>\n",
       "</div>"
      ],
      "text/plain": [
       "       Points                                                           Rank  \\\n",
       "        count    mean         std    min     25%    50%     75%    max count   \n",
       "Team                                                                           \n",
       "Devils    2.0  768.00  134.350288  673.0  720.50  768.0  815.50  863.0   2.0   \n",
       "Kings     4.0  774.25   31.899582  741.0  752.25  772.0  794.00  812.0   4.0   \n",
       "Riders    4.0  762.25   88.567771  690.0  693.00  741.5  810.75  876.0   4.0   \n",
       "Royals    2.0  752.50   72.831998  701.0  726.75  752.5  778.25  804.0   2.0   \n",
       "\n",
       "              ...             Year                                             \\\n",
       "        mean  ...   75%  max count    mean       std     min      25%     50%   \n",
       "Team          ...                                                               \n",
       "Devils  2.50  ...  2.75  3.0   2.0  2014.5  0.707107  2014.0  2014.25  2014.5   \n",
       "Kings   2.25  ...  3.25  4.0   4.0  2015.5  1.290994  2014.0  2014.75  2015.5   \n",
       "Riders  1.75  ...  2.00  2.0   4.0  2015.5  1.290994  2014.0  2014.75  2015.5   \n",
       "Royals  2.50  ...  3.25  4.0   2.0  2014.5  0.707107  2014.0  2014.25  2014.5   \n",
       "\n",
       "                         \n",
       "            75%     max  \n",
       "Team                     \n",
       "Devils  2014.75  2015.0  \n",
       "Kings   2016.25  2017.0  \n",
       "Riders  2016.25  2017.0  \n",
       "Royals  2014.75  2015.0  \n",
       "\n",
       "[4 rows x 24 columns]"
      ]
     },
     "execution_count": 21,
     "metadata": {},
     "output_type": "execute_result"
    }
   ],
   "source": [
    "team.describe()"
   ]
  },
  {
   "cell_type": "markdown",
   "metadata": {},
   "source": [
    "1. Group by the team and display all teams"
   ]
  },
  {
   "cell_type": "code",
   "execution_count": 23,
   "metadata": {},
   "outputs": [
    {
     "data": {
      "text/html": [
       "<div>\n",
       "<style scoped>\n",
       "    .dataframe tbody tr th:only-of-type {\n",
       "        vertical-align: middle;\n",
       "    }\n",
       "\n",
       "    .dataframe tbody tr th {\n",
       "        vertical-align: top;\n",
       "    }\n",
       "\n",
       "    .dataframe thead th {\n",
       "        text-align: right;\n",
       "    }\n",
       "</style>\n",
       "<table border=\"1\" class=\"dataframe\">\n",
       "  <thead>\n",
       "    <tr style=\"text-align: right;\">\n",
       "      <th></th>\n",
       "      <th>Points</th>\n",
       "      <th>Rank</th>\n",
       "      <th>Team</th>\n",
       "      <th>Year</th>\n",
       "    </tr>\n",
       "  </thead>\n",
       "  <tbody>\n",
       "    <tr>\n",
       "      <th>9</th>\n",
       "      <td>701</td>\n",
       "      <td>4</td>\n",
       "      <td>Royals</td>\n",
       "      <td>2014</td>\n",
       "    </tr>\n",
       "    <tr>\n",
       "      <th>10</th>\n",
       "      <td>804</td>\n",
       "      <td>1</td>\n",
       "      <td>Royals</td>\n",
       "      <td>2015</td>\n",
       "    </tr>\n",
       "  </tbody>\n",
       "</table>\n",
       "</div>"
      ],
      "text/plain": [
       "    Points  Rank    Team  Year\n",
       "9      701     4  Royals  2014\n",
       "10     804     1  Royals  2015"
      ]
     },
     "execution_count": 23,
     "metadata": {},
     "output_type": "execute_result"
    }
   ],
   "source": [
    "team.get_group(\"Devils\")\n",
    "team.get_group(\"Kings\")\n",
    "team.get_group(\"Riders\")\n",
    "team.get_group(\"Royals\")"
   ]
  },
  {
   "cell_type": "markdown",
   "metadata": {},
   "source": [
    "2. Print all Riders teams Details"
   ]
  },
  {
   "cell_type": "code",
   "execution_count": 24,
   "metadata": {},
   "outputs": [
    {
     "data": {
      "text/html": [
       "<div>\n",
       "<style scoped>\n",
       "    .dataframe tbody tr th:only-of-type {\n",
       "        vertical-align: middle;\n",
       "    }\n",
       "\n",
       "    .dataframe tbody tr th {\n",
       "        vertical-align: top;\n",
       "    }\n",
       "\n",
       "    .dataframe thead th {\n",
       "        text-align: right;\n",
       "    }\n",
       "</style>\n",
       "<table border=\"1\" class=\"dataframe\">\n",
       "  <thead>\n",
       "    <tr style=\"text-align: right;\">\n",
       "      <th></th>\n",
       "      <th>Points</th>\n",
       "      <th>Rank</th>\n",
       "      <th>Team</th>\n",
       "      <th>Year</th>\n",
       "    </tr>\n",
       "  </thead>\n",
       "  <tbody>\n",
       "    <tr>\n",
       "      <th>0</th>\n",
       "      <td>876</td>\n",
       "      <td>1</td>\n",
       "      <td>Riders</td>\n",
       "      <td>2014</td>\n",
       "    </tr>\n",
       "    <tr>\n",
       "      <th>1</th>\n",
       "      <td>789</td>\n",
       "      <td>2</td>\n",
       "      <td>Riders</td>\n",
       "      <td>2015</td>\n",
       "    </tr>\n",
       "    <tr>\n",
       "      <th>8</th>\n",
       "      <td>694</td>\n",
       "      <td>2</td>\n",
       "      <td>Riders</td>\n",
       "      <td>2016</td>\n",
       "    </tr>\n",
       "    <tr>\n",
       "      <th>11</th>\n",
       "      <td>690</td>\n",
       "      <td>2</td>\n",
       "      <td>Riders</td>\n",
       "      <td>2017</td>\n",
       "    </tr>\n",
       "  </tbody>\n",
       "</table>\n",
       "</div>"
      ],
      "text/plain": [
       "    Points  Rank    Team  Year\n",
       "0      876     1  Riders  2014\n",
       "1      789     2  Riders  2015\n",
       "8      694     2  Riders  2016\n",
       "11     690     2  Riders  2017"
      ]
     },
     "execution_count": 24,
     "metadata": {},
     "output_type": "execute_result"
    }
   ],
   "source": [
    "team.get_group(\"Riders\")"
   ]
  },
  {
   "cell_type": "markdown",
   "metadata": {},
   "source": [
    "3. Print The maximum Points of Year 2014"
   ]
  },
  {
   "cell_type": "code",
   "execution_count": 26,
   "metadata": {},
   "outputs": [
    {
     "data": {
      "text/plain": [
       "876"
      ]
     },
     "execution_count": 26,
     "metadata": {},
     "output_type": "execute_result"
    }
   ],
   "source": [
    "year=df.groupby(\"Year\")\n",
    "year.get_group(2014)[\"Points\"].max()"
   ]
  },
  {
   "cell_type": "markdown",
   "metadata": {},
   "source": [
    "4. Print all rank 1 teams"
   ]
  },
  {
   "cell_type": "code",
   "execution_count": 28,
   "metadata": {},
   "outputs": [
    {
     "data": {
      "text/plain": [
       "0     Riders\n",
       "6      Kings\n",
       "7      Kings\n",
       "10    Royals\n",
       "Name: Team, dtype: object"
      ]
     },
     "execution_count": 28,
     "metadata": {},
     "output_type": "execute_result"
    }
   ],
   "source": [
    "Rank=df.groupby(\"Rank\")\n",
    "Rank.get_group(1)[\"Team\"]"
   ]
  },
  {
   "cell_type": "markdown",
   "metadata": {},
   "source": [
    "5. Print Each Teams Highest Points"
   ]
  },
  {
   "cell_type": "code",
   "execution_count": 30,
   "metadata": {},
   "outputs": [
    {
     "data": {
      "text/plain": [
       "Team\n",
       "Devils    863\n",
       "Kings     812\n",
       "Riders    876\n",
       "Royals    804\n",
       "Name: Points, dtype: int64"
      ]
     },
     "execution_count": 30,
     "metadata": {},
     "output_type": "execute_result"
    }
   ],
   "source": [
    "team[\"Points\"].max()"
   ]
  },
  {
   "cell_type": "markdown",
   "metadata": {},
   "source": [
    "6. Print Each Teams average Points"
   ]
  },
  {
   "cell_type": "code",
   "execution_count": 31,
   "metadata": {},
   "outputs": [
    {
     "data": {
      "text/plain": [
       "Team\n",
       "Devils    768.00\n",
       "Kings     774.25\n",
       "Riders    762.25\n",
       "Royals    752.50\n",
       "Name: Points, dtype: float64"
      ]
     },
     "execution_count": 31,
     "metadata": {},
     "output_type": "execute_result"
    }
   ],
   "source": [
    "team[\"Points\"].mean()"
   ]
  },
  {
   "cell_type": "markdown",
   "metadata": {},
   "source": [
    "### Filtering data and Selection"
   ]
  },
  {
   "cell_type": "code",
   "execution_count": 32,
   "metadata": {},
   "outputs": [
    {
     "data": {
      "text/html": [
       "<div>\n",
       "<style scoped>\n",
       "    .dataframe tbody tr th:only-of-type {\n",
       "        vertical-align: middle;\n",
       "    }\n",
       "\n",
       "    .dataframe tbody tr th {\n",
       "        vertical-align: top;\n",
       "    }\n",
       "\n",
       "    .dataframe thead th {\n",
       "        text-align: right;\n",
       "    }\n",
       "</style>\n",
       "<table border=\"1\" class=\"dataframe\">\n",
       "  <thead>\n",
       "    <tr style=\"text-align: right;\">\n",
       "      <th></th>\n",
       "      <th>Points</th>\n",
       "      <th>Rank</th>\n",
       "      <th>Team</th>\n",
       "      <th>Year</th>\n",
       "    </tr>\n",
       "  </thead>\n",
       "  <tbody>\n",
       "    <tr>\n",
       "      <th>1</th>\n",
       "      <td>789</td>\n",
       "      <td>2</td>\n",
       "      <td>Riders</td>\n",
       "      <td>2015</td>\n",
       "    </tr>\n",
       "    <tr>\n",
       "      <th>3</th>\n",
       "      <td>673</td>\n",
       "      <td>3</td>\n",
       "      <td>Devils</td>\n",
       "      <td>2015</td>\n",
       "    </tr>\n",
       "    <tr>\n",
       "      <th>5</th>\n",
       "      <td>812</td>\n",
       "      <td>4</td>\n",
       "      <td>Kings</td>\n",
       "      <td>2015</td>\n",
       "    </tr>\n",
       "    <tr>\n",
       "      <th>10</th>\n",
       "      <td>804</td>\n",
       "      <td>1</td>\n",
       "      <td>Royals</td>\n",
       "      <td>2015</td>\n",
       "    </tr>\n",
       "  </tbody>\n",
       "</table>\n",
       "</div>"
      ],
      "text/plain": [
       "    Points  Rank    Team  Year\n",
       "1      789     2  Riders  2015\n",
       "3      673     3  Devils  2015\n",
       "5      812     4   Kings  2015\n",
       "10     804     1  Royals  2015"
      ]
     },
     "execution_count": 32,
     "metadata": {},
     "output_type": "execute_result"
    }
   ],
   "source": [
    "#dataframe[condition]\n",
    "#get data of year 2015\n",
    "df[df[\"Year\"]==2015]"
   ]
  },
  {
   "cell_type": "code",
   "execution_count": 33,
   "metadata": {},
   "outputs": [
    {
     "data": {
      "text/html": [
       "<div>\n",
       "<style scoped>\n",
       "    .dataframe tbody tr th:only-of-type {\n",
       "        vertical-align: middle;\n",
       "    }\n",
       "\n",
       "    .dataframe tbody tr th {\n",
       "        vertical-align: top;\n",
       "    }\n",
       "\n",
       "    .dataframe thead th {\n",
       "        text-align: right;\n",
       "    }\n",
       "</style>\n",
       "<table border=\"1\" class=\"dataframe\">\n",
       "  <thead>\n",
       "    <tr style=\"text-align: right;\">\n",
       "      <th></th>\n",
       "      <th>Points</th>\n",
       "      <th>Rank</th>\n",
       "      <th>Team</th>\n",
       "      <th>Year</th>\n",
       "    </tr>\n",
       "  </thead>\n",
       "  <tbody>\n",
       "    <tr>\n",
       "      <th>0</th>\n",
       "      <td>876</td>\n",
       "      <td>1</td>\n",
       "      <td>Riders</td>\n",
       "      <td>2014</td>\n",
       "    </tr>\n",
       "  </tbody>\n",
       "</table>\n",
       "</div>"
      ],
      "text/plain": [
       "   Points  Rank    Team  Year\n",
       "0     876     1  Riders  2014"
      ]
     },
     "execution_count": 33,
     "metadata": {},
     "output_type": "execute_result"
    }
   ],
   "source": [
    "#multiple conditions\n",
    "#df[(condition 1) & ,| (condition 2)]\n",
    "#get the team from 2014 which having rank 1\n",
    "df[(df[\"Year\"]==2014) & (df[\"Rank\"]==1)]"
   ]
  },
  {
   "cell_type": "code",
   "execution_count": 36,
   "metadata": {},
   "outputs": [
    {
     "data": {
      "text/html": [
       "<div>\n",
       "<style scoped>\n",
       "    .dataframe tbody tr th:only-of-type {\n",
       "        vertical-align: middle;\n",
       "    }\n",
       "\n",
       "    .dataframe tbody tr th {\n",
       "        vertical-align: top;\n",
       "    }\n",
       "\n",
       "    .dataframe thead th {\n",
       "        text-align: right;\n",
       "    }\n",
       "</style>\n",
       "<table border=\"1\" class=\"dataframe\">\n",
       "  <thead>\n",
       "    <tr style=\"text-align: right;\">\n",
       "      <th></th>\n",
       "      <th>Points</th>\n",
       "      <th>Rank</th>\n",
       "      <th>Team</th>\n",
       "      <th>Year</th>\n",
       "    </tr>\n",
       "  </thead>\n",
       "  <tbody>\n",
       "    <tr>\n",
       "      <th>0</th>\n",
       "      <td>876</td>\n",
       "      <td>1</td>\n",
       "      <td>Riders</td>\n",
       "      <td>2014</td>\n",
       "    </tr>\n",
       "  </tbody>\n",
       "</table>\n",
       "</div>"
      ],
      "text/plain": [
       "   Points  Rank    Team  Year\n",
       "0     876     1  Riders  2014"
      ]
     },
     "execution_count": 36,
     "metadata": {},
     "output_type": "execute_result"
    }
   ],
   "source": [
    "# Get Highest Score Team Details\n",
    "df[df[\"Points\"]==df[\"Points\"].max()]"
   ]
  },
  {
   "cell_type": "code",
   "execution_count": 37,
   "metadata": {},
   "outputs": [
    {
     "data": {
      "text/plain": [
       "2    4\n",
       "1    4\n",
       "4    2\n",
       "3    2\n",
       "Name: Rank, dtype: int64"
      ]
     },
     "execution_count": 37,
     "metadata": {},
     "output_type": "execute_result"
    }
   ],
   "source": [
    "df[\"Rank\"].value_counts()"
   ]
  },
  {
   "cell_type": "code",
   "execution_count": 38,
   "metadata": {},
   "outputs": [
    {
     "data": {
      "text/plain": [
       "Kings     4\n",
       "Riders    4\n",
       "Royals    2\n",
       "Devils    2\n",
       "Name: Team, dtype: int64"
      ]
     },
     "execution_count": 38,
     "metadata": {},
     "output_type": "execute_result"
    }
   ],
   "source": [
    "df[\"Team\"].value_counts()"
   ]
  },
  {
   "cell_type": "markdown",
   "metadata": {},
   "source": [
    "### Missing Values"
   ]
  },
  {
   "cell_type": "code",
   "execution_count": 55,
   "metadata": {},
   "outputs": [],
   "source": [
    "df=pd.read_csv(\"Data.csv\")"
   ]
  },
  {
   "cell_type": "code",
   "execution_count": 40,
   "metadata": {},
   "outputs": [
    {
     "data": {
      "text/html": [
       "<div>\n",
       "<style scoped>\n",
       "    .dataframe tbody tr th:only-of-type {\n",
       "        vertical-align: middle;\n",
       "    }\n",
       "\n",
       "    .dataframe tbody tr th {\n",
       "        vertical-align: top;\n",
       "    }\n",
       "\n",
       "    .dataframe thead th {\n",
       "        text-align: right;\n",
       "    }\n",
       "</style>\n",
       "<table border=\"1\" class=\"dataframe\">\n",
       "  <thead>\n",
       "    <tr style=\"text-align: right;\">\n",
       "      <th></th>\n",
       "      <th>Roll_no</th>\n",
       "      <th>Name</th>\n",
       "      <th>division</th>\n",
       "      <th>marks</th>\n",
       "    </tr>\n",
       "  </thead>\n",
       "  <tbody>\n",
       "    <tr>\n",
       "      <th>0</th>\n",
       "      <td>1</td>\n",
       "      <td>alex</td>\n",
       "      <td>NaN</td>\n",
       "      <td>15.0</td>\n",
       "    </tr>\n",
       "    <tr>\n",
       "      <th>1</th>\n",
       "      <td>2</td>\n",
       "      <td>NaN</td>\n",
       "      <td>B</td>\n",
       "      <td>NaN</td>\n",
       "    </tr>\n",
       "    <tr>\n",
       "      <th>2</th>\n",
       "      <td>3</td>\n",
       "      <td>max</td>\n",
       "      <td>A</td>\n",
       "      <td>10.0</td>\n",
       "    </tr>\n",
       "    <tr>\n",
       "      <th>3</th>\n",
       "      <td>4</td>\n",
       "      <td>NaN</td>\n",
       "      <td>B</td>\n",
       "      <td>11.0</td>\n",
       "    </tr>\n",
       "    <tr>\n",
       "      <th>4</th>\n",
       "      <td>5</td>\n",
       "      <td>rose</td>\n",
       "      <td>A</td>\n",
       "      <td>NaN</td>\n",
       "    </tr>\n",
       "  </tbody>\n",
       "</table>\n",
       "</div>"
      ],
      "text/plain": [
       "   Roll_no  Name division  marks\n",
       "0        1  alex      NaN   15.0\n",
       "1        2   NaN        B    NaN\n",
       "2        3   max        A   10.0\n",
       "3        4   NaN        B   11.0\n",
       "4        5  rose        A    NaN"
      ]
     },
     "execution_count": 40,
     "metadata": {},
     "output_type": "execute_result"
    }
   ],
   "source": [
    "df"
   ]
  },
  {
   "cell_type": "code",
   "execution_count": 41,
   "metadata": {},
   "outputs": [
    {
     "name": "stdout",
     "output_type": "stream",
     "text": [
      "<class 'pandas.core.frame.DataFrame'>\n",
      "RangeIndex: 5 entries, 0 to 4\n",
      "Data columns (total 4 columns):\n",
      " #   Column    Non-Null Count  Dtype  \n",
      "---  ------    --------------  -----  \n",
      " 0   Roll_no   5 non-null      int64  \n",
      " 1   Name      3 non-null      object \n",
      " 2   division  4 non-null      object \n",
      " 3   marks     3 non-null      float64\n",
      "dtypes: float64(1), int64(1), object(2)\n",
      "memory usage: 288.0+ bytes\n"
     ]
    }
   ],
   "source": [
    "df.info()"
   ]
  },
  {
   "cell_type": "code",
   "execution_count": 42,
   "metadata": {},
   "outputs": [
    {
     "data": {
      "text/html": [
       "<div>\n",
       "<style scoped>\n",
       "    .dataframe tbody tr th:only-of-type {\n",
       "        vertical-align: middle;\n",
       "    }\n",
       "\n",
       "    .dataframe tbody tr th {\n",
       "        vertical-align: top;\n",
       "    }\n",
       "\n",
       "    .dataframe thead th {\n",
       "        text-align: right;\n",
       "    }\n",
       "</style>\n",
       "<table border=\"1\" class=\"dataframe\">\n",
       "  <thead>\n",
       "    <tr style=\"text-align: right;\">\n",
       "      <th></th>\n",
       "      <th>Roll_no</th>\n",
       "      <th>Name</th>\n",
       "      <th>division</th>\n",
       "      <th>marks</th>\n",
       "    </tr>\n",
       "  </thead>\n",
       "  <tbody>\n",
       "    <tr>\n",
       "      <th>0</th>\n",
       "      <td>False</td>\n",
       "      <td>False</td>\n",
       "      <td>True</td>\n",
       "      <td>False</td>\n",
       "    </tr>\n",
       "    <tr>\n",
       "      <th>1</th>\n",
       "      <td>False</td>\n",
       "      <td>True</td>\n",
       "      <td>False</td>\n",
       "      <td>True</td>\n",
       "    </tr>\n",
       "    <tr>\n",
       "      <th>2</th>\n",
       "      <td>False</td>\n",
       "      <td>False</td>\n",
       "      <td>False</td>\n",
       "      <td>False</td>\n",
       "    </tr>\n",
       "    <tr>\n",
       "      <th>3</th>\n",
       "      <td>False</td>\n",
       "      <td>True</td>\n",
       "      <td>False</td>\n",
       "      <td>False</td>\n",
       "    </tr>\n",
       "    <tr>\n",
       "      <th>4</th>\n",
       "      <td>False</td>\n",
       "      <td>False</td>\n",
       "      <td>False</td>\n",
       "      <td>True</td>\n",
       "    </tr>\n",
       "  </tbody>\n",
       "</table>\n",
       "</div>"
      ],
      "text/plain": [
       "   Roll_no   Name  division  marks\n",
       "0    False  False      True  False\n",
       "1    False   True     False   True\n",
       "2    False  False     False  False\n",
       "3    False   True     False  False\n",
       "4    False  False     False   True"
      ]
     },
     "execution_count": 42,
     "metadata": {},
     "output_type": "execute_result"
    }
   ],
   "source": [
    "df.isna()"
   ]
  },
  {
   "cell_type": "code",
   "execution_count": 43,
   "metadata": {},
   "outputs": [
    {
     "data": {
      "text/plain": [
       "Roll_no     0\n",
       "Name        2\n",
       "division    1\n",
       "marks       2\n",
       "dtype: int64"
      ]
     },
     "execution_count": 43,
     "metadata": {},
     "output_type": "execute_result"
    }
   ],
   "source": [
    "df.isna().sum()"
   ]
  },
  {
   "cell_type": "markdown",
   "metadata": {},
   "source": [
    "### 1. Remove all rows containing NaN\n"
   ]
  },
  {
   "cell_type": "code",
   "execution_count": 46,
   "metadata": {},
   "outputs": [],
   "source": [
    "df.dropna(inplace=True)"
   ]
  },
  {
   "cell_type": "code",
   "execution_count": 47,
   "metadata": {},
   "outputs": [
    {
     "data": {
      "text/html": [
       "<div>\n",
       "<style scoped>\n",
       "    .dataframe tbody tr th:only-of-type {\n",
       "        vertical-align: middle;\n",
       "    }\n",
       "\n",
       "    .dataframe tbody tr th {\n",
       "        vertical-align: top;\n",
       "    }\n",
       "\n",
       "    .dataframe thead th {\n",
       "        text-align: right;\n",
       "    }\n",
       "</style>\n",
       "<table border=\"1\" class=\"dataframe\">\n",
       "  <thead>\n",
       "    <tr style=\"text-align: right;\">\n",
       "      <th></th>\n",
       "      <th>Roll_no</th>\n",
       "      <th>Name</th>\n",
       "      <th>division</th>\n",
       "      <th>marks</th>\n",
       "    </tr>\n",
       "  </thead>\n",
       "  <tbody>\n",
       "    <tr>\n",
       "      <th>2</th>\n",
       "      <td>3</td>\n",
       "      <td>max</td>\n",
       "      <td>A</td>\n",
       "      <td>10.0</td>\n",
       "    </tr>\n",
       "  </tbody>\n",
       "</table>\n",
       "</div>"
      ],
      "text/plain": [
       "   Roll_no Name division  marks\n",
       "2        3  max        A   10.0"
      ]
     },
     "execution_count": 47,
     "metadata": {},
     "output_type": "execute_result"
    }
   ],
   "source": [
    "df"
   ]
  },
  {
   "cell_type": "markdown",
   "metadata": {},
   "source": [
    "### 2. Replacing NaN with mean,median,mode"
   ]
  },
  {
   "cell_type": "code",
   "execution_count": 49,
   "metadata": {},
   "outputs": [
    {
     "data": {
      "text/html": [
       "<div>\n",
       "<style scoped>\n",
       "    .dataframe tbody tr th:only-of-type {\n",
       "        vertical-align: middle;\n",
       "    }\n",
       "\n",
       "    .dataframe tbody tr th {\n",
       "        vertical-align: top;\n",
       "    }\n",
       "\n",
       "    .dataframe thead th {\n",
       "        text-align: right;\n",
       "    }\n",
       "</style>\n",
       "<table border=\"1\" class=\"dataframe\">\n",
       "  <thead>\n",
       "    <tr style=\"text-align: right;\">\n",
       "      <th></th>\n",
       "      <th>Roll_no</th>\n",
       "      <th>Name</th>\n",
       "      <th>division</th>\n",
       "      <th>marks</th>\n",
       "    </tr>\n",
       "  </thead>\n",
       "  <tbody>\n",
       "    <tr>\n",
       "      <th>0</th>\n",
       "      <td>1</td>\n",
       "      <td>alex</td>\n",
       "      <td>NaN</td>\n",
       "      <td>15.0</td>\n",
       "    </tr>\n",
       "    <tr>\n",
       "      <th>1</th>\n",
       "      <td>2</td>\n",
       "      <td>NaN</td>\n",
       "      <td>B</td>\n",
       "      <td>12.0</td>\n",
       "    </tr>\n",
       "    <tr>\n",
       "      <th>2</th>\n",
       "      <td>3</td>\n",
       "      <td>max</td>\n",
       "      <td>A</td>\n",
       "      <td>10.0</td>\n",
       "    </tr>\n",
       "    <tr>\n",
       "      <th>3</th>\n",
       "      <td>4</td>\n",
       "      <td>NaN</td>\n",
       "      <td>B</td>\n",
       "      <td>11.0</td>\n",
       "    </tr>\n",
       "    <tr>\n",
       "      <th>4</th>\n",
       "      <td>5</td>\n",
       "      <td>rose</td>\n",
       "      <td>A</td>\n",
       "      <td>12.0</td>\n",
       "    </tr>\n",
       "  </tbody>\n",
       "</table>\n",
       "</div>"
      ],
      "text/plain": [
       "   Roll_no  Name division  marks\n",
       "0        1  alex      NaN   15.0\n",
       "1        2   NaN        B   12.0\n",
       "2        3   max        A   10.0\n",
       "3        4   NaN        B   11.0\n",
       "4        5  rose        A   12.0"
      ]
     },
     "execution_count": 49,
     "metadata": {},
     "output_type": "execute_result"
    }
   ],
   "source": [
    "#df.fillna(value)\n",
    "#Fill Nan from marks with mean\n",
    "df[\"marks\"]=df[\"marks\"].fillna(df[\"marks\"].mean())\n",
    "df"
   ]
  },
  {
   "cell_type": "code",
   "execution_count": 52,
   "metadata": {},
   "outputs": [],
   "source": [
    "mode_div=df[\"division\"].mode()[0]"
   ]
  },
  {
   "cell_type": "code",
   "execution_count": 53,
   "metadata": {},
   "outputs": [
    {
     "data": {
      "text/html": [
       "<div>\n",
       "<style scoped>\n",
       "    .dataframe tbody tr th:only-of-type {\n",
       "        vertical-align: middle;\n",
       "    }\n",
       "\n",
       "    .dataframe tbody tr th {\n",
       "        vertical-align: top;\n",
       "    }\n",
       "\n",
       "    .dataframe thead th {\n",
       "        text-align: right;\n",
       "    }\n",
       "</style>\n",
       "<table border=\"1\" class=\"dataframe\">\n",
       "  <thead>\n",
       "    <tr style=\"text-align: right;\">\n",
       "      <th></th>\n",
       "      <th>Roll_no</th>\n",
       "      <th>Name</th>\n",
       "      <th>division</th>\n",
       "      <th>marks</th>\n",
       "    </tr>\n",
       "  </thead>\n",
       "  <tbody>\n",
       "    <tr>\n",
       "      <th>0</th>\n",
       "      <td>1</td>\n",
       "      <td>alex</td>\n",
       "      <td>A</td>\n",
       "      <td>15.0</td>\n",
       "    </tr>\n",
       "    <tr>\n",
       "      <th>1</th>\n",
       "      <td>2</td>\n",
       "      <td>NaN</td>\n",
       "      <td>B</td>\n",
       "      <td>12.0</td>\n",
       "    </tr>\n",
       "    <tr>\n",
       "      <th>2</th>\n",
       "      <td>3</td>\n",
       "      <td>max</td>\n",
       "      <td>A</td>\n",
       "      <td>10.0</td>\n",
       "    </tr>\n",
       "    <tr>\n",
       "      <th>3</th>\n",
       "      <td>4</td>\n",
       "      <td>NaN</td>\n",
       "      <td>B</td>\n",
       "      <td>11.0</td>\n",
       "    </tr>\n",
       "    <tr>\n",
       "      <th>4</th>\n",
       "      <td>5</td>\n",
       "      <td>rose</td>\n",
       "      <td>A</td>\n",
       "      <td>12.0</td>\n",
       "    </tr>\n",
       "  </tbody>\n",
       "</table>\n",
       "</div>"
      ],
      "text/plain": [
       "   Roll_no  Name division  marks\n",
       "0        1  alex        A   15.0\n",
       "1        2   NaN        B   12.0\n",
       "2        3   max        A   10.0\n",
       "3        4   NaN        B   11.0\n",
       "4        5  rose        A   12.0"
      ]
     },
     "execution_count": 53,
     "metadata": {},
     "output_type": "execute_result"
    }
   ],
   "source": [
    "#Filling Division Nan with mode\n",
    "df[\"division\"]=df[\"division\"].fillna(mode_div)\n",
    "df"
   ]
  },
  {
   "cell_type": "code",
   "execution_count": 54,
   "metadata": {},
   "outputs": [
    {
     "data": {
      "text/html": [
       "<div>\n",
       "<style scoped>\n",
       "    .dataframe tbody tr th:only-of-type {\n",
       "        vertical-align: middle;\n",
       "    }\n",
       "\n",
       "    .dataframe tbody tr th {\n",
       "        vertical-align: top;\n",
       "    }\n",
       "\n",
       "    .dataframe thead th {\n",
       "        text-align: right;\n",
       "    }\n",
       "</style>\n",
       "<table border=\"1\" class=\"dataframe\">\n",
       "  <thead>\n",
       "    <tr style=\"text-align: right;\">\n",
       "      <th></th>\n",
       "      <th>Roll_no</th>\n",
       "      <th>Name</th>\n",
       "      <th>division</th>\n",
       "      <th>marks</th>\n",
       "    </tr>\n",
       "  </thead>\n",
       "  <tbody>\n",
       "    <tr>\n",
       "      <th>0</th>\n",
       "      <td>1</td>\n",
       "      <td>alex</td>\n",
       "      <td>A</td>\n",
       "      <td>15.0</td>\n",
       "    </tr>\n",
       "    <tr>\n",
       "      <th>1</th>\n",
       "      <td>2</td>\n",
       "      <td>Unknown</td>\n",
       "      <td>B</td>\n",
       "      <td>12.0</td>\n",
       "    </tr>\n",
       "    <tr>\n",
       "      <th>2</th>\n",
       "      <td>3</td>\n",
       "      <td>max</td>\n",
       "      <td>A</td>\n",
       "      <td>10.0</td>\n",
       "    </tr>\n",
       "    <tr>\n",
       "      <th>3</th>\n",
       "      <td>4</td>\n",
       "      <td>Unknown</td>\n",
       "      <td>B</td>\n",
       "      <td>11.0</td>\n",
       "    </tr>\n",
       "    <tr>\n",
       "      <th>4</th>\n",
       "      <td>5</td>\n",
       "      <td>rose</td>\n",
       "      <td>A</td>\n",
       "      <td>12.0</td>\n",
       "    </tr>\n",
       "  </tbody>\n",
       "</table>\n",
       "</div>"
      ],
      "text/plain": [
       "   Roll_no     Name division  marks\n",
       "0        1     alex        A   15.0\n",
       "1        2  Unknown        B   12.0\n",
       "2        3      max        A   10.0\n",
       "3        4  Unknown        B   11.0\n",
       "4        5     rose        A   12.0"
      ]
     },
     "execution_count": 54,
     "metadata": {},
     "output_type": "execute_result"
    }
   ],
   "source": [
    "df[\"Name\"]=df[\"Name\"].fillna(\"Unknown\")\n",
    "df"
   ]
  },
  {
   "cell_type": "markdown",
   "metadata": {},
   "source": [
    "### Forward Fill and Backword Fill "
   ]
  },
  {
   "cell_type": "code",
   "execution_count": 56,
   "metadata": {},
   "outputs": [
    {
     "data": {
      "text/html": [
       "<div>\n",
       "<style scoped>\n",
       "    .dataframe tbody tr th:only-of-type {\n",
       "        vertical-align: middle;\n",
       "    }\n",
       "\n",
       "    .dataframe tbody tr th {\n",
       "        vertical-align: top;\n",
       "    }\n",
       "\n",
       "    .dataframe thead th {\n",
       "        text-align: right;\n",
       "    }\n",
       "</style>\n",
       "<table border=\"1\" class=\"dataframe\">\n",
       "  <thead>\n",
       "    <tr style=\"text-align: right;\">\n",
       "      <th></th>\n",
       "      <th>Roll_no</th>\n",
       "      <th>Name</th>\n",
       "      <th>division</th>\n",
       "      <th>marks</th>\n",
       "    </tr>\n",
       "  </thead>\n",
       "  <tbody>\n",
       "    <tr>\n",
       "      <th>0</th>\n",
       "      <td>1</td>\n",
       "      <td>alex</td>\n",
       "      <td>NaN</td>\n",
       "      <td>15.0</td>\n",
       "    </tr>\n",
       "    <tr>\n",
       "      <th>1</th>\n",
       "      <td>2</td>\n",
       "      <td>NaN</td>\n",
       "      <td>B</td>\n",
       "      <td>NaN</td>\n",
       "    </tr>\n",
       "    <tr>\n",
       "      <th>2</th>\n",
       "      <td>3</td>\n",
       "      <td>max</td>\n",
       "      <td>A</td>\n",
       "      <td>10.0</td>\n",
       "    </tr>\n",
       "    <tr>\n",
       "      <th>3</th>\n",
       "      <td>4</td>\n",
       "      <td>NaN</td>\n",
       "      <td>B</td>\n",
       "      <td>11.0</td>\n",
       "    </tr>\n",
       "    <tr>\n",
       "      <th>4</th>\n",
       "      <td>5</td>\n",
       "      <td>rose</td>\n",
       "      <td>A</td>\n",
       "      <td>NaN</td>\n",
       "    </tr>\n",
       "  </tbody>\n",
       "</table>\n",
       "</div>"
      ],
      "text/plain": [
       "   Roll_no  Name division  marks\n",
       "0        1  alex      NaN   15.0\n",
       "1        2   NaN        B    NaN\n",
       "2        3   max        A   10.0\n",
       "3        4   NaN        B   11.0\n",
       "4        5  rose        A    NaN"
      ]
     },
     "execution_count": 56,
     "metadata": {},
     "output_type": "execute_result"
    }
   ],
   "source": [
    "df"
   ]
  },
  {
   "cell_type": "code",
   "execution_count": 60,
   "metadata": {},
   "outputs": [
    {
     "data": {
      "text/html": [
       "<div>\n",
       "<style scoped>\n",
       "    .dataframe tbody tr th:only-of-type {\n",
       "        vertical-align: middle;\n",
       "    }\n",
       "\n",
       "    .dataframe tbody tr th {\n",
       "        vertical-align: top;\n",
       "    }\n",
       "\n",
       "    .dataframe thead th {\n",
       "        text-align: right;\n",
       "    }\n",
       "</style>\n",
       "<table border=\"1\" class=\"dataframe\">\n",
       "  <thead>\n",
       "    <tr style=\"text-align: right;\">\n",
       "      <th></th>\n",
       "      <th>Roll_no</th>\n",
       "      <th>Name</th>\n",
       "      <th>division</th>\n",
       "      <th>marks</th>\n",
       "    </tr>\n",
       "  </thead>\n",
       "  <tbody>\n",
       "    <tr>\n",
       "      <th>0</th>\n",
       "      <td>1</td>\n",
       "      <td>alex</td>\n",
       "      <td>NaN</td>\n",
       "      <td>15.0</td>\n",
       "    </tr>\n",
       "    <tr>\n",
       "      <th>1</th>\n",
       "      <td>2</td>\n",
       "      <td>alex</td>\n",
       "      <td>B</td>\n",
       "      <td>15.0</td>\n",
       "    </tr>\n",
       "    <tr>\n",
       "      <th>2</th>\n",
       "      <td>3</td>\n",
       "      <td>max</td>\n",
       "      <td>A</td>\n",
       "      <td>10.0</td>\n",
       "    </tr>\n",
       "    <tr>\n",
       "      <th>3</th>\n",
       "      <td>4</td>\n",
       "      <td>max</td>\n",
       "      <td>B</td>\n",
       "      <td>11.0</td>\n",
       "    </tr>\n",
       "    <tr>\n",
       "      <th>4</th>\n",
       "      <td>5</td>\n",
       "      <td>rose</td>\n",
       "      <td>A</td>\n",
       "      <td>11.0</td>\n",
       "    </tr>\n",
       "  </tbody>\n",
       "</table>\n",
       "</div>"
      ],
      "text/plain": [
       "   Roll_no  Name division  marks\n",
       "0        1  alex      NaN   15.0\n",
       "1        2  alex        B   15.0\n",
       "2        3   max        A   10.0\n",
       "3        4   max        B   11.0\n",
       "4        5  rose        A   11.0"
      ]
     },
     "execution_count": 60,
     "metadata": {},
     "output_type": "execute_result"
    }
   ],
   "source": [
    "#Forword Fill(pad/fill)\n",
    "df=df.fillna(method='pad')\n",
    "df"
   ]
  },
  {
   "cell_type": "code",
   "execution_count": 61,
   "metadata": {},
   "outputs": [
    {
     "data": {
      "text/html": [
       "<div>\n",
       "<style scoped>\n",
       "    .dataframe tbody tr th:only-of-type {\n",
       "        vertical-align: middle;\n",
       "    }\n",
       "\n",
       "    .dataframe tbody tr th {\n",
       "        vertical-align: top;\n",
       "    }\n",
       "\n",
       "    .dataframe thead th {\n",
       "        text-align: right;\n",
       "    }\n",
       "</style>\n",
       "<table border=\"1\" class=\"dataframe\">\n",
       "  <thead>\n",
       "    <tr style=\"text-align: right;\">\n",
       "      <th></th>\n",
       "      <th>Roll_no</th>\n",
       "      <th>Name</th>\n",
       "      <th>division</th>\n",
       "      <th>marks</th>\n",
       "    </tr>\n",
       "  </thead>\n",
       "  <tbody>\n",
       "    <tr>\n",
       "      <th>0</th>\n",
       "      <td>1</td>\n",
       "      <td>alex</td>\n",
       "      <td>B</td>\n",
       "      <td>15.0</td>\n",
       "    </tr>\n",
       "    <tr>\n",
       "      <th>1</th>\n",
       "      <td>2</td>\n",
       "      <td>alex</td>\n",
       "      <td>B</td>\n",
       "      <td>15.0</td>\n",
       "    </tr>\n",
       "    <tr>\n",
       "      <th>2</th>\n",
       "      <td>3</td>\n",
       "      <td>max</td>\n",
       "      <td>A</td>\n",
       "      <td>10.0</td>\n",
       "    </tr>\n",
       "    <tr>\n",
       "      <th>3</th>\n",
       "      <td>4</td>\n",
       "      <td>max</td>\n",
       "      <td>B</td>\n",
       "      <td>11.0</td>\n",
       "    </tr>\n",
       "    <tr>\n",
       "      <th>4</th>\n",
       "      <td>5</td>\n",
       "      <td>rose</td>\n",
       "      <td>A</td>\n",
       "      <td>11.0</td>\n",
       "    </tr>\n",
       "  </tbody>\n",
       "</table>\n",
       "</div>"
      ],
      "text/plain": [
       "   Roll_no  Name division  marks\n",
       "0        1  alex        B   15.0\n",
       "1        2  alex        B   15.0\n",
       "2        3   max        A   10.0\n",
       "3        4   max        B   11.0\n",
       "4        5  rose        A   11.0"
      ]
     },
     "execution_count": 61,
     "metadata": {},
     "output_type": "execute_result"
    }
   ],
   "source": [
    "#Backword Fill(bfill/backfill)\n",
    "df=df.fillna(method='bfill')\n",
    "df"
   ]
  },
  {
   "cell_type": "code",
   "execution_count": 62,
   "metadata": {},
   "outputs": [
    {
     "data": {
      "text/plain": [
       "Roll_no     0\n",
       "Name        0\n",
       "division    0\n",
       "marks       0\n",
       "dtype: int64"
      ]
     },
     "execution_count": 62,
     "metadata": {},
     "output_type": "execute_result"
    }
   ],
   "source": [
    "df.isna().sum()"
   ]
  },
  {
   "cell_type": "markdown",
   "metadata": {},
   "source": [
    "#### Replace"
   ]
  },
  {
   "cell_type": "code",
   "execution_count": 63,
   "metadata": {},
   "outputs": [
    {
     "data": {
      "text/html": [
       "<div>\n",
       "<style scoped>\n",
       "    .dataframe tbody tr th:only-of-type {\n",
       "        vertical-align: middle;\n",
       "    }\n",
       "\n",
       "    .dataframe tbody tr th {\n",
       "        vertical-align: top;\n",
       "    }\n",
       "\n",
       "    .dataframe thead th {\n",
       "        text-align: right;\n",
       "    }\n",
       "</style>\n",
       "<table border=\"1\" class=\"dataframe\">\n",
       "  <thead>\n",
       "    <tr style=\"text-align: right;\">\n",
       "      <th></th>\n",
       "      <th>Roll_no</th>\n",
       "      <th>Name</th>\n",
       "      <th>division</th>\n",
       "      <th>marks</th>\n",
       "    </tr>\n",
       "  </thead>\n",
       "  <tbody>\n",
       "    <tr>\n",
       "      <th>0</th>\n",
       "      <td>1</td>\n",
       "      <td>alex</td>\n",
       "      <td>B</td>\n",
       "      <td>15.0</td>\n",
       "    </tr>\n",
       "    <tr>\n",
       "      <th>1</th>\n",
       "      <td>2</td>\n",
       "      <td>alex</td>\n",
       "      <td>B</td>\n",
       "      <td>15.0</td>\n",
       "    </tr>\n",
       "    <tr>\n",
       "      <th>2</th>\n",
       "      <td>3</td>\n",
       "      <td>jae</td>\n",
       "      <td>A</td>\n",
       "      <td>10.0</td>\n",
       "    </tr>\n",
       "    <tr>\n",
       "      <th>3</th>\n",
       "      <td>4</td>\n",
       "      <td>jae</td>\n",
       "      <td>B</td>\n",
       "      <td>11.0</td>\n",
       "    </tr>\n",
       "    <tr>\n",
       "      <th>4</th>\n",
       "      <td>5</td>\n",
       "      <td>rose</td>\n",
       "      <td>A</td>\n",
       "      <td>11.0</td>\n",
       "    </tr>\n",
       "  </tbody>\n",
       "</table>\n",
       "</div>"
      ],
      "text/plain": [
       "   Roll_no  Name division  marks\n",
       "0        1  alex        B   15.0\n",
       "1        2  alex        B   15.0\n",
       "2        3   jae        A   10.0\n",
       "3        4   jae        B   11.0\n",
       "4        5  rose        A   11.0"
      ]
     },
     "execution_count": 63,
     "metadata": {},
     "output_type": "execute_result"
    }
   ],
   "source": [
    "#df.replace({\"old_val\": \"new_val\"})\n",
    "df[\"Name\"]=df[\"Name\"].replace({'max':\"jae\"})\n",
    "df"
   ]
  },
  {
   "cell_type": "markdown",
   "metadata": {},
   "source": [
    "### Merging and Concatenation of Dataframe"
   ]
  },
  {
   "cell_type": "code",
   "execution_count": 68,
   "metadata": {},
   "outputs": [
    {
     "data": {
      "text/html": [
       "<div>\n",
       "<style scoped>\n",
       "    .dataframe tbody tr th:only-of-type {\n",
       "        vertical-align: middle;\n",
       "    }\n",
       "\n",
       "    .dataframe tbody tr th {\n",
       "        vertical-align: top;\n",
       "    }\n",
       "\n",
       "    .dataframe thead th {\n",
       "        text-align: right;\n",
       "    }\n",
       "</style>\n",
       "<table border=\"1\" class=\"dataframe\">\n",
       "  <thead>\n",
       "    <tr style=\"text-align: right;\">\n",
       "      <th></th>\n",
       "      <th>id</th>\n",
       "      <th>name</th>\n",
       "    </tr>\n",
       "  </thead>\n",
       "  <tbody>\n",
       "    <tr>\n",
       "      <th>0</th>\n",
       "      <td>1</td>\n",
       "      <td>a</td>\n",
       "    </tr>\n",
       "    <tr>\n",
       "      <th>1</th>\n",
       "      <td>2</td>\n",
       "      <td>b</td>\n",
       "    </tr>\n",
       "    <tr>\n",
       "      <th>2</th>\n",
       "      <td>3</td>\n",
       "      <td>c</td>\n",
       "    </tr>\n",
       "    <tr>\n",
       "      <th>3</th>\n",
       "      <td>4</td>\n",
       "      <td>d</td>\n",
       "    </tr>\n",
       "    <tr>\n",
       "      <th>4</th>\n",
       "      <td>5</td>\n",
       "      <td>e</td>\n",
       "    </tr>\n",
       "  </tbody>\n",
       "</table>\n",
       "</div>"
      ],
      "text/plain": [
       "   id name\n",
       "0   1    a\n",
       "1   2    b\n",
       "2   3    c\n",
       "3   4    d\n",
       "4   5    e"
      ]
     },
     "execution_count": 68,
     "metadata": {},
     "output_type": "execute_result"
    }
   ],
   "source": [
    "d1={\"id\":[1,2,3,4,5],\"name\":[\"a\",\"b\",\"c\",\"d\",\"e\"]}\n",
    "df1=pd.DataFrame(d1)\n",
    "df1"
   ]
  },
  {
   "cell_type": "code",
   "execution_count": 67,
   "metadata": {},
   "outputs": [
    {
     "data": {
      "text/html": [
       "<div>\n",
       "<style scoped>\n",
       "    .dataframe tbody tr th:only-of-type {\n",
       "        vertical-align: middle;\n",
       "    }\n",
       "\n",
       "    .dataframe tbody tr th {\n",
       "        vertical-align: top;\n",
       "    }\n",
       "\n",
       "    .dataframe thead th {\n",
       "        text-align: right;\n",
       "    }\n",
       "</style>\n",
       "<table border=\"1\" class=\"dataframe\">\n",
       "  <thead>\n",
       "    <tr style=\"text-align: right;\">\n",
       "      <th></th>\n",
       "      <th>id</th>\n",
       "      <th>marks</th>\n",
       "    </tr>\n",
       "  </thead>\n",
       "  <tbody>\n",
       "    <tr>\n",
       "      <th>0</th>\n",
       "      <td>1</td>\n",
       "      <td>34</td>\n",
       "    </tr>\n",
       "    <tr>\n",
       "      <th>1</th>\n",
       "      <td>2</td>\n",
       "      <td>56</td>\n",
       "    </tr>\n",
       "    <tr>\n",
       "      <th>2</th>\n",
       "      <td>3</td>\n",
       "      <td>32</td>\n",
       "    </tr>\n",
       "    <tr>\n",
       "      <th>3</th>\n",
       "      <td>4</td>\n",
       "      <td>59</td>\n",
       "    </tr>\n",
       "    <tr>\n",
       "      <th>4</th>\n",
       "      <td>5</td>\n",
       "      <td>45</td>\n",
       "    </tr>\n",
       "  </tbody>\n",
       "</table>\n",
       "</div>"
      ],
      "text/plain": [
       "   id  marks\n",
       "0   1     34\n",
       "1   2     56\n",
       "2   3     32\n",
       "3   4     59\n",
       "4   5     45"
      ]
     },
     "execution_count": 67,
     "metadata": {},
     "output_type": "execute_result"
    }
   ],
   "source": [
    "d2={\"id\":[1,2,3,4,5],\"marks\":[34,56,32,59,45]}\n",
    "df2=pd.DataFrame(d2)\n",
    "df2"
   ]
  },
  {
   "cell_type": "markdown",
   "metadata": {},
   "source": [
    "### pd.merge"
   ]
  },
  {
   "cell_type": "code",
   "execution_count": 71,
   "metadata": {},
   "outputs": [
    {
     "data": {
      "text/html": [
       "<div>\n",
       "<style scoped>\n",
       "    .dataframe tbody tr th:only-of-type {\n",
       "        vertical-align: middle;\n",
       "    }\n",
       "\n",
       "    .dataframe tbody tr th {\n",
       "        vertical-align: top;\n",
       "    }\n",
       "\n",
       "    .dataframe thead th {\n",
       "        text-align: right;\n",
       "    }\n",
       "</style>\n",
       "<table border=\"1\" class=\"dataframe\">\n",
       "  <thead>\n",
       "    <tr style=\"text-align: right;\">\n",
       "      <th></th>\n",
       "      <th>id</th>\n",
       "      <th>name</th>\n",
       "      <th>marks</th>\n",
       "    </tr>\n",
       "  </thead>\n",
       "  <tbody>\n",
       "    <tr>\n",
       "      <th>0</th>\n",
       "      <td>1</td>\n",
       "      <td>a</td>\n",
       "      <td>34</td>\n",
       "    </tr>\n",
       "    <tr>\n",
       "      <th>1</th>\n",
       "      <td>2</td>\n",
       "      <td>b</td>\n",
       "      <td>56</td>\n",
       "    </tr>\n",
       "    <tr>\n",
       "      <th>2</th>\n",
       "      <td>3</td>\n",
       "      <td>c</td>\n",
       "      <td>32</td>\n",
       "    </tr>\n",
       "    <tr>\n",
       "      <th>3</th>\n",
       "      <td>4</td>\n",
       "      <td>d</td>\n",
       "      <td>59</td>\n",
       "    </tr>\n",
       "    <tr>\n",
       "      <th>4</th>\n",
       "      <td>5</td>\n",
       "      <td>e</td>\n",
       "      <td>45</td>\n",
       "    </tr>\n",
       "  </tbody>\n",
       "</table>\n",
       "</div>"
      ],
      "text/plain": [
       "   id name  marks\n",
       "0   1    a     34\n",
       "1   2    b     56\n",
       "2   3    c     32\n",
       "3   4    d     59\n",
       "4   5    e     45"
      ]
     },
     "execution_count": 71,
     "metadata": {},
     "output_type": "execute_result"
    }
   ],
   "source": [
    "#df.merge(df1,df2,on=\"column_name\")\n",
    "df3=pd.merge(df1,df2,on=\"id\")\n",
    "df3"
   ]
  },
  {
   "cell_type": "markdown",
   "metadata": {},
   "source": [
    "### pd.concat"
   ]
  },
  {
   "cell_type": "code",
   "execution_count": 72,
   "metadata": {},
   "outputs": [
    {
     "data": {
      "text/html": [
       "<div>\n",
       "<style scoped>\n",
       "    .dataframe tbody tr th:only-of-type {\n",
       "        vertical-align: middle;\n",
       "    }\n",
       "\n",
       "    .dataframe tbody tr th {\n",
       "        vertical-align: top;\n",
       "    }\n",
       "\n",
       "    .dataframe thead th {\n",
       "        text-align: right;\n",
       "    }\n",
       "</style>\n",
       "<table border=\"1\" class=\"dataframe\">\n",
       "  <thead>\n",
       "    <tr style=\"text-align: right;\">\n",
       "      <th></th>\n",
       "      <th>id</th>\n",
       "      <th>name</th>\n",
       "    </tr>\n",
       "  </thead>\n",
       "  <tbody>\n",
       "    <tr>\n",
       "      <th>0</th>\n",
       "      <td>1</td>\n",
       "      <td>a</td>\n",
       "    </tr>\n",
       "    <tr>\n",
       "      <th>1</th>\n",
       "      <td>2</td>\n",
       "      <td>b</td>\n",
       "    </tr>\n",
       "    <tr>\n",
       "      <th>2</th>\n",
       "      <td>3</td>\n",
       "      <td>c</td>\n",
       "    </tr>\n",
       "  </tbody>\n",
       "</table>\n",
       "</div>"
      ],
      "text/plain": [
       "   id name\n",
       "0   1    a\n",
       "1   2    b\n",
       "2   3    c"
      ]
     },
     "execution_count": 72,
     "metadata": {},
     "output_type": "execute_result"
    }
   ],
   "source": [
    "cd1={\"id\":[1,2,3],\"name\":[\"a\",\"b\",\"c\"]}\n",
    "cdf1=pd.DataFrame(cd1)\n",
    "cdf1"
   ]
  },
  {
   "cell_type": "code",
   "execution_count": 73,
   "metadata": {},
   "outputs": [
    {
     "data": {
      "text/html": [
       "<div>\n",
       "<style scoped>\n",
       "    .dataframe tbody tr th:only-of-type {\n",
       "        vertical-align: middle;\n",
       "    }\n",
       "\n",
       "    .dataframe tbody tr th {\n",
       "        vertical-align: top;\n",
       "    }\n",
       "\n",
       "    .dataframe thead th {\n",
       "        text-align: right;\n",
       "    }\n",
       "</style>\n",
       "<table border=\"1\" class=\"dataframe\">\n",
       "  <thead>\n",
       "    <tr style=\"text-align: right;\">\n",
       "      <th></th>\n",
       "      <th>id</th>\n",
       "      <th>name</th>\n",
       "    </tr>\n",
       "  </thead>\n",
       "  <tbody>\n",
       "    <tr>\n",
       "      <th>0</th>\n",
       "      <td>4</td>\n",
       "      <td>d</td>\n",
       "    </tr>\n",
       "    <tr>\n",
       "      <th>1</th>\n",
       "      <td>5</td>\n",
       "      <td>e</td>\n",
       "    </tr>\n",
       "  </tbody>\n",
       "</table>\n",
       "</div>"
      ],
      "text/plain": [
       "   id name\n",
       "0   4    d\n",
       "1   5    e"
      ]
     },
     "execution_count": 73,
     "metadata": {},
     "output_type": "execute_result"
    }
   ],
   "source": [
    "cd2={\"id\":[4,5],\"name\":[\"d\",\"e\"]}\n",
    "cdf2=pd.DataFrame(cd2)\n",
    "cdf2"
   ]
  },
  {
   "cell_type": "code",
   "execution_count": 75,
   "metadata": {},
   "outputs": [
    {
     "data": {
      "text/html": [
       "<div>\n",
       "<style scoped>\n",
       "    .dataframe tbody tr th:only-of-type {\n",
       "        vertical-align: middle;\n",
       "    }\n",
       "\n",
       "    .dataframe tbody tr th {\n",
       "        vertical-align: top;\n",
       "    }\n",
       "\n",
       "    .dataframe thead th {\n",
       "        text-align: right;\n",
       "    }\n",
       "</style>\n",
       "<table border=\"1\" class=\"dataframe\">\n",
       "  <thead>\n",
       "    <tr style=\"text-align: right;\">\n",
       "      <th></th>\n",
       "      <th></th>\n",
       "      <th>id</th>\n",
       "      <th>name</th>\n",
       "    </tr>\n",
       "  </thead>\n",
       "  <tbody>\n",
       "    <tr>\n",
       "      <th rowspan=\"3\" valign=\"top\">df1</th>\n",
       "      <th>0</th>\n",
       "      <td>1</td>\n",
       "      <td>a</td>\n",
       "    </tr>\n",
       "    <tr>\n",
       "      <th>1</th>\n",
       "      <td>2</td>\n",
       "      <td>b</td>\n",
       "    </tr>\n",
       "    <tr>\n",
       "      <th>2</th>\n",
       "      <td>3</td>\n",
       "      <td>c</td>\n",
       "    </tr>\n",
       "    <tr>\n",
       "      <th rowspan=\"2\" valign=\"top\">df2</th>\n",
       "      <th>0</th>\n",
       "      <td>4</td>\n",
       "      <td>d</td>\n",
       "    </tr>\n",
       "    <tr>\n",
       "      <th>1</th>\n",
       "      <td>5</td>\n",
       "      <td>e</td>\n",
       "    </tr>\n",
       "  </tbody>\n",
       "</table>\n",
       "</div>"
      ],
      "text/plain": [
       "       id name\n",
       "df1 0   1    a\n",
       "    1   2    b\n",
       "    2   3    c\n",
       "df2 0   4    d\n",
       "    1   5    e"
      ]
     },
     "execution_count": 75,
     "metadata": {},
     "output_type": "execute_result"
    }
   ],
   "source": [
    "pd.concat([cdf1,cdf2],keys=[\"df1\",\"df2\"])"
   ]
  },
  {
   "cell_type": "code",
   "execution_count": 76,
   "metadata": {},
   "outputs": [
    {
     "data": {
      "text/html": [
       "<div>\n",
       "<style scoped>\n",
       "    .dataframe tbody tr th:only-of-type {\n",
       "        vertical-align: middle;\n",
       "    }\n",
       "\n",
       "    .dataframe tbody tr th {\n",
       "        vertical-align: top;\n",
       "    }\n",
       "\n",
       "    .dataframe thead th {\n",
       "        text-align: right;\n",
       "    }\n",
       "</style>\n",
       "<table border=\"1\" class=\"dataframe\">\n",
       "  <thead>\n",
       "    <tr style=\"text-align: right;\">\n",
       "      <th></th>\n",
       "      <th></th>\n",
       "      <th>id</th>\n",
       "      <th>name</th>\n",
       "      <th>marks</th>\n",
       "    </tr>\n",
       "  </thead>\n",
       "  <tbody>\n",
       "    <tr>\n",
       "      <th rowspan=\"5\" valign=\"top\">df1</th>\n",
       "      <th>0</th>\n",
       "      <td>1</td>\n",
       "      <td>a</td>\n",
       "      <td>NaN</td>\n",
       "    </tr>\n",
       "    <tr>\n",
       "      <th>1</th>\n",
       "      <td>2</td>\n",
       "      <td>b</td>\n",
       "      <td>NaN</td>\n",
       "    </tr>\n",
       "    <tr>\n",
       "      <th>2</th>\n",
       "      <td>3</td>\n",
       "      <td>c</td>\n",
       "      <td>NaN</td>\n",
       "    </tr>\n",
       "    <tr>\n",
       "      <th>3</th>\n",
       "      <td>4</td>\n",
       "      <td>d</td>\n",
       "      <td>NaN</td>\n",
       "    </tr>\n",
       "    <tr>\n",
       "      <th>4</th>\n",
       "      <td>5</td>\n",
       "      <td>e</td>\n",
       "      <td>NaN</td>\n",
       "    </tr>\n",
       "    <tr>\n",
       "      <th rowspan=\"5\" valign=\"top\">df2</th>\n",
       "      <th>0</th>\n",
       "      <td>1</td>\n",
       "      <td>NaN</td>\n",
       "      <td>34.0</td>\n",
       "    </tr>\n",
       "    <tr>\n",
       "      <th>1</th>\n",
       "      <td>2</td>\n",
       "      <td>NaN</td>\n",
       "      <td>56.0</td>\n",
       "    </tr>\n",
       "    <tr>\n",
       "      <th>2</th>\n",
       "      <td>3</td>\n",
       "      <td>NaN</td>\n",
       "      <td>32.0</td>\n",
       "    </tr>\n",
       "    <tr>\n",
       "      <th>3</th>\n",
       "      <td>4</td>\n",
       "      <td>NaN</td>\n",
       "      <td>59.0</td>\n",
       "    </tr>\n",
       "    <tr>\n",
       "      <th>4</th>\n",
       "      <td>5</td>\n",
       "      <td>NaN</td>\n",
       "      <td>45.0</td>\n",
       "    </tr>\n",
       "  </tbody>\n",
       "</table>\n",
       "</div>"
      ],
      "text/plain": [
       "       id name  marks\n",
       "df1 0   1    a    NaN\n",
       "    1   2    b    NaN\n",
       "    2   3    c    NaN\n",
       "    3   4    d    NaN\n",
       "    4   5    e    NaN\n",
       "df2 0   1  NaN   34.0\n",
       "    1   2  NaN   56.0\n",
       "    2   3  NaN   32.0\n",
       "    3   4  NaN   59.0\n",
       "    4   5  NaN   45.0"
      ]
     },
     "execution_count": 76,
     "metadata": {},
     "output_type": "execute_result"
    }
   ],
   "source": [
    "pd.concat([df1,df2],keys=[\"df1\",\"df2\"])"
   ]
  },
  {
   "cell_type": "markdown",
   "metadata": {},
   "source": [
    "### Apply Function"
   ]
  },
  {
   "cell_type": "code",
   "execution_count": 77,
   "metadata": {},
   "outputs": [
    {
     "data": {
      "text/html": [
       "<div>\n",
       "<style scoped>\n",
       "    .dataframe tbody tr th:only-of-type {\n",
       "        vertical-align: middle;\n",
       "    }\n",
       "\n",
       "    .dataframe tbody tr th {\n",
       "        vertical-align: top;\n",
       "    }\n",
       "\n",
       "    .dataframe thead th {\n",
       "        text-align: right;\n",
       "    }\n",
       "</style>\n",
       "<table border=\"1\" class=\"dataframe\">\n",
       "  <thead>\n",
       "    <tr style=\"text-align: right;\">\n",
       "      <th></th>\n",
       "      <th>PassengerId</th>\n",
       "      <th>Survived</th>\n",
       "      <th>Pclass</th>\n",
       "      <th>Name</th>\n",
       "      <th>Sex</th>\n",
       "      <th>Age</th>\n",
       "      <th>SibSp</th>\n",
       "      <th>Parch</th>\n",
       "      <th>Ticket</th>\n",
       "      <th>Fare</th>\n",
       "      <th>Cabin</th>\n",
       "      <th>Embarked</th>\n",
       "    </tr>\n",
       "  </thead>\n",
       "  <tbody>\n",
       "    <tr>\n",
       "      <th>0</th>\n",
       "      <td>1</td>\n",
       "      <td>0</td>\n",
       "      <td>3</td>\n",
       "      <td>Braund, Mr. Owen Harris</td>\n",
       "      <td>male</td>\n",
       "      <td>22.0</td>\n",
       "      <td>1</td>\n",
       "      <td>0</td>\n",
       "      <td>A/5 21171</td>\n",
       "      <td>7.2500</td>\n",
       "      <td>NaN</td>\n",
       "      <td>S</td>\n",
       "    </tr>\n",
       "    <tr>\n",
       "      <th>1</th>\n",
       "      <td>2</td>\n",
       "      <td>1</td>\n",
       "      <td>1</td>\n",
       "      <td>Cumings, Mrs. John Bradley (Florence Briggs Th...</td>\n",
       "      <td>female</td>\n",
       "      <td>38.0</td>\n",
       "      <td>1</td>\n",
       "      <td>0</td>\n",
       "      <td>PC 17599</td>\n",
       "      <td>71.2833</td>\n",
       "      <td>C85</td>\n",
       "      <td>C</td>\n",
       "    </tr>\n",
       "    <tr>\n",
       "      <th>2</th>\n",
       "      <td>3</td>\n",
       "      <td>1</td>\n",
       "      <td>3</td>\n",
       "      <td>Heikkinen, Miss. Laina</td>\n",
       "      <td>female</td>\n",
       "      <td>26.0</td>\n",
       "      <td>0</td>\n",
       "      <td>0</td>\n",
       "      <td>STON/O2. 3101282</td>\n",
       "      <td>7.9250</td>\n",
       "      <td>NaN</td>\n",
       "      <td>S</td>\n",
       "    </tr>\n",
       "    <tr>\n",
       "      <th>3</th>\n",
       "      <td>4</td>\n",
       "      <td>1</td>\n",
       "      <td>1</td>\n",
       "      <td>NaN</td>\n",
       "      <td>female</td>\n",
       "      <td>35.0</td>\n",
       "      <td>1</td>\n",
       "      <td>0</td>\n",
       "      <td>113803</td>\n",
       "      <td>53.1000</td>\n",
       "      <td>C123</td>\n",
       "      <td>S</td>\n",
       "    </tr>\n",
       "    <tr>\n",
       "      <th>4</th>\n",
       "      <td>5</td>\n",
       "      <td>0</td>\n",
       "      <td>3</td>\n",
       "      <td>Allen, Mr. William Henry</td>\n",
       "      <td>male</td>\n",
       "      <td>35.0</td>\n",
       "      <td>0</td>\n",
       "      <td>0</td>\n",
       "      <td>373450</td>\n",
       "      <td>8.0500</td>\n",
       "      <td>NaN</td>\n",
       "      <td>S</td>\n",
       "    </tr>\n",
       "    <tr>\n",
       "      <th>...</th>\n",
       "      <td>...</td>\n",
       "      <td>...</td>\n",
       "      <td>...</td>\n",
       "      <td>...</td>\n",
       "      <td>...</td>\n",
       "      <td>...</td>\n",
       "      <td>...</td>\n",
       "      <td>...</td>\n",
       "      <td>...</td>\n",
       "      <td>...</td>\n",
       "      <td>...</td>\n",
       "      <td>...</td>\n",
       "    </tr>\n",
       "    <tr>\n",
       "      <th>886</th>\n",
       "      <td>887</td>\n",
       "      <td>0</td>\n",
       "      <td>2</td>\n",
       "      <td>Montvila, Rev. Juozas</td>\n",
       "      <td>male</td>\n",
       "      <td>27.0</td>\n",
       "      <td>0</td>\n",
       "      <td>0</td>\n",
       "      <td>211536</td>\n",
       "      <td>13.0000</td>\n",
       "      <td>NaN</td>\n",
       "      <td>S</td>\n",
       "    </tr>\n",
       "    <tr>\n",
       "      <th>887</th>\n",
       "      <td>888</td>\n",
       "      <td>1</td>\n",
       "      <td>1</td>\n",
       "      <td>Graham, Miss. Margaret Edith</td>\n",
       "      <td>female</td>\n",
       "      <td>19.0</td>\n",
       "      <td>0</td>\n",
       "      <td>0</td>\n",
       "      <td>112053</td>\n",
       "      <td>30.0000</td>\n",
       "      <td>B42</td>\n",
       "      <td>S</td>\n",
       "    </tr>\n",
       "    <tr>\n",
       "      <th>888</th>\n",
       "      <td>889</td>\n",
       "      <td>0</td>\n",
       "      <td>3</td>\n",
       "      <td>Johnston, Miss. Catherine Helen \"Carrie\"</td>\n",
       "      <td>female</td>\n",
       "      <td>NaN</td>\n",
       "      <td>1</td>\n",
       "      <td>2</td>\n",
       "      <td>W./C. 6607</td>\n",
       "      <td>23.4500</td>\n",
       "      <td>NaN</td>\n",
       "      <td>S</td>\n",
       "    </tr>\n",
       "    <tr>\n",
       "      <th>889</th>\n",
       "      <td>890</td>\n",
       "      <td>1</td>\n",
       "      <td>1</td>\n",
       "      <td>Behr, Mr. Karl Howell</td>\n",
       "      <td>male</td>\n",
       "      <td>26.0</td>\n",
       "      <td>0</td>\n",
       "      <td>0</td>\n",
       "      <td>111369</td>\n",
       "      <td>30.0000</td>\n",
       "      <td>C148</td>\n",
       "      <td>C</td>\n",
       "    </tr>\n",
       "    <tr>\n",
       "      <th>890</th>\n",
       "      <td>891</td>\n",
       "      <td>0</td>\n",
       "      <td>3</td>\n",
       "      <td>Dooley, Mr. Patrick</td>\n",
       "      <td>male</td>\n",
       "      <td>32.0</td>\n",
       "      <td>0</td>\n",
       "      <td>0</td>\n",
       "      <td>370376</td>\n",
       "      <td>7.7500</td>\n",
       "      <td>NaN</td>\n",
       "      <td>Q</td>\n",
       "    </tr>\n",
       "  </tbody>\n",
       "</table>\n",
       "<p>891 rows × 12 columns</p>\n",
       "</div>"
      ],
      "text/plain": [
       "     PassengerId  Survived  Pclass  \\\n",
       "0              1         0       3   \n",
       "1              2         1       1   \n",
       "2              3         1       3   \n",
       "3              4         1       1   \n",
       "4              5         0       3   \n",
       "..           ...       ...     ...   \n",
       "886          887         0       2   \n",
       "887          888         1       1   \n",
       "888          889         0       3   \n",
       "889          890         1       1   \n",
       "890          891         0       3   \n",
       "\n",
       "                                                  Name     Sex   Age  SibSp  \\\n",
       "0                              Braund, Mr. Owen Harris    male  22.0      1   \n",
       "1    Cumings, Mrs. John Bradley (Florence Briggs Th...  female  38.0      1   \n",
       "2                               Heikkinen, Miss. Laina  female  26.0      0   \n",
       "3                                                  NaN  female  35.0      1   \n",
       "4                             Allen, Mr. William Henry    male  35.0      0   \n",
       "..                                                 ...     ...   ...    ...   \n",
       "886                              Montvila, Rev. Juozas    male  27.0      0   \n",
       "887                       Graham, Miss. Margaret Edith  female  19.0      0   \n",
       "888           Johnston, Miss. Catherine Helen \"Carrie\"  female   NaN      1   \n",
       "889                              Behr, Mr. Karl Howell    male  26.0      0   \n",
       "890                                Dooley, Mr. Patrick    male  32.0      0   \n",
       "\n",
       "     Parch            Ticket     Fare Cabin Embarked  \n",
       "0        0         A/5 21171   7.2500   NaN        S  \n",
       "1        0          PC 17599  71.2833   C85        C  \n",
       "2        0  STON/O2. 3101282   7.9250   NaN        S  \n",
       "3        0            113803  53.1000  C123        S  \n",
       "4        0            373450   8.0500   NaN        S  \n",
       "..     ...               ...      ...   ...      ...  \n",
       "886      0            211536  13.0000   NaN        S  \n",
       "887      0            112053  30.0000   B42        S  \n",
       "888      2        W./C. 6607  23.4500   NaN        S  \n",
       "889      0            111369  30.0000  C148        C  \n",
       "890      0            370376   7.7500   NaN        Q  \n",
       "\n",
       "[891 rows x 12 columns]"
      ]
     },
     "execution_count": 77,
     "metadata": {},
     "output_type": "execute_result"
    }
   ],
   "source": [
    "df=pd.read_csv('../Data/titanic.csv')\n",
    "df"
   ]
  },
  {
   "cell_type": "code",
   "execution_count": 78,
   "metadata": {},
   "outputs": [
    {
     "name": "stdout",
     "output_type": "stream",
     "text": [
      "<class 'pandas.core.frame.DataFrame'>\n",
      "RangeIndex: 891 entries, 0 to 890\n",
      "Data columns (total 12 columns):\n",
      " #   Column       Non-Null Count  Dtype  \n",
      "---  ------       --------------  -----  \n",
      " 0   PassengerId  891 non-null    int64  \n",
      " 1   Survived     891 non-null    int64  \n",
      " 2   Pclass       891 non-null    int64  \n",
      " 3   Name         880 non-null    object \n",
      " 4   Sex          891 non-null    object \n",
      " 5   Age          714 non-null    float64\n",
      " 6   SibSp        891 non-null    int64  \n",
      " 7   Parch        891 non-null    int64  \n",
      " 8   Ticket       891 non-null    object \n",
      " 9   Fare         891 non-null    float64\n",
      " 10  Cabin        204 non-null    object \n",
      " 11  Embarked     889 non-null    object \n",
      "dtypes: float64(2), int64(5), object(5)\n",
      "memory usage: 83.7+ KB\n"
     ]
    }
   ],
   "source": [
    "df.info()"
   ]
  },
  {
   "cell_type": "code",
   "execution_count": 79,
   "metadata": {},
   "outputs": [
    {
     "data": {
      "text/html": [
       "<div>\n",
       "<style scoped>\n",
       "    .dataframe tbody tr th:only-of-type {\n",
       "        vertical-align: middle;\n",
       "    }\n",
       "\n",
       "    .dataframe tbody tr th {\n",
       "        vertical-align: top;\n",
       "    }\n",
       "\n",
       "    .dataframe thead th {\n",
       "        text-align: right;\n",
       "    }\n",
       "</style>\n",
       "<table border=\"1\" class=\"dataframe\">\n",
       "  <thead>\n",
       "    <tr style=\"text-align: right;\">\n",
       "      <th></th>\n",
       "      <th>PassengerId</th>\n",
       "      <th>Survived</th>\n",
       "      <th>Pclass</th>\n",
       "      <th>Age</th>\n",
       "      <th>SibSp</th>\n",
       "      <th>Parch</th>\n",
       "      <th>Fare</th>\n",
       "    </tr>\n",
       "  </thead>\n",
       "  <tbody>\n",
       "    <tr>\n",
       "      <th>count</th>\n",
       "      <td>891.000000</td>\n",
       "      <td>891.000000</td>\n",
       "      <td>891.000000</td>\n",
       "      <td>714.000000</td>\n",
       "      <td>891.000000</td>\n",
       "      <td>891.000000</td>\n",
       "      <td>891.000000</td>\n",
       "    </tr>\n",
       "    <tr>\n",
       "      <th>mean</th>\n",
       "      <td>446.000000</td>\n",
       "      <td>0.383838</td>\n",
       "      <td>2.308642</td>\n",
       "      <td>29.699118</td>\n",
       "      <td>0.523008</td>\n",
       "      <td>0.381594</td>\n",
       "      <td>32.204208</td>\n",
       "    </tr>\n",
       "    <tr>\n",
       "      <th>std</th>\n",
       "      <td>257.353842</td>\n",
       "      <td>0.486592</td>\n",
       "      <td>0.836071</td>\n",
       "      <td>14.526497</td>\n",
       "      <td>1.102743</td>\n",
       "      <td>0.806057</td>\n",
       "      <td>49.693429</td>\n",
       "    </tr>\n",
       "    <tr>\n",
       "      <th>min</th>\n",
       "      <td>1.000000</td>\n",
       "      <td>0.000000</td>\n",
       "      <td>1.000000</td>\n",
       "      <td>0.420000</td>\n",
       "      <td>0.000000</td>\n",
       "      <td>0.000000</td>\n",
       "      <td>0.000000</td>\n",
       "    </tr>\n",
       "    <tr>\n",
       "      <th>25%</th>\n",
       "      <td>223.500000</td>\n",
       "      <td>0.000000</td>\n",
       "      <td>2.000000</td>\n",
       "      <td>20.125000</td>\n",
       "      <td>0.000000</td>\n",
       "      <td>0.000000</td>\n",
       "      <td>7.910400</td>\n",
       "    </tr>\n",
       "    <tr>\n",
       "      <th>50%</th>\n",
       "      <td>446.000000</td>\n",
       "      <td>0.000000</td>\n",
       "      <td>3.000000</td>\n",
       "      <td>28.000000</td>\n",
       "      <td>0.000000</td>\n",
       "      <td>0.000000</td>\n",
       "      <td>14.454200</td>\n",
       "    </tr>\n",
       "    <tr>\n",
       "      <th>75%</th>\n",
       "      <td>668.500000</td>\n",
       "      <td>1.000000</td>\n",
       "      <td>3.000000</td>\n",
       "      <td>38.000000</td>\n",
       "      <td>1.000000</td>\n",
       "      <td>0.000000</td>\n",
       "      <td>31.000000</td>\n",
       "    </tr>\n",
       "    <tr>\n",
       "      <th>max</th>\n",
       "      <td>891.000000</td>\n",
       "      <td>1.000000</td>\n",
       "      <td>3.000000</td>\n",
       "      <td>80.000000</td>\n",
       "      <td>8.000000</td>\n",
       "      <td>6.000000</td>\n",
       "      <td>512.329200</td>\n",
       "    </tr>\n",
       "  </tbody>\n",
       "</table>\n",
       "</div>"
      ],
      "text/plain": [
       "       PassengerId    Survived      Pclass         Age       SibSp  \\\n",
       "count   891.000000  891.000000  891.000000  714.000000  891.000000   \n",
       "mean    446.000000    0.383838    2.308642   29.699118    0.523008   \n",
       "std     257.353842    0.486592    0.836071   14.526497    1.102743   \n",
       "min       1.000000    0.000000    1.000000    0.420000    0.000000   \n",
       "25%     223.500000    0.000000    2.000000   20.125000    0.000000   \n",
       "50%     446.000000    0.000000    3.000000   28.000000    0.000000   \n",
       "75%     668.500000    1.000000    3.000000   38.000000    1.000000   \n",
       "max     891.000000    1.000000    3.000000   80.000000    8.000000   \n",
       "\n",
       "            Parch        Fare  \n",
       "count  891.000000  891.000000  \n",
       "mean     0.381594   32.204208  \n",
       "std      0.806057   49.693429  \n",
       "min      0.000000    0.000000  \n",
       "25%      0.000000    7.910400  \n",
       "50%      0.000000   14.454200  \n",
       "75%      0.000000   31.000000  \n",
       "max      6.000000  512.329200  "
      ]
     },
     "execution_count": 79,
     "metadata": {},
     "output_type": "execute_result"
    }
   ],
   "source": [
    "df.describe()"
   ]
  },
  {
   "cell_type": "code",
   "execution_count": 81,
   "metadata": {},
   "outputs": [
    {
     "data": {
      "text/plain": [
       "PassengerId      0\n",
       "Survived         0\n",
       "Pclass           0\n",
       "Name            11\n",
       "Sex              0\n",
       "Age            177\n",
       "SibSp            0\n",
       "Parch            0\n",
       "Ticket           0\n",
       "Fare             0\n",
       "Cabin          687\n",
       "Embarked         2\n",
       "dtype: int64"
      ]
     },
     "execution_count": 81,
     "metadata": {},
     "output_type": "execute_result"
    }
   ],
   "source": [
    "df.isna().sum()"
   ]
  },
  {
   "cell_type": "code",
   "execution_count": 84,
   "metadata": {},
   "outputs": [],
   "source": [
    "# dropping Cabin due to large no. of missing values\n",
    "df=df.drop(columns=[\"Cabin\"])"
   ]
  },
  {
   "cell_type": "code",
   "execution_count": 85,
   "metadata": {},
   "outputs": [
    {
     "data": {
      "text/html": [
       "<div>\n",
       "<style scoped>\n",
       "    .dataframe tbody tr th:only-of-type {\n",
       "        vertical-align: middle;\n",
       "    }\n",
       "\n",
       "    .dataframe tbody tr th {\n",
       "        vertical-align: top;\n",
       "    }\n",
       "\n",
       "    .dataframe thead th {\n",
       "        text-align: right;\n",
       "    }\n",
       "</style>\n",
       "<table border=\"1\" class=\"dataframe\">\n",
       "  <thead>\n",
       "    <tr style=\"text-align: right;\">\n",
       "      <th></th>\n",
       "      <th>PassengerId</th>\n",
       "      <th>Survived</th>\n",
       "      <th>Pclass</th>\n",
       "      <th>Name</th>\n",
       "      <th>Sex</th>\n",
       "      <th>Age</th>\n",
       "      <th>SibSp</th>\n",
       "      <th>Parch</th>\n",
       "      <th>Ticket</th>\n",
       "      <th>Fare</th>\n",
       "      <th>Embarked</th>\n",
       "    </tr>\n",
       "  </thead>\n",
       "  <tbody>\n",
       "    <tr>\n",
       "      <th>0</th>\n",
       "      <td>1</td>\n",
       "      <td>0</td>\n",
       "      <td>3</td>\n",
       "      <td>Braund, Mr. Owen Harris</td>\n",
       "      <td>male</td>\n",
       "      <td>22.0</td>\n",
       "      <td>1</td>\n",
       "      <td>0</td>\n",
       "      <td>A/5 21171</td>\n",
       "      <td>7.2500</td>\n",
       "      <td>S</td>\n",
       "    </tr>\n",
       "    <tr>\n",
       "      <th>1</th>\n",
       "      <td>2</td>\n",
       "      <td>1</td>\n",
       "      <td>1</td>\n",
       "      <td>Cumings, Mrs. John Bradley (Florence Briggs Th...</td>\n",
       "      <td>female</td>\n",
       "      <td>38.0</td>\n",
       "      <td>1</td>\n",
       "      <td>0</td>\n",
       "      <td>PC 17599</td>\n",
       "      <td>71.2833</td>\n",
       "      <td>C</td>\n",
       "    </tr>\n",
       "    <tr>\n",
       "      <th>2</th>\n",
       "      <td>3</td>\n",
       "      <td>1</td>\n",
       "      <td>3</td>\n",
       "      <td>Heikkinen, Miss. Laina</td>\n",
       "      <td>female</td>\n",
       "      <td>26.0</td>\n",
       "      <td>0</td>\n",
       "      <td>0</td>\n",
       "      <td>STON/O2. 3101282</td>\n",
       "      <td>7.9250</td>\n",
       "      <td>S</td>\n",
       "    </tr>\n",
       "    <tr>\n",
       "      <th>3</th>\n",
       "      <td>4</td>\n",
       "      <td>1</td>\n",
       "      <td>1</td>\n",
       "      <td>NaN</td>\n",
       "      <td>female</td>\n",
       "      <td>35.0</td>\n",
       "      <td>1</td>\n",
       "      <td>0</td>\n",
       "      <td>113803</td>\n",
       "      <td>53.1000</td>\n",
       "      <td>S</td>\n",
       "    </tr>\n",
       "    <tr>\n",
       "      <th>4</th>\n",
       "      <td>5</td>\n",
       "      <td>0</td>\n",
       "      <td>3</td>\n",
       "      <td>Allen, Mr. William Henry</td>\n",
       "      <td>male</td>\n",
       "      <td>35.0</td>\n",
       "      <td>0</td>\n",
       "      <td>0</td>\n",
       "      <td>373450</td>\n",
       "      <td>8.0500</td>\n",
       "      <td>S</td>\n",
       "    </tr>\n",
       "  </tbody>\n",
       "</table>\n",
       "</div>"
      ],
      "text/plain": [
       "   PassengerId  Survived  Pclass  \\\n",
       "0            1         0       3   \n",
       "1            2         1       1   \n",
       "2            3         1       3   \n",
       "3            4         1       1   \n",
       "4            5         0       3   \n",
       "\n",
       "                                                Name     Sex   Age  SibSp  \\\n",
       "0                            Braund, Mr. Owen Harris    male  22.0      1   \n",
       "1  Cumings, Mrs. John Bradley (Florence Briggs Th...  female  38.0      1   \n",
       "2                             Heikkinen, Miss. Laina  female  26.0      0   \n",
       "3                                                NaN  female  35.0      1   \n",
       "4                           Allen, Mr. William Henry    male  35.0      0   \n",
       "\n",
       "   Parch            Ticket     Fare Embarked  \n",
       "0      0         A/5 21171   7.2500        S  \n",
       "1      0          PC 17599  71.2833        C  \n",
       "2      0  STON/O2. 3101282   7.9250        S  \n",
       "3      0            113803  53.1000        S  \n",
       "4      0            373450   8.0500        S  "
      ]
     },
     "execution_count": 85,
     "metadata": {},
     "output_type": "execute_result"
    }
   ],
   "source": [
    "df.head()"
   ]
  },
  {
   "cell_type": "code",
   "execution_count": 86,
   "metadata": {},
   "outputs": [],
   "source": [
    "df[\"Name\"]=df[\"Name\"].fillna(\"U\") #replacing missing values with unknown"
   ]
  },
  {
   "cell_type": "code",
   "execution_count": 87,
   "metadata": {},
   "outputs": [
    {
     "data": {
      "text/plain": [
       "29.69911764705882"
      ]
     },
     "execution_count": 87,
     "metadata": {},
     "output_type": "execute_result"
    }
   ],
   "source": [
    "df[\"Age\"].mean()"
   ]
  },
  {
   "cell_type": "code",
   "execution_count": 88,
   "metadata": {},
   "outputs": [
    {
     "data": {
      "text/plain": [
       "28.0"
      ]
     },
     "execution_count": 88,
     "metadata": {},
     "output_type": "execute_result"
    }
   ],
   "source": [
    "df[\"Age\"].median()"
   ]
  },
  {
   "cell_type": "code",
   "execution_count": 89,
   "metadata": {},
   "outputs": [],
   "source": [
    "df[\"Age\"]=df[\"Age\"].fillna(df[\"Age\"].median())"
   ]
  },
  {
   "cell_type": "code",
   "execution_count": 94,
   "metadata": {},
   "outputs": [],
   "source": [
    "mode_em=df[\"Embarked\"].mode()[0]"
   ]
  },
  {
   "cell_type": "code",
   "execution_count": 95,
   "metadata": {},
   "outputs": [],
   "source": [
    "df[\"Embarked\"]=df[\"Embarked\"].fillna(mode_em)"
   ]
  },
  {
   "cell_type": "code",
   "execution_count": 96,
   "metadata": {},
   "outputs": [
    {
     "data": {
      "text/plain": [
       "PassengerId    0\n",
       "Survived       0\n",
       "Pclass         0\n",
       "Name           0\n",
       "Sex            0\n",
       "Age            0\n",
       "SibSp          0\n",
       "Parch          0\n",
       "Ticket         0\n",
       "Fare           0\n",
       "Embarked       0\n",
       "dtype: int64"
      ]
     },
     "execution_count": 96,
     "metadata": {},
     "output_type": "execute_result"
    }
   ],
   "source": [
    "df.isna().sum()"
   ]
  },
  {
   "cell_type": "code",
   "execution_count": 98,
   "metadata": {},
   "outputs": [],
   "source": [
    "def survive_label(val):\n",
    "    if val==1:\n",
    "        return \"Alive\"\n",
    "    else:\n",
    "        return \"Dead\""
   ]
  },
  {
   "cell_type": "code",
   "execution_count": 99,
   "metadata": {},
   "outputs": [
    {
     "data": {
      "text/plain": [
       "0       Dead\n",
       "1      Alive\n",
       "2      Alive\n",
       "3      Alive\n",
       "4       Dead\n",
       "       ...  \n",
       "886     Dead\n",
       "887    Alive\n",
       "888     Dead\n",
       "889    Alive\n",
       "890     Dead\n",
       "Name: label_survived, Length: 891, dtype: object"
      ]
     },
     "execution_count": 99,
     "metadata": {},
     "output_type": "execute_result"
    }
   ],
   "source": [
    "df[\"label_survived\"]=df[\"Survived\"].apply(survive_label)\n",
    "df[\"label_survived\"]"
   ]
  },
  {
   "cell_type": "code",
   "execution_count": 101,
   "metadata": {},
   "outputs": [
    {
     "data": {
      "text/html": [
       "<div>\n",
       "<style scoped>\n",
       "    .dataframe tbody tr th:only-of-type {\n",
       "        vertical-align: middle;\n",
       "    }\n",
       "\n",
       "    .dataframe tbody tr th {\n",
       "        vertical-align: top;\n",
       "    }\n",
       "\n",
       "    .dataframe thead th {\n",
       "        text-align: right;\n",
       "    }\n",
       "</style>\n",
       "<table border=\"1\" class=\"dataframe\">\n",
       "  <thead>\n",
       "    <tr style=\"text-align: right;\">\n",
       "      <th></th>\n",
       "      <th>PassengerId</th>\n",
       "      <th>Survived</th>\n",
       "      <th>Pclass</th>\n",
       "      <th>Name</th>\n",
       "      <th>Sex</th>\n",
       "      <th>Age</th>\n",
       "      <th>SibSp</th>\n",
       "      <th>Parch</th>\n",
       "      <th>Ticket</th>\n",
       "      <th>Fare</th>\n",
       "      <th>Embarked</th>\n",
       "      <th>label_survived</th>\n",
       "    </tr>\n",
       "  </thead>\n",
       "  <tbody>\n",
       "    <tr>\n",
       "      <th>0</th>\n",
       "      <td>1</td>\n",
       "      <td>0</td>\n",
       "      <td>3</td>\n",
       "      <td>Braund, Mr. Owen Harris</td>\n",
       "      <td>male</td>\n",
       "      <td>22.0</td>\n",
       "      <td>1</td>\n",
       "      <td>0</td>\n",
       "      <td>A/5 21171</td>\n",
       "      <td>7.2500</td>\n",
       "      <td>S</td>\n",
       "      <td>Dead</td>\n",
       "    </tr>\n",
       "    <tr>\n",
       "      <th>1</th>\n",
       "      <td>2</td>\n",
       "      <td>1</td>\n",
       "      <td>1</td>\n",
       "      <td>Cumings, Mrs. John Bradley (Florence Briggs Th...</td>\n",
       "      <td>female</td>\n",
       "      <td>38.0</td>\n",
       "      <td>1</td>\n",
       "      <td>0</td>\n",
       "      <td>PC 17599</td>\n",
       "      <td>71.2833</td>\n",
       "      <td>C</td>\n",
       "      <td>Alive</td>\n",
       "    </tr>\n",
       "    <tr>\n",
       "      <th>2</th>\n",
       "      <td>3</td>\n",
       "      <td>1</td>\n",
       "      <td>3</td>\n",
       "      <td>Heikkinen, Miss. Laina</td>\n",
       "      <td>female</td>\n",
       "      <td>26.0</td>\n",
       "      <td>0</td>\n",
       "      <td>0</td>\n",
       "      <td>STON/O2. 3101282</td>\n",
       "      <td>7.9250</td>\n",
       "      <td>S</td>\n",
       "      <td>Alive</td>\n",
       "    </tr>\n",
       "    <tr>\n",
       "      <th>3</th>\n",
       "      <td>4</td>\n",
       "      <td>1</td>\n",
       "      <td>1</td>\n",
       "      <td>U</td>\n",
       "      <td>female</td>\n",
       "      <td>35.0</td>\n",
       "      <td>1</td>\n",
       "      <td>0</td>\n",
       "      <td>113803</td>\n",
       "      <td>53.1000</td>\n",
       "      <td>S</td>\n",
       "      <td>Alive</td>\n",
       "    </tr>\n",
       "    <tr>\n",
       "      <th>4</th>\n",
       "      <td>5</td>\n",
       "      <td>0</td>\n",
       "      <td>3</td>\n",
       "      <td>Allen, Mr. William Henry</td>\n",
       "      <td>male</td>\n",
       "      <td>35.0</td>\n",
       "      <td>0</td>\n",
       "      <td>0</td>\n",
       "      <td>373450</td>\n",
       "      <td>8.0500</td>\n",
       "      <td>S</td>\n",
       "      <td>Dead</td>\n",
       "    </tr>\n",
       "  </tbody>\n",
       "</table>\n",
       "</div>"
      ],
      "text/plain": [
       "   PassengerId  Survived  Pclass  \\\n",
       "0            1         0       3   \n",
       "1            2         1       1   \n",
       "2            3         1       3   \n",
       "3            4         1       1   \n",
       "4            5         0       3   \n",
       "\n",
       "                                                Name     Sex   Age  SibSp  \\\n",
       "0                            Braund, Mr. Owen Harris    male  22.0      1   \n",
       "1  Cumings, Mrs. John Bradley (Florence Briggs Th...  female  38.0      1   \n",
       "2                             Heikkinen, Miss. Laina  female  26.0      0   \n",
       "3                                                  U  female  35.0      1   \n",
       "4                           Allen, Mr. William Henry    male  35.0      0   \n",
       "\n",
       "   Parch            Ticket     Fare Embarked label_survived  \n",
       "0      0         A/5 21171   7.2500        S           Dead  \n",
       "1      0          PC 17599  71.2833        C          Alive  \n",
       "2      0  STON/O2. 3101282   7.9250        S          Alive  \n",
       "3      0            113803  53.1000        S          Alive  \n",
       "4      0            373450   8.0500        S           Dead  "
      ]
     },
     "execution_count": 101,
     "metadata": {},
     "output_type": "execute_result"
    }
   ],
   "source": [
    "df.head()"
   ]
  },
  {
   "cell_type": "code",
   "execution_count": 102,
   "metadata": {},
   "outputs": [
    {
     "data": {
      "text/plain": [
       "134"
      ]
     },
     "execution_count": 102,
     "metadata": {},
     "output_type": "execute_result"
    }
   ],
   "source": [
    "def clean_price(val):\n",
    "    return int(val.replace(\"$\",\"\"))\n",
    "\n",
    "clean_price(\"$134\")"
   ]
  },
  {
   "cell_type": "code",
   "execution_count": 104,
   "metadata": {},
   "outputs": [
    {
     "data": {
      "text/plain": [
       "0      0.141120\n",
       "1      0.841471\n",
       "2      0.141120\n",
       "3      0.841471\n",
       "4      0.141120\n",
       "         ...   \n",
       "886    0.909297\n",
       "887    0.841471\n",
       "888    0.141120\n",
       "889    0.841471\n",
       "890    0.141120\n",
       "Name: Pclass, Length: 891, dtype: float64"
      ]
     },
     "execution_count": 104,
     "metadata": {},
     "output_type": "execute_result"
    }
   ],
   "source": [
    "df[\"Pclass\"].apply(np.sin)"
   ]
  },
  {
   "cell_type": "markdown",
   "metadata": {},
   "source": [
    "### Aggregations"
   ]
  },
  {
   "cell_type": "code",
   "execution_count": 106,
   "metadata": {},
   "outputs": [
    {
     "data": {
      "text/html": [
       "<div>\n",
       "<style scoped>\n",
       "    .dataframe tbody tr th:only-of-type {\n",
       "        vertical-align: middle;\n",
       "    }\n",
       "\n",
       "    .dataframe tbody tr th {\n",
       "        vertical-align: top;\n",
       "    }\n",
       "\n",
       "    .dataframe thead th {\n",
       "        text-align: right;\n",
       "    }\n",
       "</style>\n",
       "<table border=\"1\" class=\"dataframe\">\n",
       "  <thead>\n",
       "    <tr style=\"text-align: right;\">\n",
       "      <th></th>\n",
       "      <th>PassengerId</th>\n",
       "      <th>Survived</th>\n",
       "      <th>Pclass</th>\n",
       "      <th>Age</th>\n",
       "      <th>SibSp</th>\n",
       "      <th>Parch</th>\n",
       "      <th>Fare</th>\n",
       "    </tr>\n",
       "  </thead>\n",
       "  <tbody>\n",
       "    <tr>\n",
       "      <th>mean</th>\n",
       "      <td>446.0</td>\n",
       "      <td>0.383838</td>\n",
       "      <td>2.308642</td>\n",
       "      <td>29.361582</td>\n",
       "      <td>0.523008</td>\n",
       "      <td>0.381594</td>\n",
       "      <td>32.204208</td>\n",
       "    </tr>\n",
       "    <tr>\n",
       "      <th>median</th>\n",
       "      <td>446.0</td>\n",
       "      <td>0.000000</td>\n",
       "      <td>3.000000</td>\n",
       "      <td>28.000000</td>\n",
       "      <td>0.000000</td>\n",
       "      <td>0.000000</td>\n",
       "      <td>14.454200</td>\n",
       "    </tr>\n",
       "  </tbody>\n",
       "</table>\n",
       "</div>"
      ],
      "text/plain": [
       "        PassengerId  Survived    Pclass        Age     SibSp     Parch  \\\n",
       "mean          446.0  0.383838  2.308642  29.361582  0.523008  0.381594   \n",
       "median        446.0  0.000000  3.000000  28.000000  0.000000  0.000000   \n",
       "\n",
       "             Fare  \n",
       "mean    32.204208  \n",
       "median  14.454200  "
      ]
     },
     "execution_count": 106,
     "metadata": {},
     "output_type": "execute_result"
    }
   ],
   "source": [
    "df.aggregate([np.mean,np.median])"
   ]
  },
  {
   "cell_type": "code",
   "execution_count": 107,
   "metadata": {},
   "outputs": [
    {
     "data": {
      "text/plain": [
       "Age         29.361582\n",
       "Pclass    2057.000000\n",
       "dtype: float64"
      ]
     },
     "execution_count": 107,
     "metadata": {},
     "output_type": "execute_result"
    }
   ],
   "source": [
    "df.aggregate({\"Age\":np.mean,\"Pclass\":np.sum})"
   ]
  },
  {
   "cell_type": "markdown",
   "metadata": {},
   "source": [
    "### Working with Text in Pandas"
   ]
  },
  {
   "cell_type": "code",
   "execution_count": 110,
   "metadata": {},
   "outputs": [
    {
     "data": {
      "text/plain": [
       "0                                braund, mr. owen harris\n",
       "1      cumings, mrs. john bradley (florence briggs th...\n",
       "2                                 heikkinen, miss. laina\n",
       "3                                                      u\n",
       "4                               allen, mr. william henry\n",
       "                             ...                        \n",
       "886                                montvila, rev. juozas\n",
       "887                         graham, miss. margaret edith\n",
       "888             johnston, miss. catherine helen \"carrie\"\n",
       "889                                behr, mr. karl howell\n",
       "890                                  dooley, mr. patrick\n",
       "Name: Name, Length: 891, dtype: object"
      ]
     },
     "execution_count": 110,
     "metadata": {},
     "output_type": "execute_result"
    }
   ],
   "source": [
    "#lower case\n",
    "df.Name.str.lower()"
   ]
  },
  {
   "cell_type": "code",
   "execution_count": 111,
   "metadata": {},
   "outputs": [
    {
     "data": {
      "text/plain": [
       "0                                BRAUND, MR. OWEN HARRIS\n",
       "1      CUMINGS, MRS. JOHN BRADLEY (FLORENCE BRIGGS TH...\n",
       "2                                 HEIKKINEN, MISS. LAINA\n",
       "3                                                      U\n",
       "4                               ALLEN, MR. WILLIAM HENRY\n",
       "                             ...                        \n",
       "886                                MONTVILA, REV. JUOZAS\n",
       "887                         GRAHAM, MISS. MARGARET EDITH\n",
       "888             JOHNSTON, MISS. CATHERINE HELEN \"CARRIE\"\n",
       "889                                BEHR, MR. KARL HOWELL\n",
       "890                                  DOOLEY, MR. PATRICK\n",
       "Name: Name, Length: 891, dtype: object"
      ]
     },
     "execution_count": 111,
     "metadata": {},
     "output_type": "execute_result"
    }
   ],
   "source": [
    "#Upper Case\n",
    "df.Name.str.upper()"
   ]
  },
  {
   "cell_type": "code",
   "execution_count": 113,
   "metadata": {},
   "outputs": [
    {
     "data": {
      "text/plain": [
       "0      23\n",
       "1      51\n",
       "2      22\n",
       "3       1\n",
       "4      24\n",
       "       ..\n",
       "886    21\n",
       "887    28\n",
       "888    40\n",
       "889    21\n",
       "890    19\n",
       "Name: Name, Length: 891, dtype: int64"
      ]
     },
     "execution_count": 113,
     "metadata": {},
     "output_type": "execute_result"
    }
   ],
   "source": [
    "#String Length\n",
    "df[\"Name\"].str.len()"
   ]
  },
  {
   "cell_type": "code",
   "execution_count": 114,
   "metadata": {},
   "outputs": [
    {
     "data": {
      "text/plain": [
       "0                                Braund, Mr. Owen Harris\n",
       "1      Cumings, Mrs. John Bradley (Florence Briggs Th...\n",
       "2                                 Heikkinen, Miss. Laina\n",
       "3                                                      U\n",
       "4                               Allen, Mr. William Henry\n",
       "                             ...                        \n",
       "886                                Montvila, Rev. Juozas\n",
       "887                         Graham, Miss. Margaret Edith\n",
       "888             Johnston, Miss. Catherine Helen \"Carrie\"\n",
       "889                                Behr, Mr. Karl Howell\n",
       "890                                  Dooley, Mr. Patrick\n",
       "Name: Name, Length: 891, dtype: object"
      ]
     },
     "execution_count": 114,
     "metadata": {},
     "output_type": "execute_result"
    }
   ],
   "source": [
    "# Strip\n",
    "df[\"Name\"].str.strip()"
   ]
  },
  {
   "cell_type": "code",
   "execution_count": 115,
   "metadata": {},
   "outputs": [
    {
     "data": {
      "text/plain": [
       "0                           [Braund,, Mr., Owen, Harris]\n",
       "1      [Cumings,, Mrs., John, Bradley, (Florence, Bri...\n",
       "2                             [Heikkinen,, Miss., Laina]\n",
       "3                                                    [U]\n",
       "4                          [Allen,, Mr., William, Henry]\n",
       "                             ...                        \n",
       "886                            [Montvila,, Rev., Juozas]\n",
       "887                    [Graham,, Miss., Margaret, Edith]\n",
       "888       [Johnston,, Miss., Catherine, Helen, \"Carrie\"]\n",
       "889                           [Behr,, Mr., Karl, Howell]\n",
       "890                              [Dooley,, Mr., Patrick]\n",
       "Name: Name, Length: 891, dtype: object"
      ]
     },
     "execution_count": 115,
     "metadata": {},
     "output_type": "execute_result"
    }
   ],
   "source": [
    "# split\n",
    "df[\"Name\"].str.split(\" \")"
   ]
  },
  {
   "cell_type": "code",
   "execution_count": 117,
   "metadata": {},
   "outputs": [
    {
     "data": {
      "text/plain": [
       "'Braund, Mr. Owen Harris_Cumings, Mrs. John Bradley (Florence Briggs Thayer)_Heikkinen, Miss. Laina_U_Allen, Mr. William Henry_Moran, Mr. James_McCarthy, Mr. Timothy J_Palsson, Master. Gosta Leonard_Johnson, Mrs. Oscar W (Elisabeth Vilhelmina Berg)_Nasser, Mrs. Nicholas (Adele Achem)_Sandstrom, Miss. Marguerite Rut_Bonnell, Miss. Elizabeth_Saundercock, Mr. William Henry_Andersson, Mr. Anders Johan_Vestrom, Miss. Hulda Amanda Adolfina_Hewlett, Mrs. (Mary D Kingcome) _Rice, Master. Eugene_Williams, Mr. Charles Eugene_Vander Planke, Mrs. Julius (Emelia Maria Vandemoortele)_Masselmani, Mrs. Fatima_Fynney, Mr. Joseph J_Beesley, Mr. Lawrence_McGowan, Miss. Anna \"Annie\"_Sloper, Mr. William Thompson_Palsson, Miss. Torborg Danira_U_Emir, Mr. Farred Chehab_Fortune, Mr. Charles Alexander_O\\'Dwyer, Miss. Ellen \"Nellie\"_Todoroff, Mr. Lalio_Uruchurtu, Don. Manuel E_Spencer, Mrs. William Augustus (Marie Eugenie)_Glynn, Miss. Mary Agatha_Wheadon, Mr. Edward H_Meyer, Mr. Edgar Joseph_Holverson, Mr. Alexander Oskar_Mamee, Mr. Hanna_Cann, Mr. Ernest Charles_Vander Planke, Miss. Augusta Maria_Nicola-Yarred, Miss. Jamila_Ahlin, Mrs. Johan (Johanna Persdotter Larsson)_Turpin, Mrs. William John Robert (Dorothy Ann Wonnacott)_Kraeff, Mr. Theodor_Laroche, Miss. Simonne Marie Anne Andree_Devaney, Miss. Margaret Delia_Rogers, Mr. William John_Lennon, Mr. Denis_O\\'Driscoll, Miss. Bridget_Samaan, Mr. Youssef_Arnold-Franchi, Mrs. Josef (Josefine Franchi)_Panula, Master. Juha Niilo_Nosworthy, Mr. Richard Cater_Harper, Mrs. Henry Sleeper (Myna Haxtun)_Faunthorpe, Mrs. Lizzie (Elizabeth Anne Wilkinson)_Ostby, Mr. Engelhart Cornelius_Woolner, Mr. Hugh_Rugg, Miss. Emily_Novel, Mr. Mansouer_West, Miss. Constance Mirium_Goodwin, Master. William Frederick_Sirayanian, Mr. Orsen_Icard, Miss. Amelie_Harris, Mr. Henry Birkhardt_Skoog, Master. Harald_Stewart, Mr. Albert A_Moubarek, Master. Gerios_Nye, Mrs. (Elizabeth Ramell)_Crease, Mr. Ernest James_Andersson, Miss. Erna Alexandra_Kink, Mr. Vincenz_Jenkin, Mr. Stephen Curnow_Goodwin, Miss. Lillian Amy_Hood, Mr. Ambrose Jr_Chronopoulos, Mr. Apostolos_Bing, Mr. Lee_Moen, Mr. Sigurd Hansen_Staneff, Mr. Ivan_Moutal, Mr. Rahamin Haim_Caldwell, Master. Alden Gates_Dowdell, Miss. Elizabeth_Waelens, Mr. Achille_Sheerlinck, Mr. Jan Baptist_McDermott, Miss. Brigdet Delia_Carrau, Mr. Francisco M_Ilett, Miss. Bertha_Backstrom, Mrs. Karl Alfred (Maria Mathilda Gustafsson)_Ford, Mr. William Neal_Slocovski, Mr. Selman Francis_Fortune, Miss. Mabel Helen_Celotti, Mr. Francesco_U_Andreasson, Mr. Paul Edvin_Chaffee, Mr. Herbert Fuller_Dean, Mr. Bertram Frank_Coxon, Mr. Daniel_Shorney, Mr. Charles Joseph_Goldschmidt, Mr. George B_Greenfield, Mr. William Bertram_Doling, Mrs. John T (Ada Julia Bone)_Kantor, Mr. Sinai_Petranec, Miss. Matilda_Petroff, Mr. Pastcho (\"Pentcho\")_White, Mr. Richard Frasar_Johansson, Mr. Gustaf Joel_Gustafsson, Mr. Anders Vilhelm_Mionoff, Mr. Stoytcho_Salkjelsvik, Miss. Anna Kristine_Moss, Mr. Albert Johan_Rekic, Mr. Tido_Moran, Miss. Bertha_Porter, Mr. Walter Chamberlain_Zabour, Miss. Hileni_Barton, Mr. David John_Jussila, Miss. Katriina_Attalah, Miss. Malake_Pekoniemi, Mr. Edvard_Connors, Mr. Patrick_Turpin, Mr. William John Robert_Baxter, Mr. Quigg Edmond_U_U_U_Nasser, Mr. Nicholas_Webber, Miss. Susan_White, Mr. Percival Wayland_Nicola-Yarred, Master. Elias_McMahon, Mr. Martin_Madsen, Mr. Fridtjof Arne_Peter, Miss. Anna_U_Drazenoic, Mr. Jozef_Coelho, Mr. Domingos Fernandeo_Robins, Mrs. Alexander A (Grace Charity Laury)_Weisz, Mrs. Leopold (Mathilde Francoise Pede)_Sobey, Mr. Samuel James Hayden_Richard, Mr. Emile_Newsom, Miss. Helen Monypeny_Futrelle, Mr. Jacques Heath_Osen, Mr. Olaf Elon_Giglio, Mr. Victor_Boulos, Mrs. Joseph (Sultana)_Nysten, Miss. Anna Sofia_Hakkarainen, Mrs. Pekka Pietari (Elin Matilda Dolck)_Burke, Mr. Jeremiah_Andrew, Mr. Edgardo Samuel_U_U_Ford, Miss. Robina Maggie \"Ruby\"_Navratil, Mr. Michel (\"Louis M Hoffman\")_Byles, Rev. Thomas Roussel Davids_Bateman, Rev. Robert James_Pears, Mrs. Thomas (Edith Wearne)_Meo, Mr. Alfonzo_van Billiard, Mr. Austin Blyler_Olsen, Mr. Ole Martin_Williams, Mr. Charles Duane_Gilnagh, Miss. Katherine \"Katie\"_Corn, Mr. Harry_Smiljanic, Mr. Mile_Sage, Master. Thomas Henry_Cribb, Mr. John Hatfield_Watt, Mrs. James (Elizabeth \"Bessie\" Inglis Milne)_Bengtsson, Mr. John Viktor_Calic, Mr. Jovo_Panula, Master. Eino Viljami_Goldsmith, Master. Frank John William \"Frankie\"_Chibnall, Mrs. (Edith Martha Bowerman)_Skoog, Mrs. William (Anna Bernhardina Karlsson)_Baumann, Mr. John D_Ling, Mr. Lee_Van der hoef, Mr. Wyckoff_Rice, Master. Arthur_Johnson, Miss. Eleanor Ileen_Sivola, Mr. Antti Wilhelm_Smith, Mr. James Clinch_Klasen, Mr. Klas Albin_Lefebre, Master. Henry Forbes_Isham, Miss. Ann Elizabeth_Hale, Mr. Reginald_Leonard, Mr. Lionel_Sage, Miss. Constance Gladys_Pernot, Mr. Rene_Asplund, Master. Clarence Gustaf Hugo_Becker, Master. Richard F_Kink-Heilmann, Miss. Luise Gretchen_Rood, Mr. Hugh Roscoe_O\\'Brien, Mrs. Thomas (Johanna \"Hannah\" Godfrey)_Romaine, Mr. Charles Hallace (\"Mr C Rolmane\")_Bourke, Mr. John_U_U_Carbines, Mr. William_Andersen-Jensen, Miss. Carla Christine Nielsine_Navratil, Master. Michel M_Brown, Mrs. James Joseph (Margaret Tobin)_Lurette, Miss. Elise_Mernagh, Mr. Robert_Olsen, Mr. Karl Siegwart Andreas_Madigan, Miss. Margaret \"Maggie\"_Yrois, Miss. Henriette (\"Mrs Harbeck\")_Vande Walle, Mr. Nestor Cyriel_Sage, Mr. Frederick_Johanson, Mr. Jakob Alfred_Youseff, Mr. Gerious_Cohen, Mr. Gurshon \"Gus\"_Strom, Miss. Telma Matilda_Backstrom, Mr. Karl Alfred_Albimona, Mr. Nassef Cassem_Carr, Miss. Helen \"Ellen\"_Blank, Mr. Henry_Ali, Mr. Ahmed_Cameron, Miss. Clear Annie_Perkin, Mr. John Henry_Givard, Mr. Hans Kristensen_Kiernan, Mr. Philip_Newell, Miss. Madeleine_Honkanen, Miss. Eliina_Jacobsohn, Mr. Sidney Samuel_Bazzani, Miss. Albina_Harris, Mr. Walter_Sunderland, Mr. Victor Francis_Bracken, Mr. James H_Green, Mr. George Henry_Nenkoff, Mr. Christo_Hoyt, Mr. Frederick Maxfield_Berglund, Mr. Karl Ivar Sven_Mellors, Mr. William John_Lovell, Mr. John Hall (\"Henry\")_Fahlstrom, Mr. Arne Jonas_Lefebre, Miss. Mathilde_Harris, Mrs. Henry Birkhardt (Irene Wallach)_Larsson, Mr. Bengt Edvin_Sjostedt, Mr. Ernst Adolf_Asplund, Miss. Lillian Gertrud_Leyson, Mr. Robert William Norman_Harknett, Miss. Alice Phoebe_Hold, Mr. Stephen_Collyer, Miss. Marjorie \"Lottie\"_Pengelly, Mr. Frederick William_Hunt, Mr. George Henry_Zabour, Miss. Thamine_Murphy, Miss. Katherine \"Kate\"_Coleridge, Mr. Reginald Charles_Maenpaa, Mr. Matti Alexanteri_Attalah, Mr. Sleiman_Minahan, Dr. William Edward_Lindahl, Miss. Agda Thorilda Viktoria_Hamalainen, Mrs. William (Anna)_Beckwith, Mr. Richard Leonard_Carter, Rev. Ernest Courtenay_Reed, Mr. James George_Strom, Mrs. Wilhelm (Elna Matilda Persson)_Stead, Mr. William Thomas_Lobb, Mr. William Arthur_Rosblom, Mrs. Viktor (Helena Wilhelmina)_Touma, Mrs. Darwis (Hanne Youssef Razi)_Thorne, Mrs. Gertrude Maybelle_Cherry, Miss. Gladys_Ward, Miss. Anna_Parrish, Mrs. (Lutie Davis)_Smith, Mr. Thomas_Asplund, Master. Edvin Rojj Felix_Taussig, Mr. Emil_Harrison, Mr. William_Henry, Miss. Delia_Reeves, Mr. David_Panula, Mr. Ernesti Arvid_Persson, Mr. Ernst Ulrik_Graham, Mrs. William Thompson (Edith Junkins)_Bissette, Miss. Amelia_Cairns, Mr. Alexander_Tornquist, Mr. William Henry_Mellinger, Mrs. (Elizabeth Anne Maidment)_Natsch, Mr. Charles H_Healy, Miss. Hanora \"Nora\"_Andrews, Miss. Kornelia Theodosia_Lindblom, Miss. Augusta Charlotta_Parkes, Mr. Francis \"Frank\"_Rice, Master. Eric_Abbott, Mrs. Stanton (Rosa Hunt)_Duane, Mr. Frank_Olsson, Mr. Nils Johan Goransson_de Pelsmaeker, Mr. Alfons_Dorking, Mr. Edward Arthur_Smith, Mr. Richard William_Stankovic, Mr. Ivan_de Mulder, Mr. Theodore_Naidenoff, Mr. Penko_Hosono, Mr. Masabumi_Connolly, Miss. Kate_Barber, Miss. Ellen \"Nellie\"_Bishop, Mrs. Dickinson H (Helen Walton)_Levy, Mr. Rene Jacques_Haas, Miss. Aloisia_Mineff, Mr. Ivan_Lewy, Mr. Ervin G_Hanna, Mr. Mansour_Allison, Miss. Helen Loraine_Saalfeld, Mr. Adolphe_Baxter, Mrs. James (Helene DeLaudeniere Chaput)_Kelly, Miss. Anna Katherine \"Annie Kate\"_McCoy, Mr. Bernard_Johnson, Mr. William Cahoone Jr_Keane, Miss. Nora A_Williams, Mr. Howard Hugh \"Harry\"_Allison, Master. Hudson Trevor_Fleming, Miss. Margaret_Penasco y Castellana, Mrs. Victor de Satode (Maria Josefa Perez de Soto y Vallejo)_Abelson, Mr. Samuel_Francatelli, Miss. Laura Mabel_Hays, Miss. Margaret Bechstein_Ryerson, Miss. Emily Borie_Lahtinen, Mrs. William (Anna Sylfven)_Hendekovic, Mr. Ignjac_Hart, Mr. Benjamin_Nilsson, Miss. Helmina Josefina_Kantor, Mrs. Sinai (Miriam Sternin)_Moraweck, Dr. Ernest_Wick, Miss. Mary Natalie_Spedden, Mrs. Frederic Oakley (Margaretta Corning Stone)_Dennis, Mr. Samuel_Danoff, Mr. Yoto_Slayter, Miss. Hilda Mary_Caldwell, Mrs. Albert Francis (Sylvia Mae Harbaugh)_Sage, Mr. George John Jr_Young, Miss. Marie Grice_Nysveen, Mr. Johan Hansen_Ball, Mrs. (Ada E Hall)_Goldsmith, Mrs. Frank John (Emily Alice Brown)_Hippach, Miss. Jean Gertrude_McCoy, Miss. Agnes_Partner, Mr. Austen_Graham, Mr. George Edward_Vander Planke, Mr. Leo Edmondus_Frauenthal, Mrs. Henry William (Clara Heinsheimer)_Denkoff, Mr. Mitto_Pears, Mr. Thomas Clinton_Burns, Miss. Elizabeth Margaret_Dahl, Mr. Karl Edwart_Blackwell, Mr. Stephen Weart_Navratil, Master. Edmond Roger_Fortune, Miss. Alice Elizabeth_Collander, Mr. Erik Gustaf_Sedgwick, Mr. Charles Frederick Waddington_Fox, Mr. Stanley Hubert_Brown, Miss. Amelia \"Mildred\"_Smith, Miss. Marion Elsie_Davison, Mrs. Thomas Henry (Mary E Finck)_Coutts, Master. William Loch \"William\"_Dimic, Mr. Jovan_Odahl, Mr. Nils Martin_Williams-Lambert, Mr. Fletcher Fellows_Elias, Mr. Tannous_Arnold-Franchi, Mr. Josef_Yousif, Mr. Wazli_Vanden Steen, Mr. Leo Peter_Bowerman, Miss. Elsie Edith_Funk, Miss. Annie Clemmer_McGovern, Miss. Mary_Mockler, Miss. Helen Mary \"Ellie\"_Skoog, Mr. Wilhelm_del Carlo, Mr. Sebastiano_Barbara, Mrs. (Catherine David)_Asim, Mr. Adola_O\\'Brien, Mr. Thomas_Adahl, Mr. Mauritz Nils Martin_Warren, Mrs. Frank Manley (Anna Sophia Atkinson)_Moussa, Mrs. (Mantoura Boulos)_Jermyn, Miss. Annie_Aubart, Mme. Leontine Pauline_Harder, Mr. George Achilles_Wiklund, Mr. Jakob Alfred_Beavan, Mr. William Thomas_Ringhini, Mr. Sante_Palsson, Miss. Stina Viola_Meyer, Mrs. Edgar Joseph (Leila Saks)_Landergren, Miss. Aurora Adelia_Widener, Mr. Harry Elkins_Betros, Mr. Tannous_Gustafsson, Mr. Karl Gideon_Bidois, Miss. Rosalie_Nakid, Miss. Maria (\"Mary\")_Tikkanen, Mr. Juho_Holverson, Mrs. Alexander Oskar (Mary Aline Towner)_Plotcharsky, Mr. Vasil_Davies, Mr. Charles Henry_Goodwin, Master. Sidney Leonard_Buss, Miss. Kate_Sadlier, Mr. Matthew_Lehmann, Miss. Bertha_Carter, Mr. William Ernest_Jansson, Mr. Carl Olof_Gustafsson, Mr. Johan Birger_Newell, Miss. Marjorie_Sandstrom, Mrs. Hjalmar (Agnes Charlotta Bengtsson)_Johansson, Mr. Erik_Olsson, Miss. Elina_McKane, Mr. Peter David_Pain, Dr. Alfred_Trout, Mrs. William H (Jessie L)_Niskanen, Mr. Juha_Adams, Mr. John_Jussila, Miss. Mari Aina_Hakkarainen, Mr. Pekka Pietari_Oreskovic, Miss. Marija_Gale, Mr. Shadrach_Widegren, Mr. Carl/Charles Peter_Richards, Master. William Rowe_Birkeland, Mr. Hans Martin Monsen_Lefebre, Miss. Ida_Sdycoff, Mr. Todor_Hart, Mr. Henry_Minahan, Miss. Daisy E_Cunningham, Mr. Alfred Fleming_Sundman, Mr. Johan Julian_Meek, Mrs. Thomas (Annie Louise Rowley)_Drew, Mrs. James Vivian (Lulu Thorne Christian)_Silven, Miss. Lyyli Karoliina_Matthews, Mr. William John_Van Impe, Miss. Catharina_Gheorgheff, Mr. Stanio_Charters, Mr. David_Zimmerman, Mr. Leo_Danbom, Mrs. Ernst Gilbert (Anna Sigrid Maria Brogren)_Rosblom, Mr. Viktor Richard_Wiseman, Mr. Phillippe_Clarke, Mrs. Charles V (Ada Maria Winfield)_Phillips, Miss. Kate Florence (\"Mrs Kate Louise Phillips Marshall\")_Flynn, Mr. James_Pickard, Mr. Berk (Berk Trembisky)_Bjornstrom-Steffansson, Mr. Mauritz Hakan_Thorneycroft, Mrs. Percival (Florence Kate White)_Louch, Mrs. Charles Alexander (Alice Adelaide Slow)_Kallio, Mr. Nikolai Erland_Silvey, Mr. William Baird_Carter, Miss. Lucile Polk_Ford, Miss. Doolina Margaret \"Daisy\"_Richards, Mrs. Sidney (Emily Hocking)_Fortune, Mr. Mark_Kvillner, Mr. Johan Henrik Johannesson_Hart, Mrs. Benjamin (Esther Ada Bloomfield)_Hampe, Mr. Leon_Petterson, Mr. Johan Emil_Reynaldo, Ms. Encarnacion_Johannesen-Bratthammer, Mr. Bernt_Dodge, Master. Washington_Mellinger, Miss. Madeleine Violet_Seward, Mr. Frederic Kimber_Baclini, Miss. Marie Catherine_Peuchen, Major. Arthur Godfrey_West, Mr. Edwy Arthur_Hagland, Mr. Ingvald Olai Olsen_Foreman, Mr. Benjamin Laventall_Goldenberg, Mr. Samuel L_Peduzzi, Mr. Joseph_Jalsevac, Mr. Ivan_Millet, Mr. Francis Davis_Kenyon, Mrs. Frederick R (Marion)_Toomey, Miss. Ellen_O\\'Connor, Mr. Maurice_Anderson, Mr. Harry_Morley, Mr. William_Gee, Mr. Arthur H_Milling, Mr. Jacob Christian_Maisner, Mr. Simon_Goncalves, Mr. Manuel Estanslas_Campbell, Mr. William_Smart, Mr. John Montgomery_Scanlan, Mr. James_Baclini, Miss. Helene Barbara_Keefe, Mr. Arthur_Cacic, Mr. Luka_West, Mrs. Edwy Arthur (Ada Mary Worth)_Jerwan, Mrs. Amin S (Marie Marthe Thuillard)_Strandberg, Miss. Ida Sofia_Clifford, Mr. George Quincy_Renouf, Mr. Peter Henry_Braund, Mr. Lewis Richard_Karlsson, Mr. Nils August_Hirvonen, Miss. Hildur E_Goodwin, Master. Harold Victor_Frost, Mr. Anthony Wood \"Archie\"_Rouse, Mr. Richard Henry_Turkula, Mrs. (Hedwig)_Bishop, Mr. Dickinson H_Lefebre, Miss. Jeannie_Hoyt, Mrs. Frederick Maxfield (Jane Anne Forby)_Kent, Mr. Edward Austin_Somerton, Mr. Francis William_Coutts, Master. Eden Leslie \"Neville\"_Hagland, Mr. Konrad Mathias Reiersen_Windelov, Mr. Einar_Molson, Mr. Harry Markland_Artagaveytia, Mr. Ramon_Stanley, Mr. Edward Roland_Yousseff, Mr. Gerious_Eustis, Miss. Elizabeth Mussey_Shellard, Mr. Frederick William_Allison, Mrs. Hudson J C (Bessie Waldo Daniels)_Svensson, Mr. Olof_Calic, Mr. Petar_Canavan, Miss. Mary_O\\'Sullivan, Miss. Bridget Mary_Laitinen, Miss. Kristina Sofia_Maioni, Miss. Roberta_Penasco y Castellana, Mr. Victor de Satode_Quick, Mrs. Frederick Charles (Jane Richards)_Bradley, Mr. George (\"George Arthur Brayton\")_Olsen, Mr. Henry Margido_Lang, Mr. Fang_Daly, Mr. Eugene Patrick_Webber, Mr. James_McGough, Mr. James Robert_Rothschild, Mrs. Martin (Elizabeth L. Barrett)_Coleff, Mr. Satio_Walker, Mr. William Anderson_Lemore, Mrs. (Amelia Milley)_Ryan, Mr. Patrick_Angle, Mrs. William A (Florence \"Mary\" Agnes Hughes)_Pavlovic, Mr. Stefo_Perreault, Miss. Anne_Vovk, Mr. Janko_Lahoud, Mr. Sarkis_Hippach, Mrs. Louis Albert (Ida Sophia Fischer)_Kassem, Mr. Fared_Farrell, Mr. James_Ridsdale, Miss. Lucy_Farthing, Mr. John_Salonen, Mr. Johan Werner_Hocking, Mr. Richard George_Quick, Miss. Phyllis May_Toufik, Mr. Nakli_Elias, Mr. Joseph Jr_Peter, Mrs. Catherine (Catherine Rizk)_Cacic, Miss. Marija_Hart, Miss. Eva Miriam_Butt, Major. Archibald Willingham_LeRoy, Miss. Bertha_Risien, Mr. Samuel Beard_Frolicher, Miss. Hedwig Margaritha_Crosby, Miss. Harriet R_Andersson, Miss. Ingeborg Constanzia_Andersson, Miss. Sigrid Elisabeth_Beane, Mr. Edward_Douglas, Mr. Walter Donald_Nicholson, Mr. Arthur Ernest_Beane, Mrs. Edward (Ethel Clarke)_Padro y Manent, Mr. Julian_Goldsmith, Mr. Frank John_Davies, Master. John Morgan Jr_Thayer, Mr. John Borland Jr_Sharp, Mr. Percival James R_O\\'Brien, Mr. Timothy_Leeni, Mr. Fahim (\"Philip Zenni\")_Ohman, Miss. Velin_Wright, Mr. George_Duff Gordon, Lady. (Lucille Christiana Sutherland) (\"Mrs Morgan\")_Robbins, Mr. Victor_Taussig, Mrs. Emil (Tillie Mandelbaum)_de Messemaeker, Mrs. Guillaume Joseph (Emma)_Morrow, Mr. Thomas Rowan_Sivic, Mr. Husein_Norman, Mr. Robert Douglas_Simmons, Mr. John_Meanwell, Miss. (Marion Ogden)_Davies, Mr. Alfred J_Stoytcheff, Mr. Ilia_Palsson, Mrs. Nils (Alma Cornelia Berglund)_Doharr, Mr. Tannous_Jonsson, Mr. Carl_Harris, Mr. George_Appleton, Mrs. Edward Dale (Charlotte Lamson)_Flynn, Mr. John Irwin (\"Irving\")_Kelly, Miss. Mary_Rush, Mr. Alfred George John_Patchett, Mr. George_Garside, Miss. Ethel_Silvey, Mrs. William Baird (Alice Munger)_Caram, Mrs. Joseph (Maria Elias)_Jussila, Mr. Eiriik_Christy, Miss. Julie Rachel_Thayer, Mrs. John Borland (Marian Longstreth Morris)_Downton, Mr. William James_Ross, Mr. John Hugo_Paulner, Mr. Uscher_Taussig, Miss. Ruth_Jarvis, Mr. John Denzil_Frolicher-Stehli, Mr. Maxmillian_Gilinski, Mr. Eliezer_Murdlin, Mr. Joseph_Rintamaki, Mr. Matti_Stephenson, Mrs. Walter Bertram (Martha Eustis)_Elsbury, Mr. William James_Bourke, Miss. Mary_Chapman, Mr. John Henry_Van Impe, Mr. Jean Baptiste_Leitch, Miss. Jessie Wills_Johnson, Mr. Alfred_Boulos, Mr. Hanna_Duff Gordon, Sir. Cosmo Edmund (\"Mr Morgan\")_Jacobsohn, Mrs. Sidney Samuel (Amy Frances Christy)_Slabenoff, Mr. Petco_Harrington, Mr. Charles H_Torber, Mr. Ernst William_Homer, Mr. Harry (\"Mr E Haven\")_Lindell, Mr. Edvard Bengtsson_Karaic, Mr. Milan_Daniel, Mr. Robert Williams_Laroche, Mrs. Joseph (Juliette Marie Louise Lafargue)_Shutes, Miss. Elizabeth W_Andersson, Mrs. Anders Johan (Alfrida Konstantia Brogren)_Jardin, Mr. Jose Neto_Murphy, Miss. Margaret Jane_Horgan, Mr. John_Brocklebank, Mr. William Alfred_Herman, Miss. Alice_Danbom, Mr. Ernst Gilbert_Lobb, Mrs. William Arthur (Cordelia K Stanlick)_Becker, Miss. Marion Louise_Gavey, Mr. Lawrence_Yasbeck, Mr. Antoni_Kimball, Mr. Edwin Nelson Jr_Nakid, Mr. Sahid_Hansen, Mr. Henry Damsgaard_Bowen, Mr. David John \"Dai\"_Sutton, Mr. Frederick_Kirkland, Rev. Charles Leonard_Longley, Miss. Gretchen Fiske_Bostandyeff, Mr. Guentcho_O\\'Connell, Mr. Patrick D_Barkworth, Mr. Algernon Henry Wilson_Lundahl, Mr. Johan Svensson_Stahelin-Maeglin, Dr. Max_Parr, Mr. William Henry Marsh_Skoog, Miss. Mabel_Davis, Miss. Mary_Leinonen, Mr. Antti Gustaf_Collyer, Mr. Harvey_Panula, Mrs. Juha (Maria Emilia Ojala)_Thorneycroft, Mr. Percival_Jensen, Mr. Hans Peder_Sagesser, Mlle. Emma_Skoog, Miss. Margit Elizabeth_Foo, Mr. Choong_Baclini, Miss. Eugenie_Harper, Mr. Henry Sleeper_Cor, Mr. Liudevit_Simonius-Blumer, Col. Oberst Alfons_Willey, Mr. Edward_Stanley, Miss. Amy Zillah Elsie_Mitkoff, Mr. Mito_Doling, Miss. Elsie_Kalvik, Mr. Johannes Halvorsen_O\\'Leary, Miss. Hanora \"Norah\"_Hegarty, Miss. Hanora \"Nora\"_Hickman, Mr. Leonard Mark_Radeff, Mr. Alexander_Bourke, Mrs. John (Catherine)_Eitemiller, Mr. George Floyd_Newell, Mr. Arthur Webster_Frauenthal, Dr. Henry William_Badt, Mr. Mohamed_Colley, Mr. Edward Pomeroy_Coleff, Mr. Peju_Lindqvist, Mr. Eino William_Hickman, Mr. Lewis_Butler, Mr. Reginald Fenton_Rommetvedt, Mr. Knud Paust_Cook, Mr. Jacob_Taylor, Mrs. Elmer Zebley (Juliet Cummins Wright)_Brown, Mrs. Thomas William Solomon (Elizabeth Catherine Ford)_Davidson, Mr. Thornton_Mitchell, Mr. Henry Michael_Wilhelms, Mr. Charles_Watson, Mr. Ennis Hastings_Edvardsson, Mr. Gustaf Hjalmar_Sawyer, Mr. Frederick Charles_Turja, Miss. Anna Sofia_Goodwin, Mrs. Frederick (Augusta Tyler)_Cardeza, Mr. Thomas Drake Martinez_Peters, Miss. Katie_Hassab, Mr. Hammad_Olsvigen, Mr. Thor Anderson_Goodwin, Mr. Charles Edward_Brown, Mr. Thomas William Solomon_Laroche, Mr. Joseph Philippe Lemercier_Panula, Mr. Jaako Arnold_Dakic, Mr. Branko_Fischer, Mr. Eberhard Thelander_Madill, Miss. Georgette Alexandra_Dick, Mr. Albert Adrian_Karun, Miss. Manca_Lam, Mr. Ali_Saad, Mr. Khalil_Weir, Col. John_Chapman, Mr. Charles Henry_Kelly, Mr. James_Mullens, Miss. Katherine \"Katie\"_Thayer, Mr. John Borland_Humblen, Mr. Adolf Mathias Nicolai Olsen_Astor, Mrs. John Jacob (Madeleine Talmadge Force)_Silverthorne, Mr. Spencer Victor_Barbara, Miss. Saiide_Gallagher, Mr. Martin_Hansen, Mr. Henrik Juul_Morley, Mr. Henry Samuel (\"Mr Henry Marshall\")_Kelly, Mrs. Florence \"Fannie\"_Calderhead, Mr. Edward Pennington_Cleaver, Miss. Alice_Moubarek, Master. Halim Gonios (\"William George\")_Mayne, Mlle. Berthe Antonine (\"Mrs de Villiers\")_Klaber, Mr. Herman_Taylor, Mr. Elmer Zebley_Larsson, Mr. August Viktor_Greenberg, Mr. Samuel_Soholt, Mr. Peter Andreas Lauritz Andersen_Endres, Miss. Caroline Louise_Troutt, Miss. Edwina Celia \"Winnie\"_McEvoy, Mr. Michael_Johnson, Mr. Malkolm Joackim_Harper, Miss. Annie Jessie \"Nina\"_Jensen, Mr. Svend Lauritz_Gillespie, Mr. William Henry_Hodges, Mr. Henry Price_Chambers, Mr. Norman Campbell_Oreskovic, Mr. Luka_Renouf, Mrs. Peter Henry (Lillian Jefferys)_Mannion, Miss. Margareth_Bryhl, Mr. Kurt Arnold Gottfrid_Ilmakangas, Miss. Pieta Sofia_Allen, Miss. Elisabeth Walton_Hassan, Mr. Houssein G N_Knight, Mr. Robert J_Berriman, Mr. William John_Troupiansky, Mr. Moses Aaron_Williams, Mr. Leslie_Ford, Mrs. Edward (Margaret Ann Watson)_Lesurer, Mr. Gustave J_Ivanoff, Mr. Kanio_Nankoff, Mr. Minko_Hawksford, Mr. Walter James_Cavendish, Mr. Tyrell William_Ryerson, Miss. Susan Parker \"Suzette\"_McNamee, Mr. Neal_Stranden, Mr. Juho_Crosby, Capt. Edward Gifford_Abbott, Mr. Rossmore Edward_Sinkkonen, Miss. Anna_Marvin, Mr. Daniel Warner_Connaghton, Mr. Michael_Wells, Miss. Joan_Moor, Master. Meier_Vande Velde, Mr. Johannes Joseph_Jonkoff, Mr. Lalio_Herman, Mrs. Samuel (Jane Laver)_Hamalainen, Master. Viljo_Carlsson, Mr. August Sigfrid_Bailey, Mr. Percy Andrew_Theobald, Mr. Thomas Leonard_Rothes, the Countess. of (Lucy Noel Martha Dyer-Edwards)_Garfirth, Mr. John_Nirva, Mr. Iisakki Antino Aijo_Barah, Mr. Hanna Assi_Carter, Mrs. William Ernest (Lucile Polk)_Eklund, Mr. Hans Linus_Hogeboom, Mrs. John C (Anna Andrews)_Brewe, Dr. Arthur Jackson_Mangan, Miss. Mary_Moran, Mr. Daniel J_Gronnestad, Mr. Daniel Danielsen_Lievens, Mr. Rene Aime_Jensen, Mr. Niels Peder_Mack, Mrs. (Mary)_Elias, Mr. Dibo_Hocking, Mrs. Elizabeth (Eliza Needs)_Myhrman, Mr. Pehr Fabian Oliver Malkolm_Tobin, Mr. Roger_Emanuel, Miss. Virginia Ethel_Kilgannon, Mr. Thomas J_Robert, Mrs. Edward Scott (Elisabeth Walton McMillan)_Ayoub, Miss. Banoura_Dick, Mrs. Albert Adrian (Vera Gillespie)_Long, Mr. Milton Clyde_Johnston, Mr. Andrew G_Ali, Mr. William_Harmer, Mr. Abraham (David Lishin)_Sjoblom, Miss. Anna Sofia_Rice, Master. George Hugh_Dean, Master. Bertram Vere_Guggenheim, Mr. Benjamin_Keane, Mr. Andrew \"Andy\"_Gaskell, Mr. Alfred_Sage, Miss. Stella Anna_Hoyt, Mr. William Fisher_Dantcheff, Mr. Ristiu_Otter, Mr. Richard_Leader, Dr. Alice (Farnham)_Osman, Mrs. Mara_Ibrahim Shawah, Mr. Yousseff_Van Impe, Mrs. Jean Baptiste (Rosalie Paula Govaert)_Ponesell, Mr. Martin_Collyer, Mrs. Harvey (Charlotte Annie Tate)_Carter, Master. William Thornton II_Thomas, Master. Assad Alexander_Hedman, Mr. Oskar Arvid_Johansson, Mr. Karl Johan_Andrews, Mr. Thomas Jr_Pettersson, Miss. Ellen Natalia_Meyer, Mr. August_Chambers, Mrs. Norman Campbell (Bertha Griggs)_Alexander, Mr. William_Lester, Mr. James_Slemen, Mr. Richard James_Andersson, Miss. Ebba Iris Alfrida_Tomlin, Mr. Ernest Portage_Fry, Mr. Richard_Heininen, Miss. Wendla Maria_Mallet, Mr. Albert_Holm, Mr. John Fredrik Alexander_Skoog, Master. Karl Thorsten_Hays, Mrs. Charles Melville (Clara Jennings Gregg)_Lulic, Mr. Nikola_Reuchlin, Jonkheer. John George_Moor, Mrs. (Beila)_Panula, Master. Urho Abraham_Flynn, Mr. John_Lam, Mr. Len_Mallet, Master. Andre_McCormack, Mr. Thomas Joseph_Stone, Mrs. George Nelson (Martha Evelyn)_Yasbeck, Mrs. Antoni (Selini Alexander)_Richards, Master. George Sibley_Saad, Mr. Amin_Augustsson, Mr. Albert_Allum, Mr. Owen George_Compton, Miss. Sara Rebecca_Pasic, Mr. Jakob_Sirota, Mr. Maurice_Chip, Mr. Chang_Marechal, Mr. Pierre_Alhomaki, Mr. Ilmari Rudolf_Mudd, Mr. Thomas Charles_Serepeca, Miss. Augusta_Lemberopolous, Mr. Peter L_Culumovic, Mr. Jeso_Abbing, Mr. Anthony_Sage, Mr. Douglas Bullen_Markoff, Mr. Marin_Harper, Rev. John_Goldenberg, Mrs. Samuel L (Edwiga Grabowska)_Andersson, Master. Sigvard Harald Elias_Svensson, Mr. Johan_Boulos, Miss. Nourelain_Lines, Miss. Mary Conover_Carter, Mrs. Ernest Courtenay (Lilian Hughes)_Aks, Mrs. Sam (Leah Rosen)_Wick, Mrs. George Dennick (Mary Hitchcock)_Daly, Mr. Peter Denis _Baclini, Mrs. Solomon (Latifa Qurban)_Razi, Mr. Raihed_Hansen, Mr. Claus Peter_Giles, Mr. Frederick Edward_Swift, Mrs. Frederick Joel (Margaret Welles Barron)_Sage, Miss. Dorothy Edith \"Dolly\"_Gill, Mr. John William_Bystrom, Mrs. (Karolina)_Duran y More, Miss. Asuncion_Roebling, Mr. Washington Augustus II_van Melkebeke, Mr. Philemon_Johnson, Master. Harold Theodor_Balkic, Mr. Cerin_Beckwith, Mrs. Richard Leonard (Sallie Monypeny)_Carlsson, Mr. Frans Olof_Vander Cruyssen, Mr. Victor_Abelson, Mrs. Samuel (Hannah Wizosky)_Najib, Miss. Adele Kiamie \"Jane\"_Gustafsson, Mr. Alfred Ossian_Petroff, Mr. Nedelio_Laleff, Mr. Kristo_Potter, Mrs. Thomas Jr (Lily Alexenia Wilson)_Shelley, Mrs. William (Imanita Parrish Hall)_Markun, Mr. Johann_Dahlberg, Miss. Gerda Ulrika_Banfield, Mr. Frederick James_Sutehall, Mr. Henry Jr_Rice, Mrs. William (Margaret Norton)_Montvila, Rev. Juozas_Graham, Miss. Margaret Edith_Johnston, Miss. Catherine Helen \"Carrie\"_Behr, Mr. Karl Howell_Dooley, Mr. Patrick'"
      ]
     },
     "execution_count": 117,
     "metadata": {},
     "output_type": "execute_result"
    }
   ],
   "source": [
    "#cat\n",
    "df[\"Name\"].str.cat(sep=\"_\")"
   ]
  },
  {
   "cell_type": "code",
   "execution_count": 118,
   "metadata": {},
   "outputs": [
    {
     "data": {
      "text/html": [
       "<div>\n",
       "<style scoped>\n",
       "    .dataframe tbody tr th:only-of-type {\n",
       "        vertical-align: middle;\n",
       "    }\n",
       "\n",
       "    .dataframe tbody tr th {\n",
       "        vertical-align: top;\n",
       "    }\n",
       "\n",
       "    .dataframe thead th {\n",
       "        text-align: right;\n",
       "    }\n",
       "</style>\n",
       "<table border=\"1\" class=\"dataframe\">\n",
       "  <thead>\n",
       "    <tr style=\"text-align: right;\">\n",
       "      <th></th>\n",
       "      <th>Abbing, Mr. Anthony</th>\n",
       "      <th>Abbott, Mr. Rossmore Edward</th>\n",
       "      <th>Abbott, Mrs. Stanton (Rosa Hunt)</th>\n",
       "      <th>Abelson, Mr. Samuel</th>\n",
       "      <th>Abelson, Mrs. Samuel (Hannah Wizosky)</th>\n",
       "      <th>Adahl, Mr. Mauritz Nils Martin</th>\n",
       "      <th>Adams, Mr. John</th>\n",
       "      <th>Ahlin, Mrs. Johan (Johanna Persdotter Larsson)</th>\n",
       "      <th>Aks, Mrs. Sam (Leah Rosen)</th>\n",
       "      <th>Albimona, Mr. Nassef Cassem</th>\n",
       "      <th>...</th>\n",
       "      <th>Yrois, Miss. Henriette (\"Mrs Harbeck\")</th>\n",
       "      <th>Zabour, Miss. Hileni</th>\n",
       "      <th>Zabour, Miss. Thamine</th>\n",
       "      <th>Zimmerman, Mr. Leo</th>\n",
       "      <th>de Messemaeker, Mrs. Guillaume Joseph (Emma)</th>\n",
       "      <th>de Mulder, Mr. Theodore</th>\n",
       "      <th>de Pelsmaeker, Mr. Alfons</th>\n",
       "      <th>del Carlo, Mr. Sebastiano</th>\n",
       "      <th>van Billiard, Mr. Austin Blyler</th>\n",
       "      <th>van Melkebeke, Mr. Philemon</th>\n",
       "    </tr>\n",
       "  </thead>\n",
       "  <tbody>\n",
       "    <tr>\n",
       "      <th>0</th>\n",
       "      <td>0</td>\n",
       "      <td>0</td>\n",
       "      <td>0</td>\n",
       "      <td>0</td>\n",
       "      <td>0</td>\n",
       "      <td>0</td>\n",
       "      <td>0</td>\n",
       "      <td>0</td>\n",
       "      <td>0</td>\n",
       "      <td>0</td>\n",
       "      <td>...</td>\n",
       "      <td>0</td>\n",
       "      <td>0</td>\n",
       "      <td>0</td>\n",
       "      <td>0</td>\n",
       "      <td>0</td>\n",
       "      <td>0</td>\n",
       "      <td>0</td>\n",
       "      <td>0</td>\n",
       "      <td>0</td>\n",
       "      <td>0</td>\n",
       "    </tr>\n",
       "    <tr>\n",
       "      <th>1</th>\n",
       "      <td>0</td>\n",
       "      <td>0</td>\n",
       "      <td>0</td>\n",
       "      <td>0</td>\n",
       "      <td>0</td>\n",
       "      <td>0</td>\n",
       "      <td>0</td>\n",
       "      <td>0</td>\n",
       "      <td>0</td>\n",
       "      <td>0</td>\n",
       "      <td>...</td>\n",
       "      <td>0</td>\n",
       "      <td>0</td>\n",
       "      <td>0</td>\n",
       "      <td>0</td>\n",
       "      <td>0</td>\n",
       "      <td>0</td>\n",
       "      <td>0</td>\n",
       "      <td>0</td>\n",
       "      <td>0</td>\n",
       "      <td>0</td>\n",
       "    </tr>\n",
       "    <tr>\n",
       "      <th>2</th>\n",
       "      <td>0</td>\n",
       "      <td>0</td>\n",
       "      <td>0</td>\n",
       "      <td>0</td>\n",
       "      <td>0</td>\n",
       "      <td>0</td>\n",
       "      <td>0</td>\n",
       "      <td>0</td>\n",
       "      <td>0</td>\n",
       "      <td>0</td>\n",
       "      <td>...</td>\n",
       "      <td>0</td>\n",
       "      <td>0</td>\n",
       "      <td>0</td>\n",
       "      <td>0</td>\n",
       "      <td>0</td>\n",
       "      <td>0</td>\n",
       "      <td>0</td>\n",
       "      <td>0</td>\n",
       "      <td>0</td>\n",
       "      <td>0</td>\n",
       "    </tr>\n",
       "    <tr>\n",
       "      <th>3</th>\n",
       "      <td>0</td>\n",
       "      <td>0</td>\n",
       "      <td>0</td>\n",
       "      <td>0</td>\n",
       "      <td>0</td>\n",
       "      <td>0</td>\n",
       "      <td>0</td>\n",
       "      <td>0</td>\n",
       "      <td>0</td>\n",
       "      <td>0</td>\n",
       "      <td>...</td>\n",
       "      <td>0</td>\n",
       "      <td>0</td>\n",
       "      <td>0</td>\n",
       "      <td>0</td>\n",
       "      <td>0</td>\n",
       "      <td>0</td>\n",
       "      <td>0</td>\n",
       "      <td>0</td>\n",
       "      <td>0</td>\n",
       "      <td>0</td>\n",
       "    </tr>\n",
       "    <tr>\n",
       "      <th>4</th>\n",
       "      <td>0</td>\n",
       "      <td>0</td>\n",
       "      <td>0</td>\n",
       "      <td>0</td>\n",
       "      <td>0</td>\n",
       "      <td>0</td>\n",
       "      <td>0</td>\n",
       "      <td>0</td>\n",
       "      <td>0</td>\n",
       "      <td>0</td>\n",
       "      <td>...</td>\n",
       "      <td>0</td>\n",
       "      <td>0</td>\n",
       "      <td>0</td>\n",
       "      <td>0</td>\n",
       "      <td>0</td>\n",
       "      <td>0</td>\n",
       "      <td>0</td>\n",
       "      <td>0</td>\n",
       "      <td>0</td>\n",
       "      <td>0</td>\n",
       "    </tr>\n",
       "    <tr>\n",
       "      <th>...</th>\n",
       "      <td>...</td>\n",
       "      <td>...</td>\n",
       "      <td>...</td>\n",
       "      <td>...</td>\n",
       "      <td>...</td>\n",
       "      <td>...</td>\n",
       "      <td>...</td>\n",
       "      <td>...</td>\n",
       "      <td>...</td>\n",
       "      <td>...</td>\n",
       "      <td>...</td>\n",
       "      <td>...</td>\n",
       "      <td>...</td>\n",
       "      <td>...</td>\n",
       "      <td>...</td>\n",
       "      <td>...</td>\n",
       "      <td>...</td>\n",
       "      <td>...</td>\n",
       "      <td>...</td>\n",
       "      <td>...</td>\n",
       "      <td>...</td>\n",
       "    </tr>\n",
       "    <tr>\n",
       "      <th>886</th>\n",
       "      <td>0</td>\n",
       "      <td>0</td>\n",
       "      <td>0</td>\n",
       "      <td>0</td>\n",
       "      <td>0</td>\n",
       "      <td>0</td>\n",
       "      <td>0</td>\n",
       "      <td>0</td>\n",
       "      <td>0</td>\n",
       "      <td>0</td>\n",
       "      <td>...</td>\n",
       "      <td>0</td>\n",
       "      <td>0</td>\n",
       "      <td>0</td>\n",
       "      <td>0</td>\n",
       "      <td>0</td>\n",
       "      <td>0</td>\n",
       "      <td>0</td>\n",
       "      <td>0</td>\n",
       "      <td>0</td>\n",
       "      <td>0</td>\n",
       "    </tr>\n",
       "    <tr>\n",
       "      <th>887</th>\n",
       "      <td>0</td>\n",
       "      <td>0</td>\n",
       "      <td>0</td>\n",
       "      <td>0</td>\n",
       "      <td>0</td>\n",
       "      <td>0</td>\n",
       "      <td>0</td>\n",
       "      <td>0</td>\n",
       "      <td>0</td>\n",
       "      <td>0</td>\n",
       "      <td>...</td>\n",
       "      <td>0</td>\n",
       "      <td>0</td>\n",
       "      <td>0</td>\n",
       "      <td>0</td>\n",
       "      <td>0</td>\n",
       "      <td>0</td>\n",
       "      <td>0</td>\n",
       "      <td>0</td>\n",
       "      <td>0</td>\n",
       "      <td>0</td>\n",
       "    </tr>\n",
       "    <tr>\n",
       "      <th>888</th>\n",
       "      <td>0</td>\n",
       "      <td>0</td>\n",
       "      <td>0</td>\n",
       "      <td>0</td>\n",
       "      <td>0</td>\n",
       "      <td>0</td>\n",
       "      <td>0</td>\n",
       "      <td>0</td>\n",
       "      <td>0</td>\n",
       "      <td>0</td>\n",
       "      <td>...</td>\n",
       "      <td>0</td>\n",
       "      <td>0</td>\n",
       "      <td>0</td>\n",
       "      <td>0</td>\n",
       "      <td>0</td>\n",
       "      <td>0</td>\n",
       "      <td>0</td>\n",
       "      <td>0</td>\n",
       "      <td>0</td>\n",
       "      <td>0</td>\n",
       "    </tr>\n",
       "    <tr>\n",
       "      <th>889</th>\n",
       "      <td>0</td>\n",
       "      <td>0</td>\n",
       "      <td>0</td>\n",
       "      <td>0</td>\n",
       "      <td>0</td>\n",
       "      <td>0</td>\n",
       "      <td>0</td>\n",
       "      <td>0</td>\n",
       "      <td>0</td>\n",
       "      <td>0</td>\n",
       "      <td>...</td>\n",
       "      <td>0</td>\n",
       "      <td>0</td>\n",
       "      <td>0</td>\n",
       "      <td>0</td>\n",
       "      <td>0</td>\n",
       "      <td>0</td>\n",
       "      <td>0</td>\n",
       "      <td>0</td>\n",
       "      <td>0</td>\n",
       "      <td>0</td>\n",
       "    </tr>\n",
       "    <tr>\n",
       "      <th>890</th>\n",
       "      <td>0</td>\n",
       "      <td>0</td>\n",
       "      <td>0</td>\n",
       "      <td>0</td>\n",
       "      <td>0</td>\n",
       "      <td>0</td>\n",
       "      <td>0</td>\n",
       "      <td>0</td>\n",
       "      <td>0</td>\n",
       "      <td>0</td>\n",
       "      <td>...</td>\n",
       "      <td>0</td>\n",
       "      <td>0</td>\n",
       "      <td>0</td>\n",
       "      <td>0</td>\n",
       "      <td>0</td>\n",
       "      <td>0</td>\n",
       "      <td>0</td>\n",
       "      <td>0</td>\n",
       "      <td>0</td>\n",
       "      <td>0</td>\n",
       "    </tr>\n",
       "  </tbody>\n",
       "</table>\n",
       "<p>891 rows × 881 columns</p>\n",
       "</div>"
      ],
      "text/plain": [
       "     Abbing, Mr. Anthony  Abbott, Mr. Rossmore Edward  \\\n",
       "0                      0                            0   \n",
       "1                      0                            0   \n",
       "2                      0                            0   \n",
       "3                      0                            0   \n",
       "4                      0                            0   \n",
       "..                   ...                          ...   \n",
       "886                    0                            0   \n",
       "887                    0                            0   \n",
       "888                    0                            0   \n",
       "889                    0                            0   \n",
       "890                    0                            0   \n",
       "\n",
       "     Abbott, Mrs. Stanton (Rosa Hunt)  Abelson, Mr. Samuel  \\\n",
       "0                                   0                    0   \n",
       "1                                   0                    0   \n",
       "2                                   0                    0   \n",
       "3                                   0                    0   \n",
       "4                                   0                    0   \n",
       "..                                ...                  ...   \n",
       "886                                 0                    0   \n",
       "887                                 0                    0   \n",
       "888                                 0                    0   \n",
       "889                                 0                    0   \n",
       "890                                 0                    0   \n",
       "\n",
       "     Abelson, Mrs. Samuel (Hannah Wizosky)  Adahl, Mr. Mauritz Nils Martin  \\\n",
       "0                                        0                               0   \n",
       "1                                        0                               0   \n",
       "2                                        0                               0   \n",
       "3                                        0                               0   \n",
       "4                                        0                               0   \n",
       "..                                     ...                             ...   \n",
       "886                                      0                               0   \n",
       "887                                      0                               0   \n",
       "888                                      0                               0   \n",
       "889                                      0                               0   \n",
       "890                                      0                               0   \n",
       "\n",
       "     Adams, Mr. John  Ahlin, Mrs. Johan (Johanna Persdotter Larsson)  \\\n",
       "0                  0                                               0   \n",
       "1                  0                                               0   \n",
       "2                  0                                               0   \n",
       "3                  0                                               0   \n",
       "4                  0                                               0   \n",
       "..               ...                                             ...   \n",
       "886                0                                               0   \n",
       "887                0                                               0   \n",
       "888                0                                               0   \n",
       "889                0                                               0   \n",
       "890                0                                               0   \n",
       "\n",
       "     Aks, Mrs. Sam (Leah Rosen)  Albimona, Mr. Nassef Cassem  ...  \\\n",
       "0                             0                            0  ...   \n",
       "1                             0                            0  ...   \n",
       "2                             0                            0  ...   \n",
       "3                             0                            0  ...   \n",
       "4                             0                            0  ...   \n",
       "..                          ...                          ...  ...   \n",
       "886                           0                            0  ...   \n",
       "887                           0                            0  ...   \n",
       "888                           0                            0  ...   \n",
       "889                           0                            0  ...   \n",
       "890                           0                            0  ...   \n",
       "\n",
       "     Yrois, Miss. Henriette (\"Mrs Harbeck\")  Zabour, Miss. Hileni  \\\n",
       "0                                         0                     0   \n",
       "1                                         0                     0   \n",
       "2                                         0                     0   \n",
       "3                                         0                     0   \n",
       "4                                         0                     0   \n",
       "..                                      ...                   ...   \n",
       "886                                       0                     0   \n",
       "887                                       0                     0   \n",
       "888                                       0                     0   \n",
       "889                                       0                     0   \n",
       "890                                       0                     0   \n",
       "\n",
       "     Zabour, Miss. Thamine  Zimmerman, Mr. Leo  \\\n",
       "0                        0                   0   \n",
       "1                        0                   0   \n",
       "2                        0                   0   \n",
       "3                        0                   0   \n",
       "4                        0                   0   \n",
       "..                     ...                 ...   \n",
       "886                      0                   0   \n",
       "887                      0                   0   \n",
       "888                      0                   0   \n",
       "889                      0                   0   \n",
       "890                      0                   0   \n",
       "\n",
       "     de Messemaeker, Mrs. Guillaume Joseph (Emma)  de Mulder, Mr. Theodore  \\\n",
       "0                                               0                        0   \n",
       "1                                               0                        0   \n",
       "2                                               0                        0   \n",
       "3                                               0                        0   \n",
       "4                                               0                        0   \n",
       "..                                            ...                      ...   \n",
       "886                                             0                        0   \n",
       "887                                             0                        0   \n",
       "888                                             0                        0   \n",
       "889                                             0                        0   \n",
       "890                                             0                        0   \n",
       "\n",
       "     de Pelsmaeker, Mr. Alfons  del Carlo, Mr. Sebastiano  \\\n",
       "0                            0                          0   \n",
       "1                            0                          0   \n",
       "2                            0                          0   \n",
       "3                            0                          0   \n",
       "4                            0                          0   \n",
       "..                         ...                        ...   \n",
       "886                          0                          0   \n",
       "887                          0                          0   \n",
       "888                          0                          0   \n",
       "889                          0                          0   \n",
       "890                          0                          0   \n",
       "\n",
       "     van Billiard, Mr. Austin Blyler  van Melkebeke, Mr. Philemon  \n",
       "0                                  0                            0  \n",
       "1                                  0                            0  \n",
       "2                                  0                            0  \n",
       "3                                  0                            0  \n",
       "4                                  0                            0  \n",
       "..                               ...                          ...  \n",
       "886                                0                            0  \n",
       "887                                0                            0  \n",
       "888                                0                            0  \n",
       "889                                0                            0  \n",
       "890                                0                            0  \n",
       "\n",
       "[891 rows x 881 columns]"
      ]
     },
     "execution_count": 118,
     "metadata": {},
     "output_type": "execute_result"
    }
   ],
   "source": [
    "df[\"Name\"].str.get_dummies()"
   ]
  },
  {
   "cell_type": "code",
   "execution_count": 119,
   "metadata": {},
   "outputs": [
    {
     "data": {
      "text/plain": [
       "0       True\n",
       "1       True\n",
       "2       True\n",
       "3      False\n",
       "4       True\n",
       "       ...  \n",
       "886     True\n",
       "887     True\n",
       "888     True\n",
       "889     True\n",
       "890     True\n",
       "Name: Name, Length: 891, dtype: bool"
      ]
     },
     "execution_count": 119,
     "metadata": {},
     "output_type": "execute_result"
    }
   ],
   "source": [
    "#contains\n",
    "df[\"Name\"].str.contains('a')"
   ]
  },
  {
   "cell_type": "code",
   "execution_count": 120,
   "metadata": {},
   "outputs": [
    {
     "data": {
      "text/plain": [
       "0                                Braund, Mr. Owen Harris\n",
       "1      Cumings, Mrs. John Bradley (Florence Briggs Th...\n",
       "2                                   Heikkinen, Ms. Laina\n",
       "3                                                      U\n",
       "4                               Allen, Mr. William Henry\n",
       "                             ...                        \n",
       "886                                Montvila, Rev. Juozas\n",
       "887                           Graham, Ms. Margaret Edith\n",
       "888               Johnston, Ms. Catherine Helen \"Carrie\"\n",
       "889                                Behr, Mr. Karl Howell\n",
       "890                                  Dooley, Mr. Patrick\n",
       "Name: Name, Length: 891, dtype: object"
      ]
     },
     "execution_count": 120,
     "metadata": {},
     "output_type": "execute_result"
    }
   ],
   "source": [
    "df[\"Name\"].str.replace('Miss','Ms')"
   ]
  },
  {
   "cell_type": "code",
   "execution_count": 121,
   "metadata": {},
   "outputs": [
    {
     "data": {
      "text/plain": [
       "0         Braund, Mr. Owen HarrisBraund, Mr. Owen Harris\n",
       "1      Cumings, Mrs. John Bradley (Florence Briggs Th...\n",
       "2           Heikkinen, Miss. LainaHeikkinen, Miss. Laina\n",
       "3                                                     UU\n",
       "4       Allen, Mr. William HenryAllen, Mr. William Henry\n",
       "                             ...                        \n",
       "886           Montvila, Rev. JuozasMontvila, Rev. Juozas\n",
       "887    Graham, Miss. Margaret EdithGraham, Miss. Marg...\n",
       "888    Johnston, Miss. Catherine Helen \"Carrie\"Johnst...\n",
       "889           Behr, Mr. Karl HowellBehr, Mr. Karl Howell\n",
       "890               Dooley, Mr. PatrickDooley, Mr. Patrick\n",
       "Name: Name, Length: 891, dtype: object"
      ]
     },
     "execution_count": 121,
     "metadata": {},
     "output_type": "execute_result"
    }
   ],
   "source": [
    "df[\"Name\"].str.repeat(2)"
   ]
  },
  {
   "cell_type": "code",
   "execution_count": 124,
   "metadata": {},
   "outputs": [
    {
     "data": {
      "text/plain": [
       "0      0\n",
       "1      1\n",
       "2      0\n",
       "3      0\n",
       "4      0\n",
       "      ..\n",
       "886    0\n",
       "887    0\n",
       "888    0\n",
       "889    0\n",
       "890    0\n",
       "Name: Name, Length: 891, dtype: int64"
      ]
     },
     "execution_count": 124,
     "metadata": {},
     "output_type": "execute_result"
    }
   ],
   "source": [
    "df[\"Name\"].str.count('Mrs')"
   ]
  },
  {
   "cell_type": "code",
   "execution_count": 127,
   "metadata": {},
   "outputs": [
    {
     "data": {
      "text/plain": [
       "16                         Rice, Master. Eugene\n",
       "17                 Williams, Mr. Charles Eugene\n",
       "21                        Beesley, Mr. Lawrence\n",
       "43     Laroche, Miss. Simonne Marie Anne Andree\n",
       "61                          Icard, Miss. Amelie\n",
       "                         ...                   \n",
       "822             Reuchlin, Jonkheer. John George\n",
       "827                       Mallet, Master. Andre\n",
       "834                      Allum, Mr. Owen George\n",
       "837                         Sirota, Mr. Maurice\n",
       "839                        Marechal, Mr. Pierre\n",
       "Name: Name, Length: 75, dtype: object"
      ]
     },
     "execution_count": 127,
     "metadata": {},
     "output_type": "execute_result"
    }
   ],
   "source": [
    "df[\"Name\"][df[\"Name\"].str.endswith('e')]"
   ]
  },
  {
   "cell_type": "code",
   "execution_count": 128,
   "metadata": {},
   "outputs": [
    {
     "data": {
      "text/plain": [
       "0     -1\n",
       "1      9\n",
       "2     -1\n",
       "3     -1\n",
       "4     -1\n",
       "      ..\n",
       "886   -1\n",
       "887   -1\n",
       "888   -1\n",
       "889   -1\n",
       "890   -1\n",
       "Name: Name, Length: 891, dtype: int64"
      ]
     },
     "execution_count": 128,
     "metadata": {},
     "output_type": "execute_result"
    }
   ],
   "source": [
    "df[\"Name\"].str.find('Mrs') #-1 no such pattern is found"
   ]
  },
  {
   "cell_type": "markdown",
   "metadata": {},
   "source": [
    "### Pandas Visualization"
   ]
  },
  {
   "cell_type": "code",
   "execution_count": 130,
   "metadata": {},
   "outputs": [
    {
     "data": {
      "text/plain": [
       "<AxesSubplot:>"
      ]
     },
     "execution_count": 130,
     "metadata": {},
     "output_type": "execute_result"
    },
    {
     "data": {
      "image/png": "[encoded data removed]",
      "text/plain": [
       "<Figure size 432x288 with 1 Axes>"
      ]
     },
     "metadata": {
      "needs_background": "light"
     },
     "output_type": "display_data"
    }
   ],
   "source": [
    "df.Age.plot()"
   ]
  },
  {
   "cell_type": "code",
   "execution_count": 133,
   "metadata": {},
   "outputs": [
    {
     "data": {
      "text/plain": [
       "array([<AxesSubplot:>, <AxesSubplot:>, <AxesSubplot:>, <AxesSubplot:>,\n",
       "       <AxesSubplot:>, <AxesSubplot:>, <AxesSubplot:>], dtype=object)"
      ]
     },
     "execution_count": 133,
     "metadata": {},
     "output_type": "execute_result"
    },
    {
     "data": {
      "image/png": "[encoded data removed]",
      "text/plain": [
       "<Figure size 504x1080 with 7 Axes>"
      ]
     },
     "metadata": {
      "needs_background": "light"
     },
     "output_type": "display_data"
    }
   ],
   "source": [
    "df.plot(subplots=True,figsize=(7,15))"
   ]
  },
  {
   "cell_type": "code",
   "execution_count": 134,
   "metadata": {},
   "outputs": [
    {
     "data": {
      "text/plain": [
       "<AxesSubplot:>"
      ]
     },
     "execution_count": 134,
     "metadata": {},
     "output_type": "execute_result"
    },
    {
     "data": {
      "image/png": "[encoded data removed]",
      "text/plain": [
       "<Figure size 432x288 with 1 Axes>"
      ]
     },
     "metadata": {
      "needs_background": "light"
     },
     "output_type": "display_data"
    }
   ],
   "source": [
    "df.boxplot()"
   ]
  },
  {
   "cell_type": "code",
   "execution_count": 137,
   "metadata": {},
   "outputs": [
    {
     "data": {
      "text/plain": [
       "<AxesSubplot:>"
      ]
     },
     "execution_count": 137,
     "metadata": {},
     "output_type": "execute_result"
    },
    {
     "data": {
      "image/png": "[encoded data removed]",
      "text/plain": [
       "<Figure size 432x288 with 1 Axes>"
      ]
     },
     "metadata": {
      "needs_background": "light"
     },
     "output_type": "display_data"
    }
   ],
   "source": [
    "df[[\"Age\"]].boxplot()"
   ]
  },
  {
   "cell_type": "code",
   "execution_count": 138,
   "metadata": {},
   "outputs": [
    {
     "data": {
      "text/plain": [
       "<AxesSubplot:>"
      ]
     },
     "execution_count": 138,
     "metadata": {},
     "output_type": "execute_result"
    },
    {
     "data": {
      "image/png": "[encoded data removed]",
      "text/plain": [
       "<Figure size 432x288 with 1 Axes>"
      ]
     },
     "metadata": {
      "needs_background": "light"
     },
     "output_type": "display_data"
    }
   ],
   "source": [
    "df[\"Age\"].hist()"
   ]
  },
  {
   "cell_type": "code",
   "execution_count": 140,
   "metadata": {},
   "outputs": [
    {
     "data": {
      "text/plain": [
       "array([[<AxesSubplot:title={'center':'PassengerId'}>,\n",
       "        <AxesSubplot:title={'center':'Survived'}>,\n",
       "        <AxesSubplot:title={'center':'Pclass'}>],\n",
       "       [<AxesSubplot:title={'center':'Age'}>,\n",
       "        <AxesSubplot:title={'center':'SibSp'}>,\n",
       "        <AxesSubplot:title={'center':'Parch'}>],\n",
       "       [<AxesSubplot:title={'center':'Fare'}>, <AxesSubplot:>,\n",
       "        <AxesSubplot:>]], dtype=object)"
      ]
     },
     "execution_count": 140,
     "metadata": {},
     "output_type": "execute_result"
    },
    {
     "data": {
      "image/png": "[encoded data removed]",
      "text/plain": [
       "<Figure size 720x288 with 9 Axes>"
      ]
     },
     "metadata": {
      "needs_background": "light"
     },
     "output_type": "display_data"
    }
   ],
   "source": [
    "df.hist(figsize=(10,4))"
   ]
  },
  {
   "cell_type": "code",
   "execution_count": 144,
   "metadata": {},
   "outputs": [
    {
     "data": {
      "text/plain": [
       "<AxesSubplot:>"
      ]
     },
     "execution_count": 144,
     "metadata": {},
     "output_type": "execute_result"
    },
    {
     "data": {
      "image/png": "[encoded data removed]",
      "text/plain": [
       "<Figure size 432x288 with 1 Axes>"
      ]
     },
     "metadata": {
      "needs_background": "light"
     },
     "output_type": "display_data"
    }
   ],
   "source": [
    "df.Age.plot(kind='barh')"
   ]
  },
  {
   "cell_type": "code",
   "execution_count": 146,
   "metadata": {},
   "outputs": [
    {
     "data": {
      "text/plain": [
       "<AxesSubplot:ylabel='Density'>"
      ]
     },
     "execution_count": 146,
     "metadata": {},
     "output_type": "execute_result"
    },
    {
     "data": {
      "image/png": "[encoded data removed]",
      "text/plain": [
       "<Figure size 432x288 with 1 Axes>"
      ]
     },
     "metadata": {
      "needs_background": "light"
     },
     "output_type": "display_data"
    }
   ],
   "source": [
    "df[\"Age\"].plot(kind='kde')"
   ]
  },
  {
   "cell_type": "code",
   "execution_count": null,
   "metadata": {},
   "outputs": [],
   "source": []
  }
 ],
 "metadata": {
  "kernelspec": {
   "display_name": "Python 3",
   "language": "python",
   "name": "python3"
  },
  "language_info": {
   "codemirror_mode": {
    "name": "ipython",
    "version": 3
   },
   "file_extension": ".py",
   "mimetype": "text/x-python",
   "name": "python",
   "nbconvert_exporter": "python",
   "pygments_lexer": "ipython3",
   "version": "3.8.5"
  }
 },
 "nbformat": 4,
 "nbformat_minor": 4
}
